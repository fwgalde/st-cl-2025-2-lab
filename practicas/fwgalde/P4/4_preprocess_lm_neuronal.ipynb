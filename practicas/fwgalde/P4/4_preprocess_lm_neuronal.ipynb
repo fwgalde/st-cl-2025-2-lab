{
  "nbformat": 4,
  "nbformat_minor": 0,
  "metadata": {
    "colab": {
      "provenance": [],
      "gpuType": "T4",
      "collapsed_sections": [
        "8lD1TG2_tNCV",
        "66bf61a5-0e1a-4b8a-a4b2-16d381f007ba",
        "f18669fc-3c5a-4d91-86c7-c171d2b57b08",
        "y291dtSSDUwx",
        "c1fb1d33-3005-4017-a58d-926702397c24",
        "QCZ9MV7ecmGo"
      ]
    },
    "kernelspec": {
      "name": "python3",
      "display_name": "Python 3"
    },
    "language_info": {
      "name": "python"
    },
    "widgets": {
      "application/vnd.jupyter.widget-state+json": {
        "e4abef7cccce4a4bb61878ab4f956519": {
          "model_module": "@jupyter-widgets/controls",
          "model_name": "HBoxModel",
          "model_module_version": "1.5.0",
          "state": {
            "_dom_classes": [],
            "_model_module": "@jupyter-widgets/controls",
            "_model_module_version": "1.5.0",
            "_model_name": "HBoxModel",
            "_view_count": null,
            "_view_module": "@jupyter-widgets/controls",
            "_view_module_version": "1.5.0",
            "_view_name": "HBoxView",
            "box_style": "",
            "children": [
              "IPY_MODEL_89e7713cf06e455e9b2f222e81de6204",
              "IPY_MODEL_28217347a8824c30a7acf7342e7d2003",
              "IPY_MODEL_7363c0143acb43638e72968cde3ffab1"
            ],
            "layout": "IPY_MODEL_c112ff2d842347e4bec19ebc6cae6528"
          }
        },
        "89e7713cf06e455e9b2f222e81de6204": {
          "model_module": "@jupyter-widgets/controls",
          "model_name": "HTMLModel",
          "model_module_version": "1.5.0",
          "state": {
            "_dom_classes": [],
            "_model_module": "@jupyter-widgets/controls",
            "_model_module_version": "1.5.0",
            "_model_name": "HTMLModel",
            "_view_count": null,
            "_view_module": "@jupyter-widgets/controls",
            "_view_module_version": "1.5.0",
            "_view_name": "HTMLView",
            "description": "",
            "description_tooltip": null,
            "layout": "IPY_MODEL_08cc57c0bf4c40cea9749c56045bc3db",
            "placeholder": "​",
            "style": "IPY_MODEL_90890a9682e443e9a1357c6cf04e01d1",
            "value": "tokenizer_config.json: 100%"
          }
        },
        "28217347a8824c30a7acf7342e7d2003": {
          "model_module": "@jupyter-widgets/controls",
          "model_name": "FloatProgressModel",
          "model_module_version": "1.5.0",
          "state": {
            "_dom_classes": [],
            "_model_module": "@jupyter-widgets/controls",
            "_model_module_version": "1.5.0",
            "_model_name": "FloatProgressModel",
            "_view_count": null,
            "_view_module": "@jupyter-widgets/controls",
            "_view_module_version": "1.5.0",
            "_view_name": "ProgressView",
            "bar_style": "success",
            "description": "",
            "description_tooltip": null,
            "layout": "IPY_MODEL_011ce9f22c754ef8ac2ee36cc8aa1534",
            "max": 26,
            "min": 0,
            "orientation": "horizontal",
            "style": "IPY_MODEL_a3cacdd7947944e8ab27ffe6e2f4baeb",
            "value": 26
          }
        },
        "7363c0143acb43638e72968cde3ffab1": {
          "model_module": "@jupyter-widgets/controls",
          "model_name": "HTMLModel",
          "model_module_version": "1.5.0",
          "state": {
            "_dom_classes": [],
            "_model_module": "@jupyter-widgets/controls",
            "_model_module_version": "1.5.0",
            "_model_name": "HTMLModel",
            "_view_count": null,
            "_view_module": "@jupyter-widgets/controls",
            "_view_module_version": "1.5.0",
            "_view_name": "HTMLView",
            "description": "",
            "description_tooltip": null,
            "layout": "IPY_MODEL_a6b3c3258f4f4b24aaf2811f45085d63",
            "placeholder": "​",
            "style": "IPY_MODEL_76ba08cca9c34873835ac54f40908a08",
            "value": " 26.0/26.0 [00:00&lt;00:00, 2.85kB/s]"
          }
        },
        "c112ff2d842347e4bec19ebc6cae6528": {
          "model_module": "@jupyter-widgets/base",
          "model_name": "LayoutModel",
          "model_module_version": "1.2.0",
          "state": {
            "_model_module": "@jupyter-widgets/base",
            "_model_module_version": "1.2.0",
            "_model_name": "LayoutModel",
            "_view_count": null,
            "_view_module": "@jupyter-widgets/base",
            "_view_module_version": "1.2.0",
            "_view_name": "LayoutView",
            "align_content": null,
            "align_items": null,
            "align_self": null,
            "border": null,
            "bottom": null,
            "display": null,
            "flex": null,
            "flex_flow": null,
            "grid_area": null,
            "grid_auto_columns": null,
            "grid_auto_flow": null,
            "grid_auto_rows": null,
            "grid_column": null,
            "grid_gap": null,
            "grid_row": null,
            "grid_template_areas": null,
            "grid_template_columns": null,
            "grid_template_rows": null,
            "height": null,
            "justify_content": null,
            "justify_items": null,
            "left": null,
            "margin": null,
            "max_height": null,
            "max_width": null,
            "min_height": null,
            "min_width": null,
            "object_fit": null,
            "object_position": null,
            "order": null,
            "overflow": null,
            "overflow_x": null,
            "overflow_y": null,
            "padding": null,
            "right": null,
            "top": null,
            "visibility": null,
            "width": null
          }
        },
        "08cc57c0bf4c40cea9749c56045bc3db": {
          "model_module": "@jupyter-widgets/base",
          "model_name": "LayoutModel",
          "model_module_version": "1.2.0",
          "state": {
            "_model_module": "@jupyter-widgets/base",
            "_model_module_version": "1.2.0",
            "_model_name": "LayoutModel",
            "_view_count": null,
            "_view_module": "@jupyter-widgets/base",
            "_view_module_version": "1.2.0",
            "_view_name": "LayoutView",
            "align_content": null,
            "align_items": null,
            "align_self": null,
            "border": null,
            "bottom": null,
            "display": null,
            "flex": null,
            "flex_flow": null,
            "grid_area": null,
            "grid_auto_columns": null,
            "grid_auto_flow": null,
            "grid_auto_rows": null,
            "grid_column": null,
            "grid_gap": null,
            "grid_row": null,
            "grid_template_areas": null,
            "grid_template_columns": null,
            "grid_template_rows": null,
            "height": null,
            "justify_content": null,
            "justify_items": null,
            "left": null,
            "margin": null,
            "max_height": null,
            "max_width": null,
            "min_height": null,
            "min_width": null,
            "object_fit": null,
            "object_position": null,
            "order": null,
            "overflow": null,
            "overflow_x": null,
            "overflow_y": null,
            "padding": null,
            "right": null,
            "top": null,
            "visibility": null,
            "width": null
          }
        },
        "90890a9682e443e9a1357c6cf04e01d1": {
          "model_module": "@jupyter-widgets/controls",
          "model_name": "DescriptionStyleModel",
          "model_module_version": "1.5.0",
          "state": {
            "_model_module": "@jupyter-widgets/controls",
            "_model_module_version": "1.5.0",
            "_model_name": "DescriptionStyleModel",
            "_view_count": null,
            "_view_module": "@jupyter-widgets/base",
            "_view_module_version": "1.2.0",
            "_view_name": "StyleView",
            "description_width": ""
          }
        },
        "011ce9f22c754ef8ac2ee36cc8aa1534": {
          "model_module": "@jupyter-widgets/base",
          "model_name": "LayoutModel",
          "model_module_version": "1.2.0",
          "state": {
            "_model_module": "@jupyter-widgets/base",
            "_model_module_version": "1.2.0",
            "_model_name": "LayoutModel",
            "_view_count": null,
            "_view_module": "@jupyter-widgets/base",
            "_view_module_version": "1.2.0",
            "_view_name": "LayoutView",
            "align_content": null,
            "align_items": null,
            "align_self": null,
            "border": null,
            "bottom": null,
            "display": null,
            "flex": null,
            "flex_flow": null,
            "grid_area": null,
            "grid_auto_columns": null,
            "grid_auto_flow": null,
            "grid_auto_rows": null,
            "grid_column": null,
            "grid_gap": null,
            "grid_row": null,
            "grid_template_areas": null,
            "grid_template_columns": null,
            "grid_template_rows": null,
            "height": null,
            "justify_content": null,
            "justify_items": null,
            "left": null,
            "margin": null,
            "max_height": null,
            "max_width": null,
            "min_height": null,
            "min_width": null,
            "object_fit": null,
            "object_position": null,
            "order": null,
            "overflow": null,
            "overflow_x": null,
            "overflow_y": null,
            "padding": null,
            "right": null,
            "top": null,
            "visibility": null,
            "width": null
          }
        },
        "a3cacdd7947944e8ab27ffe6e2f4baeb": {
          "model_module": "@jupyter-widgets/controls",
          "model_name": "ProgressStyleModel",
          "model_module_version": "1.5.0",
          "state": {
            "_model_module": "@jupyter-widgets/controls",
            "_model_module_version": "1.5.0",
            "_model_name": "ProgressStyleModel",
            "_view_count": null,
            "_view_module": "@jupyter-widgets/base",
            "_view_module_version": "1.2.0",
            "_view_name": "StyleView",
            "bar_color": null,
            "description_width": ""
          }
        },
        "a6b3c3258f4f4b24aaf2811f45085d63": {
          "model_module": "@jupyter-widgets/base",
          "model_name": "LayoutModel",
          "model_module_version": "1.2.0",
          "state": {
            "_model_module": "@jupyter-widgets/base",
            "_model_module_version": "1.2.0",
            "_model_name": "LayoutModel",
            "_view_count": null,
            "_view_module": "@jupyter-widgets/base",
            "_view_module_version": "1.2.0",
            "_view_name": "LayoutView",
            "align_content": null,
            "align_items": null,
            "align_self": null,
            "border": null,
            "bottom": null,
            "display": null,
            "flex": null,
            "flex_flow": null,
            "grid_area": null,
            "grid_auto_columns": null,
            "grid_auto_flow": null,
            "grid_auto_rows": null,
            "grid_column": null,
            "grid_gap": null,
            "grid_row": null,
            "grid_template_areas": null,
            "grid_template_columns": null,
            "grid_template_rows": null,
            "height": null,
            "justify_content": null,
            "justify_items": null,
            "left": null,
            "margin": null,
            "max_height": null,
            "max_width": null,
            "min_height": null,
            "min_width": null,
            "object_fit": null,
            "object_position": null,
            "order": null,
            "overflow": null,
            "overflow_x": null,
            "overflow_y": null,
            "padding": null,
            "right": null,
            "top": null,
            "visibility": null,
            "width": null
          }
        },
        "76ba08cca9c34873835ac54f40908a08": {
          "model_module": "@jupyter-widgets/controls",
          "model_name": "DescriptionStyleModel",
          "model_module_version": "1.5.0",
          "state": {
            "_model_module": "@jupyter-widgets/controls",
            "_model_module_version": "1.5.0",
            "_model_name": "DescriptionStyleModel",
            "_view_count": null,
            "_view_module": "@jupyter-widgets/base",
            "_view_module_version": "1.2.0",
            "_view_name": "StyleView",
            "description_width": ""
          }
        },
        "b25b7ad573234d418eed623267a52b33": {
          "model_module": "@jupyter-widgets/controls",
          "model_name": "HBoxModel",
          "model_module_version": "1.5.0",
          "state": {
            "_dom_classes": [],
            "_model_module": "@jupyter-widgets/controls",
            "_model_module_version": "1.5.0",
            "_model_name": "HBoxModel",
            "_view_count": null,
            "_view_module": "@jupyter-widgets/controls",
            "_view_module_version": "1.5.0",
            "_view_name": "HBoxView",
            "box_style": "",
            "children": [
              "IPY_MODEL_a352af2cc427492fbbc551bdfb944508",
              "IPY_MODEL_211468f97c6d4734a2404d015bc97cbb",
              "IPY_MODEL_c5c7cbdf4b304c04b3833172e33cdca0"
            ],
            "layout": "IPY_MODEL_37adffdc11414535bab95aa8cf4f2d33"
          }
        },
        "a352af2cc427492fbbc551bdfb944508": {
          "model_module": "@jupyter-widgets/controls",
          "model_name": "HTMLModel",
          "model_module_version": "1.5.0",
          "state": {
            "_dom_classes": [],
            "_model_module": "@jupyter-widgets/controls",
            "_model_module_version": "1.5.0",
            "_model_name": "HTMLModel",
            "_view_count": null,
            "_view_module": "@jupyter-widgets/controls",
            "_view_module_version": "1.5.0",
            "_view_name": "HTMLView",
            "description": "",
            "description_tooltip": null,
            "layout": "IPY_MODEL_e2d9ff13d8f64a1eb01ef63c4544614b",
            "placeholder": "​",
            "style": "IPY_MODEL_9b6d41bae21346ca8e4d12b902b3b178",
            "value": "vocab.json: 100%"
          }
        },
        "211468f97c6d4734a2404d015bc97cbb": {
          "model_module": "@jupyter-widgets/controls",
          "model_name": "FloatProgressModel",
          "model_module_version": "1.5.0",
          "state": {
            "_dom_classes": [],
            "_model_module": "@jupyter-widgets/controls",
            "_model_module_version": "1.5.0",
            "_model_name": "FloatProgressModel",
            "_view_count": null,
            "_view_module": "@jupyter-widgets/controls",
            "_view_module_version": "1.5.0",
            "_view_name": "ProgressView",
            "bar_style": "success",
            "description": "",
            "description_tooltip": null,
            "layout": "IPY_MODEL_96e9dd59c6bf40b0b763e2eda7d46eed",
            "max": 1042301,
            "min": 0,
            "orientation": "horizontal",
            "style": "IPY_MODEL_26d27a09147344f0b326667bd5249ffd",
            "value": 1042301
          }
        },
        "c5c7cbdf4b304c04b3833172e33cdca0": {
          "model_module": "@jupyter-widgets/controls",
          "model_name": "HTMLModel",
          "model_module_version": "1.5.0",
          "state": {
            "_dom_classes": [],
            "_model_module": "@jupyter-widgets/controls",
            "_model_module_version": "1.5.0",
            "_model_name": "HTMLModel",
            "_view_count": null,
            "_view_module": "@jupyter-widgets/controls",
            "_view_module_version": "1.5.0",
            "_view_name": "HTMLView",
            "description": "",
            "description_tooltip": null,
            "layout": "IPY_MODEL_f2ef64c0635b448e939c092dfdfd00ea",
            "placeholder": "​",
            "style": "IPY_MODEL_64fd43e1b02f4439916d6f225763c185",
            "value": " 1.04M/1.04M [00:00&lt;00:00, 11.3MB/s]"
          }
        },
        "37adffdc11414535bab95aa8cf4f2d33": {
          "model_module": "@jupyter-widgets/base",
          "model_name": "LayoutModel",
          "model_module_version": "1.2.0",
          "state": {
            "_model_module": "@jupyter-widgets/base",
            "_model_module_version": "1.2.0",
            "_model_name": "LayoutModel",
            "_view_count": null,
            "_view_module": "@jupyter-widgets/base",
            "_view_module_version": "1.2.0",
            "_view_name": "LayoutView",
            "align_content": null,
            "align_items": null,
            "align_self": null,
            "border": null,
            "bottom": null,
            "display": null,
            "flex": null,
            "flex_flow": null,
            "grid_area": null,
            "grid_auto_columns": null,
            "grid_auto_flow": null,
            "grid_auto_rows": null,
            "grid_column": null,
            "grid_gap": null,
            "grid_row": null,
            "grid_template_areas": null,
            "grid_template_columns": null,
            "grid_template_rows": null,
            "height": null,
            "justify_content": null,
            "justify_items": null,
            "left": null,
            "margin": null,
            "max_height": null,
            "max_width": null,
            "min_height": null,
            "min_width": null,
            "object_fit": null,
            "object_position": null,
            "order": null,
            "overflow": null,
            "overflow_x": null,
            "overflow_y": null,
            "padding": null,
            "right": null,
            "top": null,
            "visibility": null,
            "width": null
          }
        },
        "e2d9ff13d8f64a1eb01ef63c4544614b": {
          "model_module": "@jupyter-widgets/base",
          "model_name": "LayoutModel",
          "model_module_version": "1.2.0",
          "state": {
            "_model_module": "@jupyter-widgets/base",
            "_model_module_version": "1.2.0",
            "_model_name": "LayoutModel",
            "_view_count": null,
            "_view_module": "@jupyter-widgets/base",
            "_view_module_version": "1.2.0",
            "_view_name": "LayoutView",
            "align_content": null,
            "align_items": null,
            "align_self": null,
            "border": null,
            "bottom": null,
            "display": null,
            "flex": null,
            "flex_flow": null,
            "grid_area": null,
            "grid_auto_columns": null,
            "grid_auto_flow": null,
            "grid_auto_rows": null,
            "grid_column": null,
            "grid_gap": null,
            "grid_row": null,
            "grid_template_areas": null,
            "grid_template_columns": null,
            "grid_template_rows": null,
            "height": null,
            "justify_content": null,
            "justify_items": null,
            "left": null,
            "margin": null,
            "max_height": null,
            "max_width": null,
            "min_height": null,
            "min_width": null,
            "object_fit": null,
            "object_position": null,
            "order": null,
            "overflow": null,
            "overflow_x": null,
            "overflow_y": null,
            "padding": null,
            "right": null,
            "top": null,
            "visibility": null,
            "width": null
          }
        },
        "9b6d41bae21346ca8e4d12b902b3b178": {
          "model_module": "@jupyter-widgets/controls",
          "model_name": "DescriptionStyleModel",
          "model_module_version": "1.5.0",
          "state": {
            "_model_module": "@jupyter-widgets/controls",
            "_model_module_version": "1.5.0",
            "_model_name": "DescriptionStyleModel",
            "_view_count": null,
            "_view_module": "@jupyter-widgets/base",
            "_view_module_version": "1.2.0",
            "_view_name": "StyleView",
            "description_width": ""
          }
        },
        "96e9dd59c6bf40b0b763e2eda7d46eed": {
          "model_module": "@jupyter-widgets/base",
          "model_name": "LayoutModel",
          "model_module_version": "1.2.0",
          "state": {
            "_model_module": "@jupyter-widgets/base",
            "_model_module_version": "1.2.0",
            "_model_name": "LayoutModel",
            "_view_count": null,
            "_view_module": "@jupyter-widgets/base",
            "_view_module_version": "1.2.0",
            "_view_name": "LayoutView",
            "align_content": null,
            "align_items": null,
            "align_self": null,
            "border": null,
            "bottom": null,
            "display": null,
            "flex": null,
            "flex_flow": null,
            "grid_area": null,
            "grid_auto_columns": null,
            "grid_auto_flow": null,
            "grid_auto_rows": null,
            "grid_column": null,
            "grid_gap": null,
            "grid_row": null,
            "grid_template_areas": null,
            "grid_template_columns": null,
            "grid_template_rows": null,
            "height": null,
            "justify_content": null,
            "justify_items": null,
            "left": null,
            "margin": null,
            "max_height": null,
            "max_width": null,
            "min_height": null,
            "min_width": null,
            "object_fit": null,
            "object_position": null,
            "order": null,
            "overflow": null,
            "overflow_x": null,
            "overflow_y": null,
            "padding": null,
            "right": null,
            "top": null,
            "visibility": null,
            "width": null
          }
        },
        "26d27a09147344f0b326667bd5249ffd": {
          "model_module": "@jupyter-widgets/controls",
          "model_name": "ProgressStyleModel",
          "model_module_version": "1.5.0",
          "state": {
            "_model_module": "@jupyter-widgets/controls",
            "_model_module_version": "1.5.0",
            "_model_name": "ProgressStyleModel",
            "_view_count": null,
            "_view_module": "@jupyter-widgets/base",
            "_view_module_version": "1.2.0",
            "_view_name": "StyleView",
            "bar_color": null,
            "description_width": ""
          }
        },
        "f2ef64c0635b448e939c092dfdfd00ea": {
          "model_module": "@jupyter-widgets/base",
          "model_name": "LayoutModel",
          "model_module_version": "1.2.0",
          "state": {
            "_model_module": "@jupyter-widgets/base",
            "_model_module_version": "1.2.0",
            "_model_name": "LayoutModel",
            "_view_count": null,
            "_view_module": "@jupyter-widgets/base",
            "_view_module_version": "1.2.0",
            "_view_name": "LayoutView",
            "align_content": null,
            "align_items": null,
            "align_self": null,
            "border": null,
            "bottom": null,
            "display": null,
            "flex": null,
            "flex_flow": null,
            "grid_area": null,
            "grid_auto_columns": null,
            "grid_auto_flow": null,
            "grid_auto_rows": null,
            "grid_column": null,
            "grid_gap": null,
            "grid_row": null,
            "grid_template_areas": null,
            "grid_template_columns": null,
            "grid_template_rows": null,
            "height": null,
            "justify_content": null,
            "justify_items": null,
            "left": null,
            "margin": null,
            "max_height": null,
            "max_width": null,
            "min_height": null,
            "min_width": null,
            "object_fit": null,
            "object_position": null,
            "order": null,
            "overflow": null,
            "overflow_x": null,
            "overflow_y": null,
            "padding": null,
            "right": null,
            "top": null,
            "visibility": null,
            "width": null
          }
        },
        "64fd43e1b02f4439916d6f225763c185": {
          "model_module": "@jupyter-widgets/controls",
          "model_name": "DescriptionStyleModel",
          "model_module_version": "1.5.0",
          "state": {
            "_model_module": "@jupyter-widgets/controls",
            "_model_module_version": "1.5.0",
            "_model_name": "DescriptionStyleModel",
            "_view_count": null,
            "_view_module": "@jupyter-widgets/base",
            "_view_module_version": "1.2.0",
            "_view_name": "StyleView",
            "description_width": ""
          }
        },
        "4899263858034217afd414c73aafae9c": {
          "model_module": "@jupyter-widgets/controls",
          "model_name": "HBoxModel",
          "model_module_version": "1.5.0",
          "state": {
            "_dom_classes": [],
            "_model_module": "@jupyter-widgets/controls",
            "_model_module_version": "1.5.0",
            "_model_name": "HBoxModel",
            "_view_count": null,
            "_view_module": "@jupyter-widgets/controls",
            "_view_module_version": "1.5.0",
            "_view_name": "HBoxView",
            "box_style": "",
            "children": [
              "IPY_MODEL_368957e38aea44e68500a0cc4e34cae1",
              "IPY_MODEL_47e6107488d24d5581a88e6431339c51",
              "IPY_MODEL_1e51b03a71c649e0ae2d248f5d129ebc"
            ],
            "layout": "IPY_MODEL_28581490021347de81c4e77868298d63"
          }
        },
        "368957e38aea44e68500a0cc4e34cae1": {
          "model_module": "@jupyter-widgets/controls",
          "model_name": "HTMLModel",
          "model_module_version": "1.5.0",
          "state": {
            "_dom_classes": [],
            "_model_module": "@jupyter-widgets/controls",
            "_model_module_version": "1.5.0",
            "_model_name": "HTMLModel",
            "_view_count": null,
            "_view_module": "@jupyter-widgets/controls",
            "_view_module_version": "1.5.0",
            "_view_name": "HTMLView",
            "description": "",
            "description_tooltip": null,
            "layout": "IPY_MODEL_f53d975f5e3d4054aaa4609ef81fa07e",
            "placeholder": "​",
            "style": "IPY_MODEL_31170730407b41a38ff2b5eaf5edc1f5",
            "value": "merges.txt: 100%"
          }
        },
        "47e6107488d24d5581a88e6431339c51": {
          "model_module": "@jupyter-widgets/controls",
          "model_name": "FloatProgressModel",
          "model_module_version": "1.5.0",
          "state": {
            "_dom_classes": [],
            "_model_module": "@jupyter-widgets/controls",
            "_model_module_version": "1.5.0",
            "_model_name": "FloatProgressModel",
            "_view_count": null,
            "_view_module": "@jupyter-widgets/controls",
            "_view_module_version": "1.5.0",
            "_view_name": "ProgressView",
            "bar_style": "success",
            "description": "",
            "description_tooltip": null,
            "layout": "IPY_MODEL_e7c3f717bcfb46b8bce8a895f2f29f00",
            "max": 456318,
            "min": 0,
            "orientation": "horizontal",
            "style": "IPY_MODEL_a899a3b2e3bd4b1dbdbc6b1bc9ec1c99",
            "value": 456318
          }
        },
        "1e51b03a71c649e0ae2d248f5d129ebc": {
          "model_module": "@jupyter-widgets/controls",
          "model_name": "HTMLModel",
          "model_module_version": "1.5.0",
          "state": {
            "_dom_classes": [],
            "_model_module": "@jupyter-widgets/controls",
            "_model_module_version": "1.5.0",
            "_model_name": "HTMLModel",
            "_view_count": null,
            "_view_module": "@jupyter-widgets/controls",
            "_view_module_version": "1.5.0",
            "_view_name": "HTMLView",
            "description": "",
            "description_tooltip": null,
            "layout": "IPY_MODEL_0ec6b02667994de5abb384fdad62d36f",
            "placeholder": "​",
            "style": "IPY_MODEL_fda53df688d34ae1bf2b08fc8573fe61",
            "value": " 456k/456k [00:00&lt;00:00, 3.53MB/s]"
          }
        },
        "28581490021347de81c4e77868298d63": {
          "model_module": "@jupyter-widgets/base",
          "model_name": "LayoutModel",
          "model_module_version": "1.2.0",
          "state": {
            "_model_module": "@jupyter-widgets/base",
            "_model_module_version": "1.2.0",
            "_model_name": "LayoutModel",
            "_view_count": null,
            "_view_module": "@jupyter-widgets/base",
            "_view_module_version": "1.2.0",
            "_view_name": "LayoutView",
            "align_content": null,
            "align_items": null,
            "align_self": null,
            "border": null,
            "bottom": null,
            "display": null,
            "flex": null,
            "flex_flow": null,
            "grid_area": null,
            "grid_auto_columns": null,
            "grid_auto_flow": null,
            "grid_auto_rows": null,
            "grid_column": null,
            "grid_gap": null,
            "grid_row": null,
            "grid_template_areas": null,
            "grid_template_columns": null,
            "grid_template_rows": null,
            "height": null,
            "justify_content": null,
            "justify_items": null,
            "left": null,
            "margin": null,
            "max_height": null,
            "max_width": null,
            "min_height": null,
            "min_width": null,
            "object_fit": null,
            "object_position": null,
            "order": null,
            "overflow": null,
            "overflow_x": null,
            "overflow_y": null,
            "padding": null,
            "right": null,
            "top": null,
            "visibility": null,
            "width": null
          }
        },
        "f53d975f5e3d4054aaa4609ef81fa07e": {
          "model_module": "@jupyter-widgets/base",
          "model_name": "LayoutModel",
          "model_module_version": "1.2.0",
          "state": {
            "_model_module": "@jupyter-widgets/base",
            "_model_module_version": "1.2.0",
            "_model_name": "LayoutModel",
            "_view_count": null,
            "_view_module": "@jupyter-widgets/base",
            "_view_module_version": "1.2.0",
            "_view_name": "LayoutView",
            "align_content": null,
            "align_items": null,
            "align_self": null,
            "border": null,
            "bottom": null,
            "display": null,
            "flex": null,
            "flex_flow": null,
            "grid_area": null,
            "grid_auto_columns": null,
            "grid_auto_flow": null,
            "grid_auto_rows": null,
            "grid_column": null,
            "grid_gap": null,
            "grid_row": null,
            "grid_template_areas": null,
            "grid_template_columns": null,
            "grid_template_rows": null,
            "height": null,
            "justify_content": null,
            "justify_items": null,
            "left": null,
            "margin": null,
            "max_height": null,
            "max_width": null,
            "min_height": null,
            "min_width": null,
            "object_fit": null,
            "object_position": null,
            "order": null,
            "overflow": null,
            "overflow_x": null,
            "overflow_y": null,
            "padding": null,
            "right": null,
            "top": null,
            "visibility": null,
            "width": null
          }
        },
        "31170730407b41a38ff2b5eaf5edc1f5": {
          "model_module": "@jupyter-widgets/controls",
          "model_name": "DescriptionStyleModel",
          "model_module_version": "1.5.0",
          "state": {
            "_model_module": "@jupyter-widgets/controls",
            "_model_module_version": "1.5.0",
            "_model_name": "DescriptionStyleModel",
            "_view_count": null,
            "_view_module": "@jupyter-widgets/base",
            "_view_module_version": "1.2.0",
            "_view_name": "StyleView",
            "description_width": ""
          }
        },
        "e7c3f717bcfb46b8bce8a895f2f29f00": {
          "model_module": "@jupyter-widgets/base",
          "model_name": "LayoutModel",
          "model_module_version": "1.2.0",
          "state": {
            "_model_module": "@jupyter-widgets/base",
            "_model_module_version": "1.2.0",
            "_model_name": "LayoutModel",
            "_view_count": null,
            "_view_module": "@jupyter-widgets/base",
            "_view_module_version": "1.2.0",
            "_view_name": "LayoutView",
            "align_content": null,
            "align_items": null,
            "align_self": null,
            "border": null,
            "bottom": null,
            "display": null,
            "flex": null,
            "flex_flow": null,
            "grid_area": null,
            "grid_auto_columns": null,
            "grid_auto_flow": null,
            "grid_auto_rows": null,
            "grid_column": null,
            "grid_gap": null,
            "grid_row": null,
            "grid_template_areas": null,
            "grid_template_columns": null,
            "grid_template_rows": null,
            "height": null,
            "justify_content": null,
            "justify_items": null,
            "left": null,
            "margin": null,
            "max_height": null,
            "max_width": null,
            "min_height": null,
            "min_width": null,
            "object_fit": null,
            "object_position": null,
            "order": null,
            "overflow": null,
            "overflow_x": null,
            "overflow_y": null,
            "padding": null,
            "right": null,
            "top": null,
            "visibility": null,
            "width": null
          }
        },
        "a899a3b2e3bd4b1dbdbc6b1bc9ec1c99": {
          "model_module": "@jupyter-widgets/controls",
          "model_name": "ProgressStyleModel",
          "model_module_version": "1.5.0",
          "state": {
            "_model_module": "@jupyter-widgets/controls",
            "_model_module_version": "1.5.0",
            "_model_name": "ProgressStyleModel",
            "_view_count": null,
            "_view_module": "@jupyter-widgets/base",
            "_view_module_version": "1.2.0",
            "_view_name": "StyleView",
            "bar_color": null,
            "description_width": ""
          }
        },
        "0ec6b02667994de5abb384fdad62d36f": {
          "model_module": "@jupyter-widgets/base",
          "model_name": "LayoutModel",
          "model_module_version": "1.2.0",
          "state": {
            "_model_module": "@jupyter-widgets/base",
            "_model_module_version": "1.2.0",
            "_model_name": "LayoutModel",
            "_view_count": null,
            "_view_module": "@jupyter-widgets/base",
            "_view_module_version": "1.2.0",
            "_view_name": "LayoutView",
            "align_content": null,
            "align_items": null,
            "align_self": null,
            "border": null,
            "bottom": null,
            "display": null,
            "flex": null,
            "flex_flow": null,
            "grid_area": null,
            "grid_auto_columns": null,
            "grid_auto_flow": null,
            "grid_auto_rows": null,
            "grid_column": null,
            "grid_gap": null,
            "grid_row": null,
            "grid_template_areas": null,
            "grid_template_columns": null,
            "grid_template_rows": null,
            "height": null,
            "justify_content": null,
            "justify_items": null,
            "left": null,
            "margin": null,
            "max_height": null,
            "max_width": null,
            "min_height": null,
            "min_width": null,
            "object_fit": null,
            "object_position": null,
            "order": null,
            "overflow": null,
            "overflow_x": null,
            "overflow_y": null,
            "padding": null,
            "right": null,
            "top": null,
            "visibility": null,
            "width": null
          }
        },
        "fda53df688d34ae1bf2b08fc8573fe61": {
          "model_module": "@jupyter-widgets/controls",
          "model_name": "DescriptionStyleModel",
          "model_module_version": "1.5.0",
          "state": {
            "_model_module": "@jupyter-widgets/controls",
            "_model_module_version": "1.5.0",
            "_model_name": "DescriptionStyleModel",
            "_view_count": null,
            "_view_module": "@jupyter-widgets/base",
            "_view_module_version": "1.2.0",
            "_view_name": "StyleView",
            "description_width": ""
          }
        },
        "07c9fc80ddfe42198e62b006da9fc314": {
          "model_module": "@jupyter-widgets/controls",
          "model_name": "HBoxModel",
          "model_module_version": "1.5.0",
          "state": {
            "_dom_classes": [],
            "_model_module": "@jupyter-widgets/controls",
            "_model_module_version": "1.5.0",
            "_model_name": "HBoxModel",
            "_view_count": null,
            "_view_module": "@jupyter-widgets/controls",
            "_view_module_version": "1.5.0",
            "_view_name": "HBoxView",
            "box_style": "",
            "children": [
              "IPY_MODEL_62f295be76a347cbbe7955f3be9bd649",
              "IPY_MODEL_abb2a6e76eb24acdae220a9785d0f407",
              "IPY_MODEL_e4cff11c3f9a4bef83c29e9bc7aa6244"
            ],
            "layout": "IPY_MODEL_0bebc31fe07749d39f555c568d20b67a"
          }
        },
        "62f295be76a347cbbe7955f3be9bd649": {
          "model_module": "@jupyter-widgets/controls",
          "model_name": "HTMLModel",
          "model_module_version": "1.5.0",
          "state": {
            "_dom_classes": [],
            "_model_module": "@jupyter-widgets/controls",
            "_model_module_version": "1.5.0",
            "_model_name": "HTMLModel",
            "_view_count": null,
            "_view_module": "@jupyter-widgets/controls",
            "_view_module_version": "1.5.0",
            "_view_name": "HTMLView",
            "description": "",
            "description_tooltip": null,
            "layout": "IPY_MODEL_a2293235487e46fc96f8f46f35f27733",
            "placeholder": "​",
            "style": "IPY_MODEL_d421add1d61142a2b20c2a40edb910cb",
            "value": "tokenizer.json: 100%"
          }
        },
        "abb2a6e76eb24acdae220a9785d0f407": {
          "model_module": "@jupyter-widgets/controls",
          "model_name": "FloatProgressModel",
          "model_module_version": "1.5.0",
          "state": {
            "_dom_classes": [],
            "_model_module": "@jupyter-widgets/controls",
            "_model_module_version": "1.5.0",
            "_model_name": "FloatProgressModel",
            "_view_count": null,
            "_view_module": "@jupyter-widgets/controls",
            "_view_module_version": "1.5.0",
            "_view_name": "ProgressView",
            "bar_style": "success",
            "description": "",
            "description_tooltip": null,
            "layout": "IPY_MODEL_6b46942db6aa46f5b13ed531838d86b0",
            "max": 1355256,
            "min": 0,
            "orientation": "horizontal",
            "style": "IPY_MODEL_0f2ce32a663d41b7943c26a47c33cfb3",
            "value": 1355256
          }
        },
        "e4cff11c3f9a4bef83c29e9bc7aa6244": {
          "model_module": "@jupyter-widgets/controls",
          "model_name": "HTMLModel",
          "model_module_version": "1.5.0",
          "state": {
            "_dom_classes": [],
            "_model_module": "@jupyter-widgets/controls",
            "_model_module_version": "1.5.0",
            "_model_name": "HTMLModel",
            "_view_count": null,
            "_view_module": "@jupyter-widgets/controls",
            "_view_module_version": "1.5.0",
            "_view_name": "HTMLView",
            "description": "",
            "description_tooltip": null,
            "layout": "IPY_MODEL_71cf95a8ece44da1b871da8ae246eaa7",
            "placeholder": "​",
            "style": "IPY_MODEL_199d80289b7849a89767e38fd3495922",
            "value": " 1.36M/1.36M [00:00&lt;00:00, 32.8MB/s]"
          }
        },
        "0bebc31fe07749d39f555c568d20b67a": {
          "model_module": "@jupyter-widgets/base",
          "model_name": "LayoutModel",
          "model_module_version": "1.2.0",
          "state": {
            "_model_module": "@jupyter-widgets/base",
            "_model_module_version": "1.2.0",
            "_model_name": "LayoutModel",
            "_view_count": null,
            "_view_module": "@jupyter-widgets/base",
            "_view_module_version": "1.2.0",
            "_view_name": "LayoutView",
            "align_content": null,
            "align_items": null,
            "align_self": null,
            "border": null,
            "bottom": null,
            "display": null,
            "flex": null,
            "flex_flow": null,
            "grid_area": null,
            "grid_auto_columns": null,
            "grid_auto_flow": null,
            "grid_auto_rows": null,
            "grid_column": null,
            "grid_gap": null,
            "grid_row": null,
            "grid_template_areas": null,
            "grid_template_columns": null,
            "grid_template_rows": null,
            "height": null,
            "justify_content": null,
            "justify_items": null,
            "left": null,
            "margin": null,
            "max_height": null,
            "max_width": null,
            "min_height": null,
            "min_width": null,
            "object_fit": null,
            "object_position": null,
            "order": null,
            "overflow": null,
            "overflow_x": null,
            "overflow_y": null,
            "padding": null,
            "right": null,
            "top": null,
            "visibility": null,
            "width": null
          }
        },
        "a2293235487e46fc96f8f46f35f27733": {
          "model_module": "@jupyter-widgets/base",
          "model_name": "LayoutModel",
          "model_module_version": "1.2.0",
          "state": {
            "_model_module": "@jupyter-widgets/base",
            "_model_module_version": "1.2.0",
            "_model_name": "LayoutModel",
            "_view_count": null,
            "_view_module": "@jupyter-widgets/base",
            "_view_module_version": "1.2.0",
            "_view_name": "LayoutView",
            "align_content": null,
            "align_items": null,
            "align_self": null,
            "border": null,
            "bottom": null,
            "display": null,
            "flex": null,
            "flex_flow": null,
            "grid_area": null,
            "grid_auto_columns": null,
            "grid_auto_flow": null,
            "grid_auto_rows": null,
            "grid_column": null,
            "grid_gap": null,
            "grid_row": null,
            "grid_template_areas": null,
            "grid_template_columns": null,
            "grid_template_rows": null,
            "height": null,
            "justify_content": null,
            "justify_items": null,
            "left": null,
            "margin": null,
            "max_height": null,
            "max_width": null,
            "min_height": null,
            "min_width": null,
            "object_fit": null,
            "object_position": null,
            "order": null,
            "overflow": null,
            "overflow_x": null,
            "overflow_y": null,
            "padding": null,
            "right": null,
            "top": null,
            "visibility": null,
            "width": null
          }
        },
        "d421add1d61142a2b20c2a40edb910cb": {
          "model_module": "@jupyter-widgets/controls",
          "model_name": "DescriptionStyleModel",
          "model_module_version": "1.5.0",
          "state": {
            "_model_module": "@jupyter-widgets/controls",
            "_model_module_version": "1.5.0",
            "_model_name": "DescriptionStyleModel",
            "_view_count": null,
            "_view_module": "@jupyter-widgets/base",
            "_view_module_version": "1.2.0",
            "_view_name": "StyleView",
            "description_width": ""
          }
        },
        "6b46942db6aa46f5b13ed531838d86b0": {
          "model_module": "@jupyter-widgets/base",
          "model_name": "LayoutModel",
          "model_module_version": "1.2.0",
          "state": {
            "_model_module": "@jupyter-widgets/base",
            "_model_module_version": "1.2.0",
            "_model_name": "LayoutModel",
            "_view_count": null,
            "_view_module": "@jupyter-widgets/base",
            "_view_module_version": "1.2.0",
            "_view_name": "LayoutView",
            "align_content": null,
            "align_items": null,
            "align_self": null,
            "border": null,
            "bottom": null,
            "display": null,
            "flex": null,
            "flex_flow": null,
            "grid_area": null,
            "grid_auto_columns": null,
            "grid_auto_flow": null,
            "grid_auto_rows": null,
            "grid_column": null,
            "grid_gap": null,
            "grid_row": null,
            "grid_template_areas": null,
            "grid_template_columns": null,
            "grid_template_rows": null,
            "height": null,
            "justify_content": null,
            "justify_items": null,
            "left": null,
            "margin": null,
            "max_height": null,
            "max_width": null,
            "min_height": null,
            "min_width": null,
            "object_fit": null,
            "object_position": null,
            "order": null,
            "overflow": null,
            "overflow_x": null,
            "overflow_y": null,
            "padding": null,
            "right": null,
            "top": null,
            "visibility": null,
            "width": null
          }
        },
        "0f2ce32a663d41b7943c26a47c33cfb3": {
          "model_module": "@jupyter-widgets/controls",
          "model_name": "ProgressStyleModel",
          "model_module_version": "1.5.0",
          "state": {
            "_model_module": "@jupyter-widgets/controls",
            "_model_module_version": "1.5.0",
            "_model_name": "ProgressStyleModel",
            "_view_count": null,
            "_view_module": "@jupyter-widgets/base",
            "_view_module_version": "1.2.0",
            "_view_name": "StyleView",
            "bar_color": null,
            "description_width": ""
          }
        },
        "71cf95a8ece44da1b871da8ae246eaa7": {
          "model_module": "@jupyter-widgets/base",
          "model_name": "LayoutModel",
          "model_module_version": "1.2.0",
          "state": {
            "_model_module": "@jupyter-widgets/base",
            "_model_module_version": "1.2.0",
            "_model_name": "LayoutModel",
            "_view_count": null,
            "_view_module": "@jupyter-widgets/base",
            "_view_module_version": "1.2.0",
            "_view_name": "LayoutView",
            "align_content": null,
            "align_items": null,
            "align_self": null,
            "border": null,
            "bottom": null,
            "display": null,
            "flex": null,
            "flex_flow": null,
            "grid_area": null,
            "grid_auto_columns": null,
            "grid_auto_flow": null,
            "grid_auto_rows": null,
            "grid_column": null,
            "grid_gap": null,
            "grid_row": null,
            "grid_template_areas": null,
            "grid_template_columns": null,
            "grid_template_rows": null,
            "height": null,
            "justify_content": null,
            "justify_items": null,
            "left": null,
            "margin": null,
            "max_height": null,
            "max_width": null,
            "min_height": null,
            "min_width": null,
            "object_fit": null,
            "object_position": null,
            "order": null,
            "overflow": null,
            "overflow_x": null,
            "overflow_y": null,
            "padding": null,
            "right": null,
            "top": null,
            "visibility": null,
            "width": null
          }
        },
        "199d80289b7849a89767e38fd3495922": {
          "model_module": "@jupyter-widgets/controls",
          "model_name": "DescriptionStyleModel",
          "model_module_version": "1.5.0",
          "state": {
            "_model_module": "@jupyter-widgets/controls",
            "_model_module_version": "1.5.0",
            "_model_name": "DescriptionStyleModel",
            "_view_count": null,
            "_view_module": "@jupyter-widgets/base",
            "_view_module_version": "1.2.0",
            "_view_name": "StyleView",
            "description_width": ""
          }
        },
        "61d9154efffd456eb7ee785a0247ce0b": {
          "model_module": "@jupyter-widgets/controls",
          "model_name": "HBoxModel",
          "model_module_version": "1.5.0",
          "state": {
            "_dom_classes": [],
            "_model_module": "@jupyter-widgets/controls",
            "_model_module_version": "1.5.0",
            "_model_name": "HBoxModel",
            "_view_count": null,
            "_view_module": "@jupyter-widgets/controls",
            "_view_module_version": "1.5.0",
            "_view_name": "HBoxView",
            "box_style": "",
            "children": [
              "IPY_MODEL_4b80073c23634d8c90adb3407736c455",
              "IPY_MODEL_65a80cf2ca6a4c6c95f2860d2e5ff303",
              "IPY_MODEL_400138a6508549acae154c6f5c27038e"
            ],
            "layout": "IPY_MODEL_ea52e8395b55418b8c53ebc5762c3c29"
          }
        },
        "4b80073c23634d8c90adb3407736c455": {
          "model_module": "@jupyter-widgets/controls",
          "model_name": "HTMLModel",
          "model_module_version": "1.5.0",
          "state": {
            "_dom_classes": [],
            "_model_module": "@jupyter-widgets/controls",
            "_model_module_version": "1.5.0",
            "_model_name": "HTMLModel",
            "_view_count": null,
            "_view_module": "@jupyter-widgets/controls",
            "_view_module_version": "1.5.0",
            "_view_name": "HTMLView",
            "description": "",
            "description_tooltip": null,
            "layout": "IPY_MODEL_7f6d579a30d247c3a3613313774f1e2c",
            "placeholder": "​",
            "style": "IPY_MODEL_71de72a6afa84e4695ce8bceecb48293",
            "value": "config.json: 100%"
          }
        },
        "65a80cf2ca6a4c6c95f2860d2e5ff303": {
          "model_module": "@jupyter-widgets/controls",
          "model_name": "FloatProgressModel",
          "model_module_version": "1.5.0",
          "state": {
            "_dom_classes": [],
            "_model_module": "@jupyter-widgets/controls",
            "_model_module_version": "1.5.0",
            "_model_name": "FloatProgressModel",
            "_view_count": null,
            "_view_module": "@jupyter-widgets/controls",
            "_view_module_version": "1.5.0",
            "_view_name": "ProgressView",
            "bar_style": "success",
            "description": "",
            "description_tooltip": null,
            "layout": "IPY_MODEL_3c21cf6a145e4bb285a6389d14f2bc5c",
            "max": 665,
            "min": 0,
            "orientation": "horizontal",
            "style": "IPY_MODEL_07cda971381148c78bfa0311861473c0",
            "value": 665
          }
        },
        "400138a6508549acae154c6f5c27038e": {
          "model_module": "@jupyter-widgets/controls",
          "model_name": "HTMLModel",
          "model_module_version": "1.5.0",
          "state": {
            "_dom_classes": [],
            "_model_module": "@jupyter-widgets/controls",
            "_model_module_version": "1.5.0",
            "_model_name": "HTMLModel",
            "_view_count": null,
            "_view_module": "@jupyter-widgets/controls",
            "_view_module_version": "1.5.0",
            "_view_name": "HTMLView",
            "description": "",
            "description_tooltip": null,
            "layout": "IPY_MODEL_728cb1433fc4498b83d00ad828953998",
            "placeholder": "​",
            "style": "IPY_MODEL_4df1f7e52e3f496c8a67b2836637fc3e",
            "value": " 665/665 [00:00&lt;00:00, 34.7kB/s]"
          }
        },
        "ea52e8395b55418b8c53ebc5762c3c29": {
          "model_module": "@jupyter-widgets/base",
          "model_name": "LayoutModel",
          "model_module_version": "1.2.0",
          "state": {
            "_model_module": "@jupyter-widgets/base",
            "_model_module_version": "1.2.0",
            "_model_name": "LayoutModel",
            "_view_count": null,
            "_view_module": "@jupyter-widgets/base",
            "_view_module_version": "1.2.0",
            "_view_name": "LayoutView",
            "align_content": null,
            "align_items": null,
            "align_self": null,
            "border": null,
            "bottom": null,
            "display": null,
            "flex": null,
            "flex_flow": null,
            "grid_area": null,
            "grid_auto_columns": null,
            "grid_auto_flow": null,
            "grid_auto_rows": null,
            "grid_column": null,
            "grid_gap": null,
            "grid_row": null,
            "grid_template_areas": null,
            "grid_template_columns": null,
            "grid_template_rows": null,
            "height": null,
            "justify_content": null,
            "justify_items": null,
            "left": null,
            "margin": null,
            "max_height": null,
            "max_width": null,
            "min_height": null,
            "min_width": null,
            "object_fit": null,
            "object_position": null,
            "order": null,
            "overflow": null,
            "overflow_x": null,
            "overflow_y": null,
            "padding": null,
            "right": null,
            "top": null,
            "visibility": null,
            "width": null
          }
        },
        "7f6d579a30d247c3a3613313774f1e2c": {
          "model_module": "@jupyter-widgets/base",
          "model_name": "LayoutModel",
          "model_module_version": "1.2.0",
          "state": {
            "_model_module": "@jupyter-widgets/base",
            "_model_module_version": "1.2.0",
            "_model_name": "LayoutModel",
            "_view_count": null,
            "_view_module": "@jupyter-widgets/base",
            "_view_module_version": "1.2.0",
            "_view_name": "LayoutView",
            "align_content": null,
            "align_items": null,
            "align_self": null,
            "border": null,
            "bottom": null,
            "display": null,
            "flex": null,
            "flex_flow": null,
            "grid_area": null,
            "grid_auto_columns": null,
            "grid_auto_flow": null,
            "grid_auto_rows": null,
            "grid_column": null,
            "grid_gap": null,
            "grid_row": null,
            "grid_template_areas": null,
            "grid_template_columns": null,
            "grid_template_rows": null,
            "height": null,
            "justify_content": null,
            "justify_items": null,
            "left": null,
            "margin": null,
            "max_height": null,
            "max_width": null,
            "min_height": null,
            "min_width": null,
            "object_fit": null,
            "object_position": null,
            "order": null,
            "overflow": null,
            "overflow_x": null,
            "overflow_y": null,
            "padding": null,
            "right": null,
            "top": null,
            "visibility": null,
            "width": null
          }
        },
        "71de72a6afa84e4695ce8bceecb48293": {
          "model_module": "@jupyter-widgets/controls",
          "model_name": "DescriptionStyleModel",
          "model_module_version": "1.5.0",
          "state": {
            "_model_module": "@jupyter-widgets/controls",
            "_model_module_version": "1.5.0",
            "_model_name": "DescriptionStyleModel",
            "_view_count": null,
            "_view_module": "@jupyter-widgets/base",
            "_view_module_version": "1.2.0",
            "_view_name": "StyleView",
            "description_width": ""
          }
        },
        "3c21cf6a145e4bb285a6389d14f2bc5c": {
          "model_module": "@jupyter-widgets/base",
          "model_name": "LayoutModel",
          "model_module_version": "1.2.0",
          "state": {
            "_model_module": "@jupyter-widgets/base",
            "_model_module_version": "1.2.0",
            "_model_name": "LayoutModel",
            "_view_count": null,
            "_view_module": "@jupyter-widgets/base",
            "_view_module_version": "1.2.0",
            "_view_name": "LayoutView",
            "align_content": null,
            "align_items": null,
            "align_self": null,
            "border": null,
            "bottom": null,
            "display": null,
            "flex": null,
            "flex_flow": null,
            "grid_area": null,
            "grid_auto_columns": null,
            "grid_auto_flow": null,
            "grid_auto_rows": null,
            "grid_column": null,
            "grid_gap": null,
            "grid_row": null,
            "grid_template_areas": null,
            "grid_template_columns": null,
            "grid_template_rows": null,
            "height": null,
            "justify_content": null,
            "justify_items": null,
            "left": null,
            "margin": null,
            "max_height": null,
            "max_width": null,
            "min_height": null,
            "min_width": null,
            "object_fit": null,
            "object_position": null,
            "order": null,
            "overflow": null,
            "overflow_x": null,
            "overflow_y": null,
            "padding": null,
            "right": null,
            "top": null,
            "visibility": null,
            "width": null
          }
        },
        "07cda971381148c78bfa0311861473c0": {
          "model_module": "@jupyter-widgets/controls",
          "model_name": "ProgressStyleModel",
          "model_module_version": "1.5.0",
          "state": {
            "_model_module": "@jupyter-widgets/controls",
            "_model_module_version": "1.5.0",
            "_model_name": "ProgressStyleModel",
            "_view_count": null,
            "_view_module": "@jupyter-widgets/base",
            "_view_module_version": "1.2.0",
            "_view_name": "StyleView",
            "bar_color": null,
            "description_width": ""
          }
        },
        "728cb1433fc4498b83d00ad828953998": {
          "model_module": "@jupyter-widgets/base",
          "model_name": "LayoutModel",
          "model_module_version": "1.2.0",
          "state": {
            "_model_module": "@jupyter-widgets/base",
            "_model_module_version": "1.2.0",
            "_model_name": "LayoutModel",
            "_view_count": null,
            "_view_module": "@jupyter-widgets/base",
            "_view_module_version": "1.2.0",
            "_view_name": "LayoutView",
            "align_content": null,
            "align_items": null,
            "align_self": null,
            "border": null,
            "bottom": null,
            "display": null,
            "flex": null,
            "flex_flow": null,
            "grid_area": null,
            "grid_auto_columns": null,
            "grid_auto_flow": null,
            "grid_auto_rows": null,
            "grid_column": null,
            "grid_gap": null,
            "grid_row": null,
            "grid_template_areas": null,
            "grid_template_columns": null,
            "grid_template_rows": null,
            "height": null,
            "justify_content": null,
            "justify_items": null,
            "left": null,
            "margin": null,
            "max_height": null,
            "max_width": null,
            "min_height": null,
            "min_width": null,
            "object_fit": null,
            "object_position": null,
            "order": null,
            "overflow": null,
            "overflow_x": null,
            "overflow_y": null,
            "padding": null,
            "right": null,
            "top": null,
            "visibility": null,
            "width": null
          }
        },
        "4df1f7e52e3f496c8a67b2836637fc3e": {
          "model_module": "@jupyter-widgets/controls",
          "model_name": "DescriptionStyleModel",
          "model_module_version": "1.5.0",
          "state": {
            "_model_module": "@jupyter-widgets/controls",
            "_model_module_version": "1.5.0",
            "_model_name": "DescriptionStyleModel",
            "_view_count": null,
            "_view_module": "@jupyter-widgets/base",
            "_view_module_version": "1.2.0",
            "_view_name": "StyleView",
            "description_width": ""
          }
        },
        "21ca9089f4fa4c139e6ed3b8265bc42f": {
          "model_module": "@jupyter-widgets/controls",
          "model_name": "HBoxModel",
          "model_module_version": "1.5.0",
          "state": {
            "_dom_classes": [],
            "_model_module": "@jupyter-widgets/controls",
            "_model_module_version": "1.5.0",
            "_model_name": "HBoxModel",
            "_view_count": null,
            "_view_module": "@jupyter-widgets/controls",
            "_view_module_version": "1.5.0",
            "_view_name": "HBoxView",
            "box_style": "",
            "children": [
              "IPY_MODEL_f7bd8e3d63d44c708b8c5fae981841b5",
              "IPY_MODEL_34d364084c9c4dfc8896b88e1c959df2",
              "IPY_MODEL_7044c6a8b7984404b4d6df32aca5703b"
            ],
            "layout": "IPY_MODEL_cac7fd0ec6764d2aab5db6f6ce2e2d1c"
          }
        },
        "f7bd8e3d63d44c708b8c5fae981841b5": {
          "model_module": "@jupyter-widgets/controls",
          "model_name": "HTMLModel",
          "model_module_version": "1.5.0",
          "state": {
            "_dom_classes": [],
            "_model_module": "@jupyter-widgets/controls",
            "_model_module_version": "1.5.0",
            "_model_name": "HTMLModel",
            "_view_count": null,
            "_view_module": "@jupyter-widgets/controls",
            "_view_module_version": "1.5.0",
            "_view_name": "HTMLView",
            "description": "",
            "description_tooltip": null,
            "layout": "IPY_MODEL_5486a65e322c4c1c80f273a6e7b81bc9",
            "placeholder": "​",
            "style": "IPY_MODEL_70f2efcc3720490b80dbccd9c713990e",
            "value": "tokenizer_config.json: 100%"
          }
        },
        "34d364084c9c4dfc8896b88e1c959df2": {
          "model_module": "@jupyter-widgets/controls",
          "model_name": "FloatProgressModel",
          "model_module_version": "1.5.0",
          "state": {
            "_dom_classes": [],
            "_model_module": "@jupyter-widgets/controls",
            "_model_module_version": "1.5.0",
            "_model_name": "FloatProgressModel",
            "_view_count": null,
            "_view_module": "@jupyter-widgets/controls",
            "_view_module_version": "1.5.0",
            "_view_name": "ProgressView",
            "bar_style": "success",
            "description": "",
            "description_tooltip": null,
            "layout": "IPY_MODEL_2b3ea29f1d51475d952bd82a19390592",
            "max": 48,
            "min": 0,
            "orientation": "horizontal",
            "style": "IPY_MODEL_d1db0d70a9f84e90bd35a29c5a3cafc8",
            "value": 48
          }
        },
        "7044c6a8b7984404b4d6df32aca5703b": {
          "model_module": "@jupyter-widgets/controls",
          "model_name": "HTMLModel",
          "model_module_version": "1.5.0",
          "state": {
            "_dom_classes": [],
            "_model_module": "@jupyter-widgets/controls",
            "_model_module_version": "1.5.0",
            "_model_name": "HTMLModel",
            "_view_count": null,
            "_view_module": "@jupyter-widgets/controls",
            "_view_module_version": "1.5.0",
            "_view_name": "HTMLView",
            "description": "",
            "description_tooltip": null,
            "layout": "IPY_MODEL_93c718c792104cf7b09a6b9ea98d118e",
            "placeholder": "​",
            "style": "IPY_MODEL_f563a7139851440895f1a7b521388ffa",
            "value": " 48.0/48.0 [00:00&lt;00:00, 2.10kB/s]"
          }
        },
        "cac7fd0ec6764d2aab5db6f6ce2e2d1c": {
          "model_module": "@jupyter-widgets/base",
          "model_name": "LayoutModel",
          "model_module_version": "1.2.0",
          "state": {
            "_model_module": "@jupyter-widgets/base",
            "_model_module_version": "1.2.0",
            "_model_name": "LayoutModel",
            "_view_count": null,
            "_view_module": "@jupyter-widgets/base",
            "_view_module_version": "1.2.0",
            "_view_name": "LayoutView",
            "align_content": null,
            "align_items": null,
            "align_self": null,
            "border": null,
            "bottom": null,
            "display": null,
            "flex": null,
            "flex_flow": null,
            "grid_area": null,
            "grid_auto_columns": null,
            "grid_auto_flow": null,
            "grid_auto_rows": null,
            "grid_column": null,
            "grid_gap": null,
            "grid_row": null,
            "grid_template_areas": null,
            "grid_template_columns": null,
            "grid_template_rows": null,
            "height": null,
            "justify_content": null,
            "justify_items": null,
            "left": null,
            "margin": null,
            "max_height": null,
            "max_width": null,
            "min_height": null,
            "min_width": null,
            "object_fit": null,
            "object_position": null,
            "order": null,
            "overflow": null,
            "overflow_x": null,
            "overflow_y": null,
            "padding": null,
            "right": null,
            "top": null,
            "visibility": null,
            "width": null
          }
        },
        "5486a65e322c4c1c80f273a6e7b81bc9": {
          "model_module": "@jupyter-widgets/base",
          "model_name": "LayoutModel",
          "model_module_version": "1.2.0",
          "state": {
            "_model_module": "@jupyter-widgets/base",
            "_model_module_version": "1.2.0",
            "_model_name": "LayoutModel",
            "_view_count": null,
            "_view_module": "@jupyter-widgets/base",
            "_view_module_version": "1.2.0",
            "_view_name": "LayoutView",
            "align_content": null,
            "align_items": null,
            "align_self": null,
            "border": null,
            "bottom": null,
            "display": null,
            "flex": null,
            "flex_flow": null,
            "grid_area": null,
            "grid_auto_columns": null,
            "grid_auto_flow": null,
            "grid_auto_rows": null,
            "grid_column": null,
            "grid_gap": null,
            "grid_row": null,
            "grid_template_areas": null,
            "grid_template_columns": null,
            "grid_template_rows": null,
            "height": null,
            "justify_content": null,
            "justify_items": null,
            "left": null,
            "margin": null,
            "max_height": null,
            "max_width": null,
            "min_height": null,
            "min_width": null,
            "object_fit": null,
            "object_position": null,
            "order": null,
            "overflow": null,
            "overflow_x": null,
            "overflow_y": null,
            "padding": null,
            "right": null,
            "top": null,
            "visibility": null,
            "width": null
          }
        },
        "70f2efcc3720490b80dbccd9c713990e": {
          "model_module": "@jupyter-widgets/controls",
          "model_name": "DescriptionStyleModel",
          "model_module_version": "1.5.0",
          "state": {
            "_model_module": "@jupyter-widgets/controls",
            "_model_module_version": "1.5.0",
            "_model_name": "DescriptionStyleModel",
            "_view_count": null,
            "_view_module": "@jupyter-widgets/base",
            "_view_module_version": "1.2.0",
            "_view_name": "StyleView",
            "description_width": ""
          }
        },
        "2b3ea29f1d51475d952bd82a19390592": {
          "model_module": "@jupyter-widgets/base",
          "model_name": "LayoutModel",
          "model_module_version": "1.2.0",
          "state": {
            "_model_module": "@jupyter-widgets/base",
            "_model_module_version": "1.2.0",
            "_model_name": "LayoutModel",
            "_view_count": null,
            "_view_module": "@jupyter-widgets/base",
            "_view_module_version": "1.2.0",
            "_view_name": "LayoutView",
            "align_content": null,
            "align_items": null,
            "align_self": null,
            "border": null,
            "bottom": null,
            "display": null,
            "flex": null,
            "flex_flow": null,
            "grid_area": null,
            "grid_auto_columns": null,
            "grid_auto_flow": null,
            "grid_auto_rows": null,
            "grid_column": null,
            "grid_gap": null,
            "grid_row": null,
            "grid_template_areas": null,
            "grid_template_columns": null,
            "grid_template_rows": null,
            "height": null,
            "justify_content": null,
            "justify_items": null,
            "left": null,
            "margin": null,
            "max_height": null,
            "max_width": null,
            "min_height": null,
            "min_width": null,
            "object_fit": null,
            "object_position": null,
            "order": null,
            "overflow": null,
            "overflow_x": null,
            "overflow_y": null,
            "padding": null,
            "right": null,
            "top": null,
            "visibility": null,
            "width": null
          }
        },
        "d1db0d70a9f84e90bd35a29c5a3cafc8": {
          "model_module": "@jupyter-widgets/controls",
          "model_name": "ProgressStyleModel",
          "model_module_version": "1.5.0",
          "state": {
            "_model_module": "@jupyter-widgets/controls",
            "_model_module_version": "1.5.0",
            "_model_name": "ProgressStyleModel",
            "_view_count": null,
            "_view_module": "@jupyter-widgets/base",
            "_view_module_version": "1.2.0",
            "_view_name": "StyleView",
            "bar_color": null,
            "description_width": ""
          }
        },
        "93c718c792104cf7b09a6b9ea98d118e": {
          "model_module": "@jupyter-widgets/base",
          "model_name": "LayoutModel",
          "model_module_version": "1.2.0",
          "state": {
            "_model_module": "@jupyter-widgets/base",
            "_model_module_version": "1.2.0",
            "_model_name": "LayoutModel",
            "_view_count": null,
            "_view_module": "@jupyter-widgets/base",
            "_view_module_version": "1.2.0",
            "_view_name": "LayoutView",
            "align_content": null,
            "align_items": null,
            "align_self": null,
            "border": null,
            "bottom": null,
            "display": null,
            "flex": null,
            "flex_flow": null,
            "grid_area": null,
            "grid_auto_columns": null,
            "grid_auto_flow": null,
            "grid_auto_rows": null,
            "grid_column": null,
            "grid_gap": null,
            "grid_row": null,
            "grid_template_areas": null,
            "grid_template_columns": null,
            "grid_template_rows": null,
            "height": null,
            "justify_content": null,
            "justify_items": null,
            "left": null,
            "margin": null,
            "max_height": null,
            "max_width": null,
            "min_height": null,
            "min_width": null,
            "object_fit": null,
            "object_position": null,
            "order": null,
            "overflow": null,
            "overflow_x": null,
            "overflow_y": null,
            "padding": null,
            "right": null,
            "top": null,
            "visibility": null,
            "width": null
          }
        },
        "f563a7139851440895f1a7b521388ffa": {
          "model_module": "@jupyter-widgets/controls",
          "model_name": "DescriptionStyleModel",
          "model_module_version": "1.5.0",
          "state": {
            "_model_module": "@jupyter-widgets/controls",
            "_model_module_version": "1.5.0",
            "_model_name": "DescriptionStyleModel",
            "_view_count": null,
            "_view_module": "@jupyter-widgets/base",
            "_view_module_version": "1.2.0",
            "_view_name": "StyleView",
            "description_width": ""
          }
        },
        "d8457b696fc745cdad812e2d21878a6d": {
          "model_module": "@jupyter-widgets/controls",
          "model_name": "HBoxModel",
          "model_module_version": "1.5.0",
          "state": {
            "_dom_classes": [],
            "_model_module": "@jupyter-widgets/controls",
            "_model_module_version": "1.5.0",
            "_model_name": "HBoxModel",
            "_view_count": null,
            "_view_module": "@jupyter-widgets/controls",
            "_view_module_version": "1.5.0",
            "_view_name": "HBoxView",
            "box_style": "",
            "children": [
              "IPY_MODEL_f720de204190473784a56b81f7a3c249",
              "IPY_MODEL_9840576f3da74697904b3c8fa519b29c",
              "IPY_MODEL_a4af2a35d9f24f1faf3e14cd40785d9b"
            ],
            "layout": "IPY_MODEL_52161bfe855b4b889bd3146dae997d75"
          }
        },
        "f720de204190473784a56b81f7a3c249": {
          "model_module": "@jupyter-widgets/controls",
          "model_name": "HTMLModel",
          "model_module_version": "1.5.0",
          "state": {
            "_dom_classes": [],
            "_model_module": "@jupyter-widgets/controls",
            "_model_module_version": "1.5.0",
            "_model_name": "HTMLModel",
            "_view_count": null,
            "_view_module": "@jupyter-widgets/controls",
            "_view_module_version": "1.5.0",
            "_view_name": "HTMLView",
            "description": "",
            "description_tooltip": null,
            "layout": "IPY_MODEL_fba551085d394e019a2b7983ef6b987b",
            "placeholder": "​",
            "style": "IPY_MODEL_2d64bd1702194d9e9ebc4c55d9b4e09b",
            "value": "vocab.txt: 100%"
          }
        },
        "9840576f3da74697904b3c8fa519b29c": {
          "model_module": "@jupyter-widgets/controls",
          "model_name": "FloatProgressModel",
          "model_module_version": "1.5.0",
          "state": {
            "_dom_classes": [],
            "_model_module": "@jupyter-widgets/controls",
            "_model_module_version": "1.5.0",
            "_model_name": "FloatProgressModel",
            "_view_count": null,
            "_view_module": "@jupyter-widgets/controls",
            "_view_module_version": "1.5.0",
            "_view_name": "ProgressView",
            "bar_style": "success",
            "description": "",
            "description_tooltip": null,
            "layout": "IPY_MODEL_b1935716182a4458821bb21420be4ac7",
            "max": 231508,
            "min": 0,
            "orientation": "horizontal",
            "style": "IPY_MODEL_21bd2663d7e94fdfa1d0e29f207697eb",
            "value": 231508
          }
        },
        "a4af2a35d9f24f1faf3e14cd40785d9b": {
          "model_module": "@jupyter-widgets/controls",
          "model_name": "HTMLModel",
          "model_module_version": "1.5.0",
          "state": {
            "_dom_classes": [],
            "_model_module": "@jupyter-widgets/controls",
            "_model_module_version": "1.5.0",
            "_model_name": "HTMLModel",
            "_view_count": null,
            "_view_module": "@jupyter-widgets/controls",
            "_view_module_version": "1.5.0",
            "_view_name": "HTMLView",
            "description": "",
            "description_tooltip": null,
            "layout": "IPY_MODEL_13adfa52c8a24ba49d0b1745d6156bd5",
            "placeholder": "​",
            "style": "IPY_MODEL_2fa681a8a0504f3e878dd91346a0ccb4",
            "value": " 232k/232k [00:00&lt;00:00, 10.9MB/s]"
          }
        },
        "52161bfe855b4b889bd3146dae997d75": {
          "model_module": "@jupyter-widgets/base",
          "model_name": "LayoutModel",
          "model_module_version": "1.2.0",
          "state": {
            "_model_module": "@jupyter-widgets/base",
            "_model_module_version": "1.2.0",
            "_model_name": "LayoutModel",
            "_view_count": null,
            "_view_module": "@jupyter-widgets/base",
            "_view_module_version": "1.2.0",
            "_view_name": "LayoutView",
            "align_content": null,
            "align_items": null,
            "align_self": null,
            "border": null,
            "bottom": null,
            "display": null,
            "flex": null,
            "flex_flow": null,
            "grid_area": null,
            "grid_auto_columns": null,
            "grid_auto_flow": null,
            "grid_auto_rows": null,
            "grid_column": null,
            "grid_gap": null,
            "grid_row": null,
            "grid_template_areas": null,
            "grid_template_columns": null,
            "grid_template_rows": null,
            "height": null,
            "justify_content": null,
            "justify_items": null,
            "left": null,
            "margin": null,
            "max_height": null,
            "max_width": null,
            "min_height": null,
            "min_width": null,
            "object_fit": null,
            "object_position": null,
            "order": null,
            "overflow": null,
            "overflow_x": null,
            "overflow_y": null,
            "padding": null,
            "right": null,
            "top": null,
            "visibility": null,
            "width": null
          }
        },
        "fba551085d394e019a2b7983ef6b987b": {
          "model_module": "@jupyter-widgets/base",
          "model_name": "LayoutModel",
          "model_module_version": "1.2.0",
          "state": {
            "_model_module": "@jupyter-widgets/base",
            "_model_module_version": "1.2.0",
            "_model_name": "LayoutModel",
            "_view_count": null,
            "_view_module": "@jupyter-widgets/base",
            "_view_module_version": "1.2.0",
            "_view_name": "LayoutView",
            "align_content": null,
            "align_items": null,
            "align_self": null,
            "border": null,
            "bottom": null,
            "display": null,
            "flex": null,
            "flex_flow": null,
            "grid_area": null,
            "grid_auto_columns": null,
            "grid_auto_flow": null,
            "grid_auto_rows": null,
            "grid_column": null,
            "grid_gap": null,
            "grid_row": null,
            "grid_template_areas": null,
            "grid_template_columns": null,
            "grid_template_rows": null,
            "height": null,
            "justify_content": null,
            "justify_items": null,
            "left": null,
            "margin": null,
            "max_height": null,
            "max_width": null,
            "min_height": null,
            "min_width": null,
            "object_fit": null,
            "object_position": null,
            "order": null,
            "overflow": null,
            "overflow_x": null,
            "overflow_y": null,
            "padding": null,
            "right": null,
            "top": null,
            "visibility": null,
            "width": null
          }
        },
        "2d64bd1702194d9e9ebc4c55d9b4e09b": {
          "model_module": "@jupyter-widgets/controls",
          "model_name": "DescriptionStyleModel",
          "model_module_version": "1.5.0",
          "state": {
            "_model_module": "@jupyter-widgets/controls",
            "_model_module_version": "1.5.0",
            "_model_name": "DescriptionStyleModel",
            "_view_count": null,
            "_view_module": "@jupyter-widgets/base",
            "_view_module_version": "1.2.0",
            "_view_name": "StyleView",
            "description_width": ""
          }
        },
        "b1935716182a4458821bb21420be4ac7": {
          "model_module": "@jupyter-widgets/base",
          "model_name": "LayoutModel",
          "model_module_version": "1.2.0",
          "state": {
            "_model_module": "@jupyter-widgets/base",
            "_model_module_version": "1.2.0",
            "_model_name": "LayoutModel",
            "_view_count": null,
            "_view_module": "@jupyter-widgets/base",
            "_view_module_version": "1.2.0",
            "_view_name": "LayoutView",
            "align_content": null,
            "align_items": null,
            "align_self": null,
            "border": null,
            "bottom": null,
            "display": null,
            "flex": null,
            "flex_flow": null,
            "grid_area": null,
            "grid_auto_columns": null,
            "grid_auto_flow": null,
            "grid_auto_rows": null,
            "grid_column": null,
            "grid_gap": null,
            "grid_row": null,
            "grid_template_areas": null,
            "grid_template_columns": null,
            "grid_template_rows": null,
            "height": null,
            "justify_content": null,
            "justify_items": null,
            "left": null,
            "margin": null,
            "max_height": null,
            "max_width": null,
            "min_height": null,
            "min_width": null,
            "object_fit": null,
            "object_position": null,
            "order": null,
            "overflow": null,
            "overflow_x": null,
            "overflow_y": null,
            "padding": null,
            "right": null,
            "top": null,
            "visibility": null,
            "width": null
          }
        },
        "21bd2663d7e94fdfa1d0e29f207697eb": {
          "model_module": "@jupyter-widgets/controls",
          "model_name": "ProgressStyleModel",
          "model_module_version": "1.5.0",
          "state": {
            "_model_module": "@jupyter-widgets/controls",
            "_model_module_version": "1.5.0",
            "_model_name": "ProgressStyleModel",
            "_view_count": null,
            "_view_module": "@jupyter-widgets/base",
            "_view_module_version": "1.2.0",
            "_view_name": "StyleView",
            "bar_color": null,
            "description_width": ""
          }
        },
        "13adfa52c8a24ba49d0b1745d6156bd5": {
          "model_module": "@jupyter-widgets/base",
          "model_name": "LayoutModel",
          "model_module_version": "1.2.0",
          "state": {
            "_model_module": "@jupyter-widgets/base",
            "_model_module_version": "1.2.0",
            "_model_name": "LayoutModel",
            "_view_count": null,
            "_view_module": "@jupyter-widgets/base",
            "_view_module_version": "1.2.0",
            "_view_name": "LayoutView",
            "align_content": null,
            "align_items": null,
            "align_self": null,
            "border": null,
            "bottom": null,
            "display": null,
            "flex": null,
            "flex_flow": null,
            "grid_area": null,
            "grid_auto_columns": null,
            "grid_auto_flow": null,
            "grid_auto_rows": null,
            "grid_column": null,
            "grid_gap": null,
            "grid_row": null,
            "grid_template_areas": null,
            "grid_template_columns": null,
            "grid_template_rows": null,
            "height": null,
            "justify_content": null,
            "justify_items": null,
            "left": null,
            "margin": null,
            "max_height": null,
            "max_width": null,
            "min_height": null,
            "min_width": null,
            "object_fit": null,
            "object_position": null,
            "order": null,
            "overflow": null,
            "overflow_x": null,
            "overflow_y": null,
            "padding": null,
            "right": null,
            "top": null,
            "visibility": null,
            "width": null
          }
        },
        "2fa681a8a0504f3e878dd91346a0ccb4": {
          "model_module": "@jupyter-widgets/controls",
          "model_name": "DescriptionStyleModel",
          "model_module_version": "1.5.0",
          "state": {
            "_model_module": "@jupyter-widgets/controls",
            "_model_module_version": "1.5.0",
            "_model_name": "DescriptionStyleModel",
            "_view_count": null,
            "_view_module": "@jupyter-widgets/base",
            "_view_module_version": "1.2.0",
            "_view_name": "StyleView",
            "description_width": ""
          }
        },
        "4a1f19482fc4422cbc95cbbb5267e859": {
          "model_module": "@jupyter-widgets/controls",
          "model_name": "HBoxModel",
          "model_module_version": "1.5.0",
          "state": {
            "_dom_classes": [],
            "_model_module": "@jupyter-widgets/controls",
            "_model_module_version": "1.5.0",
            "_model_name": "HBoxModel",
            "_view_count": null,
            "_view_module": "@jupyter-widgets/controls",
            "_view_module_version": "1.5.0",
            "_view_name": "HBoxView",
            "box_style": "",
            "children": [
              "IPY_MODEL_074887753f1d4d138fb9cdc62159c457",
              "IPY_MODEL_5716b2e0bd7646aab7e2f582ef5a4b2a",
              "IPY_MODEL_9bc4dbe95c244098993f480f29e34ea4"
            ],
            "layout": "IPY_MODEL_39339e751d304f78a5acbfaab54c2f92"
          }
        },
        "074887753f1d4d138fb9cdc62159c457": {
          "model_module": "@jupyter-widgets/controls",
          "model_name": "HTMLModel",
          "model_module_version": "1.5.0",
          "state": {
            "_dom_classes": [],
            "_model_module": "@jupyter-widgets/controls",
            "_model_module_version": "1.5.0",
            "_model_name": "HTMLModel",
            "_view_count": null,
            "_view_module": "@jupyter-widgets/controls",
            "_view_module_version": "1.5.0",
            "_view_name": "HTMLView",
            "description": "",
            "description_tooltip": null,
            "layout": "IPY_MODEL_496947b0091947d2ac381528d65c9e5b",
            "placeholder": "​",
            "style": "IPY_MODEL_8b21afb413d04a868e82493509d59fd6",
            "value": "tokenizer.json: 100%"
          }
        },
        "5716b2e0bd7646aab7e2f582ef5a4b2a": {
          "model_module": "@jupyter-widgets/controls",
          "model_name": "FloatProgressModel",
          "model_module_version": "1.5.0",
          "state": {
            "_dom_classes": [],
            "_model_module": "@jupyter-widgets/controls",
            "_model_module_version": "1.5.0",
            "_model_name": "FloatProgressModel",
            "_view_count": null,
            "_view_module": "@jupyter-widgets/controls",
            "_view_module_version": "1.5.0",
            "_view_name": "ProgressView",
            "bar_style": "success",
            "description": "",
            "description_tooltip": null,
            "layout": "IPY_MODEL_e3d2fc93fe5d436d86e7e31b6bb8f6a1",
            "max": 466062,
            "min": 0,
            "orientation": "horizontal",
            "style": "IPY_MODEL_99162863c4314f1396e8251798385a24",
            "value": 466062
          }
        },
        "9bc4dbe95c244098993f480f29e34ea4": {
          "model_module": "@jupyter-widgets/controls",
          "model_name": "HTMLModel",
          "model_module_version": "1.5.0",
          "state": {
            "_dom_classes": [],
            "_model_module": "@jupyter-widgets/controls",
            "_model_module_version": "1.5.0",
            "_model_name": "HTMLModel",
            "_view_count": null,
            "_view_module": "@jupyter-widgets/controls",
            "_view_module_version": "1.5.0",
            "_view_name": "HTMLView",
            "description": "",
            "description_tooltip": null,
            "layout": "IPY_MODEL_9bbc422a392a40ec8eb1e78bd8445c45",
            "placeholder": "​",
            "style": "IPY_MODEL_9cca7e8533d54f4e8466af211ed5bbd4",
            "value": " 466k/466k [00:00&lt;00:00, 18.6MB/s]"
          }
        },
        "39339e751d304f78a5acbfaab54c2f92": {
          "model_module": "@jupyter-widgets/base",
          "model_name": "LayoutModel",
          "model_module_version": "1.2.0",
          "state": {
            "_model_module": "@jupyter-widgets/base",
            "_model_module_version": "1.2.0",
            "_model_name": "LayoutModel",
            "_view_count": null,
            "_view_module": "@jupyter-widgets/base",
            "_view_module_version": "1.2.0",
            "_view_name": "LayoutView",
            "align_content": null,
            "align_items": null,
            "align_self": null,
            "border": null,
            "bottom": null,
            "display": null,
            "flex": null,
            "flex_flow": null,
            "grid_area": null,
            "grid_auto_columns": null,
            "grid_auto_flow": null,
            "grid_auto_rows": null,
            "grid_column": null,
            "grid_gap": null,
            "grid_row": null,
            "grid_template_areas": null,
            "grid_template_columns": null,
            "grid_template_rows": null,
            "height": null,
            "justify_content": null,
            "justify_items": null,
            "left": null,
            "margin": null,
            "max_height": null,
            "max_width": null,
            "min_height": null,
            "min_width": null,
            "object_fit": null,
            "object_position": null,
            "order": null,
            "overflow": null,
            "overflow_x": null,
            "overflow_y": null,
            "padding": null,
            "right": null,
            "top": null,
            "visibility": null,
            "width": null
          }
        },
        "496947b0091947d2ac381528d65c9e5b": {
          "model_module": "@jupyter-widgets/base",
          "model_name": "LayoutModel",
          "model_module_version": "1.2.0",
          "state": {
            "_model_module": "@jupyter-widgets/base",
            "_model_module_version": "1.2.0",
            "_model_name": "LayoutModel",
            "_view_count": null,
            "_view_module": "@jupyter-widgets/base",
            "_view_module_version": "1.2.0",
            "_view_name": "LayoutView",
            "align_content": null,
            "align_items": null,
            "align_self": null,
            "border": null,
            "bottom": null,
            "display": null,
            "flex": null,
            "flex_flow": null,
            "grid_area": null,
            "grid_auto_columns": null,
            "grid_auto_flow": null,
            "grid_auto_rows": null,
            "grid_column": null,
            "grid_gap": null,
            "grid_row": null,
            "grid_template_areas": null,
            "grid_template_columns": null,
            "grid_template_rows": null,
            "height": null,
            "justify_content": null,
            "justify_items": null,
            "left": null,
            "margin": null,
            "max_height": null,
            "max_width": null,
            "min_height": null,
            "min_width": null,
            "object_fit": null,
            "object_position": null,
            "order": null,
            "overflow": null,
            "overflow_x": null,
            "overflow_y": null,
            "padding": null,
            "right": null,
            "top": null,
            "visibility": null,
            "width": null
          }
        },
        "8b21afb413d04a868e82493509d59fd6": {
          "model_module": "@jupyter-widgets/controls",
          "model_name": "DescriptionStyleModel",
          "model_module_version": "1.5.0",
          "state": {
            "_model_module": "@jupyter-widgets/controls",
            "_model_module_version": "1.5.0",
            "_model_name": "DescriptionStyleModel",
            "_view_count": null,
            "_view_module": "@jupyter-widgets/base",
            "_view_module_version": "1.2.0",
            "_view_name": "StyleView",
            "description_width": ""
          }
        },
        "e3d2fc93fe5d436d86e7e31b6bb8f6a1": {
          "model_module": "@jupyter-widgets/base",
          "model_name": "LayoutModel",
          "model_module_version": "1.2.0",
          "state": {
            "_model_module": "@jupyter-widgets/base",
            "_model_module_version": "1.2.0",
            "_model_name": "LayoutModel",
            "_view_count": null,
            "_view_module": "@jupyter-widgets/base",
            "_view_module_version": "1.2.0",
            "_view_name": "LayoutView",
            "align_content": null,
            "align_items": null,
            "align_self": null,
            "border": null,
            "bottom": null,
            "display": null,
            "flex": null,
            "flex_flow": null,
            "grid_area": null,
            "grid_auto_columns": null,
            "grid_auto_flow": null,
            "grid_auto_rows": null,
            "grid_column": null,
            "grid_gap": null,
            "grid_row": null,
            "grid_template_areas": null,
            "grid_template_columns": null,
            "grid_template_rows": null,
            "height": null,
            "justify_content": null,
            "justify_items": null,
            "left": null,
            "margin": null,
            "max_height": null,
            "max_width": null,
            "min_height": null,
            "min_width": null,
            "object_fit": null,
            "object_position": null,
            "order": null,
            "overflow": null,
            "overflow_x": null,
            "overflow_y": null,
            "padding": null,
            "right": null,
            "top": null,
            "visibility": null,
            "width": null
          }
        },
        "99162863c4314f1396e8251798385a24": {
          "model_module": "@jupyter-widgets/controls",
          "model_name": "ProgressStyleModel",
          "model_module_version": "1.5.0",
          "state": {
            "_model_module": "@jupyter-widgets/controls",
            "_model_module_version": "1.5.0",
            "_model_name": "ProgressStyleModel",
            "_view_count": null,
            "_view_module": "@jupyter-widgets/base",
            "_view_module_version": "1.2.0",
            "_view_name": "StyleView",
            "bar_color": null,
            "description_width": ""
          }
        },
        "9bbc422a392a40ec8eb1e78bd8445c45": {
          "model_module": "@jupyter-widgets/base",
          "model_name": "LayoutModel",
          "model_module_version": "1.2.0",
          "state": {
            "_model_module": "@jupyter-widgets/base",
            "_model_module_version": "1.2.0",
            "_model_name": "LayoutModel",
            "_view_count": null,
            "_view_module": "@jupyter-widgets/base",
            "_view_module_version": "1.2.0",
            "_view_name": "LayoutView",
            "align_content": null,
            "align_items": null,
            "align_self": null,
            "border": null,
            "bottom": null,
            "display": null,
            "flex": null,
            "flex_flow": null,
            "grid_area": null,
            "grid_auto_columns": null,
            "grid_auto_flow": null,
            "grid_auto_rows": null,
            "grid_column": null,
            "grid_gap": null,
            "grid_row": null,
            "grid_template_areas": null,
            "grid_template_columns": null,
            "grid_template_rows": null,
            "height": null,
            "justify_content": null,
            "justify_items": null,
            "left": null,
            "margin": null,
            "max_height": null,
            "max_width": null,
            "min_height": null,
            "min_width": null,
            "object_fit": null,
            "object_position": null,
            "order": null,
            "overflow": null,
            "overflow_x": null,
            "overflow_y": null,
            "padding": null,
            "right": null,
            "top": null,
            "visibility": null,
            "width": null
          }
        },
        "9cca7e8533d54f4e8466af211ed5bbd4": {
          "model_module": "@jupyter-widgets/controls",
          "model_name": "DescriptionStyleModel",
          "model_module_version": "1.5.0",
          "state": {
            "_model_module": "@jupyter-widgets/controls",
            "_model_module_version": "1.5.0",
            "_model_name": "DescriptionStyleModel",
            "_view_count": null,
            "_view_module": "@jupyter-widgets/base",
            "_view_module_version": "1.2.0",
            "_view_name": "StyleView",
            "description_width": ""
          }
        },
        "1a32d42676be43568a5e7780fc611c9a": {
          "model_module": "@jupyter-widgets/controls",
          "model_name": "HBoxModel",
          "model_module_version": "1.5.0",
          "state": {
            "_dom_classes": [],
            "_model_module": "@jupyter-widgets/controls",
            "_model_module_version": "1.5.0",
            "_model_name": "HBoxModel",
            "_view_count": null,
            "_view_module": "@jupyter-widgets/controls",
            "_view_module_version": "1.5.0",
            "_view_name": "HBoxView",
            "box_style": "",
            "children": [
              "IPY_MODEL_d397200bdf5a48738aed56c078c49ebd",
              "IPY_MODEL_2ced7b4ddccd4d27b8e05e2f5a1a7794",
              "IPY_MODEL_06b92224163c472d8ee3969d15f1baaa"
            ],
            "layout": "IPY_MODEL_9b9ca106702c493bba5a1177ae1b196f"
          }
        },
        "d397200bdf5a48738aed56c078c49ebd": {
          "model_module": "@jupyter-widgets/controls",
          "model_name": "HTMLModel",
          "model_module_version": "1.5.0",
          "state": {
            "_dom_classes": [],
            "_model_module": "@jupyter-widgets/controls",
            "_model_module_version": "1.5.0",
            "_model_name": "HTMLModel",
            "_view_count": null,
            "_view_module": "@jupyter-widgets/controls",
            "_view_module_version": "1.5.0",
            "_view_name": "HTMLView",
            "description": "",
            "description_tooltip": null,
            "layout": "IPY_MODEL_40d51bcfeb1a49e38504e9b888e1dee2",
            "placeholder": "​",
            "style": "IPY_MODEL_be1d5fa123cd4c34a8717e61315f9e13",
            "value": "config.json: 100%"
          }
        },
        "2ced7b4ddccd4d27b8e05e2f5a1a7794": {
          "model_module": "@jupyter-widgets/controls",
          "model_name": "FloatProgressModel",
          "model_module_version": "1.5.0",
          "state": {
            "_dom_classes": [],
            "_model_module": "@jupyter-widgets/controls",
            "_model_module_version": "1.5.0",
            "_model_name": "FloatProgressModel",
            "_view_count": null,
            "_view_module": "@jupyter-widgets/controls",
            "_view_module_version": "1.5.0",
            "_view_name": "ProgressView",
            "bar_style": "success",
            "description": "",
            "description_tooltip": null,
            "layout": "IPY_MODEL_e3bf789d46824ea6ad4dd69c0ac16383",
            "max": 570,
            "min": 0,
            "orientation": "horizontal",
            "style": "IPY_MODEL_cd68703d82f64eeaa7a77f4d23013786",
            "value": 570
          }
        },
        "06b92224163c472d8ee3969d15f1baaa": {
          "model_module": "@jupyter-widgets/controls",
          "model_name": "HTMLModel",
          "model_module_version": "1.5.0",
          "state": {
            "_dom_classes": [],
            "_model_module": "@jupyter-widgets/controls",
            "_model_module_version": "1.5.0",
            "_model_name": "HTMLModel",
            "_view_count": null,
            "_view_module": "@jupyter-widgets/controls",
            "_view_module_version": "1.5.0",
            "_view_name": "HTMLView",
            "description": "",
            "description_tooltip": null,
            "layout": "IPY_MODEL_692ec219355b4573a4a0d13303f122ae",
            "placeholder": "​",
            "style": "IPY_MODEL_ff56ed23e3244c4b923fae8f52691795",
            "value": " 570/570 [00:00&lt;00:00, 37.9kB/s]"
          }
        },
        "9b9ca106702c493bba5a1177ae1b196f": {
          "model_module": "@jupyter-widgets/base",
          "model_name": "LayoutModel",
          "model_module_version": "1.2.0",
          "state": {
            "_model_module": "@jupyter-widgets/base",
            "_model_module_version": "1.2.0",
            "_model_name": "LayoutModel",
            "_view_count": null,
            "_view_module": "@jupyter-widgets/base",
            "_view_module_version": "1.2.0",
            "_view_name": "LayoutView",
            "align_content": null,
            "align_items": null,
            "align_self": null,
            "border": null,
            "bottom": null,
            "display": null,
            "flex": null,
            "flex_flow": null,
            "grid_area": null,
            "grid_auto_columns": null,
            "grid_auto_flow": null,
            "grid_auto_rows": null,
            "grid_column": null,
            "grid_gap": null,
            "grid_row": null,
            "grid_template_areas": null,
            "grid_template_columns": null,
            "grid_template_rows": null,
            "height": null,
            "justify_content": null,
            "justify_items": null,
            "left": null,
            "margin": null,
            "max_height": null,
            "max_width": null,
            "min_height": null,
            "min_width": null,
            "object_fit": null,
            "object_position": null,
            "order": null,
            "overflow": null,
            "overflow_x": null,
            "overflow_y": null,
            "padding": null,
            "right": null,
            "top": null,
            "visibility": null,
            "width": null
          }
        },
        "40d51bcfeb1a49e38504e9b888e1dee2": {
          "model_module": "@jupyter-widgets/base",
          "model_name": "LayoutModel",
          "model_module_version": "1.2.0",
          "state": {
            "_model_module": "@jupyter-widgets/base",
            "_model_module_version": "1.2.0",
            "_model_name": "LayoutModel",
            "_view_count": null,
            "_view_module": "@jupyter-widgets/base",
            "_view_module_version": "1.2.0",
            "_view_name": "LayoutView",
            "align_content": null,
            "align_items": null,
            "align_self": null,
            "border": null,
            "bottom": null,
            "display": null,
            "flex": null,
            "flex_flow": null,
            "grid_area": null,
            "grid_auto_columns": null,
            "grid_auto_flow": null,
            "grid_auto_rows": null,
            "grid_column": null,
            "grid_gap": null,
            "grid_row": null,
            "grid_template_areas": null,
            "grid_template_columns": null,
            "grid_template_rows": null,
            "height": null,
            "justify_content": null,
            "justify_items": null,
            "left": null,
            "margin": null,
            "max_height": null,
            "max_width": null,
            "min_height": null,
            "min_width": null,
            "object_fit": null,
            "object_position": null,
            "order": null,
            "overflow": null,
            "overflow_x": null,
            "overflow_y": null,
            "padding": null,
            "right": null,
            "top": null,
            "visibility": null,
            "width": null
          }
        },
        "be1d5fa123cd4c34a8717e61315f9e13": {
          "model_module": "@jupyter-widgets/controls",
          "model_name": "DescriptionStyleModel",
          "model_module_version": "1.5.0",
          "state": {
            "_model_module": "@jupyter-widgets/controls",
            "_model_module_version": "1.5.0",
            "_model_name": "DescriptionStyleModel",
            "_view_count": null,
            "_view_module": "@jupyter-widgets/base",
            "_view_module_version": "1.2.0",
            "_view_name": "StyleView",
            "description_width": ""
          }
        },
        "e3bf789d46824ea6ad4dd69c0ac16383": {
          "model_module": "@jupyter-widgets/base",
          "model_name": "LayoutModel",
          "model_module_version": "1.2.0",
          "state": {
            "_model_module": "@jupyter-widgets/base",
            "_model_module_version": "1.2.0",
            "_model_name": "LayoutModel",
            "_view_count": null,
            "_view_module": "@jupyter-widgets/base",
            "_view_module_version": "1.2.0",
            "_view_name": "LayoutView",
            "align_content": null,
            "align_items": null,
            "align_self": null,
            "border": null,
            "bottom": null,
            "display": null,
            "flex": null,
            "flex_flow": null,
            "grid_area": null,
            "grid_auto_columns": null,
            "grid_auto_flow": null,
            "grid_auto_rows": null,
            "grid_column": null,
            "grid_gap": null,
            "grid_row": null,
            "grid_template_areas": null,
            "grid_template_columns": null,
            "grid_template_rows": null,
            "height": null,
            "justify_content": null,
            "justify_items": null,
            "left": null,
            "margin": null,
            "max_height": null,
            "max_width": null,
            "min_height": null,
            "min_width": null,
            "object_fit": null,
            "object_position": null,
            "order": null,
            "overflow": null,
            "overflow_x": null,
            "overflow_y": null,
            "padding": null,
            "right": null,
            "top": null,
            "visibility": null,
            "width": null
          }
        },
        "cd68703d82f64eeaa7a77f4d23013786": {
          "model_module": "@jupyter-widgets/controls",
          "model_name": "ProgressStyleModel",
          "model_module_version": "1.5.0",
          "state": {
            "_model_module": "@jupyter-widgets/controls",
            "_model_module_version": "1.5.0",
            "_model_name": "ProgressStyleModel",
            "_view_count": null,
            "_view_module": "@jupyter-widgets/base",
            "_view_module_version": "1.2.0",
            "_view_name": "StyleView",
            "bar_color": null,
            "description_width": ""
          }
        },
        "692ec219355b4573a4a0d13303f122ae": {
          "model_module": "@jupyter-widgets/base",
          "model_name": "LayoutModel",
          "model_module_version": "1.2.0",
          "state": {
            "_model_module": "@jupyter-widgets/base",
            "_model_module_version": "1.2.0",
            "_model_name": "LayoutModel",
            "_view_count": null,
            "_view_module": "@jupyter-widgets/base",
            "_view_module_version": "1.2.0",
            "_view_name": "LayoutView",
            "align_content": null,
            "align_items": null,
            "align_self": null,
            "border": null,
            "bottom": null,
            "display": null,
            "flex": null,
            "flex_flow": null,
            "grid_area": null,
            "grid_auto_columns": null,
            "grid_auto_flow": null,
            "grid_auto_rows": null,
            "grid_column": null,
            "grid_gap": null,
            "grid_row": null,
            "grid_template_areas": null,
            "grid_template_columns": null,
            "grid_template_rows": null,
            "height": null,
            "justify_content": null,
            "justify_items": null,
            "left": null,
            "margin": null,
            "max_height": null,
            "max_width": null,
            "min_height": null,
            "min_width": null,
            "object_fit": null,
            "object_position": null,
            "order": null,
            "overflow": null,
            "overflow_x": null,
            "overflow_y": null,
            "padding": null,
            "right": null,
            "top": null,
            "visibility": null,
            "width": null
          }
        },
        "ff56ed23e3244c4b923fae8f52691795": {
          "model_module": "@jupyter-widgets/controls",
          "model_name": "DescriptionStyleModel",
          "model_module_version": "1.5.0",
          "state": {
            "_model_module": "@jupyter-widgets/controls",
            "_model_module_version": "1.5.0",
            "_model_name": "DescriptionStyleModel",
            "_view_count": null,
            "_view_module": "@jupyter-widgets/base",
            "_view_module_version": "1.2.0",
            "_view_name": "StyleView",
            "description_width": ""
          }
        },
        "f40a1053f35f4b39b532bf7c32a79236": {
          "model_module": "@jupyter-widgets/controls",
          "model_name": "HBoxModel",
          "model_module_version": "1.5.0",
          "state": {
            "_dom_classes": [],
            "_model_module": "@jupyter-widgets/controls",
            "_model_module_version": "1.5.0",
            "_model_name": "HBoxModel",
            "_view_count": null,
            "_view_module": "@jupyter-widgets/controls",
            "_view_module_version": "1.5.0",
            "_view_name": "HBoxView",
            "box_style": "",
            "children": [
              "IPY_MODEL_6fb0f130d913447995df5ed375d3e172",
              "IPY_MODEL_365b949b4ea740bf8202c1b104e82a02",
              "IPY_MODEL_92ea7e77b1f1496899eb8016750ac566"
            ],
            "layout": "IPY_MODEL_a10331949f6e4f36a1527bbff1be03f8"
          }
        },
        "6fb0f130d913447995df5ed375d3e172": {
          "model_module": "@jupyter-widgets/controls",
          "model_name": "HTMLModel",
          "model_module_version": "1.5.0",
          "state": {
            "_dom_classes": [],
            "_model_module": "@jupyter-widgets/controls",
            "_model_module_version": "1.5.0",
            "_model_name": "HTMLModel",
            "_view_count": null,
            "_view_module": "@jupyter-widgets/controls",
            "_view_module_version": "1.5.0",
            "_view_name": "HTMLView",
            "description": "",
            "description_tooltip": null,
            "layout": "IPY_MODEL_33bb9b09ed0e46d68eafa60b78701023",
            "placeholder": "​",
            "style": "IPY_MODEL_ce094e55fc4442c586a09c29fd0fbc09",
            "value": "spiece.model: 100%"
          }
        },
        "365b949b4ea740bf8202c1b104e82a02": {
          "model_module": "@jupyter-widgets/controls",
          "model_name": "FloatProgressModel",
          "model_module_version": "1.5.0",
          "state": {
            "_dom_classes": [],
            "_model_module": "@jupyter-widgets/controls",
            "_model_module_version": "1.5.0",
            "_model_name": "FloatProgressModel",
            "_view_count": null,
            "_view_module": "@jupyter-widgets/controls",
            "_view_module_version": "1.5.0",
            "_view_name": "ProgressView",
            "bar_style": "success",
            "description": "",
            "description_tooltip": null,
            "layout": "IPY_MODEL_2898390bc94c4a899ce1b02e74f33f31",
            "max": 798011,
            "min": 0,
            "orientation": "horizontal",
            "style": "IPY_MODEL_53e32813a0a3450e8ef53244da0bde83",
            "value": 798011
          }
        },
        "92ea7e77b1f1496899eb8016750ac566": {
          "model_module": "@jupyter-widgets/controls",
          "model_name": "HTMLModel",
          "model_module_version": "1.5.0",
          "state": {
            "_dom_classes": [],
            "_model_module": "@jupyter-widgets/controls",
            "_model_module_version": "1.5.0",
            "_model_name": "HTMLModel",
            "_view_count": null,
            "_view_module": "@jupyter-widgets/controls",
            "_view_module_version": "1.5.0",
            "_view_name": "HTMLView",
            "description": "",
            "description_tooltip": null,
            "layout": "IPY_MODEL_faae9f2ae54e40faa1e0408654238e01",
            "placeholder": "​",
            "style": "IPY_MODEL_b33cfae599e548109b20ab14d32de8ab",
            "value": " 798k/798k [00:00&lt;00:00, 25.7MB/s]"
          }
        },
        "a10331949f6e4f36a1527bbff1be03f8": {
          "model_module": "@jupyter-widgets/base",
          "model_name": "LayoutModel",
          "model_module_version": "1.2.0",
          "state": {
            "_model_module": "@jupyter-widgets/base",
            "_model_module_version": "1.2.0",
            "_model_name": "LayoutModel",
            "_view_count": null,
            "_view_module": "@jupyter-widgets/base",
            "_view_module_version": "1.2.0",
            "_view_name": "LayoutView",
            "align_content": null,
            "align_items": null,
            "align_self": null,
            "border": null,
            "bottom": null,
            "display": null,
            "flex": null,
            "flex_flow": null,
            "grid_area": null,
            "grid_auto_columns": null,
            "grid_auto_flow": null,
            "grid_auto_rows": null,
            "grid_column": null,
            "grid_gap": null,
            "grid_row": null,
            "grid_template_areas": null,
            "grid_template_columns": null,
            "grid_template_rows": null,
            "height": null,
            "justify_content": null,
            "justify_items": null,
            "left": null,
            "margin": null,
            "max_height": null,
            "max_width": null,
            "min_height": null,
            "min_width": null,
            "object_fit": null,
            "object_position": null,
            "order": null,
            "overflow": null,
            "overflow_x": null,
            "overflow_y": null,
            "padding": null,
            "right": null,
            "top": null,
            "visibility": null,
            "width": null
          }
        },
        "33bb9b09ed0e46d68eafa60b78701023": {
          "model_module": "@jupyter-widgets/base",
          "model_name": "LayoutModel",
          "model_module_version": "1.2.0",
          "state": {
            "_model_module": "@jupyter-widgets/base",
            "_model_module_version": "1.2.0",
            "_model_name": "LayoutModel",
            "_view_count": null,
            "_view_module": "@jupyter-widgets/base",
            "_view_module_version": "1.2.0",
            "_view_name": "LayoutView",
            "align_content": null,
            "align_items": null,
            "align_self": null,
            "border": null,
            "bottom": null,
            "display": null,
            "flex": null,
            "flex_flow": null,
            "grid_area": null,
            "grid_auto_columns": null,
            "grid_auto_flow": null,
            "grid_auto_rows": null,
            "grid_column": null,
            "grid_gap": null,
            "grid_row": null,
            "grid_template_areas": null,
            "grid_template_columns": null,
            "grid_template_rows": null,
            "height": null,
            "justify_content": null,
            "justify_items": null,
            "left": null,
            "margin": null,
            "max_height": null,
            "max_width": null,
            "min_height": null,
            "min_width": null,
            "object_fit": null,
            "object_position": null,
            "order": null,
            "overflow": null,
            "overflow_x": null,
            "overflow_y": null,
            "padding": null,
            "right": null,
            "top": null,
            "visibility": null,
            "width": null
          }
        },
        "ce094e55fc4442c586a09c29fd0fbc09": {
          "model_module": "@jupyter-widgets/controls",
          "model_name": "DescriptionStyleModel",
          "model_module_version": "1.5.0",
          "state": {
            "_model_module": "@jupyter-widgets/controls",
            "_model_module_version": "1.5.0",
            "_model_name": "DescriptionStyleModel",
            "_view_count": null,
            "_view_module": "@jupyter-widgets/base",
            "_view_module_version": "1.2.0",
            "_view_name": "StyleView",
            "description_width": ""
          }
        },
        "2898390bc94c4a899ce1b02e74f33f31": {
          "model_module": "@jupyter-widgets/base",
          "model_name": "LayoutModel",
          "model_module_version": "1.2.0",
          "state": {
            "_model_module": "@jupyter-widgets/base",
            "_model_module_version": "1.2.0",
            "_model_name": "LayoutModel",
            "_view_count": null,
            "_view_module": "@jupyter-widgets/base",
            "_view_module_version": "1.2.0",
            "_view_name": "LayoutView",
            "align_content": null,
            "align_items": null,
            "align_self": null,
            "border": null,
            "bottom": null,
            "display": null,
            "flex": null,
            "flex_flow": null,
            "grid_area": null,
            "grid_auto_columns": null,
            "grid_auto_flow": null,
            "grid_auto_rows": null,
            "grid_column": null,
            "grid_gap": null,
            "grid_row": null,
            "grid_template_areas": null,
            "grid_template_columns": null,
            "grid_template_rows": null,
            "height": null,
            "justify_content": null,
            "justify_items": null,
            "left": null,
            "margin": null,
            "max_height": null,
            "max_width": null,
            "min_height": null,
            "min_width": null,
            "object_fit": null,
            "object_position": null,
            "order": null,
            "overflow": null,
            "overflow_x": null,
            "overflow_y": null,
            "padding": null,
            "right": null,
            "top": null,
            "visibility": null,
            "width": null
          }
        },
        "53e32813a0a3450e8ef53244da0bde83": {
          "model_module": "@jupyter-widgets/controls",
          "model_name": "ProgressStyleModel",
          "model_module_version": "1.5.0",
          "state": {
            "_model_module": "@jupyter-widgets/controls",
            "_model_module_version": "1.5.0",
            "_model_name": "ProgressStyleModel",
            "_view_count": null,
            "_view_module": "@jupyter-widgets/base",
            "_view_module_version": "1.2.0",
            "_view_name": "StyleView",
            "bar_color": null,
            "description_width": ""
          }
        },
        "faae9f2ae54e40faa1e0408654238e01": {
          "model_module": "@jupyter-widgets/base",
          "model_name": "LayoutModel",
          "model_module_version": "1.2.0",
          "state": {
            "_model_module": "@jupyter-widgets/base",
            "_model_module_version": "1.2.0",
            "_model_name": "LayoutModel",
            "_view_count": null,
            "_view_module": "@jupyter-widgets/base",
            "_view_module_version": "1.2.0",
            "_view_name": "LayoutView",
            "align_content": null,
            "align_items": null,
            "align_self": null,
            "border": null,
            "bottom": null,
            "display": null,
            "flex": null,
            "flex_flow": null,
            "grid_area": null,
            "grid_auto_columns": null,
            "grid_auto_flow": null,
            "grid_auto_rows": null,
            "grid_column": null,
            "grid_gap": null,
            "grid_row": null,
            "grid_template_areas": null,
            "grid_template_columns": null,
            "grid_template_rows": null,
            "height": null,
            "justify_content": null,
            "justify_items": null,
            "left": null,
            "margin": null,
            "max_height": null,
            "max_width": null,
            "min_height": null,
            "min_width": null,
            "object_fit": null,
            "object_position": null,
            "order": null,
            "overflow": null,
            "overflow_x": null,
            "overflow_y": null,
            "padding": null,
            "right": null,
            "top": null,
            "visibility": null,
            "width": null
          }
        },
        "b33cfae599e548109b20ab14d32de8ab": {
          "model_module": "@jupyter-widgets/controls",
          "model_name": "DescriptionStyleModel",
          "model_module_version": "1.5.0",
          "state": {
            "_model_module": "@jupyter-widgets/controls",
            "_model_module_version": "1.5.0",
            "_model_name": "DescriptionStyleModel",
            "_view_count": null,
            "_view_module": "@jupyter-widgets/base",
            "_view_module_version": "1.2.0",
            "_view_name": "StyleView",
            "description_width": ""
          }
        },
        "5a637aad4c044c84b9f5fc36b28e2564": {
          "model_module": "@jupyter-widgets/controls",
          "model_name": "HBoxModel",
          "model_module_version": "1.5.0",
          "state": {
            "_dom_classes": [],
            "_model_module": "@jupyter-widgets/controls",
            "_model_module_version": "1.5.0",
            "_model_name": "HBoxModel",
            "_view_count": null,
            "_view_module": "@jupyter-widgets/controls",
            "_view_module_version": "1.5.0",
            "_view_name": "HBoxView",
            "box_style": "",
            "children": [
              "IPY_MODEL_440d05b3677c4da7bd7bf190c95e515a",
              "IPY_MODEL_4271cd8d737744d1a57e8068901c0e11",
              "IPY_MODEL_2daf98930cc14ab3b99e10d0eaef7556"
            ],
            "layout": "IPY_MODEL_13728d02bfc94692a4df89ba3ef420b4"
          }
        },
        "440d05b3677c4da7bd7bf190c95e515a": {
          "model_module": "@jupyter-widgets/controls",
          "model_name": "HTMLModel",
          "model_module_version": "1.5.0",
          "state": {
            "_dom_classes": [],
            "_model_module": "@jupyter-widgets/controls",
            "_model_module_version": "1.5.0",
            "_model_name": "HTMLModel",
            "_view_count": null,
            "_view_module": "@jupyter-widgets/controls",
            "_view_module_version": "1.5.0",
            "_view_name": "HTMLView",
            "description": "",
            "description_tooltip": null,
            "layout": "IPY_MODEL_88a305bd1669450aba88e9041fdd0a92",
            "placeholder": "​",
            "style": "IPY_MODEL_544a7bcb71604131af8da75980f6a881",
            "value": "tokenizer.json: 100%"
          }
        },
        "4271cd8d737744d1a57e8068901c0e11": {
          "model_module": "@jupyter-widgets/controls",
          "model_name": "FloatProgressModel",
          "model_module_version": "1.5.0",
          "state": {
            "_dom_classes": [],
            "_model_module": "@jupyter-widgets/controls",
            "_model_module_version": "1.5.0",
            "_model_name": "FloatProgressModel",
            "_view_count": null,
            "_view_module": "@jupyter-widgets/controls",
            "_view_module_version": "1.5.0",
            "_view_name": "ProgressView",
            "bar_style": "success",
            "description": "",
            "description_tooltip": null,
            "layout": "IPY_MODEL_a219565c70334737b1f2a4d45dbf9d15",
            "max": 1382015,
            "min": 0,
            "orientation": "horizontal",
            "style": "IPY_MODEL_03dcaced1894422da66debc2eace7d6f",
            "value": 1382015
          }
        },
        "2daf98930cc14ab3b99e10d0eaef7556": {
          "model_module": "@jupyter-widgets/controls",
          "model_name": "HTMLModel",
          "model_module_version": "1.5.0",
          "state": {
            "_dom_classes": [],
            "_model_module": "@jupyter-widgets/controls",
            "_model_module_version": "1.5.0",
            "_model_name": "HTMLModel",
            "_view_count": null,
            "_view_module": "@jupyter-widgets/controls",
            "_view_module_version": "1.5.0",
            "_view_name": "HTMLView",
            "description": "",
            "description_tooltip": null,
            "layout": "IPY_MODEL_a2dcc5becbfd478e8b0958df13dbc103",
            "placeholder": "​",
            "style": "IPY_MODEL_4bdd6fea7a1246858ec94ac8126fc1e4",
            "value": " 1.38M/1.38M [00:00&lt;00:00, 7.23MB/s]"
          }
        },
        "13728d02bfc94692a4df89ba3ef420b4": {
          "model_module": "@jupyter-widgets/base",
          "model_name": "LayoutModel",
          "model_module_version": "1.2.0",
          "state": {
            "_model_module": "@jupyter-widgets/base",
            "_model_module_version": "1.2.0",
            "_model_name": "LayoutModel",
            "_view_count": null,
            "_view_module": "@jupyter-widgets/base",
            "_view_module_version": "1.2.0",
            "_view_name": "LayoutView",
            "align_content": null,
            "align_items": null,
            "align_self": null,
            "border": null,
            "bottom": null,
            "display": null,
            "flex": null,
            "flex_flow": null,
            "grid_area": null,
            "grid_auto_columns": null,
            "grid_auto_flow": null,
            "grid_auto_rows": null,
            "grid_column": null,
            "grid_gap": null,
            "grid_row": null,
            "grid_template_areas": null,
            "grid_template_columns": null,
            "grid_template_rows": null,
            "height": null,
            "justify_content": null,
            "justify_items": null,
            "left": null,
            "margin": null,
            "max_height": null,
            "max_width": null,
            "min_height": null,
            "min_width": null,
            "object_fit": null,
            "object_position": null,
            "order": null,
            "overflow": null,
            "overflow_x": null,
            "overflow_y": null,
            "padding": null,
            "right": null,
            "top": null,
            "visibility": null,
            "width": null
          }
        },
        "88a305bd1669450aba88e9041fdd0a92": {
          "model_module": "@jupyter-widgets/base",
          "model_name": "LayoutModel",
          "model_module_version": "1.2.0",
          "state": {
            "_model_module": "@jupyter-widgets/base",
            "_model_module_version": "1.2.0",
            "_model_name": "LayoutModel",
            "_view_count": null,
            "_view_module": "@jupyter-widgets/base",
            "_view_module_version": "1.2.0",
            "_view_name": "LayoutView",
            "align_content": null,
            "align_items": null,
            "align_self": null,
            "border": null,
            "bottom": null,
            "display": null,
            "flex": null,
            "flex_flow": null,
            "grid_area": null,
            "grid_auto_columns": null,
            "grid_auto_flow": null,
            "grid_auto_rows": null,
            "grid_column": null,
            "grid_gap": null,
            "grid_row": null,
            "grid_template_areas": null,
            "grid_template_columns": null,
            "grid_template_rows": null,
            "height": null,
            "justify_content": null,
            "justify_items": null,
            "left": null,
            "margin": null,
            "max_height": null,
            "max_width": null,
            "min_height": null,
            "min_width": null,
            "object_fit": null,
            "object_position": null,
            "order": null,
            "overflow": null,
            "overflow_x": null,
            "overflow_y": null,
            "padding": null,
            "right": null,
            "top": null,
            "visibility": null,
            "width": null
          }
        },
        "544a7bcb71604131af8da75980f6a881": {
          "model_module": "@jupyter-widgets/controls",
          "model_name": "DescriptionStyleModel",
          "model_module_version": "1.5.0",
          "state": {
            "_model_module": "@jupyter-widgets/controls",
            "_model_module_version": "1.5.0",
            "_model_name": "DescriptionStyleModel",
            "_view_count": null,
            "_view_module": "@jupyter-widgets/base",
            "_view_module_version": "1.2.0",
            "_view_name": "StyleView",
            "description_width": ""
          }
        },
        "a219565c70334737b1f2a4d45dbf9d15": {
          "model_module": "@jupyter-widgets/base",
          "model_name": "LayoutModel",
          "model_module_version": "1.2.0",
          "state": {
            "_model_module": "@jupyter-widgets/base",
            "_model_module_version": "1.2.0",
            "_model_name": "LayoutModel",
            "_view_count": null,
            "_view_module": "@jupyter-widgets/base",
            "_view_module_version": "1.2.0",
            "_view_name": "LayoutView",
            "align_content": null,
            "align_items": null,
            "align_self": null,
            "border": null,
            "bottom": null,
            "display": null,
            "flex": null,
            "flex_flow": null,
            "grid_area": null,
            "grid_auto_columns": null,
            "grid_auto_flow": null,
            "grid_auto_rows": null,
            "grid_column": null,
            "grid_gap": null,
            "grid_row": null,
            "grid_template_areas": null,
            "grid_template_columns": null,
            "grid_template_rows": null,
            "height": null,
            "justify_content": null,
            "justify_items": null,
            "left": null,
            "margin": null,
            "max_height": null,
            "max_width": null,
            "min_height": null,
            "min_width": null,
            "object_fit": null,
            "object_position": null,
            "order": null,
            "overflow": null,
            "overflow_x": null,
            "overflow_y": null,
            "padding": null,
            "right": null,
            "top": null,
            "visibility": null,
            "width": null
          }
        },
        "03dcaced1894422da66debc2eace7d6f": {
          "model_module": "@jupyter-widgets/controls",
          "model_name": "ProgressStyleModel",
          "model_module_version": "1.5.0",
          "state": {
            "_model_module": "@jupyter-widgets/controls",
            "_model_module_version": "1.5.0",
            "_model_name": "ProgressStyleModel",
            "_view_count": null,
            "_view_module": "@jupyter-widgets/base",
            "_view_module_version": "1.2.0",
            "_view_name": "StyleView",
            "bar_color": null,
            "description_width": ""
          }
        },
        "a2dcc5becbfd478e8b0958df13dbc103": {
          "model_module": "@jupyter-widgets/base",
          "model_name": "LayoutModel",
          "model_module_version": "1.2.0",
          "state": {
            "_model_module": "@jupyter-widgets/base",
            "_model_module_version": "1.2.0",
            "_model_name": "LayoutModel",
            "_view_count": null,
            "_view_module": "@jupyter-widgets/base",
            "_view_module_version": "1.2.0",
            "_view_name": "LayoutView",
            "align_content": null,
            "align_items": null,
            "align_self": null,
            "border": null,
            "bottom": null,
            "display": null,
            "flex": null,
            "flex_flow": null,
            "grid_area": null,
            "grid_auto_columns": null,
            "grid_auto_flow": null,
            "grid_auto_rows": null,
            "grid_column": null,
            "grid_gap": null,
            "grid_row": null,
            "grid_template_areas": null,
            "grid_template_columns": null,
            "grid_template_rows": null,
            "height": null,
            "justify_content": null,
            "justify_items": null,
            "left": null,
            "margin": null,
            "max_height": null,
            "max_width": null,
            "min_height": null,
            "min_width": null,
            "object_fit": null,
            "object_position": null,
            "order": null,
            "overflow": null,
            "overflow_x": null,
            "overflow_y": null,
            "padding": null,
            "right": null,
            "top": null,
            "visibility": null,
            "width": null
          }
        },
        "4bdd6fea7a1246858ec94ac8126fc1e4": {
          "model_module": "@jupyter-widgets/controls",
          "model_name": "DescriptionStyleModel",
          "model_module_version": "1.5.0",
          "state": {
            "_model_module": "@jupyter-widgets/controls",
            "_model_module_version": "1.5.0",
            "_model_name": "DescriptionStyleModel",
            "_view_count": null,
            "_view_module": "@jupyter-widgets/base",
            "_view_module_version": "1.2.0",
            "_view_name": "StyleView",
            "description_width": ""
          }
        },
        "6eb3c4ef50194cb595e9baedd722d154": {
          "model_module": "@jupyter-widgets/controls",
          "model_name": "HBoxModel",
          "model_module_version": "1.5.0",
          "state": {
            "_dom_classes": [],
            "_model_module": "@jupyter-widgets/controls",
            "_model_module_version": "1.5.0",
            "_model_name": "HBoxModel",
            "_view_count": null,
            "_view_module": "@jupyter-widgets/controls",
            "_view_module_version": "1.5.0",
            "_view_name": "HBoxView",
            "box_style": "",
            "children": [
              "IPY_MODEL_46b9472f4ec9456ea514058eb0e834d5",
              "IPY_MODEL_9f6a1c24c86b4727bf05aee464e98fa4",
              "IPY_MODEL_62a9faacb72e4e4c8fd352de752d269d"
            ],
            "layout": "IPY_MODEL_56f0773f6d424e7f99acf0bdc283e30c"
          }
        },
        "46b9472f4ec9456ea514058eb0e834d5": {
          "model_module": "@jupyter-widgets/controls",
          "model_name": "HTMLModel",
          "model_module_version": "1.5.0",
          "state": {
            "_dom_classes": [],
            "_model_module": "@jupyter-widgets/controls",
            "_model_module_version": "1.5.0",
            "_model_name": "HTMLModel",
            "_view_count": null,
            "_view_module": "@jupyter-widgets/controls",
            "_view_module_version": "1.5.0",
            "_view_name": "HTMLView",
            "description": "",
            "description_tooltip": null,
            "layout": "IPY_MODEL_d88396c7918c49dca08c6024773e067e",
            "placeholder": "​",
            "style": "IPY_MODEL_3d8cc9e3e4c34361a201338d0ac8f831",
            "value": "config.json: 100%"
          }
        },
        "9f6a1c24c86b4727bf05aee464e98fa4": {
          "model_module": "@jupyter-widgets/controls",
          "model_name": "FloatProgressModel",
          "model_module_version": "1.5.0",
          "state": {
            "_dom_classes": [],
            "_model_module": "@jupyter-widgets/controls",
            "_model_module_version": "1.5.0",
            "_model_name": "FloatProgressModel",
            "_view_count": null,
            "_view_module": "@jupyter-widgets/controls",
            "_view_module_version": "1.5.0",
            "_view_name": "ProgressView",
            "bar_style": "success",
            "description": "",
            "description_tooltip": null,
            "layout": "IPY_MODEL_decd3458f34d471aa963c504f31d7ca4",
            "max": 760,
            "min": 0,
            "orientation": "horizontal",
            "style": "IPY_MODEL_71b181812443461585e0874512bc56a3",
            "value": 760
          }
        },
        "62a9faacb72e4e4c8fd352de752d269d": {
          "model_module": "@jupyter-widgets/controls",
          "model_name": "HTMLModel",
          "model_module_version": "1.5.0",
          "state": {
            "_dom_classes": [],
            "_model_module": "@jupyter-widgets/controls",
            "_model_module_version": "1.5.0",
            "_model_name": "HTMLModel",
            "_view_count": null,
            "_view_module": "@jupyter-widgets/controls",
            "_view_module_version": "1.5.0",
            "_view_name": "HTMLView",
            "description": "",
            "description_tooltip": null,
            "layout": "IPY_MODEL_1cc2ae1ea58346d9aa3377cd4af317e0",
            "placeholder": "​",
            "style": "IPY_MODEL_abfefb4ceeb240be899ec691c51bcf5e",
            "value": " 760/760 [00:00&lt;00:00, 17.9kB/s]"
          }
        },
        "56f0773f6d424e7f99acf0bdc283e30c": {
          "model_module": "@jupyter-widgets/base",
          "model_name": "LayoutModel",
          "model_module_version": "1.2.0",
          "state": {
            "_model_module": "@jupyter-widgets/base",
            "_model_module_version": "1.2.0",
            "_model_name": "LayoutModel",
            "_view_count": null,
            "_view_module": "@jupyter-widgets/base",
            "_view_module_version": "1.2.0",
            "_view_name": "LayoutView",
            "align_content": null,
            "align_items": null,
            "align_self": null,
            "border": null,
            "bottom": null,
            "display": null,
            "flex": null,
            "flex_flow": null,
            "grid_area": null,
            "grid_auto_columns": null,
            "grid_auto_flow": null,
            "grid_auto_rows": null,
            "grid_column": null,
            "grid_gap": null,
            "grid_row": null,
            "grid_template_areas": null,
            "grid_template_columns": null,
            "grid_template_rows": null,
            "height": null,
            "justify_content": null,
            "justify_items": null,
            "left": null,
            "margin": null,
            "max_height": null,
            "max_width": null,
            "min_height": null,
            "min_width": null,
            "object_fit": null,
            "object_position": null,
            "order": null,
            "overflow": null,
            "overflow_x": null,
            "overflow_y": null,
            "padding": null,
            "right": null,
            "top": null,
            "visibility": null,
            "width": null
          }
        },
        "d88396c7918c49dca08c6024773e067e": {
          "model_module": "@jupyter-widgets/base",
          "model_name": "LayoutModel",
          "model_module_version": "1.2.0",
          "state": {
            "_model_module": "@jupyter-widgets/base",
            "_model_module_version": "1.2.0",
            "_model_name": "LayoutModel",
            "_view_count": null,
            "_view_module": "@jupyter-widgets/base",
            "_view_module_version": "1.2.0",
            "_view_name": "LayoutView",
            "align_content": null,
            "align_items": null,
            "align_self": null,
            "border": null,
            "bottom": null,
            "display": null,
            "flex": null,
            "flex_flow": null,
            "grid_area": null,
            "grid_auto_columns": null,
            "grid_auto_flow": null,
            "grid_auto_rows": null,
            "grid_column": null,
            "grid_gap": null,
            "grid_row": null,
            "grid_template_areas": null,
            "grid_template_columns": null,
            "grid_template_rows": null,
            "height": null,
            "justify_content": null,
            "justify_items": null,
            "left": null,
            "margin": null,
            "max_height": null,
            "max_width": null,
            "min_height": null,
            "min_width": null,
            "object_fit": null,
            "object_position": null,
            "order": null,
            "overflow": null,
            "overflow_x": null,
            "overflow_y": null,
            "padding": null,
            "right": null,
            "top": null,
            "visibility": null,
            "width": null
          }
        },
        "3d8cc9e3e4c34361a201338d0ac8f831": {
          "model_module": "@jupyter-widgets/controls",
          "model_name": "DescriptionStyleModel",
          "model_module_version": "1.5.0",
          "state": {
            "_model_module": "@jupyter-widgets/controls",
            "_model_module_version": "1.5.0",
            "_model_name": "DescriptionStyleModel",
            "_view_count": null,
            "_view_module": "@jupyter-widgets/base",
            "_view_module_version": "1.2.0",
            "_view_name": "StyleView",
            "description_width": ""
          }
        },
        "decd3458f34d471aa963c504f31d7ca4": {
          "model_module": "@jupyter-widgets/base",
          "model_name": "LayoutModel",
          "model_module_version": "1.2.0",
          "state": {
            "_model_module": "@jupyter-widgets/base",
            "_model_module_version": "1.2.0",
            "_model_name": "LayoutModel",
            "_view_count": null,
            "_view_module": "@jupyter-widgets/base",
            "_view_module_version": "1.2.0",
            "_view_name": "LayoutView",
            "align_content": null,
            "align_items": null,
            "align_self": null,
            "border": null,
            "bottom": null,
            "display": null,
            "flex": null,
            "flex_flow": null,
            "grid_area": null,
            "grid_auto_columns": null,
            "grid_auto_flow": null,
            "grid_auto_rows": null,
            "grid_column": null,
            "grid_gap": null,
            "grid_row": null,
            "grid_template_areas": null,
            "grid_template_columns": null,
            "grid_template_rows": null,
            "height": null,
            "justify_content": null,
            "justify_items": null,
            "left": null,
            "margin": null,
            "max_height": null,
            "max_width": null,
            "min_height": null,
            "min_width": null,
            "object_fit": null,
            "object_position": null,
            "order": null,
            "overflow": null,
            "overflow_x": null,
            "overflow_y": null,
            "padding": null,
            "right": null,
            "top": null,
            "visibility": null,
            "width": null
          }
        },
        "71b181812443461585e0874512bc56a3": {
          "model_module": "@jupyter-widgets/controls",
          "model_name": "ProgressStyleModel",
          "model_module_version": "1.5.0",
          "state": {
            "_model_module": "@jupyter-widgets/controls",
            "_model_module_version": "1.5.0",
            "_model_name": "ProgressStyleModel",
            "_view_count": null,
            "_view_module": "@jupyter-widgets/base",
            "_view_module_version": "1.2.0",
            "_view_name": "StyleView",
            "bar_color": null,
            "description_width": ""
          }
        },
        "1cc2ae1ea58346d9aa3377cd4af317e0": {
          "model_module": "@jupyter-widgets/base",
          "model_name": "LayoutModel",
          "model_module_version": "1.2.0",
          "state": {
            "_model_module": "@jupyter-widgets/base",
            "_model_module_version": "1.2.0",
            "_model_name": "LayoutModel",
            "_view_count": null,
            "_view_module": "@jupyter-widgets/base",
            "_view_module_version": "1.2.0",
            "_view_name": "LayoutView",
            "align_content": null,
            "align_items": null,
            "align_self": null,
            "border": null,
            "bottom": null,
            "display": null,
            "flex": null,
            "flex_flow": null,
            "grid_area": null,
            "grid_auto_columns": null,
            "grid_auto_flow": null,
            "grid_auto_rows": null,
            "grid_column": null,
            "grid_gap": null,
            "grid_row": null,
            "grid_template_areas": null,
            "grid_template_columns": null,
            "grid_template_rows": null,
            "height": null,
            "justify_content": null,
            "justify_items": null,
            "left": null,
            "margin": null,
            "max_height": null,
            "max_width": null,
            "min_height": null,
            "min_width": null,
            "object_fit": null,
            "object_position": null,
            "order": null,
            "overflow": null,
            "overflow_x": null,
            "overflow_y": null,
            "padding": null,
            "right": null,
            "top": null,
            "visibility": null,
            "width": null
          }
        },
        "abfefb4ceeb240be899ec691c51bcf5e": {
          "model_module": "@jupyter-widgets/controls",
          "model_name": "DescriptionStyleModel",
          "model_module_version": "1.5.0",
          "state": {
            "_model_module": "@jupyter-widgets/controls",
            "_model_module_version": "1.5.0",
            "_model_name": "DescriptionStyleModel",
            "_view_count": null,
            "_view_module": "@jupyter-widgets/base",
            "_view_module_version": "1.2.0",
            "_view_name": "StyleView",
            "description_width": ""
          }
        },
        "e97b57d9c3c244f087f75dc3aae83af1": {
          "model_module": "@jupyter-widgets/controls",
          "model_name": "HBoxModel",
          "model_module_version": "1.5.0",
          "state": {
            "_dom_classes": [],
            "_model_module": "@jupyter-widgets/controls",
            "_model_module_version": "1.5.0",
            "_model_name": "HBoxModel",
            "_view_count": null,
            "_view_module": "@jupyter-widgets/controls",
            "_view_module_version": "1.5.0",
            "_view_name": "HBoxView",
            "box_style": "",
            "children": [
              "IPY_MODEL_6671f419e0a74027bcce775eccc75efb",
              "IPY_MODEL_d15102d346e8462cb029db86c5d039b1",
              "IPY_MODEL_d60d93d9b7634754b261b791bebfea19"
            ],
            "layout": "IPY_MODEL_d26d106311c0413da8c2fb2b0cefd710"
          }
        },
        "6671f419e0a74027bcce775eccc75efb": {
          "model_module": "@jupyter-widgets/controls",
          "model_name": "HTMLModel",
          "model_module_version": "1.5.0",
          "state": {
            "_dom_classes": [],
            "_model_module": "@jupyter-widgets/controls",
            "_model_module_version": "1.5.0",
            "_model_name": "HTMLModel",
            "_view_count": null,
            "_view_module": "@jupyter-widgets/controls",
            "_view_module_version": "1.5.0",
            "_view_name": "HTMLView",
            "description": "",
            "description_tooltip": null,
            "layout": "IPY_MODEL_6e329eceb8d545309dc0312a6ac98715",
            "placeholder": "​",
            "style": "IPY_MODEL_153a7a5b9af44b0bbe11fee9d713d003",
            "value": "tokenizer_config.json: 100%"
          }
        },
        "d15102d346e8462cb029db86c5d039b1": {
          "model_module": "@jupyter-widgets/controls",
          "model_name": "FloatProgressModel",
          "model_module_version": "1.5.0",
          "state": {
            "_dom_classes": [],
            "_model_module": "@jupyter-widgets/controls",
            "_model_module_version": "1.5.0",
            "_model_name": "FloatProgressModel",
            "_view_count": null,
            "_view_module": "@jupyter-widgets/controls",
            "_view_module_version": "1.5.0",
            "_view_name": "ProgressView",
            "bar_style": "success",
            "description": "",
            "description_tooltip": null,
            "layout": "IPY_MODEL_b3e403bf314e40728e18714d85e6b7d9",
            "max": 310,
            "min": 0,
            "orientation": "horizontal",
            "style": "IPY_MODEL_2905676b555e4347a9a60da36c6af8fe",
            "value": 310
          }
        },
        "d60d93d9b7634754b261b791bebfea19": {
          "model_module": "@jupyter-widgets/controls",
          "model_name": "HTMLModel",
          "model_module_version": "1.5.0",
          "state": {
            "_dom_classes": [],
            "_model_module": "@jupyter-widgets/controls",
            "_model_module_version": "1.5.0",
            "_model_name": "HTMLModel",
            "_view_count": null,
            "_view_module": "@jupyter-widgets/controls",
            "_view_module_version": "1.5.0",
            "_view_name": "HTMLView",
            "description": "",
            "description_tooltip": null,
            "layout": "IPY_MODEL_ea62ea6a28ac47bcae7c18d55591497f",
            "placeholder": "​",
            "style": "IPY_MODEL_86442bd788a941f69c70780a19d32305",
            "value": " 310/310 [00:00&lt;00:00, 9.76kB/s]"
          }
        },
        "d26d106311c0413da8c2fb2b0cefd710": {
          "model_module": "@jupyter-widgets/base",
          "model_name": "LayoutModel",
          "model_module_version": "1.2.0",
          "state": {
            "_model_module": "@jupyter-widgets/base",
            "_model_module_version": "1.2.0",
            "_model_name": "LayoutModel",
            "_view_count": null,
            "_view_module": "@jupyter-widgets/base",
            "_view_module_version": "1.2.0",
            "_view_name": "LayoutView",
            "align_content": null,
            "align_items": null,
            "align_self": null,
            "border": null,
            "bottom": null,
            "display": null,
            "flex": null,
            "flex_flow": null,
            "grid_area": null,
            "grid_auto_columns": null,
            "grid_auto_flow": null,
            "grid_auto_rows": null,
            "grid_column": null,
            "grid_gap": null,
            "grid_row": null,
            "grid_template_areas": null,
            "grid_template_columns": null,
            "grid_template_rows": null,
            "height": null,
            "justify_content": null,
            "justify_items": null,
            "left": null,
            "margin": null,
            "max_height": null,
            "max_width": null,
            "min_height": null,
            "min_width": null,
            "object_fit": null,
            "object_position": null,
            "order": null,
            "overflow": null,
            "overflow_x": null,
            "overflow_y": null,
            "padding": null,
            "right": null,
            "top": null,
            "visibility": null,
            "width": null
          }
        },
        "6e329eceb8d545309dc0312a6ac98715": {
          "model_module": "@jupyter-widgets/base",
          "model_name": "LayoutModel",
          "model_module_version": "1.2.0",
          "state": {
            "_model_module": "@jupyter-widgets/base",
            "_model_module_version": "1.2.0",
            "_model_name": "LayoutModel",
            "_view_count": null,
            "_view_module": "@jupyter-widgets/base",
            "_view_module_version": "1.2.0",
            "_view_name": "LayoutView",
            "align_content": null,
            "align_items": null,
            "align_self": null,
            "border": null,
            "bottom": null,
            "display": null,
            "flex": null,
            "flex_flow": null,
            "grid_area": null,
            "grid_auto_columns": null,
            "grid_auto_flow": null,
            "grid_auto_rows": null,
            "grid_column": null,
            "grid_gap": null,
            "grid_row": null,
            "grid_template_areas": null,
            "grid_template_columns": null,
            "grid_template_rows": null,
            "height": null,
            "justify_content": null,
            "justify_items": null,
            "left": null,
            "margin": null,
            "max_height": null,
            "max_width": null,
            "min_height": null,
            "min_width": null,
            "object_fit": null,
            "object_position": null,
            "order": null,
            "overflow": null,
            "overflow_x": null,
            "overflow_y": null,
            "padding": null,
            "right": null,
            "top": null,
            "visibility": null,
            "width": null
          }
        },
        "153a7a5b9af44b0bbe11fee9d713d003": {
          "model_module": "@jupyter-widgets/controls",
          "model_name": "DescriptionStyleModel",
          "model_module_version": "1.5.0",
          "state": {
            "_model_module": "@jupyter-widgets/controls",
            "_model_module_version": "1.5.0",
            "_model_name": "DescriptionStyleModel",
            "_view_count": null,
            "_view_module": "@jupyter-widgets/base",
            "_view_module_version": "1.2.0",
            "_view_name": "StyleView",
            "description_width": ""
          }
        },
        "b3e403bf314e40728e18714d85e6b7d9": {
          "model_module": "@jupyter-widgets/base",
          "model_name": "LayoutModel",
          "model_module_version": "1.2.0",
          "state": {
            "_model_module": "@jupyter-widgets/base",
            "_model_module_version": "1.2.0",
            "_model_name": "LayoutModel",
            "_view_count": null,
            "_view_module": "@jupyter-widgets/base",
            "_view_module_version": "1.2.0",
            "_view_name": "LayoutView",
            "align_content": null,
            "align_items": null,
            "align_self": null,
            "border": null,
            "bottom": null,
            "display": null,
            "flex": null,
            "flex_flow": null,
            "grid_area": null,
            "grid_auto_columns": null,
            "grid_auto_flow": null,
            "grid_auto_rows": null,
            "grid_column": null,
            "grid_gap": null,
            "grid_row": null,
            "grid_template_areas": null,
            "grid_template_columns": null,
            "grid_template_rows": null,
            "height": null,
            "justify_content": null,
            "justify_items": null,
            "left": null,
            "margin": null,
            "max_height": null,
            "max_width": null,
            "min_height": null,
            "min_width": null,
            "object_fit": null,
            "object_position": null,
            "order": null,
            "overflow": null,
            "overflow_x": null,
            "overflow_y": null,
            "padding": null,
            "right": null,
            "top": null,
            "visibility": null,
            "width": null
          }
        },
        "2905676b555e4347a9a60da36c6af8fe": {
          "model_module": "@jupyter-widgets/controls",
          "model_name": "ProgressStyleModel",
          "model_module_version": "1.5.0",
          "state": {
            "_model_module": "@jupyter-widgets/controls",
            "_model_module_version": "1.5.0",
            "_model_name": "ProgressStyleModel",
            "_view_count": null,
            "_view_module": "@jupyter-widgets/base",
            "_view_module_version": "1.2.0",
            "_view_name": "StyleView",
            "bar_color": null,
            "description_width": ""
          }
        },
        "ea62ea6a28ac47bcae7c18d55591497f": {
          "model_module": "@jupyter-widgets/base",
          "model_name": "LayoutModel",
          "model_module_version": "1.2.0",
          "state": {
            "_model_module": "@jupyter-widgets/base",
            "_model_module_version": "1.2.0",
            "_model_name": "LayoutModel",
            "_view_count": null,
            "_view_module": "@jupyter-widgets/base",
            "_view_module_version": "1.2.0",
            "_view_name": "LayoutView",
            "align_content": null,
            "align_items": null,
            "align_self": null,
            "border": null,
            "bottom": null,
            "display": null,
            "flex": null,
            "flex_flow": null,
            "grid_area": null,
            "grid_auto_columns": null,
            "grid_auto_flow": null,
            "grid_auto_rows": null,
            "grid_column": null,
            "grid_gap": null,
            "grid_row": null,
            "grid_template_areas": null,
            "grid_template_columns": null,
            "grid_template_rows": null,
            "height": null,
            "justify_content": null,
            "justify_items": null,
            "left": null,
            "margin": null,
            "max_height": null,
            "max_width": null,
            "min_height": null,
            "min_width": null,
            "object_fit": null,
            "object_position": null,
            "order": null,
            "overflow": null,
            "overflow_x": null,
            "overflow_y": null,
            "padding": null,
            "right": null,
            "top": null,
            "visibility": null,
            "width": null
          }
        },
        "86442bd788a941f69c70780a19d32305": {
          "model_module": "@jupyter-widgets/controls",
          "model_name": "DescriptionStyleModel",
          "model_module_version": "1.5.0",
          "state": {
            "_model_module": "@jupyter-widgets/controls",
            "_model_module_version": "1.5.0",
            "_model_name": "DescriptionStyleModel",
            "_view_count": null,
            "_view_module": "@jupyter-widgets/base",
            "_view_module_version": "1.2.0",
            "_view_name": "StyleView",
            "description_width": ""
          }
        },
        "5ecd4cae3d094d9fafaa78d74028bdee": {
          "model_module": "@jupyter-widgets/controls",
          "model_name": "HBoxModel",
          "model_module_version": "1.5.0",
          "state": {
            "_dom_classes": [],
            "_model_module": "@jupyter-widgets/controls",
            "_model_module_version": "1.5.0",
            "_model_name": "HBoxModel",
            "_view_count": null,
            "_view_module": "@jupyter-widgets/controls",
            "_view_module_version": "1.5.0",
            "_view_name": "HBoxView",
            "box_style": "",
            "children": [
              "IPY_MODEL_27a48e5401ac470fae44460b934babcf",
              "IPY_MODEL_fc3b803cd7b34159a1bb83ffe27dee81",
              "IPY_MODEL_a479f717dc4a479f9fcde91310840f6b"
            ],
            "layout": "IPY_MODEL_3a6d972072724f87b5c74cb0c7d248a9"
          }
        },
        "27a48e5401ac470fae44460b934babcf": {
          "model_module": "@jupyter-widgets/controls",
          "model_name": "HTMLModel",
          "model_module_version": "1.5.0",
          "state": {
            "_dom_classes": [],
            "_model_module": "@jupyter-widgets/controls",
            "_model_module_version": "1.5.0",
            "_model_name": "HTMLModel",
            "_view_count": null,
            "_view_module": "@jupyter-widgets/controls",
            "_view_module_version": "1.5.0",
            "_view_name": "HTMLView",
            "description": "",
            "description_tooltip": null,
            "layout": "IPY_MODEL_008f541e298e4add90422af12fc4900b",
            "placeholder": "​",
            "style": "IPY_MODEL_be90f4b0bea240fca776658f3163c739",
            "value": "config.json: 100%"
          }
        },
        "fc3b803cd7b34159a1bb83ffe27dee81": {
          "model_module": "@jupyter-widgets/controls",
          "model_name": "FloatProgressModel",
          "model_module_version": "1.5.0",
          "state": {
            "_dom_classes": [],
            "_model_module": "@jupyter-widgets/controls",
            "_model_module_version": "1.5.0",
            "_model_name": "FloatProgressModel",
            "_view_count": null,
            "_view_module": "@jupyter-widgets/controls",
            "_view_module_version": "1.5.0",
            "_view_name": "ProgressView",
            "bar_style": "success",
            "description": "",
            "description_tooltip": null,
            "layout": "IPY_MODEL_8d70d44ad73942fd8f481dc1282ec069",
            "max": 650,
            "min": 0,
            "orientation": "horizontal",
            "style": "IPY_MODEL_2a63fa8a521d433581ca2efed38eb86f",
            "value": 650
          }
        },
        "a479f717dc4a479f9fcde91310840f6b": {
          "model_module": "@jupyter-widgets/controls",
          "model_name": "HTMLModel",
          "model_module_version": "1.5.0",
          "state": {
            "_dom_classes": [],
            "_model_module": "@jupyter-widgets/controls",
            "_model_module_version": "1.5.0",
            "_model_name": "HTMLModel",
            "_view_count": null,
            "_view_module": "@jupyter-widgets/controls",
            "_view_module_version": "1.5.0",
            "_view_name": "HTMLView",
            "description": "",
            "description_tooltip": null,
            "layout": "IPY_MODEL_3487048ae7e24ccb806e5e0d1a641993",
            "placeholder": "​",
            "style": "IPY_MODEL_2d0033bd6fb44db3a1bfa1d5a3a2ef98",
            "value": " 650/650 [00:00&lt;00:00, 22.5kB/s]"
          }
        },
        "3a6d972072724f87b5c74cb0c7d248a9": {
          "model_module": "@jupyter-widgets/base",
          "model_name": "LayoutModel",
          "model_module_version": "1.2.0",
          "state": {
            "_model_module": "@jupyter-widgets/base",
            "_model_module_version": "1.2.0",
            "_model_name": "LayoutModel",
            "_view_count": null,
            "_view_module": "@jupyter-widgets/base",
            "_view_module_version": "1.2.0",
            "_view_name": "LayoutView",
            "align_content": null,
            "align_items": null,
            "align_self": null,
            "border": null,
            "bottom": null,
            "display": null,
            "flex": null,
            "flex_flow": null,
            "grid_area": null,
            "grid_auto_columns": null,
            "grid_auto_flow": null,
            "grid_auto_rows": null,
            "grid_column": null,
            "grid_gap": null,
            "grid_row": null,
            "grid_template_areas": null,
            "grid_template_columns": null,
            "grid_template_rows": null,
            "height": null,
            "justify_content": null,
            "justify_items": null,
            "left": null,
            "margin": null,
            "max_height": null,
            "max_width": null,
            "min_height": null,
            "min_width": null,
            "object_fit": null,
            "object_position": null,
            "order": null,
            "overflow": null,
            "overflow_x": null,
            "overflow_y": null,
            "padding": null,
            "right": null,
            "top": null,
            "visibility": null,
            "width": null
          }
        },
        "008f541e298e4add90422af12fc4900b": {
          "model_module": "@jupyter-widgets/base",
          "model_name": "LayoutModel",
          "model_module_version": "1.2.0",
          "state": {
            "_model_module": "@jupyter-widgets/base",
            "_model_module_version": "1.2.0",
            "_model_name": "LayoutModel",
            "_view_count": null,
            "_view_module": "@jupyter-widgets/base",
            "_view_module_version": "1.2.0",
            "_view_name": "LayoutView",
            "align_content": null,
            "align_items": null,
            "align_self": null,
            "border": null,
            "bottom": null,
            "display": null,
            "flex": null,
            "flex_flow": null,
            "grid_area": null,
            "grid_auto_columns": null,
            "grid_auto_flow": null,
            "grid_auto_rows": null,
            "grid_column": null,
            "grid_gap": null,
            "grid_row": null,
            "grid_template_areas": null,
            "grid_template_columns": null,
            "grid_template_rows": null,
            "height": null,
            "justify_content": null,
            "justify_items": null,
            "left": null,
            "margin": null,
            "max_height": null,
            "max_width": null,
            "min_height": null,
            "min_width": null,
            "object_fit": null,
            "object_position": null,
            "order": null,
            "overflow": null,
            "overflow_x": null,
            "overflow_y": null,
            "padding": null,
            "right": null,
            "top": null,
            "visibility": null,
            "width": null
          }
        },
        "be90f4b0bea240fca776658f3163c739": {
          "model_module": "@jupyter-widgets/controls",
          "model_name": "DescriptionStyleModel",
          "model_module_version": "1.5.0",
          "state": {
            "_model_module": "@jupyter-widgets/controls",
            "_model_module_version": "1.5.0",
            "_model_name": "DescriptionStyleModel",
            "_view_count": null,
            "_view_module": "@jupyter-widgets/base",
            "_view_module_version": "1.2.0",
            "_view_name": "StyleView",
            "description_width": ""
          }
        },
        "8d70d44ad73942fd8f481dc1282ec069": {
          "model_module": "@jupyter-widgets/base",
          "model_name": "LayoutModel",
          "model_module_version": "1.2.0",
          "state": {
            "_model_module": "@jupyter-widgets/base",
            "_model_module_version": "1.2.0",
            "_model_name": "LayoutModel",
            "_view_count": null,
            "_view_module": "@jupyter-widgets/base",
            "_view_module_version": "1.2.0",
            "_view_name": "LayoutView",
            "align_content": null,
            "align_items": null,
            "align_self": null,
            "border": null,
            "bottom": null,
            "display": null,
            "flex": null,
            "flex_flow": null,
            "grid_area": null,
            "grid_auto_columns": null,
            "grid_auto_flow": null,
            "grid_auto_rows": null,
            "grid_column": null,
            "grid_gap": null,
            "grid_row": null,
            "grid_template_areas": null,
            "grid_template_columns": null,
            "grid_template_rows": null,
            "height": null,
            "justify_content": null,
            "justify_items": null,
            "left": null,
            "margin": null,
            "max_height": null,
            "max_width": null,
            "min_height": null,
            "min_width": null,
            "object_fit": null,
            "object_position": null,
            "order": null,
            "overflow": null,
            "overflow_x": null,
            "overflow_y": null,
            "padding": null,
            "right": null,
            "top": null,
            "visibility": null,
            "width": null
          }
        },
        "2a63fa8a521d433581ca2efed38eb86f": {
          "model_module": "@jupyter-widgets/controls",
          "model_name": "ProgressStyleModel",
          "model_module_version": "1.5.0",
          "state": {
            "_model_module": "@jupyter-widgets/controls",
            "_model_module_version": "1.5.0",
            "_model_name": "ProgressStyleModel",
            "_view_count": null,
            "_view_module": "@jupyter-widgets/base",
            "_view_module_version": "1.2.0",
            "_view_name": "StyleView",
            "bar_color": null,
            "description_width": ""
          }
        },
        "3487048ae7e24ccb806e5e0d1a641993": {
          "model_module": "@jupyter-widgets/base",
          "model_name": "LayoutModel",
          "model_module_version": "1.2.0",
          "state": {
            "_model_module": "@jupyter-widgets/base",
            "_model_module_version": "1.2.0",
            "_model_name": "LayoutModel",
            "_view_count": null,
            "_view_module": "@jupyter-widgets/base",
            "_view_module_version": "1.2.0",
            "_view_name": "LayoutView",
            "align_content": null,
            "align_items": null,
            "align_self": null,
            "border": null,
            "bottom": null,
            "display": null,
            "flex": null,
            "flex_flow": null,
            "grid_area": null,
            "grid_auto_columns": null,
            "grid_auto_flow": null,
            "grid_auto_rows": null,
            "grid_column": null,
            "grid_gap": null,
            "grid_row": null,
            "grid_template_areas": null,
            "grid_template_columns": null,
            "grid_template_rows": null,
            "height": null,
            "justify_content": null,
            "justify_items": null,
            "left": null,
            "margin": null,
            "max_height": null,
            "max_width": null,
            "min_height": null,
            "min_width": null,
            "object_fit": null,
            "object_position": null,
            "order": null,
            "overflow": null,
            "overflow_x": null,
            "overflow_y": null,
            "padding": null,
            "right": null,
            "top": null,
            "visibility": null,
            "width": null
          }
        },
        "2d0033bd6fb44db3a1bfa1d5a3a2ef98": {
          "model_module": "@jupyter-widgets/controls",
          "model_name": "DescriptionStyleModel",
          "model_module_version": "1.5.0",
          "state": {
            "_model_module": "@jupyter-widgets/controls",
            "_model_module_version": "1.5.0",
            "_model_name": "DescriptionStyleModel",
            "_view_count": null,
            "_view_module": "@jupyter-widgets/base",
            "_view_module_version": "1.2.0",
            "_view_name": "StyleView",
            "description_width": ""
          }
        },
        "d51c6fd879ef44eaa974236fc95c3bce": {
          "model_module": "@jupyter-widgets/controls",
          "model_name": "HBoxModel",
          "model_module_version": "1.5.0",
          "state": {
            "_dom_classes": [],
            "_model_module": "@jupyter-widgets/controls",
            "_model_module_version": "1.5.0",
            "_model_name": "HBoxModel",
            "_view_count": null,
            "_view_module": "@jupyter-widgets/controls",
            "_view_module_version": "1.5.0",
            "_view_name": "HBoxView",
            "box_style": "",
            "children": [
              "IPY_MODEL_0049d72749d743848fa34cf40c598e8c",
              "IPY_MODEL_7e5187f5645441a2a90c443c496d98d6",
              "IPY_MODEL_3e5a2d32940f490ebf1220b7871c264f"
            ],
            "layout": "IPY_MODEL_b7eb9ea4c63946e6b30e224ef7bad4a1"
          }
        },
        "0049d72749d743848fa34cf40c598e8c": {
          "model_module": "@jupyter-widgets/controls",
          "model_name": "HTMLModel",
          "model_module_version": "1.5.0",
          "state": {
            "_dom_classes": [],
            "_model_module": "@jupyter-widgets/controls",
            "_model_module_version": "1.5.0",
            "_model_name": "HTMLModel",
            "_view_count": null,
            "_view_module": "@jupyter-widgets/controls",
            "_view_module_version": "1.5.0",
            "_view_name": "HTMLView",
            "description": "",
            "description_tooltip": null,
            "layout": "IPY_MODEL_6d101ebe6db4480ca9add8f15da45e6c",
            "placeholder": "​",
            "style": "IPY_MODEL_ff76d7e8ee914eeca1c435b11da4b18f",
            "value": "vocab.txt: 100%"
          }
        },
        "7e5187f5645441a2a90c443c496d98d6": {
          "model_module": "@jupyter-widgets/controls",
          "model_name": "FloatProgressModel",
          "model_module_version": "1.5.0",
          "state": {
            "_dom_classes": [],
            "_model_module": "@jupyter-widgets/controls",
            "_model_module_version": "1.5.0",
            "_model_name": "FloatProgressModel",
            "_view_count": null,
            "_view_module": "@jupyter-widgets/controls",
            "_view_module_version": "1.5.0",
            "_view_name": "ProgressView",
            "bar_style": "success",
            "description": "",
            "description_tooltip": null,
            "layout": "IPY_MODEL_0a540d0df3a1421b906273a39ff813b3",
            "max": 247723,
            "min": 0,
            "orientation": "horizontal",
            "style": "IPY_MODEL_b18b880142e544dea60ad2553aec2b7a",
            "value": 247723
          }
        },
        "3e5a2d32940f490ebf1220b7871c264f": {
          "model_module": "@jupyter-widgets/controls",
          "model_name": "HTMLModel",
          "model_module_version": "1.5.0",
          "state": {
            "_dom_classes": [],
            "_model_module": "@jupyter-widgets/controls",
            "_model_module_version": "1.5.0",
            "_model_name": "HTMLModel",
            "_view_count": null,
            "_view_module": "@jupyter-widgets/controls",
            "_view_module_version": "1.5.0",
            "_view_name": "HTMLView",
            "description": "",
            "description_tooltip": null,
            "layout": "IPY_MODEL_acf0baac71ad4d8ea7cba270a0a11aa0",
            "placeholder": "​",
            "style": "IPY_MODEL_b4b4687d7a364ccf9d2e8976087b3eda",
            "value": " 248k/248k [00:01&lt;00:00, 170kB/s]"
          }
        },
        "b7eb9ea4c63946e6b30e224ef7bad4a1": {
          "model_module": "@jupyter-widgets/base",
          "model_name": "LayoutModel",
          "model_module_version": "1.2.0",
          "state": {
            "_model_module": "@jupyter-widgets/base",
            "_model_module_version": "1.2.0",
            "_model_name": "LayoutModel",
            "_view_count": null,
            "_view_module": "@jupyter-widgets/base",
            "_view_module_version": "1.2.0",
            "_view_name": "LayoutView",
            "align_content": null,
            "align_items": null,
            "align_self": null,
            "border": null,
            "bottom": null,
            "display": null,
            "flex": null,
            "flex_flow": null,
            "grid_area": null,
            "grid_auto_columns": null,
            "grid_auto_flow": null,
            "grid_auto_rows": null,
            "grid_column": null,
            "grid_gap": null,
            "grid_row": null,
            "grid_template_areas": null,
            "grid_template_columns": null,
            "grid_template_rows": null,
            "height": null,
            "justify_content": null,
            "justify_items": null,
            "left": null,
            "margin": null,
            "max_height": null,
            "max_width": null,
            "min_height": null,
            "min_width": null,
            "object_fit": null,
            "object_position": null,
            "order": null,
            "overflow": null,
            "overflow_x": null,
            "overflow_y": null,
            "padding": null,
            "right": null,
            "top": null,
            "visibility": null,
            "width": null
          }
        },
        "6d101ebe6db4480ca9add8f15da45e6c": {
          "model_module": "@jupyter-widgets/base",
          "model_name": "LayoutModel",
          "model_module_version": "1.2.0",
          "state": {
            "_model_module": "@jupyter-widgets/base",
            "_model_module_version": "1.2.0",
            "_model_name": "LayoutModel",
            "_view_count": null,
            "_view_module": "@jupyter-widgets/base",
            "_view_module_version": "1.2.0",
            "_view_name": "LayoutView",
            "align_content": null,
            "align_items": null,
            "align_self": null,
            "border": null,
            "bottom": null,
            "display": null,
            "flex": null,
            "flex_flow": null,
            "grid_area": null,
            "grid_auto_columns": null,
            "grid_auto_flow": null,
            "grid_auto_rows": null,
            "grid_column": null,
            "grid_gap": null,
            "grid_row": null,
            "grid_template_areas": null,
            "grid_template_columns": null,
            "grid_template_rows": null,
            "height": null,
            "justify_content": null,
            "justify_items": null,
            "left": null,
            "margin": null,
            "max_height": null,
            "max_width": null,
            "min_height": null,
            "min_width": null,
            "object_fit": null,
            "object_position": null,
            "order": null,
            "overflow": null,
            "overflow_x": null,
            "overflow_y": null,
            "padding": null,
            "right": null,
            "top": null,
            "visibility": null,
            "width": null
          }
        },
        "ff76d7e8ee914eeca1c435b11da4b18f": {
          "model_module": "@jupyter-widgets/controls",
          "model_name": "DescriptionStyleModel",
          "model_module_version": "1.5.0",
          "state": {
            "_model_module": "@jupyter-widgets/controls",
            "_model_module_version": "1.5.0",
            "_model_name": "DescriptionStyleModel",
            "_view_count": null,
            "_view_module": "@jupyter-widgets/base",
            "_view_module_version": "1.2.0",
            "_view_name": "StyleView",
            "description_width": ""
          }
        },
        "0a540d0df3a1421b906273a39ff813b3": {
          "model_module": "@jupyter-widgets/base",
          "model_name": "LayoutModel",
          "model_module_version": "1.2.0",
          "state": {
            "_model_module": "@jupyter-widgets/base",
            "_model_module_version": "1.2.0",
            "_model_name": "LayoutModel",
            "_view_count": null,
            "_view_module": "@jupyter-widgets/base",
            "_view_module_version": "1.2.0",
            "_view_name": "LayoutView",
            "align_content": null,
            "align_items": null,
            "align_self": null,
            "border": null,
            "bottom": null,
            "display": null,
            "flex": null,
            "flex_flow": null,
            "grid_area": null,
            "grid_auto_columns": null,
            "grid_auto_flow": null,
            "grid_auto_rows": null,
            "grid_column": null,
            "grid_gap": null,
            "grid_row": null,
            "grid_template_areas": null,
            "grid_template_columns": null,
            "grid_template_rows": null,
            "height": null,
            "justify_content": null,
            "justify_items": null,
            "left": null,
            "margin": null,
            "max_height": null,
            "max_width": null,
            "min_height": null,
            "min_width": null,
            "object_fit": null,
            "object_position": null,
            "order": null,
            "overflow": null,
            "overflow_x": null,
            "overflow_y": null,
            "padding": null,
            "right": null,
            "top": null,
            "visibility": null,
            "width": null
          }
        },
        "b18b880142e544dea60ad2553aec2b7a": {
          "model_module": "@jupyter-widgets/controls",
          "model_name": "ProgressStyleModel",
          "model_module_version": "1.5.0",
          "state": {
            "_model_module": "@jupyter-widgets/controls",
            "_model_module_version": "1.5.0",
            "_model_name": "ProgressStyleModel",
            "_view_count": null,
            "_view_module": "@jupyter-widgets/base",
            "_view_module_version": "1.2.0",
            "_view_name": "StyleView",
            "bar_color": null,
            "description_width": ""
          }
        },
        "acf0baac71ad4d8ea7cba270a0a11aa0": {
          "model_module": "@jupyter-widgets/base",
          "model_name": "LayoutModel",
          "model_module_version": "1.2.0",
          "state": {
            "_model_module": "@jupyter-widgets/base",
            "_model_module_version": "1.2.0",
            "_model_name": "LayoutModel",
            "_view_count": null,
            "_view_module": "@jupyter-widgets/base",
            "_view_module_version": "1.2.0",
            "_view_name": "LayoutView",
            "align_content": null,
            "align_items": null,
            "align_self": null,
            "border": null,
            "bottom": null,
            "display": null,
            "flex": null,
            "flex_flow": null,
            "grid_area": null,
            "grid_auto_columns": null,
            "grid_auto_flow": null,
            "grid_auto_rows": null,
            "grid_column": null,
            "grid_gap": null,
            "grid_row": null,
            "grid_template_areas": null,
            "grid_template_columns": null,
            "grid_template_rows": null,
            "height": null,
            "justify_content": null,
            "justify_items": null,
            "left": null,
            "margin": null,
            "max_height": null,
            "max_width": null,
            "min_height": null,
            "min_width": null,
            "object_fit": null,
            "object_position": null,
            "order": null,
            "overflow": null,
            "overflow_x": null,
            "overflow_y": null,
            "padding": null,
            "right": null,
            "top": null,
            "visibility": null,
            "width": null
          }
        },
        "b4b4687d7a364ccf9d2e8976087b3eda": {
          "model_module": "@jupyter-widgets/controls",
          "model_name": "DescriptionStyleModel",
          "model_module_version": "1.5.0",
          "state": {
            "_model_module": "@jupyter-widgets/controls",
            "_model_module_version": "1.5.0",
            "_model_name": "DescriptionStyleModel",
            "_view_count": null,
            "_view_module": "@jupyter-widgets/base",
            "_view_module_version": "1.2.0",
            "_view_name": "StyleView",
            "description_width": ""
          }
        },
        "b266e4cf7bdd450ebd850ae90f58f256": {
          "model_module": "@jupyter-widgets/controls",
          "model_name": "HBoxModel",
          "model_module_version": "1.5.0",
          "state": {
            "_dom_classes": [],
            "_model_module": "@jupyter-widgets/controls",
            "_model_module_version": "1.5.0",
            "_model_name": "HBoxModel",
            "_view_count": null,
            "_view_module": "@jupyter-widgets/controls",
            "_view_module_version": "1.5.0",
            "_view_name": "HBoxView",
            "box_style": "",
            "children": [
              "IPY_MODEL_2b2e2dba3a944f3f8a6cc0e883c5860b",
              "IPY_MODEL_a03c604aaa1e4134891079ac4e1a40f9",
              "IPY_MODEL_fe772b5fe7fa4154a615529832469113"
            ],
            "layout": "IPY_MODEL_7572a66224b24c8ab7e0dc90ac2acf46"
          }
        },
        "2b2e2dba3a944f3f8a6cc0e883c5860b": {
          "model_module": "@jupyter-widgets/controls",
          "model_name": "HTMLModel",
          "model_module_version": "1.5.0",
          "state": {
            "_dom_classes": [],
            "_model_module": "@jupyter-widgets/controls",
            "_model_module_version": "1.5.0",
            "_model_name": "HTMLModel",
            "_view_count": null,
            "_view_module": "@jupyter-widgets/controls",
            "_view_module_version": "1.5.0",
            "_view_name": "HTMLView",
            "description": "",
            "description_tooltip": null,
            "layout": "IPY_MODEL_25a202eba8f04244bd4405f19a2a55f7",
            "placeholder": "​",
            "style": "IPY_MODEL_99fb0d4600214babae584259134b75aa",
            "value": "tokenizer.json: 100%"
          }
        },
        "a03c604aaa1e4134891079ac4e1a40f9": {
          "model_module": "@jupyter-widgets/controls",
          "model_name": "FloatProgressModel",
          "model_module_version": "1.5.0",
          "state": {
            "_dom_classes": [],
            "_model_module": "@jupyter-widgets/controls",
            "_model_module_version": "1.5.0",
            "_model_name": "FloatProgressModel",
            "_view_count": null,
            "_view_module": "@jupyter-widgets/controls",
            "_view_module_version": "1.5.0",
            "_view_name": "ProgressView",
            "bar_style": "success",
            "description": "",
            "description_tooltip": null,
            "layout": "IPY_MODEL_12132d372f274c9abdef7e4de5b095f5",
            "max": 486125,
            "min": 0,
            "orientation": "horizontal",
            "style": "IPY_MODEL_ac89c65417464a9e9ed5276c56f95f8d",
            "value": 486125
          }
        },
        "fe772b5fe7fa4154a615529832469113": {
          "model_module": "@jupyter-widgets/controls",
          "model_name": "HTMLModel",
          "model_module_version": "1.5.0",
          "state": {
            "_dom_classes": [],
            "_model_module": "@jupyter-widgets/controls",
            "_model_module_version": "1.5.0",
            "_model_name": "HTMLModel",
            "_view_count": null,
            "_view_module": "@jupyter-widgets/controls",
            "_view_module_version": "1.5.0",
            "_view_name": "HTMLView",
            "description": "",
            "description_tooltip": null,
            "layout": "IPY_MODEL_96b88e8169e247ca999751ec7612bc44",
            "placeholder": "​",
            "style": "IPY_MODEL_291ab91f91fd41fcbf19b7e6cfa33f55",
            "value": " 486k/486k [00:00&lt;00:00, 6.85MB/s]"
          }
        },
        "7572a66224b24c8ab7e0dc90ac2acf46": {
          "model_module": "@jupyter-widgets/base",
          "model_name": "LayoutModel",
          "model_module_version": "1.2.0",
          "state": {
            "_model_module": "@jupyter-widgets/base",
            "_model_module_version": "1.2.0",
            "_model_name": "LayoutModel",
            "_view_count": null,
            "_view_module": "@jupyter-widgets/base",
            "_view_module_version": "1.2.0",
            "_view_name": "LayoutView",
            "align_content": null,
            "align_items": null,
            "align_self": null,
            "border": null,
            "bottom": null,
            "display": null,
            "flex": null,
            "flex_flow": null,
            "grid_area": null,
            "grid_auto_columns": null,
            "grid_auto_flow": null,
            "grid_auto_rows": null,
            "grid_column": null,
            "grid_gap": null,
            "grid_row": null,
            "grid_template_areas": null,
            "grid_template_columns": null,
            "grid_template_rows": null,
            "height": null,
            "justify_content": null,
            "justify_items": null,
            "left": null,
            "margin": null,
            "max_height": null,
            "max_width": null,
            "min_height": null,
            "min_width": null,
            "object_fit": null,
            "object_position": null,
            "order": null,
            "overflow": null,
            "overflow_x": null,
            "overflow_y": null,
            "padding": null,
            "right": null,
            "top": null,
            "visibility": null,
            "width": null
          }
        },
        "25a202eba8f04244bd4405f19a2a55f7": {
          "model_module": "@jupyter-widgets/base",
          "model_name": "LayoutModel",
          "model_module_version": "1.2.0",
          "state": {
            "_model_module": "@jupyter-widgets/base",
            "_model_module_version": "1.2.0",
            "_model_name": "LayoutModel",
            "_view_count": null,
            "_view_module": "@jupyter-widgets/base",
            "_view_module_version": "1.2.0",
            "_view_name": "LayoutView",
            "align_content": null,
            "align_items": null,
            "align_self": null,
            "border": null,
            "bottom": null,
            "display": null,
            "flex": null,
            "flex_flow": null,
            "grid_area": null,
            "grid_auto_columns": null,
            "grid_auto_flow": null,
            "grid_auto_rows": null,
            "grid_column": null,
            "grid_gap": null,
            "grid_row": null,
            "grid_template_areas": null,
            "grid_template_columns": null,
            "grid_template_rows": null,
            "height": null,
            "justify_content": null,
            "justify_items": null,
            "left": null,
            "margin": null,
            "max_height": null,
            "max_width": null,
            "min_height": null,
            "min_width": null,
            "object_fit": null,
            "object_position": null,
            "order": null,
            "overflow": null,
            "overflow_x": null,
            "overflow_y": null,
            "padding": null,
            "right": null,
            "top": null,
            "visibility": null,
            "width": null
          }
        },
        "99fb0d4600214babae584259134b75aa": {
          "model_module": "@jupyter-widgets/controls",
          "model_name": "DescriptionStyleModel",
          "model_module_version": "1.5.0",
          "state": {
            "_model_module": "@jupyter-widgets/controls",
            "_model_module_version": "1.5.0",
            "_model_name": "DescriptionStyleModel",
            "_view_count": null,
            "_view_module": "@jupyter-widgets/base",
            "_view_module_version": "1.2.0",
            "_view_name": "StyleView",
            "description_width": ""
          }
        },
        "12132d372f274c9abdef7e4de5b095f5": {
          "model_module": "@jupyter-widgets/base",
          "model_name": "LayoutModel",
          "model_module_version": "1.2.0",
          "state": {
            "_model_module": "@jupyter-widgets/base",
            "_model_module_version": "1.2.0",
            "_model_name": "LayoutModel",
            "_view_count": null,
            "_view_module": "@jupyter-widgets/base",
            "_view_module_version": "1.2.0",
            "_view_name": "LayoutView",
            "align_content": null,
            "align_items": null,
            "align_self": null,
            "border": null,
            "bottom": null,
            "display": null,
            "flex": null,
            "flex_flow": null,
            "grid_area": null,
            "grid_auto_columns": null,
            "grid_auto_flow": null,
            "grid_auto_rows": null,
            "grid_column": null,
            "grid_gap": null,
            "grid_row": null,
            "grid_template_areas": null,
            "grid_template_columns": null,
            "grid_template_rows": null,
            "height": null,
            "justify_content": null,
            "justify_items": null,
            "left": null,
            "margin": null,
            "max_height": null,
            "max_width": null,
            "min_height": null,
            "min_width": null,
            "object_fit": null,
            "object_position": null,
            "order": null,
            "overflow": null,
            "overflow_x": null,
            "overflow_y": null,
            "padding": null,
            "right": null,
            "top": null,
            "visibility": null,
            "width": null
          }
        },
        "ac89c65417464a9e9ed5276c56f95f8d": {
          "model_module": "@jupyter-widgets/controls",
          "model_name": "ProgressStyleModel",
          "model_module_version": "1.5.0",
          "state": {
            "_model_module": "@jupyter-widgets/controls",
            "_model_module_version": "1.5.0",
            "_model_name": "ProgressStyleModel",
            "_view_count": null,
            "_view_module": "@jupyter-widgets/base",
            "_view_module_version": "1.2.0",
            "_view_name": "StyleView",
            "bar_color": null,
            "description_width": ""
          }
        },
        "96b88e8169e247ca999751ec7612bc44": {
          "model_module": "@jupyter-widgets/base",
          "model_name": "LayoutModel",
          "model_module_version": "1.2.0",
          "state": {
            "_model_module": "@jupyter-widgets/base",
            "_model_module_version": "1.2.0",
            "_model_name": "LayoutModel",
            "_view_count": null,
            "_view_module": "@jupyter-widgets/base",
            "_view_module_version": "1.2.0",
            "_view_name": "LayoutView",
            "align_content": null,
            "align_items": null,
            "align_self": null,
            "border": null,
            "bottom": null,
            "display": null,
            "flex": null,
            "flex_flow": null,
            "grid_area": null,
            "grid_auto_columns": null,
            "grid_auto_flow": null,
            "grid_auto_rows": null,
            "grid_column": null,
            "grid_gap": null,
            "grid_row": null,
            "grid_template_areas": null,
            "grid_template_columns": null,
            "grid_template_rows": null,
            "height": null,
            "justify_content": null,
            "justify_items": null,
            "left": null,
            "margin": null,
            "max_height": null,
            "max_width": null,
            "min_height": null,
            "min_width": null,
            "object_fit": null,
            "object_position": null,
            "order": null,
            "overflow": null,
            "overflow_x": null,
            "overflow_y": null,
            "padding": null,
            "right": null,
            "top": null,
            "visibility": null,
            "width": null
          }
        },
        "291ab91f91fd41fcbf19b7e6cfa33f55": {
          "model_module": "@jupyter-widgets/controls",
          "model_name": "DescriptionStyleModel",
          "model_module_version": "1.5.0",
          "state": {
            "_model_module": "@jupyter-widgets/controls",
            "_model_module_version": "1.5.0",
            "_model_name": "DescriptionStyleModel",
            "_view_count": null,
            "_view_module": "@jupyter-widgets/base",
            "_view_module_version": "1.2.0",
            "_view_name": "StyleView",
            "description_width": ""
          }
        },
        "3149859f7ca84026bdef2963ef8a0896": {
          "model_module": "@jupyter-widgets/controls",
          "model_name": "HBoxModel",
          "model_module_version": "1.5.0",
          "state": {
            "_dom_classes": [],
            "_model_module": "@jupyter-widgets/controls",
            "_model_module_version": "1.5.0",
            "_model_name": "HBoxModel",
            "_view_count": null,
            "_view_module": "@jupyter-widgets/controls",
            "_view_module_version": "1.5.0",
            "_view_name": "HBoxView",
            "box_style": "",
            "children": [
              "IPY_MODEL_4dcc0602fb7348e4a1bdc2c38b9929c3",
              "IPY_MODEL_191cfd0218504676bde43dc7aea12c6d",
              "IPY_MODEL_d82a77ed5f5b4d44b186866be52abf5c"
            ],
            "layout": "IPY_MODEL_fc5b585f892f4c698ca8542644c200cd"
          }
        },
        "4dcc0602fb7348e4a1bdc2c38b9929c3": {
          "model_module": "@jupyter-widgets/controls",
          "model_name": "HTMLModel",
          "model_module_version": "1.5.0",
          "state": {
            "_dom_classes": [],
            "_model_module": "@jupyter-widgets/controls",
            "_model_module_version": "1.5.0",
            "_model_name": "HTMLModel",
            "_view_count": null,
            "_view_module": "@jupyter-widgets/controls",
            "_view_module_version": "1.5.0",
            "_view_name": "HTMLView",
            "description": "",
            "description_tooltip": null,
            "layout": "IPY_MODEL_1ada551bdc264b159a53e4a3d23dde08",
            "placeholder": "​",
            "style": "IPY_MODEL_6cb233aa3cf842bb8e66cd73c87b3691",
            "value": "special_tokens_map.json: 100%"
          }
        },
        "191cfd0218504676bde43dc7aea12c6d": {
          "model_module": "@jupyter-widgets/controls",
          "model_name": "FloatProgressModel",
          "model_module_version": "1.5.0",
          "state": {
            "_dom_classes": [],
            "_model_module": "@jupyter-widgets/controls",
            "_model_module_version": "1.5.0",
            "_model_name": "FloatProgressModel",
            "_view_count": null,
            "_view_module": "@jupyter-widgets/controls",
            "_view_module_version": "1.5.0",
            "_view_name": "ProgressView",
            "bar_style": "success",
            "description": "",
            "description_tooltip": null,
            "layout": "IPY_MODEL_ebceb8c7077843a5a93d8f0f9e324dff",
            "max": 134,
            "min": 0,
            "orientation": "horizontal",
            "style": "IPY_MODEL_707109a48d4f49db894900d1d6d52ad1",
            "value": 134
          }
        },
        "d82a77ed5f5b4d44b186866be52abf5c": {
          "model_module": "@jupyter-widgets/controls",
          "model_name": "HTMLModel",
          "model_module_version": "1.5.0",
          "state": {
            "_dom_classes": [],
            "_model_module": "@jupyter-widgets/controls",
            "_model_module_version": "1.5.0",
            "_model_name": "HTMLModel",
            "_view_count": null,
            "_view_module": "@jupyter-widgets/controls",
            "_view_module_version": "1.5.0",
            "_view_name": "HTMLView",
            "description": "",
            "description_tooltip": null,
            "layout": "IPY_MODEL_208356adbe59454ca49a83b662b7a77b",
            "placeholder": "​",
            "style": "IPY_MODEL_d4f094ba0bcd4e0eaeabd77e4cc171a7",
            "value": " 134/134 [00:00&lt;00:00, 9.83kB/s]"
          }
        },
        "fc5b585f892f4c698ca8542644c200cd": {
          "model_module": "@jupyter-widgets/base",
          "model_name": "LayoutModel",
          "model_module_version": "1.2.0",
          "state": {
            "_model_module": "@jupyter-widgets/base",
            "_model_module_version": "1.2.0",
            "_model_name": "LayoutModel",
            "_view_count": null,
            "_view_module": "@jupyter-widgets/base",
            "_view_module_version": "1.2.0",
            "_view_name": "LayoutView",
            "align_content": null,
            "align_items": null,
            "align_self": null,
            "border": null,
            "bottom": null,
            "display": null,
            "flex": null,
            "flex_flow": null,
            "grid_area": null,
            "grid_auto_columns": null,
            "grid_auto_flow": null,
            "grid_auto_rows": null,
            "grid_column": null,
            "grid_gap": null,
            "grid_row": null,
            "grid_template_areas": null,
            "grid_template_columns": null,
            "grid_template_rows": null,
            "height": null,
            "justify_content": null,
            "justify_items": null,
            "left": null,
            "margin": null,
            "max_height": null,
            "max_width": null,
            "min_height": null,
            "min_width": null,
            "object_fit": null,
            "object_position": null,
            "order": null,
            "overflow": null,
            "overflow_x": null,
            "overflow_y": null,
            "padding": null,
            "right": null,
            "top": null,
            "visibility": null,
            "width": null
          }
        },
        "1ada551bdc264b159a53e4a3d23dde08": {
          "model_module": "@jupyter-widgets/base",
          "model_name": "LayoutModel",
          "model_module_version": "1.2.0",
          "state": {
            "_model_module": "@jupyter-widgets/base",
            "_model_module_version": "1.2.0",
            "_model_name": "LayoutModel",
            "_view_count": null,
            "_view_module": "@jupyter-widgets/base",
            "_view_module_version": "1.2.0",
            "_view_name": "LayoutView",
            "align_content": null,
            "align_items": null,
            "align_self": null,
            "border": null,
            "bottom": null,
            "display": null,
            "flex": null,
            "flex_flow": null,
            "grid_area": null,
            "grid_auto_columns": null,
            "grid_auto_flow": null,
            "grid_auto_rows": null,
            "grid_column": null,
            "grid_gap": null,
            "grid_row": null,
            "grid_template_areas": null,
            "grid_template_columns": null,
            "grid_template_rows": null,
            "height": null,
            "justify_content": null,
            "justify_items": null,
            "left": null,
            "margin": null,
            "max_height": null,
            "max_width": null,
            "min_height": null,
            "min_width": null,
            "object_fit": null,
            "object_position": null,
            "order": null,
            "overflow": null,
            "overflow_x": null,
            "overflow_y": null,
            "padding": null,
            "right": null,
            "top": null,
            "visibility": null,
            "width": null
          }
        },
        "6cb233aa3cf842bb8e66cd73c87b3691": {
          "model_module": "@jupyter-widgets/controls",
          "model_name": "DescriptionStyleModel",
          "model_module_version": "1.5.0",
          "state": {
            "_model_module": "@jupyter-widgets/controls",
            "_model_module_version": "1.5.0",
            "_model_name": "DescriptionStyleModel",
            "_view_count": null,
            "_view_module": "@jupyter-widgets/base",
            "_view_module_version": "1.2.0",
            "_view_name": "StyleView",
            "description_width": ""
          }
        },
        "ebceb8c7077843a5a93d8f0f9e324dff": {
          "model_module": "@jupyter-widgets/base",
          "model_name": "LayoutModel",
          "model_module_version": "1.2.0",
          "state": {
            "_model_module": "@jupyter-widgets/base",
            "_model_module_version": "1.2.0",
            "_model_name": "LayoutModel",
            "_view_count": null,
            "_view_module": "@jupyter-widgets/base",
            "_view_module_version": "1.2.0",
            "_view_name": "LayoutView",
            "align_content": null,
            "align_items": null,
            "align_self": null,
            "border": null,
            "bottom": null,
            "display": null,
            "flex": null,
            "flex_flow": null,
            "grid_area": null,
            "grid_auto_columns": null,
            "grid_auto_flow": null,
            "grid_auto_rows": null,
            "grid_column": null,
            "grid_gap": null,
            "grid_row": null,
            "grid_template_areas": null,
            "grid_template_columns": null,
            "grid_template_rows": null,
            "height": null,
            "justify_content": null,
            "justify_items": null,
            "left": null,
            "margin": null,
            "max_height": null,
            "max_width": null,
            "min_height": null,
            "min_width": null,
            "object_fit": null,
            "object_position": null,
            "order": null,
            "overflow": null,
            "overflow_x": null,
            "overflow_y": null,
            "padding": null,
            "right": null,
            "top": null,
            "visibility": null,
            "width": null
          }
        },
        "707109a48d4f49db894900d1d6d52ad1": {
          "model_module": "@jupyter-widgets/controls",
          "model_name": "ProgressStyleModel",
          "model_module_version": "1.5.0",
          "state": {
            "_model_module": "@jupyter-widgets/controls",
            "_model_module_version": "1.5.0",
            "_model_name": "ProgressStyleModel",
            "_view_count": null,
            "_view_module": "@jupyter-widgets/base",
            "_view_module_version": "1.2.0",
            "_view_name": "StyleView",
            "bar_color": null,
            "description_width": ""
          }
        },
        "208356adbe59454ca49a83b662b7a77b": {
          "model_module": "@jupyter-widgets/base",
          "model_name": "LayoutModel",
          "model_module_version": "1.2.0",
          "state": {
            "_model_module": "@jupyter-widgets/base",
            "_model_module_version": "1.2.0",
            "_model_name": "LayoutModel",
            "_view_count": null,
            "_view_module": "@jupyter-widgets/base",
            "_view_module_version": "1.2.0",
            "_view_name": "LayoutView",
            "align_content": null,
            "align_items": null,
            "align_self": null,
            "border": null,
            "bottom": null,
            "display": null,
            "flex": null,
            "flex_flow": null,
            "grid_area": null,
            "grid_auto_columns": null,
            "grid_auto_flow": null,
            "grid_auto_rows": null,
            "grid_column": null,
            "grid_gap": null,
            "grid_row": null,
            "grid_template_areas": null,
            "grid_template_columns": null,
            "grid_template_rows": null,
            "height": null,
            "justify_content": null,
            "justify_items": null,
            "left": null,
            "margin": null,
            "max_height": null,
            "max_width": null,
            "min_height": null,
            "min_width": null,
            "object_fit": null,
            "object_position": null,
            "order": null,
            "overflow": null,
            "overflow_x": null,
            "overflow_y": null,
            "padding": null,
            "right": null,
            "top": null,
            "visibility": null,
            "width": null
          }
        },
        "d4f094ba0bcd4e0eaeabd77e4cc171a7": {
          "model_module": "@jupyter-widgets/controls",
          "model_name": "DescriptionStyleModel",
          "model_module_version": "1.5.0",
          "state": {
            "_model_module": "@jupyter-widgets/controls",
            "_model_module_version": "1.5.0",
            "_model_name": "DescriptionStyleModel",
            "_view_count": null,
            "_view_module": "@jupyter-widgets/base",
            "_view_module_version": "1.2.0",
            "_view_name": "StyleView",
            "description_width": ""
          }
        }
      }
    },
    "accelerator": "GPU"
  },
  "cells": [
    {
      "cell_type": "markdown",
      "source": [
        "# 4. Preprocesamiento y Modelos del Lenguaje (Neuronal)"
      ],
      "metadata": {
        "id": "_IKk1RRQ8Mnp"
      }
    },
    {
      "cell_type": "markdown",
      "metadata": {
        "id": "de9a9e41-d41b-4777-9f61-9474cd17c741"
      },
      "source": [
        "<img src=\"https://2.bp.blogspot.com/-oDvCIkIjwXw/VdWWxfvmq3I/AAAAAAAARUE/r0MrmbNzMz8/s1600/inputoutput.jpg\" width=500>"
      ]
    },
    {
      "cell_type": "markdown",
      "source": [
        "## Objetivos"
      ],
      "metadata": {
        "id": "8lD1TG2_tNCV"
      }
    },
    {
      "cell_type": "markdown",
      "source": [
        "- Aplicar preprocesamiento a corpus en español e inglés\n",
        "- Entender el funcionamiento de algoritmos de sub-word tokenization\n",
        "  - Aplicar BPE a corpus\n",
        "- Entrenar un modelo del lenguaje neuronal con la arquitectura de Bengio"
      ],
      "metadata": {
        "id": "1B2abIVKtQeD"
      }
    },
    {
      "cell_type": "markdown",
      "metadata": {
        "id": "66bf61a5-0e1a-4b8a-a4b2-16d381f007ba"
      },
      "source": [
        "## ¿Qué es una palabra?"
      ]
    },
    {
      "cell_type": "markdown",
      "metadata": {
        "id": "f8e85c44-87ac-4fb0-b4a6-95f9e12cd98e"
      },
      "source": [
        "- Tecnicas de procesamiento del lenguaje depende de las palabras y las oraciones.\n",
        "  - Debemos identificar estos elementos para poder procesarlos\n",
        "- Este paso de identificación de palabras y oraciones se le llama segmentación de texto o **tokenización** (*tokenization*)\n",
        "- Además de la identificación de unidades aplicaremos transformaciones al texto"
      ]
    },
    {
      "cell_type": "markdown",
      "metadata": {
        "id": "31415ec4-b845-43d4-9768-e185d993ac01"
      },
      "source": [
        "Aunque la definición de lo que es una palabra puede parecer obvia es tremendamente difícil."
      ]
    },
    {
      "cell_type": "markdown",
      "metadata": {
        "id": "77b7ac8a-f5f0-476d-827a-e44e26b2682d"
      },
      "source": [
        "- I'm\n",
        "- we'd\n",
        "- I've\n",
        "- Diego's Bicycle"
      ]
    },
    {
      "cell_type": "markdown",
      "metadata": {
        "id": "f18669fc-3c5a-4d91-86c7-c171d2b57b08"
      },
      "source": [
        "## Elementos del preprocesamiento"
      ]
    },
    {
      "cell_type": "markdown",
      "metadata": {
        "id": "af1bb17a-a46e-4a91-ab4e-dab771a46146"
      },
      "source": [
        "- Normalización\n",
        "    - Pasar todo a minúsculas\n",
        "    - Pasar texto a cierta norma ortográfica\n",
        "- Quitar stopwords\n",
        "- Quitar elementos de marcado (HTML, XML)\n",
        "- Tokenización"
      ]
    },
    {
      "cell_type": "markdown",
      "metadata": {
        "id": "16ba6a90-cf6d-4c4a-8a60-603b560272ed"
      },
      "source": [
        "### Stopwords"
      ]
    },
    {
      "cell_type": "code",
      "execution_count": 1,
      "metadata": {
        "id": "c4794b97-7510-41df-afa8-5ecebd05904f"
      },
      "outputs": [],
      "source": [
        "import re\n",
        "import nltk\n",
        "from nltk.corpus import stopwords\n",
        "from rich import print as rprint"
      ]
    },
    {
      "cell_type": "code",
      "source": [
        "BASE_PATH = \"drive/MyDrive\"\n",
        "CORPORA_PATH = f\"{BASE_PATH}/corpora/tokenization\"\n",
        "MODELS_PATH = f\"{BASE_PATH}/models/sub-word\""
      ],
      "metadata": {
        "id": "StC41MVK3P2l"
      },
      "execution_count": 2,
      "outputs": []
    },
    {
      "cell_type": "code",
      "source": [
        "nltk.download('stopwords')"
      ],
      "metadata": {
        "id": "fmp68qFmwaZ_",
        "colab": {
          "base_uri": "https://localhost:8080/"
        },
        "outputId": "0bca63ac-4d94-4066-9830-8f038d99a44f"
      },
      "execution_count": 3,
      "outputs": [
        {
          "output_type": "stream",
          "name": "stderr",
          "text": [
            "[nltk_data] Downloading package stopwords to /root/nltk_data...\n",
            "[nltk_data]   Unzipping corpora/stopwords.zip.\n"
          ]
        },
        {
          "output_type": "execute_result",
          "data": {
            "text/plain": [
              "True"
            ]
          },
          "metadata": {},
          "execution_count": 3
        }
      ]
    },
    {
      "cell_type": "code",
      "execution_count": 4,
      "metadata": {
        "id": "656189ff-e72a-4320-a015-1d17d64ae7d6",
        "colab": {
          "base_uri": "https://localhost:8080/",
          "height": 34
        },
        "outputId": "7a2e619a-08fb-4c14-b643-d59b3f1265ea"
      },
      "outputs": [
        {
          "output_type": "display_data",
          "data": {
            "text/plain": [
              "\u001b[1m[\u001b[0m\u001b[32m'de'\u001b[0m, \u001b[32m'la'\u001b[0m, \u001b[32m'que'\u001b[0m, \u001b[32m'el'\u001b[0m, \u001b[32m'en'\u001b[0m, \u001b[32m'y'\u001b[0m, \u001b[32m'a'\u001b[0m, \u001b[32m'los'\u001b[0m, \u001b[32m'del'\u001b[0m, \u001b[32m'se'\u001b[0m, \u001b[32m'las'\u001b[0m, \u001b[32m'por'\u001b[0m, \u001b[32m'un'\u001b[0m, \u001b[32m'para'\u001b[0m, \u001b[32m'con'\u001b[0m\u001b[1m]\u001b[0m\n"
            ],
            "text/html": [
              "<pre style=\"white-space:pre;overflow-x:auto;line-height:normal;font-family:Menlo,'DejaVu Sans Mono',consolas,'Courier New',monospace\"><span style=\"font-weight: bold\">[</span><span style=\"color: #008000; text-decoration-color: #008000\">'de'</span>, <span style=\"color: #008000; text-decoration-color: #008000\">'la'</span>, <span style=\"color: #008000; text-decoration-color: #008000\">'que'</span>, <span style=\"color: #008000; text-decoration-color: #008000\">'el'</span>, <span style=\"color: #008000; text-decoration-color: #008000\">'en'</span>, <span style=\"color: #008000; text-decoration-color: #008000\">'y'</span>, <span style=\"color: #008000; text-decoration-color: #008000\">'a'</span>, <span style=\"color: #008000; text-decoration-color: #008000\">'los'</span>, <span style=\"color: #008000; text-decoration-color: #008000\">'del'</span>, <span style=\"color: #008000; text-decoration-color: #008000\">'se'</span>, <span style=\"color: #008000; text-decoration-color: #008000\">'las'</span>, <span style=\"color: #008000; text-decoration-color: #008000\">'por'</span>, <span style=\"color: #008000; text-decoration-color: #008000\">'un'</span>, <span style=\"color: #008000; text-decoration-color: #008000\">'para'</span>, <span style=\"color: #008000; text-decoration-color: #008000\">'con'</span><span style=\"font-weight: bold\">]</span>\n",
              "</pre>\n"
            ]
          },
          "metadata": {}
        }
      ],
      "source": [
        "rprint(stopwords.words(\"spanish\")[:15])"
      ]
    },
    {
      "cell_type": "markdown",
      "metadata": {
        "id": "48386915-018b-4ae0-86c6-17c35d05b260"
      },
      "source": [
        "### Normalización"
      ]
    },
    {
      "cell_type": "markdown",
      "metadata": {
        "id": "b1408f7a-7b41-4aa7-9e02-83f163215d5a"
      },
      "source": [
        "<center><img src=\"https://external-content.duckduckgo.com/iu/?u=http%3A%2F%2Fimg1.wikia.nocookie.net%2F__cb20140504152558%2Fspongebob%2Fimages%2Fe%2Fe3%2FThe_spongebob.jpg&f=1&nofb=1&ipt=28368023b54a7c84c9100025981b1042d0f4ca3ceaac53be42094cc1c3794348&ipo=images\" height=300 width=300></center>"
      ]
    },
    {
      "cell_type": "code",
      "execution_count": 5,
      "metadata": {
        "id": "6a0d292c-0913-43fc-915e-3c471c3e6498"
      },
      "outputs": [],
      "source": [
        "import unicodedata\n",
        "\n",
        "def strip_accents(s: str) -> str:\n",
        "   return ''.join(\n",
        "       c for c in unicodedata.normalize('NFD', s)\n",
        "       if unicodedata.category(c) != 'Mn'\n",
        "   )"
      ]
    },
    {
      "cell_type": "code",
      "execution_count": 6,
      "metadata": {
        "id": "24ebe82f-fc22-44f0-a8e1-850159088bcc",
        "colab": {
          "base_uri": "https://localhost:8080/",
          "height": 35
        },
        "outputId": "b0908fb3-5d60-4298-e68b-045ff88388fc"
      },
      "outputs": [
        {
          "output_type": "execute_result",
          "data": {
            "text/plain": [
              "'mama hoy queria que me oigan en el olimpo'"
            ],
            "application/vnd.google.colaboratory.intrinsic+json": {
              "type": "string"
            }
          },
          "metadata": {},
          "execution_count": 6
        }
      ],
      "source": [
        "strip_accents(\"mamá hoy quería que me oigan en el olímpo\")"
      ]
    },
    {
      "cell_type": "markdown",
      "metadata": {
        "id": "56979837-f830-4485-a789-fb19f9a47fe8"
      },
      "source": [
        "- https://www.unicode.org/reports/tr44/#GC_Values_Table\n",
        "\n",
        "> And keep in mind, these manipulations may significantly alter the meaning of the text. Accents, Umlauts etc. are not \"decoration\".\n",
        "- [oefe](https://stackoverflow.com/users/49793/oefe) - [source](https://stackoverflow.com/questions/517923/what-is-the-best-way-to-remove-accents-normalize-in-a-python-unicode-string)"
      ]
    },
    {
      "cell_type": "code",
      "execution_count": 7,
      "metadata": {
        "id": "633f0e32-c0c5-4406-9765-6233122afe26"
      },
      "outputs": [],
      "source": [
        "def preprocess(words: list[str], regex: str=\"\\w+\", lang: str=\"en\") -> list[str]:\n",
        "    \"\"\"Preprocess step for corpus\n",
        "\n",
        "    Parameters\n",
        "    ----------\n",
        "    words: list[str]\n",
        "        Words of a given corpus\n",
        "    regex: str\n",
        "        Optional regex to filter patterns in words. Default \\w+\n",
        "    lang: str\n",
        "        Optional lang for choice stopwords. Default \"en\"\n",
        "\n",
        "    Return\n",
        "    ------\n",
        "    list:\n",
        "        List of words filtered and normalized\n",
        "\n",
        "    \"\"\"\n",
        "    stop_lang = \"english\" if lang==\"en\" else \"spanish\"\n",
        "    result = []\n",
        "    for word in words:\n",
        "        word = re.sub(f\"[^\\w\\s]\", \"\", word).lower()\n",
        "        if word.isalpha():\n",
        "            result.append(word)\n",
        "    return result"
      ]
    },
    {
      "cell_type": "markdown",
      "source": [
        "#### ¿Para otras lenguas?"
      ],
      "metadata": {
        "id": "mOlls_kCDNmF"
      }
    },
    {
      "cell_type": "markdown",
      "metadata": {
        "editable": true,
        "tags": [],
        "id": "gbg-GwEzSjqv"
      },
      "source": [
        "- No hay muchos recursos :(\n",
        "- Pero para el nahuatl esta `pyelotl` :)"
      ]
    },
    {
      "cell_type": "markdown",
      "metadata": {
        "editable": true,
        "id": "aNWBVF4c9N3j",
        "tags": []
      },
      "source": [
        "#### Normalizando el Nahuatl"
      ]
    },
    {
      "cell_type": "code",
      "source": [
        "!pip install elotl"
      ],
      "metadata": {
        "colab": {
          "base_uri": "https://localhost:8080/"
        },
        "id": "pGfBR-FV4n0s",
        "outputId": "2fb13b5c-9289-4d83-937c-0f69ee07d94d"
      },
      "execution_count": 8,
      "outputs": [
        {
          "output_type": "stream",
          "name": "stdout",
          "text": [
            "Collecting elotl\n",
            "  Downloading elotl-0.1.1-py3-none-any.whl.metadata (6.2 kB)\n",
            "Downloading elotl-0.1.1-py3-none-any.whl (5.1 MB)\n",
            "\u001b[2K   \u001b[90m━━━━━━━━━━━━━━━━━━━━━━━━━━━━━━━━━━━━━━━━\u001b[0m \u001b[32m5.1/5.1 MB\u001b[0m \u001b[31m14.7 MB/s\u001b[0m eta \u001b[36m0:00:00\u001b[0m\n",
            "\u001b[?25hInstalling collected packages: elotl\n",
            "Successfully installed elotl-0.1.1\n"
          ]
        }
      ]
    },
    {
      "cell_type": "code",
      "execution_count": 9,
      "metadata": {
        "editable": true,
        "id": "26GQkUkX9QvB",
        "tags": []
      },
      "outputs": [],
      "source": [
        "import elotl.corpus\n",
        "import elotl.nahuatl.orthography"
      ]
    },
    {
      "cell_type": "code",
      "source": [
        "axolotl = elotl.corpus.load(\"axolotl\")"
      ],
      "metadata": {
        "id": "2-5cSewJ4p40"
      },
      "execution_count": 10,
      "outputs": []
    },
    {
      "cell_type": "code",
      "execution_count": 11,
      "metadata": {
        "editable": true,
        "id": "thlTYQUqGwRE",
        "tags": []
      },
      "outputs": [],
      "source": [
        "# Tres posibles normalizadores: sep, inali, ack\n",
        "# Sauce: https://pypi.org/project/elotl/\n",
        "\n",
        "nahuatl_normalizer = elotl.nahuatl.orthography.Normalizer(\"sep\")"
      ]
    },
    {
      "cell_type": "code",
      "execution_count": 12,
      "metadata": {
        "editable": true,
        "id": "ZLZX7VeNHDxn",
        "tags": [],
        "colab": {
          "base_uri": "https://localhost:8080/",
          "height": 35
        },
        "outputId": "b3be820b-f49f-40a2-a27a-f9d6bbea3dc3"
      },
      "outputs": [
        {
          "output_type": "execute_result",
          "data": {
            "text/plain": [
              "'¿In chalchihuitl, teocuitlatl, mach ah ca on yaz?'"
            ],
            "application/vnd.google.colaboratory.intrinsic+json": {
              "type": "string"
            }
          },
          "metadata": {},
          "execution_count": 12
        }
      ],
      "source": [
        "axolotl[1][1]"
      ]
    },
    {
      "cell_type": "code",
      "execution_count": 13,
      "metadata": {
        "editable": true,
        "id": "nkC--od4HLao",
        "tags": [],
        "colab": {
          "base_uri": "https://localhost:8080/",
          "height": 35
        },
        "outputId": "ae0ecf08-b20d-4e88-e4a9-8265ef09e01b"
      },
      "outputs": [
        {
          "output_type": "execute_result",
          "data": {
            "text/plain": [
              "'¿in chalchiuitl, teokuitlatl, mach aj ka on yas?'"
            ],
            "application/vnd.google.colaboratory.intrinsic+json": {
              "type": "string"
            }
          },
          "metadata": {},
          "execution_count": 13
        }
      ],
      "source": [
        "nahuatl_normalizer.normalize(axolotl[1][1])"
      ]
    },
    {
      "cell_type": "code",
      "execution_count": 14,
      "metadata": {
        "editable": true,
        "id": "mIXqhX_uHWJ8",
        "tags": [],
        "colab": {
          "base_uri": "https://localhost:8080/",
          "height": 35
        },
        "outputId": "32a363fa-5d82-45dc-fc53-62df07c4da99"
      },
      "outputs": [
        {
          "output_type": "execute_result",
          "data": {
            "text/plain": [
              "'¿in t͡ʃalt͡ʃiwiƛ, teokʷiƛaƛ, mat͡ʃ aʔ ka on yas?'"
            ],
            "application/vnd.google.colaboratory.intrinsic+json": {
              "type": "string"
            }
          },
          "metadata": {},
          "execution_count": 14
        }
      ],
      "source": [
        "nahuatl_normalizer.to_phones(axolotl[1][1])"
      ]
    },
    {
      "cell_type": "markdown",
      "source": [
        "## Tokenización"
      ],
      "metadata": {
        "id": "y291dtSSDUwx"
      }
    },
    {
      "cell_type": "markdown",
      "metadata": {
        "id": "0ddc2aa7-ee08-49d6-965b-33689dc90ec5"
      },
      "source": [
        "### Word-base tokenization"
      ]
    },
    {
      "cell_type": "code",
      "execution_count": 15,
      "metadata": {
        "id": "f9b61fc1-db4b-4fe2-a5e8-208224511055"
      },
      "outputs": [],
      "source": [
        "text = \"\"\"\n",
        "¡¡¡Mamá prendele a la grabadora!!!, ¿llamaste a las vecinas? Corre la voz porque, efectivamente, !estoy en la tele! 📺\n",
        "\"\"\""
      ]
    },
    {
      "cell_type": "code",
      "execution_count": 16,
      "metadata": {
        "id": "99e04d8e-7a84-48da-9cce-ea13e2a49219",
        "colab": {
          "base_uri": "https://localhost:8080/"
        },
        "outputId": "fa39217a-51ce-455b-ac05-547a0d9bb289"
      },
      "outputs": [
        {
          "output_type": "execute_result",
          "data": {
            "text/plain": [
              "['¡¡¡Mamá',\n",
              " 'prendele',\n",
              " 'a',\n",
              " 'la',\n",
              " 'grabadora!!!,',\n",
              " '¿llamaste',\n",
              " 'a',\n",
              " 'las',\n",
              " 'vecinas?',\n",
              " 'Corre',\n",
              " 'la',\n",
              " 'voz',\n",
              " 'porque,',\n",
              " 'efectivamente,',\n",
              " '!estoy',\n",
              " 'en',\n",
              " 'la',\n",
              " 'tele!',\n",
              " '📺']"
            ]
          },
          "metadata": {},
          "execution_count": 16
        }
      ],
      "source": [
        "text.split()"
      ]
    },
    {
      "cell_type": "code",
      "execution_count": 17,
      "metadata": {
        "id": "391ff037-8b9a-4ce9-9033-a6f9af23a5cf",
        "colab": {
          "base_uri": "https://localhost:8080/"
        },
        "outputId": "5b7ad4f1-7a42-4d62-eba4-43b59d7f7a20"
      },
      "outputs": [
        {
          "output_type": "execute_result",
          "data": {
            "text/plain": [
              "['Mamá',\n",
              " 'prendele',\n",
              " 'a',\n",
              " 'la',\n",
              " 'grabadora',\n",
              " 'llamaste',\n",
              " 'a',\n",
              " 'las',\n",
              " 'vecinas',\n",
              " 'Corre',\n",
              " 'la',\n",
              " 'voz',\n",
              " 'porque',\n",
              " 'efectivamente',\n",
              " 'estoy',\n",
              " 'en',\n",
              " 'la',\n",
              " 'tele']"
            ]
          },
          "metadata": {},
          "execution_count": 17
        }
      ],
      "source": [
        "# [a-zA-Z_]\n",
        "regex = r\"\\w+\"\n",
        "re.findall(regex, text)"
      ]
    },
    {
      "cell_type": "code",
      "execution_count": 18,
      "metadata": {
        "id": "bf8294ee-8724-446f-8c02-ad152502ef34",
        "colab": {
          "base_uri": "https://localhost:8080/"
        },
        "outputId": "10126773-033f-4b14-834f-e90c6a88aa95"
      },
      "outputs": [
        {
          "output_type": "execute_result",
          "data": {
            "text/plain": [
              "['El', 'valor', 'de', 'PI', 'es', '3', '14159']"
            ]
          },
          "metadata": {},
          "execution_count": 18
        }
      ],
      "source": [
        "re.findall(regex, \"El valor de PI es 3.14159\")"
      ]
    },
    {
      "cell_type": "markdown",
      "metadata": {
        "id": "f4f2d72d-fb80-4204-a739-167ab9063414"
      },
      "source": [
        "<img src=\"http://images.wikia.com/battlebears/images/2/2c/Troll_Problem.jpg\" with=\"250\" height=\"250\">"
      ]
    },
    {
      "cell_type": "markdown",
      "metadata": {
        "id": "8c5f8ae0-1626-4c15-9b9c-1381ef0d8508"
      },
      "source": [
        "- Vocabularios gigantescos difíciles de procesar\n",
        "- Generalmente, entre más grande es el vocabulario más pesado será nuestro modelo\n",
        "\n",
        "**Ejemplo:**\n",
        "- Si queremos representaciones vectoriales de nuestras palabras obtendríamos vectores distintos para palabras similares\n",
        "    - niño = `v1(39, 34, 5,...)`\n",
        "    - niños = `v2(9, 4, 0,...)`\n",
        "    - niña = `v3(2, 1, 1,...)`\n",
        "    - ...\n",
        "- Tendríamos tokens con bajísima frecuencia\n",
        "    - merequetengue = `vn(0,0,1,...)`"
      ]
    },
    {
      "cell_type": "markdown",
      "metadata": {
        "id": "8e1a0096-0a54-45af-823c-3f8a25cfa196"
      },
      "source": [
        "### Una solución: Steaming/Lematización (AKA la vieja confiable)"
      ]
    },
    {
      "cell_type": "markdown",
      "metadata": {
        "id": "e38c6752-4b70-4b0d-9bbd-10bf16f3f5b6"
      },
      "source": [
        "![](https://i.pinimg.com/736x/77/df/89/77df89e6ff57d332ba4e5d7bff723133--meme.jpg)"
      ]
    },
    {
      "cell_type": "code",
      "execution_count": 19,
      "metadata": {
        "id": "e70c9d0e-2f78-404c-ab8b-6889982092c9",
        "colab": {
          "base_uri": "https://localhost:8080/"
        },
        "outputId": "8223113a-a4cf-4e69-8c58-03a3b5d618ca"
      },
      "outputs": [
        {
          "output_type": "stream",
          "name": "stderr",
          "text": [
            "[nltk_data] Downloading package brown to /root/nltk_data...\n",
            "[nltk_data]   Unzipping corpora/brown.zip.\n"
          ]
        },
        {
          "output_type": "execute_result",
          "data": {
            "text/plain": [
              "True"
            ]
          },
          "metadata": {},
          "execution_count": 19
        }
      ],
      "source": [
        "from nltk.corpus import brown\n",
        "nltk.download('brown')"
      ]
    },
    {
      "cell_type": "code",
      "execution_count": 20,
      "metadata": {
        "id": "8fb7d008-0c35-48c2-9604-c235ed415e4f",
        "colab": {
          "base_uri": "https://localhost:8080/",
          "height": 34
        },
        "outputId": "517d0f5c-dfe6-4246-a72d-e3b40b3eb28a"
      },
      "outputs": [
        {
          "output_type": "display_data",
          "data": {
            "text/plain": [
              "the\n"
            ],
            "text/html": [
              "<pre style=\"white-space:pre;overflow-x:auto;line-height:normal;font-family:Menlo,'DejaVu Sans Mono',consolas,'Courier New',monospace\">the\n",
              "</pre>\n"
            ]
          },
          "metadata": {}
        }
      ],
      "source": [
        "brown_corpus = preprocess(brown.words()[:100000])\n",
        "rprint(brown_corpus[0])"
      ]
    },
    {
      "cell_type": "code",
      "execution_count": 21,
      "metadata": {
        "id": "61f209ea-0d04-42c2-a5c4-afe93a9f4c7a",
        "colab": {
          "base_uri": "https://localhost:8080/",
          "height": 34
        },
        "outputId": "a391ede7-1747-48e7-f82d-00904c3f3fae"
      },
      "outputs": [
        {
          "output_type": "display_data",
          "data": {
            "text/plain": [
              "\u001b[1m[\u001b[0m\u001b[32m'the'\u001b[0m, \u001b[32m'fulton'\u001b[0m, \u001b[32m'county'\u001b[0m, \u001b[32m'grand'\u001b[0m, \u001b[32m'jury'\u001b[0m, \u001b[32m'said'\u001b[0m, \u001b[32m'friday'\u001b[0m, \u001b[32m'an'\u001b[0m, \u001b[32m'investigation'\u001b[0m, \u001b[32m'of'\u001b[0m\u001b[1m]\u001b[0m\n"
            ],
            "text/html": [
              "<pre style=\"white-space:pre;overflow-x:auto;line-height:normal;font-family:Menlo,'DejaVu Sans Mono',consolas,'Courier New',monospace\"><span style=\"font-weight: bold\">[</span><span style=\"color: #008000; text-decoration-color: #008000\">'the'</span>, <span style=\"color: #008000; text-decoration-color: #008000\">'fulton'</span>, <span style=\"color: #008000; text-decoration-color: #008000\">'county'</span>, <span style=\"color: #008000; text-decoration-color: #008000\">'grand'</span>, <span style=\"color: #008000; text-decoration-color: #008000\">'jury'</span>, <span style=\"color: #008000; text-decoration-color: #008000\">'said'</span>, <span style=\"color: #008000; text-decoration-color: #008000\">'friday'</span>, <span style=\"color: #008000; text-decoration-color: #008000\">'an'</span>, <span style=\"color: #008000; text-decoration-color: #008000\">'investigation'</span>, <span style=\"color: #008000; text-decoration-color: #008000\">'of'</span><span style=\"font-weight: bold\">]</span>\n",
              "</pre>\n"
            ]
          },
          "metadata": {}
        }
      ],
      "source": [
        "rprint(brown_corpus[:10])"
      ]
    },
    {
      "cell_type": "code",
      "execution_count": 22,
      "metadata": {
        "id": "e79115bf-9baa-4f3c-b684-a9302abb30e0",
        "colab": {
          "base_uri": "https://localhost:8080/",
          "height": 119
        },
        "outputId": "a87d79c9-9f86-45de-aa93-64d83281b884"
      },
      "outputs": [
        {
          "output_type": "display_data",
          "data": {
            "text/plain": [
              "\u001b[33mBrown Vanilla\u001b[0m\n"
            ],
            "text/html": [
              "<pre style=\"white-space:pre;overflow-x:auto;line-height:normal;font-family:Menlo,'DejaVu Sans Mono',consolas,'Courier New',monospace\"><span style=\"color: #808000; text-decoration-color: #808000\">Brown Vanilla</span>\n",
              "</pre>\n"
            ]
          },
          "metadata": {}
        },
        {
          "output_type": "display_data",
          "data": {
            "text/plain": [
              "Tokens: \u001b[1;36m1161192\u001b[0m\n"
            ],
            "text/html": [
              "<pre style=\"white-space:pre;overflow-x:auto;line-height:normal;font-family:Menlo,'DejaVu Sans Mono',consolas,'Courier New',monospace\">Tokens: <span style=\"color: #008080; text-decoration-color: #008080; font-weight: bold\">1161192</span>\n",
              "</pre>\n"
            ]
          },
          "metadata": {}
        },
        {
          "output_type": "display_data",
          "data": {
            "text/plain": [
              "Tipos: \u001b[1;36m56057\u001b[0m\n"
            ],
            "text/html": [
              "<pre style=\"white-space:pre;overflow-x:auto;line-height:normal;font-family:Menlo,'DejaVu Sans Mono',consolas,'Courier New',monospace\">Tipos: <span style=\"color: #008080; text-decoration-color: #008080; font-weight: bold\">56057</span>\n",
              "</pre>\n"
            ]
          },
          "metadata": {}
        },
        {
          "output_type": "display_data",
          "data": {
            "text/plain": [
              "\u001b[32mBrown Preprocess\u001b[0m\n"
            ],
            "text/html": [
              "<pre style=\"white-space:pre;overflow-x:auto;line-height:normal;font-family:Menlo,'DejaVu Sans Mono',consolas,'Courier New',monospace\"><span style=\"color: #008000; text-decoration-color: #008000\">Brown Preprocess</span>\n",
              "</pre>\n"
            ]
          },
          "metadata": {}
        },
        {
          "output_type": "display_data",
          "data": {
            "text/plain": [
              "Tokens: \u001b[1;36m86303\u001b[0m\n"
            ],
            "text/html": [
              "<pre style=\"white-space:pre;overflow-x:auto;line-height:normal;font-family:Menlo,'DejaVu Sans Mono',consolas,'Courier New',monospace\">Tokens: <span style=\"color: #008080; text-decoration-color: #008080; font-weight: bold\">86303</span>\n",
              "</pre>\n"
            ]
          },
          "metadata": {}
        },
        {
          "output_type": "display_data",
          "data": {
            "text/plain": [
              "Tipos: \u001b[1;36m12091\u001b[0m\n"
            ],
            "text/html": [
              "<pre style=\"white-space:pre;overflow-x:auto;line-height:normal;font-family:Menlo,'DejaVu Sans Mono',consolas,'Courier New',monospace\">Tipos: <span style=\"color: #008080; text-decoration-color: #008080; font-weight: bold\">12091</span>\n",
              "</pre>\n"
            ]
          },
          "metadata": {}
        }
      ],
      "source": [
        "from collections import Counter\n",
        "\n",
        "rprint(f\"[yellow]Brown Vanilla\")\n",
        "rprint(\"Tokens:\", len(brown.words()))\n",
        "rprint(\"Tipos:\", len(Counter(brown.words())))\n",
        "\n",
        "rprint(f\"[green]Brown Preprocess\")\n",
        "rprint(\"Tokens:\", len(brown_corpus))\n",
        "rprint(\"Tipos:\", len(Counter(brown_corpus)))"
      ]
    },
    {
      "cell_type": "markdown",
      "metadata": {
        "id": "510ffd6b-ec60-4900-9560-8049d1b0a904"
      },
      "source": [
        "#### Steamming"
      ]
    },
    {
      "cell_type": "code",
      "execution_count": 23,
      "metadata": {
        "id": "d7d03024-890c-48de-95f0-a890a1063d4f"
      },
      "outputs": [],
      "source": [
        "from nltk.stem.snowball import SnowballStemmer\n",
        "\n",
        "stemmer = SnowballStemmer(\"english\")"
      ]
    },
    {
      "cell_type": "code",
      "execution_count": 24,
      "metadata": {
        "id": "38efb116-8b9a-4500-b2f3-f623f13648d4"
      },
      "outputs": [],
      "source": [
        "stemmed_brown = [stemmer.stem(word) for word in brown_corpus]"
      ]
    },
    {
      "cell_type": "markdown",
      "metadata": {
        "id": "066de27f-2a9b-4acf-bd20-480535359d1f"
      },
      "source": [
        "#### Lematización"
      ]
    },
    {
      "cell_type": "code",
      "execution_count": 25,
      "metadata": {
        "id": "8bef5fdc-528a-4bac-8242-6e91a00f6cbe",
        "colab": {
          "base_uri": "https://localhost:8080/"
        },
        "outputId": "b0bbcfd3-dceb-4dc4-be8d-ace2aa083d26"
      },
      "outputs": [
        {
          "output_type": "stream",
          "name": "stdout",
          "text": [
            "Collecting en-core-web-md==3.8.0\n",
            "  Downloading https://github.com/explosion/spacy-models/releases/download/en_core_web_md-3.8.0/en_core_web_md-3.8.0-py3-none-any.whl (33.5 MB)\n",
            "\u001b[2K     \u001b[90m━━━━━━━━━━━━━━━━━━━━━━━━━━━━━━━━━━━━━━━━\u001b[0m \u001b[32m33.5/33.5 MB\u001b[0m \u001b[31m35.7 MB/s\u001b[0m eta \u001b[36m0:00:00\u001b[0m\n",
            "\u001b[?25hInstalling collected packages: en-core-web-md\n",
            "Successfully installed en-core-web-md-3.8.0\n",
            "\u001b[38;5;2m✔ Download and installation successful\u001b[0m\n",
            "You can now load the package via spacy.load('en_core_web_md')\n",
            "\u001b[38;5;3m⚠ Restart to reload dependencies\u001b[0m\n",
            "If you are in a Jupyter or Colab notebook, you may need to restart Python in\n",
            "order to load all the package's dependencies. You can do this by selecting the\n",
            "'Restart kernel' or 'Restart runtime' option.\n",
            "Collecting es-core-news-md==3.8.0\n",
            "  Downloading https://github.com/explosion/spacy-models/releases/download/es_core_news_md-3.8.0/es_core_news_md-3.8.0-py3-none-any.whl (42.3 MB)\n",
            "\u001b[2K     \u001b[90m━━━━━━━━━━━━━━━━━━━━━━━━━━━━━━━━━━━━━━━━\u001b[0m \u001b[32m42.3/42.3 MB\u001b[0m \u001b[31m15.3 MB/s\u001b[0m eta \u001b[36m0:00:00\u001b[0m\n",
            "\u001b[?25hInstalling collected packages: es-core-news-md\n",
            "Successfully installed es-core-news-md-3.8.0\n",
            "\u001b[38;5;2m✔ Download and installation successful\u001b[0m\n",
            "You can now load the package via spacy.load('es_core_news_md')\n",
            "\u001b[38;5;3m⚠ Restart to reload dependencies\u001b[0m\n",
            "If you are in a Jupyter or Colab notebook, you may need to restart Python in\n",
            "order to load all the package's dependencies. You can do this by selecting the\n",
            "'Restart kernel' or 'Restart runtime' option.\n"
          ]
        }
      ],
      "source": [
        "!python -m spacy download en_core_web_md\n",
        "!python -m spacy download es_core_news_md"
      ]
    },
    {
      "cell_type": "code",
      "execution_count": 26,
      "metadata": {
        "id": "60e870f4-c44c-4c36-8c95-1b425222d9c8"
      },
      "outputs": [],
      "source": [
        "import spacy\n",
        "\n",
        "def lemmatize(words: list, lang: str=\"en\") -> list:\n",
        "    model = \"en_core_web_md\" if lang == \"en\" else \"es_core_news_md\"\n",
        "    nlp = spacy.load(model)\n",
        "    nlp.max_length = 1500000\n",
        "    lemmatizer = nlp.get_pipe(\"lemmatizer\")\n",
        "    return [token.lemma_ for token in nlp(\" \".join(words))]"
      ]
    },
    {
      "cell_type": "code",
      "execution_count": 27,
      "metadata": {
        "id": "10bbcbe3-8e54-469c-bf29-1e9698ee0667"
      },
      "outputs": [],
      "source": [
        "lemmatized_brown = lemmatize(brown_corpus)"
      ]
    },
    {
      "cell_type": "code",
      "execution_count": 28,
      "metadata": {
        "id": "d97520de-ce55-4ad4-8c6a-7539089d30a8",
        "colab": {
          "base_uri": "https://localhost:8080/",
          "height": 68
        },
        "outputId": "cabe7366-152e-43f7-e5b7-cfb396678cff"
      },
      "outputs": [
        {
          "output_type": "display_data",
          "data": {
            "text/plain": [
              "Tipos \u001b[1m(\u001b[0m\u001b[34mword-based\u001b[0m\u001b[1;34m)\u001b[0m\u001b[34m:\u001b[0m \u001b[1;36m12091\u001b[0m\n"
            ],
            "text/html": [
              "<pre style=\"white-space:pre;overflow-x:auto;line-height:normal;font-family:Menlo,'DejaVu Sans Mono',consolas,'Courier New',monospace\">Tipos <span style=\"font-weight: bold\">(</span><span style=\"color: #000080; text-decoration-color: #000080\">word-based</span><span style=\"color: #000080; text-decoration-color: #000080; font-weight: bold\">)</span><span style=\"color: #000080; text-decoration-color: #000080\">:</span> <span style=\"color: #008080; text-decoration-color: #008080; font-weight: bold\">12091</span>\n",
              "</pre>\n"
            ]
          },
          "metadata": {}
        },
        {
          "output_type": "display_data",
          "data": {
            "text/plain": [
              "Tipos \u001b[1m(\u001b[0m\u001b[33mSteamming\u001b[0m\u001b[1;33m)\u001b[0m\u001b[33m:\u001b[0m \u001b[1;36m8465\u001b[0m\n"
            ],
            "text/html": [
              "<pre style=\"white-space:pre;overflow-x:auto;line-height:normal;font-family:Menlo,'DejaVu Sans Mono',consolas,'Courier New',monospace\">Tipos <span style=\"font-weight: bold\">(</span><span style=\"color: #808000; text-decoration-color: #808000\">Steamming</span><span style=\"color: #808000; text-decoration-color: #808000; font-weight: bold\">)</span><span style=\"color: #808000; text-decoration-color: #808000\">:</span> <span style=\"color: #008080; text-decoration-color: #008080; font-weight: bold\">8465</span>\n",
              "</pre>\n"
            ]
          },
          "metadata": {}
        },
        {
          "output_type": "display_data",
          "data": {
            "text/plain": [
              "Tipos \u001b[1m(\u001b[0m\u001b[32mLemmatized\u001b[0m\u001b[1;32m)\u001b[0m\u001b[32m:\u001b[0m \u001b[1;36m9622\u001b[0m\n"
            ],
            "text/html": [
              "<pre style=\"white-space:pre;overflow-x:auto;line-height:normal;font-family:Menlo,'DejaVu Sans Mono',consolas,'Courier New',monospace\">Tipos <span style=\"font-weight: bold\">(</span><span style=\"color: #008000; text-decoration-color: #008000\">Lemmatized</span><span style=\"color: #008000; text-decoration-color: #008000; font-weight: bold\">)</span><span style=\"color: #008000; text-decoration-color: #008000\">:</span> <span style=\"color: #008080; text-decoration-color: #008080; font-weight: bold\">9622</span>\n",
              "</pre>\n"
            ]
          },
          "metadata": {}
        }
      ],
      "source": [
        "from rich.panel import Panel\n",
        "\n",
        "rprint(\"Tipos ([blue]word-based):\", len(Counter(brown_corpus)))\n",
        "rprint(\"Tipos ([yellow]Steamming):\", len(Counter(stemmed_brown)))\n",
        "rprint(\"Tipos ([green]Lemmatized):\", len(Counter(lemmatized_brown)))"
      ]
    },
    {
      "cell_type": "markdown",
      "metadata": {
        "id": "fafef790-10c8-44ab-9793-6708085c8145"
      },
      "source": [
        "#### More problems?\n",
        "\n",
        "<img src=\"https://uploads.dailydot.com/2019/10/Untitled_Goose_Game_Honk.jpeg?auto=compress%2Cformat&ixlib=php-3.3.0\" width=\"250\" height=\"250\">"
      ]
    },
    {
      "cell_type": "markdown",
      "metadata": {
        "id": "8f2cc1f7-c2d8-430b-8197-78b6b784c987"
      },
      "source": [
        "- Métodos dependientes de las lenguas\n",
        "- Se pierde información\n",
        "- Ruled-based"
      ]
    },
    {
      "cell_type": "markdown",
      "metadata": {
        "id": "c1fb1d33-3005-4017-a58d-926702397c24"
      },
      "source": [
        "## Subword-tokenization salva el día 🦸🏼‍♀️"
      ]
    },
    {
      "cell_type": "markdown",
      "metadata": {
        "id": "012112e1-032a-4f2e-8aba-1f190292e79c"
      },
      "source": [
        "![](https://gifdb.com/images/high/super-cow-and-chicken-daxvak1q16quwd9p.webp)"
      ]
    },
    {
      "cell_type": "markdown",
      "metadata": {
        "id": "3de78c10-c81b-4c21-812d-b2a56bca7a10"
      },
      "source": [
        "- Segmentación de palabras en unidades más pequeñas (*sub-words*)\n",
        "- Obtenemos tipos menos variados y con mayores frecuencias\n",
        "    - Esto le gusta modelos basados en métodos estadísticos\n",
        "- Palabras frecuentes no deberían separarse\n",
        "- Palabras largas y raras debería descomponerse en sub-palabras significativas\n",
        "- Los métodos estadisticos que no requieren conocimiento a priori de las lenguas"
      ]
    },
    {
      "cell_type": "code",
      "execution_count": 29,
      "metadata": {
        "id": "d7a81982-9f86-4ba9-90b1-f8f1d1885e2d",
        "colab": {
          "base_uri": "https://localhost:8080/"
        },
        "outputId": "4b87a005-d53f-4beb-b961-f6b169d22340"
      },
      "outputs": [
        {
          "output_type": "stream",
          "name": "stdout",
          "text": [
            "Objetivo: Let's do tokenization! -> [\"Let's\", 'do', 'token', 'ization', '!']\n"
          ]
        }
      ],
      "source": [
        "text = \"Let's do tokenization!\"\n",
        "result = [\"Let's\", \"do\", \"token\", \"ization\", \"!\"]\n",
        "print(f\"Objetivo: {text} -> {result}\")"
      ]
    },
    {
      "cell_type": "markdown",
      "metadata": {
        "id": "4a799376-23f1-483e-9bce-9289ab0f819b"
      },
      "source": [
        "### Algoritmos"
      ]
    },
    {
      "cell_type": "markdown",
      "metadata": {
        "id": "31a4ebfd-ca2d-4e5c-bdbe-1144f4900521"
      },
      "source": [
        "Existen varios algoritmos para hacer *subword-tokenization* como los que se listan a continuación:\n",
        "\n",
        "- Byte-Pair Encoding (BPE)\n",
        "- WordPiece\n",
        "- Unigram"
      ]
    },
    {
      "cell_type": "markdown",
      "metadata": {
        "id": "71325743-1e7f-41b3-b394-bda24d815c0c"
      },
      "source": [
        "#### BPE"
      ]
    },
    {
      "cell_type": "markdown",
      "metadata": {
        "id": "7be7b2d5-b07d-4e7f-863d-46e12344bc15"
      },
      "source": [
        "- Segmenmentación iterativa, comienza segmentando en secuencias de caracteres\n",
        "- Junta los pares más frecuentes (*merge operation*)\n",
        "- Termina cuando se llega al número de *merge operations* especificado o número de vocabulario deseado (*hyperparams*, depende de la implementación)\n",
        "- Introducido en el paper: [Neural Machine Translation of Rare Words with Subword Units, (Sennrich et al., 2015)](https://arxiv.org/abs/1508.07909)"
      ]
    },
    {
      "cell_type": "code",
      "execution_count": 30,
      "metadata": {
        "id": "0b330906-1697-4c37-b100-2590aa2af43e",
        "colab": {
          "base_uri": "https://localhost:8080/",
          "height": 540
        },
        "outputId": "b62c8ea7-e7de-44c0-c782-ce86bd642596"
      },
      "outputs": [
        {
          "output_type": "display_data",
          "data": {
            "text/plain": [
              "<IPython.core.display.HTML object>"
            ],
            "text/html": [
              "<iframe width=\"960\" height=\"515\" src=\"https://www.youtube.com/embed/HEikzVL-lZU\"></iframe>\n"
            ]
          },
          "metadata": {}
        }
      ],
      "source": [
        "%%HTML\n",
        "<iframe width=\"960\" height=\"515\" src=\"https://www.youtube.com/embed/HEikzVL-lZU\"></iframe>"
      ]
    },
    {
      "cell_type": "code",
      "execution_count": 31,
      "metadata": {
        "scrolled": true,
        "id": "2e6c110d-731a-42c2-b577-53e30ab110ca",
        "colab": {
          "base_uri": "https://localhost:8080/"
        },
        "outputId": "016446c0-07c9-4dbc-ec00-9879adb6a34e"
      },
      "outputs": [
        {
          "output_type": "stream",
          "name": "stdout",
          "text": [
            "Requirement already satisfied: transformers in /usr/local/lib/python3.11/dist-packages (4.50.3)\n",
            "Requirement already satisfied: filelock in /usr/local/lib/python3.11/dist-packages (from transformers) (3.18.0)\n",
            "Requirement already satisfied: huggingface-hub<1.0,>=0.26.0 in /usr/local/lib/python3.11/dist-packages (from transformers) (0.30.1)\n",
            "Requirement already satisfied: numpy>=1.17 in /usr/local/lib/python3.11/dist-packages (from transformers) (2.0.2)\n",
            "Requirement already satisfied: packaging>=20.0 in /usr/local/lib/python3.11/dist-packages (from transformers) (24.2)\n",
            "Requirement already satisfied: pyyaml>=5.1 in /usr/local/lib/python3.11/dist-packages (from transformers) (6.0.2)\n",
            "Requirement already satisfied: regex!=2019.12.17 in /usr/local/lib/python3.11/dist-packages (from transformers) (2024.11.6)\n",
            "Requirement already satisfied: requests in /usr/local/lib/python3.11/dist-packages (from transformers) (2.32.3)\n",
            "Requirement already satisfied: tokenizers<0.22,>=0.21 in /usr/local/lib/python3.11/dist-packages (from transformers) (0.21.1)\n",
            "Requirement already satisfied: safetensors>=0.4.3 in /usr/local/lib/python3.11/dist-packages (from transformers) (0.5.3)\n",
            "Requirement already satisfied: tqdm>=4.27 in /usr/local/lib/python3.11/dist-packages (from transformers) (4.67.1)\n",
            "Requirement already satisfied: fsspec>=2023.5.0 in /usr/local/lib/python3.11/dist-packages (from huggingface-hub<1.0,>=0.26.0->transformers) (2025.3.2)\n",
            "Requirement already satisfied: typing-extensions>=3.7.4.3 in /usr/local/lib/python3.11/dist-packages (from huggingface-hub<1.0,>=0.26.0->transformers) (4.13.0)\n",
            "Requirement already satisfied: charset-normalizer<4,>=2 in /usr/local/lib/python3.11/dist-packages (from requests->transformers) (3.4.1)\n",
            "Requirement already satisfied: idna<4,>=2.5 in /usr/local/lib/python3.11/dist-packages (from requests->transformers) (3.10)\n",
            "Requirement already satisfied: urllib3<3,>=1.21.1 in /usr/local/lib/python3.11/dist-packages (from requests->transformers) (2.3.0)\n",
            "Requirement already satisfied: certifi>=2017.4.17 in /usr/local/lib/python3.11/dist-packages (from requests->transformers) (2025.1.31)\n"
          ]
        }
      ],
      "source": [
        "!pip install transformers"
      ]
    },
    {
      "cell_type": "code",
      "execution_count": 32,
      "metadata": {
        "editable": true,
        "id": "aeeba1d3-4f9f-4b00-8a77-8a34be974189",
        "tags": []
      },
      "outputs": [],
      "source": [
        "SENTENCE = \"Let's do this tokenization to enable hypermodernization on my tokens tokenized 👁️👁️👁️!!!\""
      ]
    },
    {
      "cell_type": "code",
      "execution_count": 33,
      "metadata": {
        "editable": true,
        "id": "bb2e0093-1039-4e6d-aade-d2758c482698",
        "tags": [],
        "colab": {
          "base_uri": "https://localhost:8080/",
          "height": 757,
          "referenced_widgets": [
            "e4abef7cccce4a4bb61878ab4f956519",
            "89e7713cf06e455e9b2f222e81de6204",
            "28217347a8824c30a7acf7342e7d2003",
            "7363c0143acb43638e72968cde3ffab1",
            "c112ff2d842347e4bec19ebc6cae6528",
            "08cc57c0bf4c40cea9749c56045bc3db",
            "90890a9682e443e9a1357c6cf04e01d1",
            "011ce9f22c754ef8ac2ee36cc8aa1534",
            "a3cacdd7947944e8ab27ffe6e2f4baeb",
            "a6b3c3258f4f4b24aaf2811f45085d63",
            "76ba08cca9c34873835ac54f40908a08",
            "b25b7ad573234d418eed623267a52b33",
            "a352af2cc427492fbbc551bdfb944508",
            "211468f97c6d4734a2404d015bc97cbb",
            "c5c7cbdf4b304c04b3833172e33cdca0",
            "37adffdc11414535bab95aa8cf4f2d33",
            "e2d9ff13d8f64a1eb01ef63c4544614b",
            "9b6d41bae21346ca8e4d12b902b3b178",
            "96e9dd59c6bf40b0b763e2eda7d46eed",
            "26d27a09147344f0b326667bd5249ffd",
            "f2ef64c0635b448e939c092dfdfd00ea",
            "64fd43e1b02f4439916d6f225763c185",
            "4899263858034217afd414c73aafae9c",
            "368957e38aea44e68500a0cc4e34cae1",
            "47e6107488d24d5581a88e6431339c51",
            "1e51b03a71c649e0ae2d248f5d129ebc",
            "28581490021347de81c4e77868298d63",
            "f53d975f5e3d4054aaa4609ef81fa07e",
            "31170730407b41a38ff2b5eaf5edc1f5",
            "e7c3f717bcfb46b8bce8a895f2f29f00",
            "a899a3b2e3bd4b1dbdbc6b1bc9ec1c99",
            "0ec6b02667994de5abb384fdad62d36f",
            "fda53df688d34ae1bf2b08fc8573fe61",
            "07c9fc80ddfe42198e62b006da9fc314",
            "62f295be76a347cbbe7955f3be9bd649",
            "abb2a6e76eb24acdae220a9785d0f407",
            "e4cff11c3f9a4bef83c29e9bc7aa6244",
            "0bebc31fe07749d39f555c568d20b67a",
            "a2293235487e46fc96f8f46f35f27733",
            "d421add1d61142a2b20c2a40edb910cb",
            "6b46942db6aa46f5b13ed531838d86b0",
            "0f2ce32a663d41b7943c26a47c33cfb3",
            "71cf95a8ece44da1b871da8ae246eaa7",
            "199d80289b7849a89767e38fd3495922",
            "61d9154efffd456eb7ee785a0247ce0b",
            "4b80073c23634d8c90adb3407736c455",
            "65a80cf2ca6a4c6c95f2860d2e5ff303",
            "400138a6508549acae154c6f5c27038e",
            "ea52e8395b55418b8c53ebc5762c3c29",
            "7f6d579a30d247c3a3613313774f1e2c",
            "71de72a6afa84e4695ce8bceecb48293",
            "3c21cf6a145e4bb285a6389d14f2bc5c",
            "07cda971381148c78bfa0311861473c0",
            "728cb1433fc4498b83d00ad828953998",
            "4df1f7e52e3f496c8a67b2836637fc3e"
          ]
        },
        "outputId": "acf555d1-ce0f-4d71-a985-9ae5c7bb9ed5"
      },
      "outputs": [
        {
          "output_type": "stream",
          "name": "stderr",
          "text": [
            "/usr/local/lib/python3.11/dist-packages/huggingface_hub/utils/_auth.py:94: UserWarning: \n",
            "The secret `HF_TOKEN` does not exist in your Colab secrets.\n",
            "To authenticate with the Hugging Face Hub, create a token in your settings tab (https://huggingface.co/settings/tokens), set it as secret in your Google Colab and restart your session.\n",
            "You will be able to reuse this secret in all of your notebooks.\n",
            "Please note that authentication is recommended but still optional to access public models or datasets.\n",
            "  warnings.warn(\n"
          ]
        },
        {
          "output_type": "display_data",
          "data": {
            "text/plain": [
              "tokenizer_config.json:   0%|          | 0.00/26.0 [00:00<?, ?B/s]"
            ],
            "application/vnd.jupyter.widget-view+json": {
              "version_major": 2,
              "version_minor": 0,
              "model_id": "e4abef7cccce4a4bb61878ab4f956519"
            }
          },
          "metadata": {}
        },
        {
          "output_type": "display_data",
          "data": {
            "text/plain": [
              "vocab.json:   0%|          | 0.00/1.04M [00:00<?, ?B/s]"
            ],
            "application/vnd.jupyter.widget-view+json": {
              "version_major": 2,
              "version_minor": 0,
              "model_id": "b25b7ad573234d418eed623267a52b33"
            }
          },
          "metadata": {}
        },
        {
          "output_type": "display_data",
          "data": {
            "text/plain": [
              "merges.txt:   0%|          | 0.00/456k [00:00<?, ?B/s]"
            ],
            "application/vnd.jupyter.widget-view+json": {
              "version_major": 2,
              "version_minor": 0,
              "model_id": "4899263858034217afd414c73aafae9c"
            }
          },
          "metadata": {}
        },
        {
          "output_type": "display_data",
          "data": {
            "text/plain": [
              "tokenizer.json:   0%|          | 0.00/1.36M [00:00<?, ?B/s]"
            ],
            "application/vnd.jupyter.widget-view+json": {
              "version_major": 2,
              "version_minor": 0,
              "model_id": "07c9fc80ddfe42198e62b006da9fc314"
            }
          },
          "metadata": {}
        },
        {
          "output_type": "display_data",
          "data": {
            "text/plain": [
              "config.json:   0%|          | 0.00/665 [00:00<?, ?B/s]"
            ],
            "application/vnd.jupyter.widget-view+json": {
              "version_major": 2,
              "version_minor": 0,
              "model_id": "61d9154efffd456eb7ee785a0247ce0b"
            }
          },
          "metadata": {}
        },
        {
          "output_type": "display_data",
          "data": {
            "text/plain": [
              "\u001b[1m[\u001b[0m\n",
              "    \u001b[32m'Let'\u001b[0m,\n",
              "    \u001b[32m\"'s\"\u001b[0m,\n",
              "    \u001b[32m'Ġdo'\u001b[0m,\n",
              "    \u001b[32m'Ġthis'\u001b[0m,\n",
              "    \u001b[32m'Ġtoken'\u001b[0m,\n",
              "    \u001b[32m'ization'\u001b[0m,\n",
              "    \u001b[32m'Ġto'\u001b[0m,\n",
              "    \u001b[32m'Ġenable'\u001b[0m,\n",
              "    \u001b[32m'Ġhyper'\u001b[0m,\n",
              "    \u001b[32m'modern'\u001b[0m,\n",
              "    \u001b[32m'ization'\u001b[0m,\n",
              "    \u001b[32m'Ġon'\u001b[0m,\n",
              "    \u001b[32m'Ġmy'\u001b[0m,\n",
              "    \u001b[32m'Ġtokens'\u001b[0m,\n",
              "    \u001b[32m'Ġtoken'\u001b[0m,\n",
              "    \u001b[32m'ized'\u001b[0m,\n",
              "    \u001b[32m'ĠðŁĳ'\u001b[0m,\n",
              "    \u001b[32m'ģ'\u001b[0m,\n",
              "    \u001b[32m'ï¸ı'\u001b[0m,\n",
              "    \u001b[32m'ðŁĳ'\u001b[0m,\n",
              "    \u001b[32m'ģ'\u001b[0m,\n",
              "    \u001b[32m'ï¸ı'\u001b[0m,\n",
              "    \u001b[32m'ðŁĳ'\u001b[0m,\n",
              "    \u001b[32m'ģ'\u001b[0m,\n",
              "    \u001b[32m'ï¸ı'\u001b[0m,\n",
              "    \u001b[32m'!!!'\u001b[0m\n",
              "\u001b[1m]\u001b[0m\n"
            ],
            "text/html": [
              "<pre style=\"white-space:pre;overflow-x:auto;line-height:normal;font-family:Menlo,'DejaVu Sans Mono',consolas,'Courier New',monospace\"><span style=\"font-weight: bold\">[</span>\n",
              "    <span style=\"color: #008000; text-decoration-color: #008000\">'Let'</span>,\n",
              "    <span style=\"color: #008000; text-decoration-color: #008000\">\"'s\"</span>,\n",
              "    <span style=\"color: #008000; text-decoration-color: #008000\">'Ġdo'</span>,\n",
              "    <span style=\"color: #008000; text-decoration-color: #008000\">'Ġthis'</span>,\n",
              "    <span style=\"color: #008000; text-decoration-color: #008000\">'Ġtoken'</span>,\n",
              "    <span style=\"color: #008000; text-decoration-color: #008000\">'ization'</span>,\n",
              "    <span style=\"color: #008000; text-decoration-color: #008000\">'Ġto'</span>,\n",
              "    <span style=\"color: #008000; text-decoration-color: #008000\">'Ġenable'</span>,\n",
              "    <span style=\"color: #008000; text-decoration-color: #008000\">'Ġhyper'</span>,\n",
              "    <span style=\"color: #008000; text-decoration-color: #008000\">'modern'</span>,\n",
              "    <span style=\"color: #008000; text-decoration-color: #008000\">'ization'</span>,\n",
              "    <span style=\"color: #008000; text-decoration-color: #008000\">'Ġon'</span>,\n",
              "    <span style=\"color: #008000; text-decoration-color: #008000\">'Ġmy'</span>,\n",
              "    <span style=\"color: #008000; text-decoration-color: #008000\">'Ġtokens'</span>,\n",
              "    <span style=\"color: #008000; text-decoration-color: #008000\">'Ġtoken'</span>,\n",
              "    <span style=\"color: #008000; text-decoration-color: #008000\">'ized'</span>,\n",
              "    <span style=\"color: #008000; text-decoration-color: #008000\">'ĠðŁĳ'</span>,\n",
              "    <span style=\"color: #008000; text-decoration-color: #008000\">'ģ'</span>,\n",
              "    <span style=\"color: #008000; text-decoration-color: #008000\">'ï¸ı'</span>,\n",
              "    <span style=\"color: #008000; text-decoration-color: #008000\">'ðŁĳ'</span>,\n",
              "    <span style=\"color: #008000; text-decoration-color: #008000\">'ģ'</span>,\n",
              "    <span style=\"color: #008000; text-decoration-color: #008000\">'ï¸ı'</span>,\n",
              "    <span style=\"color: #008000; text-decoration-color: #008000\">'ðŁĳ'</span>,\n",
              "    <span style=\"color: #008000; text-decoration-color: #008000\">'ģ'</span>,\n",
              "    <span style=\"color: #008000; text-decoration-color: #008000\">'ï¸ı'</span>,\n",
              "    <span style=\"color: #008000; text-decoration-color: #008000\">'!!!'</span>\n",
              "<span style=\"font-weight: bold\">]</span>\n",
              "</pre>\n"
            ]
          },
          "metadata": {}
        }
      ],
      "source": [
        "from transformers import GPT2Tokenizer\n",
        "\n",
        "bpe_tokenizer = GPT2Tokenizer.from_pretrained(\"gpt2\")\n",
        "rprint(bpe_tokenizer.tokenize(SENTENCE))"
      ]
    },
    {
      "cell_type": "code",
      "execution_count": 34,
      "metadata": {
        "editable": true,
        "id": "2f3fb464-ee01-45ff-bdb5-1aab19934a33",
        "tags": [],
        "colab": {
          "base_uri": "https://localhost:8080/",
          "height": 493
        },
        "outputId": "0c0e3a6e-cfe8-4bc3-f948-7a1dcf07a209"
      },
      "outputs": [
        {
          "output_type": "display_data",
          "data": {
            "text/plain": [
              "\u001b[1m[\u001b[0m\n",
              "    \u001b[1;36m5756\u001b[0m,\n",
              "    \u001b[1;36m338\u001b[0m,\n",
              "    \u001b[1;36m466\u001b[0m,\n",
              "    \u001b[1;36m428\u001b[0m,\n",
              "    \u001b[1;36m11241\u001b[0m,\n",
              "    \u001b[1;36m1634\u001b[0m,\n",
              "    \u001b[1;36m284\u001b[0m,\n",
              "    \u001b[1;36m7139\u001b[0m,\n",
              "    \u001b[1;36m8718\u001b[0m,\n",
              "    \u001b[1;36m23922\u001b[0m,\n",
              "    \u001b[1;36m1634\u001b[0m,\n",
              "    \u001b[1;36m319\u001b[0m,\n",
              "    \u001b[1;36m616\u001b[0m,\n",
              "    \u001b[1;36m16326\u001b[0m,\n",
              "    \u001b[1;36m11241\u001b[0m,\n",
              "    \u001b[1;36m1143\u001b[0m,\n",
              "    \u001b[1;36m50169\u001b[0m,\n",
              "    \u001b[1;36m223\u001b[0m,\n",
              "    \u001b[1;36m37929\u001b[0m,\n",
              "    \u001b[1;36m41840\u001b[0m,\n",
              "    \u001b[1;36m223\u001b[0m,\n",
              "    \u001b[1;36m37929\u001b[0m,\n",
              "    \u001b[1;36m41840\u001b[0m,\n",
              "    \u001b[1;36m223\u001b[0m,\n",
              "    \u001b[1;36m37929\u001b[0m,\n",
              "    \u001b[1;36m10185\u001b[0m\n",
              "\u001b[1m]\u001b[0m\n"
            ],
            "text/html": [
              "<pre style=\"white-space:pre;overflow-x:auto;line-height:normal;font-family:Menlo,'DejaVu Sans Mono',consolas,'Courier New',monospace\"><span style=\"font-weight: bold\">[</span>\n",
              "    <span style=\"color: #008080; text-decoration-color: #008080; font-weight: bold\">5756</span>,\n",
              "    <span style=\"color: #008080; text-decoration-color: #008080; font-weight: bold\">338</span>,\n",
              "    <span style=\"color: #008080; text-decoration-color: #008080; font-weight: bold\">466</span>,\n",
              "    <span style=\"color: #008080; text-decoration-color: #008080; font-weight: bold\">428</span>,\n",
              "    <span style=\"color: #008080; text-decoration-color: #008080; font-weight: bold\">11241</span>,\n",
              "    <span style=\"color: #008080; text-decoration-color: #008080; font-weight: bold\">1634</span>,\n",
              "    <span style=\"color: #008080; text-decoration-color: #008080; font-weight: bold\">284</span>,\n",
              "    <span style=\"color: #008080; text-decoration-color: #008080; font-weight: bold\">7139</span>,\n",
              "    <span style=\"color: #008080; text-decoration-color: #008080; font-weight: bold\">8718</span>,\n",
              "    <span style=\"color: #008080; text-decoration-color: #008080; font-weight: bold\">23922</span>,\n",
              "    <span style=\"color: #008080; text-decoration-color: #008080; font-weight: bold\">1634</span>,\n",
              "    <span style=\"color: #008080; text-decoration-color: #008080; font-weight: bold\">319</span>,\n",
              "    <span style=\"color: #008080; text-decoration-color: #008080; font-weight: bold\">616</span>,\n",
              "    <span style=\"color: #008080; text-decoration-color: #008080; font-weight: bold\">16326</span>,\n",
              "    <span style=\"color: #008080; text-decoration-color: #008080; font-weight: bold\">11241</span>,\n",
              "    <span style=\"color: #008080; text-decoration-color: #008080; font-weight: bold\">1143</span>,\n",
              "    <span style=\"color: #008080; text-decoration-color: #008080; font-weight: bold\">50169</span>,\n",
              "    <span style=\"color: #008080; text-decoration-color: #008080; font-weight: bold\">223</span>,\n",
              "    <span style=\"color: #008080; text-decoration-color: #008080; font-weight: bold\">37929</span>,\n",
              "    <span style=\"color: #008080; text-decoration-color: #008080; font-weight: bold\">41840</span>,\n",
              "    <span style=\"color: #008080; text-decoration-color: #008080; font-weight: bold\">223</span>,\n",
              "    <span style=\"color: #008080; text-decoration-color: #008080; font-weight: bold\">37929</span>,\n",
              "    <span style=\"color: #008080; text-decoration-color: #008080; font-weight: bold\">41840</span>,\n",
              "    <span style=\"color: #008080; text-decoration-color: #008080; font-weight: bold\">223</span>,\n",
              "    <span style=\"color: #008080; text-decoration-color: #008080; font-weight: bold\">37929</span>,\n",
              "    <span style=\"color: #008080; text-decoration-color: #008080; font-weight: bold\">10185</span>\n",
              "<span style=\"font-weight: bold\">]</span>\n",
              "</pre>\n"
            ]
          },
          "metadata": {}
        }
      ],
      "source": [
        "encoded_tokens = bpe_tokenizer(SENTENCE)\n",
        "rprint(encoded_tokens[\"input_ids\"])"
      ]
    },
    {
      "cell_type": "code",
      "execution_count": 35,
      "metadata": {
        "editable": true,
        "id": "0864645e-d3b4-47b2-a500-cccb81beb3fb",
        "tags": [],
        "colab": {
          "base_uri": "https://localhost:8080/",
          "height": 36
        },
        "outputId": "40002904-d532-40ca-c148-99f9c9f5c553"
      },
      "outputs": [
        {
          "output_type": "display_data",
          "data": {
            "text/plain": [
              "Let's do this tokenization to enable hypermodernization on my tokens tokenized 👁️👁️👁️!!!\n"
            ],
            "text/html": [
              "<pre style=\"white-space:pre;overflow-x:auto;line-height:normal;font-family:Menlo,'DejaVu Sans Mono',consolas,'Courier New',monospace\">Let's do this tokenization to enable hypermodernization on my tokens tokenized 👁️👁️👁️!!!\n",
              "</pre>\n"
            ]
          },
          "metadata": {}
        }
      ],
      "source": [
        "rprint(bpe_tokenizer.decode(encoded_tokens[\"input_ids\"]))"
      ]
    },
    {
      "cell_type": "markdown",
      "metadata": {
        "id": "9a64c0f4-1f4d-4c5f-a875-f224040adc78"
      },
      "source": [
        "- En realidad GPT-2 usa *Byte-Level BPE*\n",
        "    - Evitamos vocabularios de inicio grandes (Ej: unicode)\n",
        "    - Usamos bytes como vocabulario base\n",
        "    - Evitamos *Out Of Vocabulary, OOV* (aka `[UKW]`)"
      ]
    },
    {
      "cell_type": "markdown",
      "metadata": {
        "editable": true,
        "id": "xnaxqfOHHdEo",
        "tags": []
      },
      "source": [
        "#### WordPiece"
      ]
    },
    {
      "cell_type": "markdown",
      "metadata": {
        "editable": true,
        "id": "G_GezIRiHfdl",
        "tags": []
      },
      "source": [
        "- Descrito en el paper: [Japanese and Korean voice search, (Schuster et al., 2012) ](https://static.googleusercontent.com/media/research.google.com/ja//pubs/archive/37842.pdf)\n",
        "- Similar a BPE, inicia el vocabulario con todos los caracteres y aprende los merges\n",
        "- En contraste con BPE, no elige con base en los pares más frecuentes si no los pares que maximicen la probabilidad de aparecer en los datos una vez que se agregan al vocabulario\n",
        "\n",
        "$$score(a_i,b_j) = \\frac{f(a_i,b_j)}{f(a_i)f(b_j)}$$\n",
        "\n",
        "- Esto quiere decir que evalua la perdida de realizar un *merge* asegurandoce que vale la pena hacerlo\n",
        "\n",
        "- Algoritmo usado en `BERT`"
      ]
    },
    {
      "cell_type": "code",
      "execution_count": 36,
      "metadata": {
        "editable": true,
        "tags": [],
        "id": "PErrKfZ4Sjql",
        "colab": {
          "base_uri": "https://localhost:8080/",
          "height": 525
        },
        "outputId": "8ba2a14d-a25e-4949-d832-2438b755b1dd"
      },
      "outputs": [
        {
          "output_type": "display_data",
          "data": {
            "text/plain": [
              "<IPython.core.display.HTML object>"
            ],
            "text/html": [
              "<iframe width=\"960\" height=\"500\" src=\"https://www.youtube.com/embed/qpv6ms_t_1A\"></iframe>\n"
            ]
          },
          "metadata": {}
        }
      ],
      "source": [
        "%%HTML\n",
        "<iframe width=\"960\" height=\"500\" src=\"https://www.youtube.com/embed/qpv6ms_t_1A\"></iframe>"
      ]
    },
    {
      "cell_type": "code",
      "execution_count": 37,
      "metadata": {
        "editable": true,
        "id": "R3GbJuV7A6be",
        "tags": [],
        "colab": {
          "base_uri": "https://localhost:8080/",
          "height": 587,
          "referenced_widgets": [
            "21ca9089f4fa4c139e6ed3b8265bc42f",
            "f7bd8e3d63d44c708b8c5fae981841b5",
            "34d364084c9c4dfc8896b88e1c959df2",
            "7044c6a8b7984404b4d6df32aca5703b",
            "cac7fd0ec6764d2aab5db6f6ce2e2d1c",
            "5486a65e322c4c1c80f273a6e7b81bc9",
            "70f2efcc3720490b80dbccd9c713990e",
            "2b3ea29f1d51475d952bd82a19390592",
            "d1db0d70a9f84e90bd35a29c5a3cafc8",
            "93c718c792104cf7b09a6b9ea98d118e",
            "f563a7139851440895f1a7b521388ffa",
            "d8457b696fc745cdad812e2d21878a6d",
            "f720de204190473784a56b81f7a3c249",
            "9840576f3da74697904b3c8fa519b29c",
            "a4af2a35d9f24f1faf3e14cd40785d9b",
            "52161bfe855b4b889bd3146dae997d75",
            "fba551085d394e019a2b7983ef6b987b",
            "2d64bd1702194d9e9ebc4c55d9b4e09b",
            "b1935716182a4458821bb21420be4ac7",
            "21bd2663d7e94fdfa1d0e29f207697eb",
            "13adfa52c8a24ba49d0b1745d6156bd5",
            "2fa681a8a0504f3e878dd91346a0ccb4",
            "4a1f19482fc4422cbc95cbbb5267e859",
            "074887753f1d4d138fb9cdc62159c457",
            "5716b2e0bd7646aab7e2f582ef5a4b2a",
            "9bc4dbe95c244098993f480f29e34ea4",
            "39339e751d304f78a5acbfaab54c2f92",
            "496947b0091947d2ac381528d65c9e5b",
            "8b21afb413d04a868e82493509d59fd6",
            "e3d2fc93fe5d436d86e7e31b6bb8f6a1",
            "99162863c4314f1396e8251798385a24",
            "9bbc422a392a40ec8eb1e78bd8445c45",
            "9cca7e8533d54f4e8466af211ed5bbd4",
            "1a32d42676be43568a5e7780fc611c9a",
            "d397200bdf5a48738aed56c078c49ebd",
            "2ced7b4ddccd4d27b8e05e2f5a1a7794",
            "06b92224163c472d8ee3969d15f1baaa",
            "9b9ca106702c493bba5a1177ae1b196f",
            "40d51bcfeb1a49e38504e9b888e1dee2",
            "be1d5fa123cd4c34a8717e61315f9e13",
            "e3bf789d46824ea6ad4dd69c0ac16383",
            "cd68703d82f64eeaa7a77f4d23013786",
            "692ec219355b4573a4a0d13303f122ae",
            "ff56ed23e3244c4b923fae8f52691795"
          ]
        },
        "outputId": "2b97db9b-9367-48aa-8a91-9becff3a140d"
      },
      "outputs": [
        {
          "output_type": "display_data",
          "data": {
            "text/plain": [
              "tokenizer_config.json:   0%|          | 0.00/48.0 [00:00<?, ?B/s]"
            ],
            "application/vnd.jupyter.widget-view+json": {
              "version_major": 2,
              "version_minor": 0,
              "model_id": "21ca9089f4fa4c139e6ed3b8265bc42f"
            }
          },
          "metadata": {}
        },
        {
          "output_type": "display_data",
          "data": {
            "text/plain": [
              "vocab.txt:   0%|          | 0.00/232k [00:00<?, ?B/s]"
            ],
            "application/vnd.jupyter.widget-view+json": {
              "version_major": 2,
              "version_minor": 0,
              "model_id": "d8457b696fc745cdad812e2d21878a6d"
            }
          },
          "metadata": {}
        },
        {
          "output_type": "display_data",
          "data": {
            "text/plain": [
              "tokenizer.json:   0%|          | 0.00/466k [00:00<?, ?B/s]"
            ],
            "application/vnd.jupyter.widget-view+json": {
              "version_major": 2,
              "version_minor": 0,
              "model_id": "4a1f19482fc4422cbc95cbbb5267e859"
            }
          },
          "metadata": {}
        },
        {
          "output_type": "display_data",
          "data": {
            "text/plain": [
              "config.json:   0%|          | 0.00/570 [00:00<?, ?B/s]"
            ],
            "application/vnd.jupyter.widget-view+json": {
              "version_major": 2,
              "version_minor": 0,
              "model_id": "1a32d42676be43568a5e7780fc611c9a"
            }
          },
          "metadata": {}
        },
        {
          "output_type": "display_data",
          "data": {
            "text/plain": [
              "\u001b[1m[\u001b[0m\n",
              "    \u001b[32m'\u001b[0m\u001b[32m[\u001b[0m\u001b[32mUNK\u001b[0m\u001b[32m]\u001b[0m\u001b[32m'\u001b[0m,\n",
              "    \u001b[32m\"'\"\u001b[0m,\n",
              "    \u001b[32m's'\u001b[0m,\n",
              "    \u001b[32m'do'\u001b[0m,\n",
              "    \u001b[32m'this'\u001b[0m,\n",
              "    \u001b[32m'token'\u001b[0m,\n",
              "    \u001b[32m'##ization'\u001b[0m,\n",
              "    \u001b[32m'to'\u001b[0m,\n",
              "    \u001b[32m'enable'\u001b[0m,\n",
              "    \u001b[32m'hyper'\u001b[0m,\n",
              "    \u001b[32m'##mo'\u001b[0m,\n",
              "    \u001b[32m'##dern'\u001b[0m,\n",
              "    \u001b[32m'##ization'\u001b[0m,\n",
              "    \u001b[32m'on'\u001b[0m,\n",
              "    \u001b[32m'my'\u001b[0m,\n",
              "    \u001b[32m'token'\u001b[0m,\n",
              "    \u001b[32m'##s'\u001b[0m,\n",
              "    \u001b[32m'token'\u001b[0m,\n",
              "    \u001b[32m'##ized'\u001b[0m,\n",
              "    \u001b[32m'\u001b[0m\u001b[32m[\u001b[0m\u001b[32mUNK\u001b[0m\u001b[32m]\u001b[0m\u001b[32m'\u001b[0m,\n",
              "    \u001b[32m'!'\u001b[0m,\n",
              "    \u001b[32m'!'\u001b[0m,\n",
              "    \u001b[32m'!'\u001b[0m,\n",
              "    \u001b[32m'\u001b[0m\u001b[32m[\u001b[0m\u001b[32mUNK\u001b[0m\u001b[32m]\u001b[0m\u001b[32m'\u001b[0m\n",
              "\u001b[1m]\u001b[0m\n"
            ],
            "text/html": [
              "<pre style=\"white-space:pre;overflow-x:auto;line-height:normal;font-family:Menlo,'DejaVu Sans Mono',consolas,'Courier New',monospace\"><span style=\"font-weight: bold\">[</span>\n",
              "    <span style=\"color: #008000; text-decoration-color: #008000\">'[UNK]'</span>,\n",
              "    <span style=\"color: #008000; text-decoration-color: #008000\">\"'\"</span>,\n",
              "    <span style=\"color: #008000; text-decoration-color: #008000\">'s'</span>,\n",
              "    <span style=\"color: #008000; text-decoration-color: #008000\">'do'</span>,\n",
              "    <span style=\"color: #008000; text-decoration-color: #008000\">'this'</span>,\n",
              "    <span style=\"color: #008000; text-decoration-color: #008000\">'token'</span>,\n",
              "    <span style=\"color: #008000; text-decoration-color: #008000\">'##ization'</span>,\n",
              "    <span style=\"color: #008000; text-decoration-color: #008000\">'to'</span>,\n",
              "    <span style=\"color: #008000; text-decoration-color: #008000\">'enable'</span>,\n",
              "    <span style=\"color: #008000; text-decoration-color: #008000\">'hyper'</span>,\n",
              "    <span style=\"color: #008000; text-decoration-color: #008000\">'##mo'</span>,\n",
              "    <span style=\"color: #008000; text-decoration-color: #008000\">'##dern'</span>,\n",
              "    <span style=\"color: #008000; text-decoration-color: #008000\">'##ization'</span>,\n",
              "    <span style=\"color: #008000; text-decoration-color: #008000\">'on'</span>,\n",
              "    <span style=\"color: #008000; text-decoration-color: #008000\">'my'</span>,\n",
              "    <span style=\"color: #008000; text-decoration-color: #008000\">'token'</span>,\n",
              "    <span style=\"color: #008000; text-decoration-color: #008000\">'##s'</span>,\n",
              "    <span style=\"color: #008000; text-decoration-color: #008000\">'token'</span>,\n",
              "    <span style=\"color: #008000; text-decoration-color: #008000\">'##ized'</span>,\n",
              "    <span style=\"color: #008000; text-decoration-color: #008000\">'[UNK]'</span>,\n",
              "    <span style=\"color: #008000; text-decoration-color: #008000\">'!'</span>,\n",
              "    <span style=\"color: #008000; text-decoration-color: #008000\">'!'</span>,\n",
              "    <span style=\"color: #008000; text-decoration-color: #008000\">'!'</span>,\n",
              "    <span style=\"color: #008000; text-decoration-color: #008000\">'[UNK]'</span>\n",
              "<span style=\"font-weight: bold\">]</span>\n",
              "</pre>\n"
            ]
          },
          "metadata": {}
        }
      ],
      "source": [
        "from transformers import BertTokenizer\n",
        "SENTENCE = \"🌽\" + SENTENCE + \"🔥\"\n",
        "wp_tokenizer = BertTokenizer.from_pretrained(\"bert-base-uncased\")\n",
        "rprint(wp_tokenizer.tokenize(SENTENCE))"
      ]
    },
    {
      "cell_type": "markdown",
      "metadata": {
        "editable": true,
        "id": "v2S-v6_IJiKH",
        "tags": []
      },
      "source": [
        "<center><img src=\"https://us-tuna-sounds-images.voicemod.net/9cf541d2-dd7f-4c1c-ae37-8bc671c855fe-1665957161744.jpg\"></center>"
      ]
    },
    {
      "cell_type": "code",
      "execution_count": 38,
      "metadata": {
        "editable": true,
        "id": "U_l1y4DDJvSq",
        "tags": [],
        "colab": {
          "base_uri": "https://localhost:8080/",
          "height": 561
        },
        "outputId": "bec7426b-76cb-4a0e-8e65-388aba1304cf"
      },
      "outputs": [
        {
          "output_type": "display_data",
          "data": {
            "text/plain": [
              "\u001b[1m{\u001b[0m\n",
              "    \u001b[32m'input_ids'\u001b[0m: \u001b[1m[\u001b[0m\n",
              "        \u001b[1;36m101\u001b[0m,\n",
              "        \u001b[1;36m100\u001b[0m,\n",
              "        \u001b[1;36m1005\u001b[0m,\n",
              "        \u001b[1;36m1055\u001b[0m,\n",
              "        \u001b[1;36m2079\u001b[0m,\n",
              "        \u001b[1;36m2023\u001b[0m,\n",
              "        \u001b[1;36m19204\u001b[0m,\n",
              "        \u001b[1;36m3989\u001b[0m,\n",
              "        \u001b[1;36m2000\u001b[0m,\n",
              "        \u001b[1;36m9585\u001b[0m,\n",
              "        \u001b[1;36m23760\u001b[0m,\n",
              "        \u001b[1;36m5302\u001b[0m,\n",
              "        \u001b[1;36m25888\u001b[0m,\n",
              "        \u001b[1;36m3989\u001b[0m,\n",
              "        \u001b[1;36m2006\u001b[0m,\n",
              "        \u001b[1;36m2026\u001b[0m,\n",
              "        \u001b[1;36m19204\u001b[0m,\n",
              "        \u001b[1;36m2015\u001b[0m,\n",
              "        \u001b[1;36m19204\u001b[0m,\n",
              "        \u001b[1;36m3550\u001b[0m,\n",
              "        \u001b[1;36m100\u001b[0m,\n",
              "        \u001b[1;36m999\u001b[0m,\n",
              "        \u001b[1;36m999\u001b[0m,\n",
              "        \u001b[1;36m999\u001b[0m,\n",
              "        \u001b[1;36m100\u001b[0m,\n",
              "        \u001b[1;36m102\u001b[0m\n",
              "    \u001b[1m]\u001b[0m,\n",
              "    \u001b[32m'token_type_ids'\u001b[0m: \u001b[1m[\u001b[0m\u001b[1;36m0\u001b[0m, \u001b[1;36m0\u001b[0m, \u001b[1;36m0\u001b[0m, \u001b[1;36m0\u001b[0m, \u001b[1;36m0\u001b[0m, \u001b[1;36m0\u001b[0m, \u001b[1;36m0\u001b[0m, \u001b[1;36m0\u001b[0m, \u001b[1;36m0\u001b[0m, \u001b[1;36m0\u001b[0m, \u001b[1;36m0\u001b[0m, \u001b[1;36m0\u001b[0m, \u001b[1;36m0\u001b[0m, \u001b[1;36m0\u001b[0m, \u001b[1;36m0\u001b[0m, \u001b[1;36m0\u001b[0m, \u001b[1;36m0\u001b[0m, \u001b[1;36m0\u001b[0m, \u001b[1;36m0\u001b[0m, \u001b[1;36m0\u001b[0m, \u001b[1;36m0\u001b[0m, \u001b[1;36m0\u001b[0m, \u001b[1;36m0\u001b[0m, \u001b[1;36m0\u001b[0m, \u001b[1;36m0\u001b[0m, \u001b[1;36m0\u001b[0m\u001b[1m]\u001b[0m,\n",
              "    \u001b[32m'attention_mask'\u001b[0m: \u001b[1m[\u001b[0m\u001b[1;36m1\u001b[0m, \u001b[1;36m1\u001b[0m, \u001b[1;36m1\u001b[0m, \u001b[1;36m1\u001b[0m, \u001b[1;36m1\u001b[0m, \u001b[1;36m1\u001b[0m, \u001b[1;36m1\u001b[0m, \u001b[1;36m1\u001b[0m, \u001b[1;36m1\u001b[0m, \u001b[1;36m1\u001b[0m, \u001b[1;36m1\u001b[0m, \u001b[1;36m1\u001b[0m, \u001b[1;36m1\u001b[0m, \u001b[1;36m1\u001b[0m, \u001b[1;36m1\u001b[0m, \u001b[1;36m1\u001b[0m, \u001b[1;36m1\u001b[0m, \u001b[1;36m1\u001b[0m, \u001b[1;36m1\u001b[0m, \u001b[1;36m1\u001b[0m, \u001b[1;36m1\u001b[0m, \u001b[1;36m1\u001b[0m, \u001b[1;36m1\u001b[0m, \u001b[1;36m1\u001b[0m, \u001b[1;36m1\u001b[0m, \u001b[1;36m1\u001b[0m\u001b[1m]\u001b[0m\n",
              "\u001b[1m}\u001b[0m\n"
            ],
            "text/html": [
              "<pre style=\"white-space:pre;overflow-x:auto;line-height:normal;font-family:Menlo,'DejaVu Sans Mono',consolas,'Courier New',monospace\"><span style=\"font-weight: bold\">{</span>\n",
              "    <span style=\"color: #008000; text-decoration-color: #008000\">'input_ids'</span>: <span style=\"font-weight: bold\">[</span>\n",
              "        <span style=\"color: #008080; text-decoration-color: #008080; font-weight: bold\">101</span>,\n",
              "        <span style=\"color: #008080; text-decoration-color: #008080; font-weight: bold\">100</span>,\n",
              "        <span style=\"color: #008080; text-decoration-color: #008080; font-weight: bold\">1005</span>,\n",
              "        <span style=\"color: #008080; text-decoration-color: #008080; font-weight: bold\">1055</span>,\n",
              "        <span style=\"color: #008080; text-decoration-color: #008080; font-weight: bold\">2079</span>,\n",
              "        <span style=\"color: #008080; text-decoration-color: #008080; font-weight: bold\">2023</span>,\n",
              "        <span style=\"color: #008080; text-decoration-color: #008080; font-weight: bold\">19204</span>,\n",
              "        <span style=\"color: #008080; text-decoration-color: #008080; font-weight: bold\">3989</span>,\n",
              "        <span style=\"color: #008080; text-decoration-color: #008080; font-weight: bold\">2000</span>,\n",
              "        <span style=\"color: #008080; text-decoration-color: #008080; font-weight: bold\">9585</span>,\n",
              "        <span style=\"color: #008080; text-decoration-color: #008080; font-weight: bold\">23760</span>,\n",
              "        <span style=\"color: #008080; text-decoration-color: #008080; font-weight: bold\">5302</span>,\n",
              "        <span style=\"color: #008080; text-decoration-color: #008080; font-weight: bold\">25888</span>,\n",
              "        <span style=\"color: #008080; text-decoration-color: #008080; font-weight: bold\">3989</span>,\n",
              "        <span style=\"color: #008080; text-decoration-color: #008080; font-weight: bold\">2006</span>,\n",
              "        <span style=\"color: #008080; text-decoration-color: #008080; font-weight: bold\">2026</span>,\n",
              "        <span style=\"color: #008080; text-decoration-color: #008080; font-weight: bold\">19204</span>,\n",
              "        <span style=\"color: #008080; text-decoration-color: #008080; font-weight: bold\">2015</span>,\n",
              "        <span style=\"color: #008080; text-decoration-color: #008080; font-weight: bold\">19204</span>,\n",
              "        <span style=\"color: #008080; text-decoration-color: #008080; font-weight: bold\">3550</span>,\n",
              "        <span style=\"color: #008080; text-decoration-color: #008080; font-weight: bold\">100</span>,\n",
              "        <span style=\"color: #008080; text-decoration-color: #008080; font-weight: bold\">999</span>,\n",
              "        <span style=\"color: #008080; text-decoration-color: #008080; font-weight: bold\">999</span>,\n",
              "        <span style=\"color: #008080; text-decoration-color: #008080; font-weight: bold\">999</span>,\n",
              "        <span style=\"color: #008080; text-decoration-color: #008080; font-weight: bold\">100</span>,\n",
              "        <span style=\"color: #008080; text-decoration-color: #008080; font-weight: bold\">102</span>\n",
              "    <span style=\"font-weight: bold\">]</span>,\n",
              "    <span style=\"color: #008000; text-decoration-color: #008000\">'token_type_ids'</span>: <span style=\"font-weight: bold\">[</span><span style=\"color: #008080; text-decoration-color: #008080; font-weight: bold\">0</span>, <span style=\"color: #008080; text-decoration-color: #008080; font-weight: bold\">0</span>, <span style=\"color: #008080; text-decoration-color: #008080; font-weight: bold\">0</span>, <span style=\"color: #008080; text-decoration-color: #008080; font-weight: bold\">0</span>, <span style=\"color: #008080; text-decoration-color: #008080; font-weight: bold\">0</span>, <span style=\"color: #008080; text-decoration-color: #008080; font-weight: bold\">0</span>, <span style=\"color: #008080; text-decoration-color: #008080; font-weight: bold\">0</span>, <span style=\"color: #008080; text-decoration-color: #008080; font-weight: bold\">0</span>, <span style=\"color: #008080; text-decoration-color: #008080; font-weight: bold\">0</span>, <span style=\"color: #008080; text-decoration-color: #008080; font-weight: bold\">0</span>, <span style=\"color: #008080; text-decoration-color: #008080; font-weight: bold\">0</span>, <span style=\"color: #008080; text-decoration-color: #008080; font-weight: bold\">0</span>, <span style=\"color: #008080; text-decoration-color: #008080; font-weight: bold\">0</span>, <span style=\"color: #008080; text-decoration-color: #008080; font-weight: bold\">0</span>, <span style=\"color: #008080; text-decoration-color: #008080; font-weight: bold\">0</span>, <span style=\"color: #008080; text-decoration-color: #008080; font-weight: bold\">0</span>, <span style=\"color: #008080; text-decoration-color: #008080; font-weight: bold\">0</span>, <span style=\"color: #008080; text-decoration-color: #008080; font-weight: bold\">0</span>, <span style=\"color: #008080; text-decoration-color: #008080; font-weight: bold\">0</span>, <span style=\"color: #008080; text-decoration-color: #008080; font-weight: bold\">0</span>, <span style=\"color: #008080; text-decoration-color: #008080; font-weight: bold\">0</span>, <span style=\"color: #008080; text-decoration-color: #008080; font-weight: bold\">0</span>, <span style=\"color: #008080; text-decoration-color: #008080; font-weight: bold\">0</span>, <span style=\"color: #008080; text-decoration-color: #008080; font-weight: bold\">0</span>, <span style=\"color: #008080; text-decoration-color: #008080; font-weight: bold\">0</span>, <span style=\"color: #008080; text-decoration-color: #008080; font-weight: bold\">0</span><span style=\"font-weight: bold\">]</span>,\n",
              "    <span style=\"color: #008000; text-decoration-color: #008000\">'attention_mask'</span>: <span style=\"font-weight: bold\">[</span><span style=\"color: #008080; text-decoration-color: #008080; font-weight: bold\">1</span>, <span style=\"color: #008080; text-decoration-color: #008080; font-weight: bold\">1</span>, <span style=\"color: #008080; text-decoration-color: #008080; font-weight: bold\">1</span>, <span style=\"color: #008080; text-decoration-color: #008080; font-weight: bold\">1</span>, <span style=\"color: #008080; text-decoration-color: #008080; font-weight: bold\">1</span>, <span style=\"color: #008080; text-decoration-color: #008080; font-weight: bold\">1</span>, <span style=\"color: #008080; text-decoration-color: #008080; font-weight: bold\">1</span>, <span style=\"color: #008080; text-decoration-color: #008080; font-weight: bold\">1</span>, <span style=\"color: #008080; text-decoration-color: #008080; font-weight: bold\">1</span>, <span style=\"color: #008080; text-decoration-color: #008080; font-weight: bold\">1</span>, <span style=\"color: #008080; text-decoration-color: #008080; font-weight: bold\">1</span>, <span style=\"color: #008080; text-decoration-color: #008080; font-weight: bold\">1</span>, <span style=\"color: #008080; text-decoration-color: #008080; font-weight: bold\">1</span>, <span style=\"color: #008080; text-decoration-color: #008080; font-weight: bold\">1</span>, <span style=\"color: #008080; text-decoration-color: #008080; font-weight: bold\">1</span>, <span style=\"color: #008080; text-decoration-color: #008080; font-weight: bold\">1</span>, <span style=\"color: #008080; text-decoration-color: #008080; font-weight: bold\">1</span>, <span style=\"color: #008080; text-decoration-color: #008080; font-weight: bold\">1</span>, <span style=\"color: #008080; text-decoration-color: #008080; font-weight: bold\">1</span>, <span style=\"color: #008080; text-decoration-color: #008080; font-weight: bold\">1</span>, <span style=\"color: #008080; text-decoration-color: #008080; font-weight: bold\">1</span>, <span style=\"color: #008080; text-decoration-color: #008080; font-weight: bold\">1</span>, <span style=\"color: #008080; text-decoration-color: #008080; font-weight: bold\">1</span>, <span style=\"color: #008080; text-decoration-color: #008080; font-weight: bold\">1</span>, <span style=\"color: #008080; text-decoration-color: #008080; font-weight: bold\">1</span>, <span style=\"color: #008080; text-decoration-color: #008080; font-weight: bold\">1</span><span style=\"font-weight: bold\">]</span>\n",
              "<span style=\"font-weight: bold\">}</span>\n",
              "</pre>\n"
            ]
          },
          "metadata": {}
        }
      ],
      "source": [
        "rprint(wp_tokenizer(SENTENCE))"
      ]
    },
    {
      "cell_type": "markdown",
      "metadata": {
        "editable": true,
        "id": "LsnetsJ-gWHM",
        "tags": []
      },
      "source": [
        "#### Unigram"
      ]
    },
    {
      "cell_type": "markdown",
      "metadata": {
        "editable": true,
        "id": "JKia-OlqgYTn",
        "tags": []
      },
      "source": [
        "- Algoritmo de subpword tokenization introducido en el paper: [Subword Regularization: Improving Neural Network Translation Models with Multiple Subword Candidates (Kudo, 2018)](https://arxiv.org/pdf/1804.10959.pdf)\n",
        "- En contraste con BPE o WordPiece, este algoritmo inicia con un vocabulario muy grande y va reduciendolo hasta llegar tener un vocabulario deseado\n",
        "- En cada iteración se calcula la perdida de quitar cierto elemento del vocabulario\n",
        "    - Se quitará `p%` elementos que menos aumenten la perdida en esa iteración\n",
        "- El algoritmo termina cuando se alcanza el tamaño deseado del vocabulario"
      ]
    },
    {
      "cell_type": "markdown",
      "metadata": {
        "editable": true,
        "id": "eqS3rQ56z7oW",
        "tags": []
      },
      "source": [
        "Sin embargo, *Unigram* no se usa por si mismo en algun modelo de Hugging Face:\n",
        "> \"Unigram is not used directly for any of the models in the transformers, but it’s used in conjunction with SentencePiece.\" - Hugging face guy"
      ]
    },
    {
      "cell_type": "markdown",
      "metadata": {
        "editable": true,
        "id": "oaIJpqsY0Hj5",
        "tags": []
      },
      "source": [
        "#### SentencePiece\n"
      ]
    },
    {
      "cell_type": "markdown",
      "metadata": {
        "editable": true,
        "id": "2Hu7plAT0MFz",
        "tags": []
      },
      "source": [
        "- No asume que las palabras estan divididas por espacios\n",
        "- Trata la entrada de texto como un *stream* de datos crudos. Esto incluye al espacio como un caractér a usar\n",
        "- Utiliza BPE o Unigram para construir el vocabulario"
      ]
    },
    {
      "cell_type": "code",
      "source": [
        "# https://github.com/google/sentencepiece#installation\n",
        "!pip install sentencepiece"
      ],
      "metadata": {
        "colab": {
          "base_uri": "https://localhost:8080/"
        },
        "id": "AaDOAL3K0wjI",
        "outputId": "a01c6f5d-cfcc-4f35-b739-f7f43c1ec6a9"
      },
      "execution_count": 39,
      "outputs": [
        {
          "output_type": "stream",
          "name": "stdout",
          "text": [
            "Requirement already satisfied: sentencepiece in /usr/local/lib/python3.11/dist-packages (0.2.0)\n"
          ]
        }
      ]
    },
    {
      "cell_type": "code",
      "execution_count": 40,
      "metadata": {
        "editable": true,
        "id": "S_C5ypqsy81u",
        "tags": [],
        "colab": {
          "base_uri": "https://localhost:8080/",
          "height": 561,
          "referenced_widgets": [
            "f40a1053f35f4b39b532bf7c32a79236",
            "6fb0f130d913447995df5ed375d3e172",
            "365b949b4ea740bf8202c1b104e82a02",
            "92ea7e77b1f1496899eb8016750ac566",
            "a10331949f6e4f36a1527bbff1be03f8",
            "33bb9b09ed0e46d68eafa60b78701023",
            "ce094e55fc4442c586a09c29fd0fbc09",
            "2898390bc94c4a899ce1b02e74f33f31",
            "53e32813a0a3450e8ef53244da0bde83",
            "faae9f2ae54e40faa1e0408654238e01",
            "b33cfae599e548109b20ab14d32de8ab",
            "5a637aad4c044c84b9f5fc36b28e2564",
            "440d05b3677c4da7bd7bf190c95e515a",
            "4271cd8d737744d1a57e8068901c0e11",
            "2daf98930cc14ab3b99e10d0eaef7556",
            "13728d02bfc94692a4df89ba3ef420b4",
            "88a305bd1669450aba88e9041fdd0a92",
            "544a7bcb71604131af8da75980f6a881",
            "a219565c70334737b1f2a4d45dbf9d15",
            "03dcaced1894422da66debc2eace7d6f",
            "a2dcc5becbfd478e8b0958df13dbc103",
            "4bdd6fea7a1246858ec94ac8126fc1e4",
            "6eb3c4ef50194cb595e9baedd722d154",
            "46b9472f4ec9456ea514058eb0e834d5",
            "9f6a1c24c86b4727bf05aee464e98fa4",
            "62a9faacb72e4e4c8fd352de752d269d",
            "56f0773f6d424e7f99acf0bdc283e30c",
            "d88396c7918c49dca08c6024773e067e",
            "3d8cc9e3e4c34361a201338d0ac8f831",
            "decd3458f34d471aa963c504f31d7ca4",
            "71b181812443461585e0874512bc56a3",
            "1cc2ae1ea58346d9aa3377cd4af317e0",
            "abfefb4ceeb240be899ec691c51bcf5e"
          ]
        },
        "outputId": "accff8b0-a8ff-4675-8f4f-bbe43ca7928b"
      },
      "outputs": [
        {
          "output_type": "display_data",
          "data": {
            "text/plain": [
              "spiece.model:   0%|          | 0.00/798k [00:00<?, ?B/s]"
            ],
            "application/vnd.jupyter.widget-view+json": {
              "version_major": 2,
              "version_minor": 0,
              "model_id": "f40a1053f35f4b39b532bf7c32a79236"
            }
          },
          "metadata": {}
        },
        {
          "output_type": "display_data",
          "data": {
            "text/plain": [
              "tokenizer.json:   0%|          | 0.00/1.38M [00:00<?, ?B/s]"
            ],
            "application/vnd.jupyter.widget-view+json": {
              "version_major": 2,
              "version_minor": 0,
              "model_id": "5a637aad4c044c84b9f5fc36b28e2564"
            }
          },
          "metadata": {}
        },
        {
          "output_type": "display_data",
          "data": {
            "text/plain": [
              "config.json:   0%|          | 0.00/760 [00:00<?, ?B/s]"
            ],
            "application/vnd.jupyter.widget-view+json": {
              "version_major": 2,
              "version_minor": 0,
              "model_id": "6eb3c4ef50194cb595e9baedd722d154"
            }
          },
          "metadata": {}
        },
        {
          "output_type": "display_data",
          "data": {
            "text/plain": [
              "\u001b[1m[\u001b[0m\n",
              "    \u001b[32m'▁'\u001b[0m,\n",
              "    \u001b[32m'🌽'\u001b[0m,\n",
              "    \u001b[32m'Let'\u001b[0m,\n",
              "    \u001b[32m\"'\"\u001b[0m,\n",
              "    \u001b[32m's'\u001b[0m,\n",
              "    \u001b[32m'▁do'\u001b[0m,\n",
              "    \u001b[32m'▁this'\u001b[0m,\n",
              "    \u001b[32m'▁token'\u001b[0m,\n",
              "    \u001b[32m'ization'\u001b[0m,\n",
              "    \u001b[32m'▁to'\u001b[0m,\n",
              "    \u001b[32m'▁enable'\u001b[0m,\n",
              "    \u001b[32m'▁hyper'\u001b[0m,\n",
              "    \u001b[32m'modern'\u001b[0m,\n",
              "    \u001b[32m'ization'\u001b[0m,\n",
              "    \u001b[32m'▁on'\u001b[0m,\n",
              "    \u001b[32m'▁my'\u001b[0m,\n",
              "    \u001b[32m'▁token'\u001b[0m,\n",
              "    \u001b[32m's'\u001b[0m,\n",
              "    \u001b[32m'▁token'\u001b[0m,\n",
              "    \u001b[32m'ized'\u001b[0m,\n",
              "    \u001b[32m'▁'\u001b[0m,\n",
              "    \u001b[32m'👁️👁️👁️'\u001b[0m,\n",
              "    \u001b[32m'!!!'\u001b[0m,\n",
              "    \u001b[32m'🔥'\u001b[0m\n",
              "\u001b[1m]\u001b[0m\n"
            ],
            "text/html": [
              "<pre style=\"white-space:pre;overflow-x:auto;line-height:normal;font-family:Menlo,'DejaVu Sans Mono',consolas,'Courier New',monospace\"><span style=\"font-weight: bold\">[</span>\n",
              "    <span style=\"color: #008000; text-decoration-color: #008000\">'▁'</span>,\n",
              "    <span style=\"color: #008000; text-decoration-color: #008000\">'🌽'</span>,\n",
              "    <span style=\"color: #008000; text-decoration-color: #008000\">'Let'</span>,\n",
              "    <span style=\"color: #008000; text-decoration-color: #008000\">\"'\"</span>,\n",
              "    <span style=\"color: #008000; text-decoration-color: #008000\">'s'</span>,\n",
              "    <span style=\"color: #008000; text-decoration-color: #008000\">'▁do'</span>,\n",
              "    <span style=\"color: #008000; text-decoration-color: #008000\">'▁this'</span>,\n",
              "    <span style=\"color: #008000; text-decoration-color: #008000\">'▁token'</span>,\n",
              "    <span style=\"color: #008000; text-decoration-color: #008000\">'ization'</span>,\n",
              "    <span style=\"color: #008000; text-decoration-color: #008000\">'▁to'</span>,\n",
              "    <span style=\"color: #008000; text-decoration-color: #008000\">'▁enable'</span>,\n",
              "    <span style=\"color: #008000; text-decoration-color: #008000\">'▁hyper'</span>,\n",
              "    <span style=\"color: #008000; text-decoration-color: #008000\">'modern'</span>,\n",
              "    <span style=\"color: #008000; text-decoration-color: #008000\">'ization'</span>,\n",
              "    <span style=\"color: #008000; text-decoration-color: #008000\">'▁on'</span>,\n",
              "    <span style=\"color: #008000; text-decoration-color: #008000\">'▁my'</span>,\n",
              "    <span style=\"color: #008000; text-decoration-color: #008000\">'▁token'</span>,\n",
              "    <span style=\"color: #008000; text-decoration-color: #008000\">'s'</span>,\n",
              "    <span style=\"color: #008000; text-decoration-color: #008000\">'▁token'</span>,\n",
              "    <span style=\"color: #008000; text-decoration-color: #008000\">'ized'</span>,\n",
              "    <span style=\"color: #008000; text-decoration-color: #008000\">'▁'</span>,\n",
              "    <span style=\"color: #008000; text-decoration-color: #008000\">'👁️👁️👁️'</span>,\n",
              "    <span style=\"color: #008000; text-decoration-color: #008000\">'!!!'</span>,\n",
              "    <span style=\"color: #008000; text-decoration-color: #008000\">'🔥'</span>\n",
              "<span style=\"font-weight: bold\">]</span>\n",
              "</pre>\n"
            ]
          },
          "metadata": {}
        }
      ],
      "source": [
        "from transformers import XLNetTokenizer\n",
        "\n",
        "tokenizer = XLNetTokenizer.from_pretrained(\"xlnet-base-cased\")\n",
        "rprint(tokenizer.tokenize(SENTENCE))"
      ]
    },
    {
      "cell_type": "markdown",
      "metadata": {
        "editable": true,
        "id": "83b76a7c-7e2a-45a8-b476-24ec118cd4d1",
        "tags": []
      },
      "source": [
        "#### Objetivo de los subword tokenizers\n"
      ]
    },
    {
      "cell_type": "markdown",
      "metadata": {
        "editable": true,
        "id": "8b7bc0fd-87ce-45a7-9506-e4d2c37acdb2",
        "tags": []
      },
      "source": [
        "- Buscamos que modelos de redes neuronales tenga datos mas frecuentes\n",
        "- Esto ayuda a que en principio \"aprendan\" mejor\n",
        "- Reducir el numero de tipos\n",
        "- Reducir el numero de OOV"
      ]
    },
    {
      "cell_type": "markdown",
      "metadata": {
        "editable": true,
        "id": "20c87515-a421-4c3e-8e33-96b53fd46234",
        "tags": []
      },
      "source": [
        "### Vamos a tokenizar 🌈\n",
        "![](https://i.pinimg.com/736x/58/6b/88/586b8825f010ce0e3f9c831f568aafa8.jpg)"
      ]
    },
    {
      "cell_type": "markdown",
      "source": [
        "#### Corpus en español: CESS"
      ],
      "metadata": {
        "id": "Zzmt8bXwDE58"
      }
    },
    {
      "cell_type": "code",
      "execution_count": 41,
      "metadata": {
        "editable": true,
        "id": "VCXtaN9fRBCn",
        "tags": [],
        "colab": {
          "base_uri": "https://localhost:8080/"
        },
        "outputId": "2b5d47c6-d019-4dcd-b483-5267f778713b"
      },
      "outputs": [
        {
          "output_type": "stream",
          "name": "stderr",
          "text": [
            "[nltk_data] Downloading package cess_esp to /root/nltk_data...\n",
            "[nltk_data]   Unzipping corpora/cess_esp.zip.\n"
          ]
        },
        {
          "output_type": "execute_result",
          "data": {
            "text/plain": [
              "True"
            ]
          },
          "metadata": {},
          "execution_count": 41
        }
      ],
      "source": [
        "nltk.download(\"cess_esp\")"
      ]
    },
    {
      "cell_type": "code",
      "execution_count": 42,
      "metadata": {
        "editable": true,
        "id": "DtnmYlySQsFE",
        "tags": []
      },
      "outputs": [],
      "source": [
        "from nltk.corpus import cess_esp\n",
        "\n",
        "cess_words = cess_esp.words()"
      ]
    },
    {
      "cell_type": "code",
      "source": [
        "\" \".join(cess_words[:30])"
      ],
      "metadata": {
        "colab": {
          "base_uri": "https://localhost:8080/",
          "height": 35
        },
        "id": "hwD7sbnU64e1",
        "outputId": "25d638ae-5651-4413-f3f4-6e97f059e896"
      },
      "execution_count": 43,
      "outputs": [
        {
          "output_type": "execute_result",
          "data": {
            "text/plain": [
              "'El grupo estatal Electricité_de_France -Fpa- EDF -Fpt- anunció hoy , jueves , la compra del 51_por_ciento de la empresa mexicana Electricidad_Águila_de_Altamira -Fpa- EAA -Fpt- , creada por el japonés Mitsubishi_Corporation'"
            ],
            "application/vnd.google.colaboratory.intrinsic+json": {
              "type": "string"
            }
          },
          "metadata": {},
          "execution_count": 43
        }
      ]
    },
    {
      "cell_type": "code",
      "execution_count": 44,
      "metadata": {
        "editable": true,
        "id": "xbanfyLMSeq1",
        "tags": []
      },
      "outputs": [],
      "source": [
        "cess_plain_text = \" \".join(preprocess(cess_words))"
      ]
    },
    {
      "cell_type": "code",
      "execution_count": 45,
      "metadata": {
        "editable": true,
        "id": "8ojFGeSCTlmj",
        "tags": [],
        "colab": {
          "base_uri": "https://localhost:8080/",
          "height": 68
        },
        "outputId": "9078e433-6b11-4d1d-b8f1-d664c6ec0c6d"
      },
      "outputs": [
        {
          "output_type": "display_data",
          "data": {
            "text/plain": [
              "\u001b[32m'ble principal en una central de ciclo combinado que debe empezar a funcionar en la electricidad producida pasará a\u001b[0m\n",
              "\u001b[32mla red eléctrica pública de méxico un acuerdo de venta de energía de eaa con la fpa cfe fpt por una duración de \u001b[0m\n",
              "\u001b[32maños edf que no quiso revelar cuánto pagó por su participación mayoritari'\u001b[0m\n"
            ],
            "text/html": [
              "<pre style=\"white-space:pre;overflow-x:auto;line-height:normal;font-family:Menlo,'DejaVu Sans Mono',consolas,'Courier New',monospace\"><span style=\"color: #008000; text-decoration-color: #008000\">'ble principal en una central de ciclo combinado que debe empezar a funcionar en la electricidad producida pasará a</span>\n",
              "<span style=\"color: #008000; text-decoration-color: #008000\">la red eléctrica pública de méxico un acuerdo de venta de energía de eaa con la fpa cfe fpt por una duración de </span>\n",
              "<span style=\"color: #008000; text-decoration-color: #008000\">años edf que no quiso revelar cuánto pagó por su participación mayoritari'</span>\n",
              "</pre>\n"
            ]
          },
          "metadata": {}
        }
      ],
      "source": [
        "rprint(f\"'{cess_plain_text[300:600]}'\")"
      ]
    },
    {
      "cell_type": "code",
      "execution_count": 46,
      "metadata": {
        "editable": true,
        "tags": [],
        "id": "UT8A4jHkSjqn"
      },
      "outputs": [],
      "source": [
        "cess_preprocessed_words = cess_plain_text.split()"
      ]
    },
    {
      "cell_type": "code",
      "source": [
        "with open(f\"cess_plain.txt\", \"w\") as f:\n",
        "    f.write(cess_plain_text)"
      ],
      "metadata": {
        "id": "Pd4s_rqT3Goi"
      },
      "execution_count": 49,
      "outputs": []
    },
    {
      "cell_type": "markdown",
      "metadata": {
        "editable": true,
        "id": "cb1e486a-4bdf-4dc0-9adf-9e75b76054fe",
        "tags": []
      },
      "source": [
        "#### Corpus Inglés: Gutenberg"
      ]
    },
    {
      "cell_type": "code",
      "execution_count": 50,
      "metadata": {
        "editable": true,
        "id": "QPstlJ20UkbE",
        "tags": [],
        "colab": {
          "base_uri": "https://localhost:8080/"
        },
        "outputId": "ee73c4f5-28fe-487c-b566-698564f8967e"
      },
      "outputs": [
        {
          "output_type": "stream",
          "name": "stderr",
          "text": [
            "[nltk_data] Downloading package gutenberg to /root/nltk_data...\n",
            "[nltk_data]   Unzipping corpora/gutenberg.zip.\n",
            "[nltk_data] Downloading package punkt_tab to /root/nltk_data...\n",
            "[nltk_data]   Unzipping tokenizers/punkt_tab.zip.\n"
          ]
        },
        {
          "output_type": "execute_result",
          "data": {
            "text/plain": [
              "True"
            ]
          },
          "metadata": {},
          "execution_count": 50
        }
      ],
      "source": [
        "nltk.download('gutenberg')\n",
        "nltk.download(\"punkt_tab\")"
      ]
    },
    {
      "cell_type": "code",
      "execution_count": 51,
      "metadata": {
        "editable": true,
        "id": "DcDTJyKYQLSJ",
        "tags": []
      },
      "outputs": [],
      "source": [
        "from nltk.corpus import gutenberg\n",
        "\n",
        "gutenberg_words = gutenberg.words()[:200000]"
      ]
    },
    {
      "cell_type": "code",
      "execution_count": 52,
      "metadata": {
        "editable": true,
        "tags": [],
        "id": "whJVXnEDSjqo",
        "colab": {
          "base_uri": "https://localhost:8080/",
          "height": 51
        },
        "outputId": "81fd7fe7-2b64-4c17-a91a-bca0522ca793"
      },
      "outputs": [
        {
          "output_type": "display_data",
          "data": {
            "text/plain": [
              "\u001b[1m[\u001b[0m Emma by Jane Austen \u001b[1;36m1816\u001b[0m \u001b[1m]\u001b[0m VOLUME I CHAPTER I Emma Woodhouse , handsome , clever , and rich , with a comfortable \n",
              "home and happy disposition , seemed\n"
            ],
            "text/html": [
              "<pre style=\"white-space:pre;overflow-x:auto;line-height:normal;font-family:Menlo,'DejaVu Sans Mono',consolas,'Courier New',monospace\"><span style=\"font-weight: bold\">[</span> Emma by Jane Austen <span style=\"color: #008080; text-decoration-color: #008080; font-weight: bold\">1816</span> <span style=\"font-weight: bold\">]</span> VOLUME I CHAPTER I Emma Woodhouse , handsome , clever , and rich , with a comfortable \n",
              "home and happy disposition , seemed\n",
              "</pre>\n"
            ]
          },
          "metadata": {}
        }
      ],
      "source": [
        "rprint(\" \".join(gutenberg_words[:30]))"
      ]
    },
    {
      "cell_type": "code",
      "execution_count": 53,
      "metadata": {
        "editable": true,
        "tags": [],
        "id": "2d6v-OL8Sjqo",
        "colab": {
          "base_uri": "https://localhost:8080/",
          "height": 34
        },
        "outputId": "4487f9db-fff3-4fd6-ce88-1f3cc4823042"
      },
      "outputs": [
        {
          "output_type": "display_data",
          "data": {
            "text/plain": [
              "emma by jane austen volume i chapter i emma woodhouse handsome clever and rich with a comfortable ho\n"
            ],
            "text/html": [
              "<pre style=\"white-space:pre;overflow-x:auto;line-height:normal;font-family:Menlo,'DejaVu Sans Mono',consolas,'Courier New',monospace\">emma by jane austen volume i chapter i emma woodhouse handsome clever and rich with a comfortable ho\n",
              "</pre>\n"
            ]
          },
          "metadata": {}
        }
      ],
      "source": [
        "gutenberg_plain_text = \" \".join(preprocess(gutenberg_words))\n",
        "\n",
        "rprint(gutenberg_plain_text[:100])"
      ]
    },
    {
      "cell_type": "code",
      "execution_count": 54,
      "metadata": {
        "editable": true,
        "tags": [],
        "id": "rnhKdzStSjqo"
      },
      "outputs": [],
      "source": [
        "gutenberg_preprocessed_words = gutenberg_plain_text.split()"
      ]
    },
    {
      "cell_type": "code",
      "execution_count": 56,
      "metadata": {
        "editable": true,
        "tags": [],
        "id": "viLIGIJ1Sjqo"
      },
      "outputs": [],
      "source": [
        "with open(f\"gutenberg_plain.txt\", \"w\") as f:\n",
        "    f.write(gutenberg_plain_text)"
      ]
    },
    {
      "cell_type": "markdown",
      "metadata": {
        "editable": true,
        "id": "y7ojemCtVEwE",
        "tags": []
      },
      "source": [
        "#### Tokenizando el español con Hugging face"
      ]
    },
    {
      "cell_type": "code",
      "execution_count": 57,
      "metadata": {
        "editable": true,
        "id": "-MHPlfhUVHl0",
        "tags": [],
        "colab": {
          "base_uri": "https://localhost:8080/",
          "height": 1000,
          "referenced_widgets": [
            "e97b57d9c3c244f087f75dc3aae83af1",
            "6671f419e0a74027bcce775eccc75efb",
            "d15102d346e8462cb029db86c5d039b1",
            "d60d93d9b7634754b261b791bebfea19",
            "d26d106311c0413da8c2fb2b0cefd710",
            "6e329eceb8d545309dc0312a6ac98715",
            "153a7a5b9af44b0bbe11fee9d713d003",
            "b3e403bf314e40728e18714d85e6b7d9",
            "2905676b555e4347a9a60da36c6af8fe",
            "ea62ea6a28ac47bcae7c18d55591497f",
            "86442bd788a941f69c70780a19d32305",
            "5ecd4cae3d094d9fafaa78d74028bdee",
            "27a48e5401ac470fae44460b934babcf",
            "fc3b803cd7b34159a1bb83ffe27dee81",
            "a479f717dc4a479f9fcde91310840f6b",
            "3a6d972072724f87b5c74cb0c7d248a9",
            "008f541e298e4add90422af12fc4900b",
            "be90f4b0bea240fca776658f3163c739",
            "8d70d44ad73942fd8f481dc1282ec069",
            "2a63fa8a521d433581ca2efed38eb86f",
            "3487048ae7e24ccb806e5e0d1a641993",
            "2d0033bd6fb44db3a1bfa1d5a3a2ef98",
            "d51c6fd879ef44eaa974236fc95c3bce",
            "0049d72749d743848fa34cf40c598e8c",
            "7e5187f5645441a2a90c443c496d98d6",
            "3e5a2d32940f490ebf1220b7871c264f",
            "b7eb9ea4c63946e6b30e224ef7bad4a1",
            "6d101ebe6db4480ca9add8f15da45e6c",
            "ff76d7e8ee914eeca1c435b11da4b18f",
            "0a540d0df3a1421b906273a39ff813b3",
            "b18b880142e544dea60ad2553aec2b7a",
            "acf0baac71ad4d8ea7cba270a0a11aa0",
            "b4b4687d7a364ccf9d2e8976087b3eda",
            "b266e4cf7bdd450ebd850ae90f58f256",
            "2b2e2dba3a944f3f8a6cc0e883c5860b",
            "a03c604aaa1e4134891079ac4e1a40f9",
            "fe772b5fe7fa4154a615529832469113",
            "7572a66224b24c8ab7e0dc90ac2acf46",
            "25a202eba8f04244bd4405f19a2a55f7",
            "99fb0d4600214babae584259134b75aa",
            "12132d372f274c9abdef7e4de5b095f5",
            "ac89c65417464a9e9ed5276c56f95f8d",
            "96b88e8169e247ca999751ec7612bc44",
            "291ab91f91fd41fcbf19b7e6cfa33f55",
            "3149859f7ca84026bdef2963ef8a0896",
            "4dcc0602fb7348e4a1bdc2c38b9929c3",
            "191cfd0218504676bde43dc7aea12c6d",
            "d82a77ed5f5b4d44b186866be52abf5c",
            "fc5b585f892f4c698ca8542644c200cd",
            "1ada551bdc264b159a53e4a3d23dde08",
            "6cb233aa3cf842bb8e66cd73c87b3691",
            "ebceb8c7077843a5a93d8f0f9e324dff",
            "707109a48d4f49db894900d1d6d52ad1",
            "208356adbe59454ca49a83b662b7a77b",
            "d4f094ba0bcd4e0eaeabd77e4cc171a7"
          ]
        },
        "outputId": "df27dc40-25e9-482a-c10f-90fb3bf7df79"
      },
      "outputs": [
        {
          "output_type": "display_data",
          "data": {
            "text/plain": [
              "tokenizer_config.json:   0%|          | 0.00/310 [00:00<?, ?B/s]"
            ],
            "application/vnd.jupyter.widget-view+json": {
              "version_major": 2,
              "version_minor": 0,
              "model_id": "e97b57d9c3c244f087f75dc3aae83af1"
            }
          },
          "metadata": {}
        },
        {
          "output_type": "display_data",
          "data": {
            "text/plain": [
              "config.json:   0%|          | 0.00/650 [00:00<?, ?B/s]"
            ],
            "application/vnd.jupyter.widget-view+json": {
              "version_major": 2,
              "version_minor": 0,
              "model_id": "5ecd4cae3d094d9fafaa78d74028bdee"
            }
          },
          "metadata": {}
        },
        {
          "output_type": "display_data",
          "data": {
            "text/plain": [
              "vocab.txt:   0%|          | 0.00/248k [00:00<?, ?B/s]"
            ],
            "application/vnd.jupyter.widget-view+json": {
              "version_major": 2,
              "version_minor": 0,
              "model_id": "d51c6fd879ef44eaa974236fc95c3bce"
            }
          },
          "metadata": {}
        },
        {
          "output_type": "display_data",
          "data": {
            "text/plain": [
              "tokenizer.json:   0%|          | 0.00/486k [00:00<?, ?B/s]"
            ],
            "application/vnd.jupyter.widget-view+json": {
              "version_major": 2,
              "version_minor": 0,
              "model_id": "b266e4cf7bdd450ebd850ae90f58f256"
            }
          },
          "metadata": {}
        },
        {
          "output_type": "display_data",
          "data": {
            "text/plain": [
              "special_tokens_map.json:   0%|          | 0.00/134 [00:00<?, ?B/s]"
            ],
            "application/vnd.jupyter.widget-view+json": {
              "version_major": 2,
              "version_minor": 0,
              "model_id": "3149859f7ca84026bdef2963ef8a0896"
            }
          },
          "metadata": {}
        },
        {
          "output_type": "display_data",
          "data": {
            "text/plain": [
              "\u001b[1m[\u001b[0m\n",
              "    \u001b[32m'de'\u001b[0m,\n",
              "    \u001b[32m'dólares'\u001b[0m,\n",
              "    \u001b[32m'fp'\u001b[0m,\n",
              "    \u001b[32m'##t'\u001b[0m,\n",
              "    \u001b[32m'en'\u001b[0m,\n",
              "    \u001b[32m'la'\u001b[0m,\n",
              "    \u001b[32m'central'\u001b[0m,\n",
              "    \u001b[32m'de'\u001b[0m,\n",
              "    \u001b[32m'con'\u001b[0m,\n",
              "    \u001b[32m'una'\u001b[0m,\n",
              "    \u001b[32m'potencia'\u001b[0m,\n",
              "    \u001b[32m'de'\u001b[0m,\n",
              "    \u001b[32m'mega'\u001b[0m,\n",
              "    \u001b[32m'##va'\u001b[0m,\n",
              "    \u001b[32m'##tios'\u001b[0m,\n",
              "    \u001b[32m'y'\u001b[0m,\n",
              "    \u001b[32m'millones'\u001b[0m,\n",
              "    \u001b[32m'de'\u001b[0m,\n",
              "    \u001b[32m'euros'\u001b[0m,\n",
              "    \u001b[32m'fp'\u001b[0m,\n",
              "    \u001b[32m'##a'\u001b[0m,\n",
              "    \u001b[32m'millones'\u001b[0m,\n",
              "    \u001b[32m'de'\u001b[0m,\n",
              "    \u001b[32m'dólares'\u001b[0m,\n",
              "    \u001b[32m'fp'\u001b[0m,\n",
              "    \u001b[32m'##t'\u001b[0m,\n",
              "    \u001b[32m'en'\u001b[0m,\n",
              "    \u001b[32m'sal'\u001b[0m,\n",
              "    \u001b[32m'##tillo'\u001b[0m,\n",
              "    \u001b[32m'que'\u001b[0m,\n",
              "    \u001b[32m'como'\u001b[0m,\n",
              "    \u001b[32m'la'\u001b[0m,\n",
              "    \u001b[32m'primera'\u001b[0m,\n",
              "    \u001b[32m'funcionará'\u001b[0m,\n",
              "    \u001b[32m'con'\u001b[0m,\n",
              "    \u001b[32m'gas'\u001b[0m,\n",
              "    \u001b[32m'natural'\u001b[0m,\n",
              "    \u001b[32m'y'\u001b[0m,\n",
              "    \u001b[32m'cuya'\u001b[0m,\n",
              "    \u001b[32m'potencia'\u001b[0m,\n",
              "    \u001b[32m'prevista'\u001b[0m,\n",
              "    \u001b[32m'es'\u001b[0m,\n",
              "    \u001b[32m'de'\u001b[0m,\n",
              "    \u001b[32m'mega'\u001b[0m,\n",
              "    \u001b[32m'##va'\u001b[0m,\n",
              "    \u001b[32m'##tios'\u001b[0m,\n",
              "    \u001b[32m'la'\u001b[0m,\n",
              "    \u001b[32m'alcaldes'\u001b[0m,\n",
              "    \u001b[32m'##a'\u001b[0m,\n",
              "    \u001b[32m'de'\u001b[0m,\n",
              "    \u001b[32m'málaga'\u001b[0m,\n",
              "    \u001b[32m'y'\u001b[0m,\n",
              "    \u001b[32m'cabeza'\u001b[0m,\n",
              "    \u001b[32m'de'\u001b[0m,\n",
              "    \u001b[32m'lista'\u001b[0m,\n",
              "    \u001b[32m'del'\u001b[0m,\n",
              "    \u001b[32m'pp'\u001b[0m,\n",
              "    \u001b[32m'al'\u001b[0m,\n",
              "    \u001b[32m'congreso'\u001b[0m,\n",
              "    \u001b[32m'por'\u001b[0m,\n",
              "    \u001b[32m'esta'\u001b[0m,\n",
              "    \u001b[32m'provincia'\u001b[0m,\n",
              "    \u001b[32m'pidió'\u001b[0m,\n",
              "    \u001b[32m'hoy'\u001b[0m,\n",
              "    \u001b[32m'a'\u001b[0m,\n",
              "    \u001b[32m'los'\u001b[0m,\n",
              "    \u001b[32m'militantes'\u001b[0m,\n",
              "    \u001b[32m'de'\u001b[0m,\n",
              "    \u001b[32m'esta'\u001b[0m,\n",
              "    \u001b[32m'formación'\u001b[0m,\n",
              "    \u001b[32m'que'\u001b[0m,\n",
              "    \u001b[32m'sepan'\u001b[0m,\n",
              "    \u001b[32m'administrar'\u001b[0m,\n",
              "    \u001b[32m'la'\u001b[0m,\n",
              "    \u001b[32m'victoria'\u001b[0m,\n",
              "    \u001b[32m'porque'\u001b[0m,\n",
              "    \u001b[32m'no'\u001b[0m,\n",
              "    \u001b[32m'vale'\u001b[0m,\n",
              "    \u001b[32m'la'\u001b[0m,\n",
              "    \u001b[32m'revancha'\u001b[0m,\n",
              "    \u001b[32m'el'\u001b[0m\n",
              "\u001b[1m]\u001b[0m\n"
            ],
            "text/html": [
              "<pre style=\"white-space:pre;overflow-x:auto;line-height:normal;font-family:Menlo,'DejaVu Sans Mono',consolas,'Courier New',monospace\"><span style=\"font-weight: bold\">[</span>\n",
              "    <span style=\"color: #008000; text-decoration-color: #008000\">'de'</span>,\n",
              "    <span style=\"color: #008000; text-decoration-color: #008000\">'dólares'</span>,\n",
              "    <span style=\"color: #008000; text-decoration-color: #008000\">'fp'</span>,\n",
              "    <span style=\"color: #008000; text-decoration-color: #008000\">'##t'</span>,\n",
              "    <span style=\"color: #008000; text-decoration-color: #008000\">'en'</span>,\n",
              "    <span style=\"color: #008000; text-decoration-color: #008000\">'la'</span>,\n",
              "    <span style=\"color: #008000; text-decoration-color: #008000\">'central'</span>,\n",
              "    <span style=\"color: #008000; text-decoration-color: #008000\">'de'</span>,\n",
              "    <span style=\"color: #008000; text-decoration-color: #008000\">'con'</span>,\n",
              "    <span style=\"color: #008000; text-decoration-color: #008000\">'una'</span>,\n",
              "    <span style=\"color: #008000; text-decoration-color: #008000\">'potencia'</span>,\n",
              "    <span style=\"color: #008000; text-decoration-color: #008000\">'de'</span>,\n",
              "    <span style=\"color: #008000; text-decoration-color: #008000\">'mega'</span>,\n",
              "    <span style=\"color: #008000; text-decoration-color: #008000\">'##va'</span>,\n",
              "    <span style=\"color: #008000; text-decoration-color: #008000\">'##tios'</span>,\n",
              "    <span style=\"color: #008000; text-decoration-color: #008000\">'y'</span>,\n",
              "    <span style=\"color: #008000; text-decoration-color: #008000\">'millones'</span>,\n",
              "    <span style=\"color: #008000; text-decoration-color: #008000\">'de'</span>,\n",
              "    <span style=\"color: #008000; text-decoration-color: #008000\">'euros'</span>,\n",
              "    <span style=\"color: #008000; text-decoration-color: #008000\">'fp'</span>,\n",
              "    <span style=\"color: #008000; text-decoration-color: #008000\">'##a'</span>,\n",
              "    <span style=\"color: #008000; text-decoration-color: #008000\">'millones'</span>,\n",
              "    <span style=\"color: #008000; text-decoration-color: #008000\">'de'</span>,\n",
              "    <span style=\"color: #008000; text-decoration-color: #008000\">'dólares'</span>,\n",
              "    <span style=\"color: #008000; text-decoration-color: #008000\">'fp'</span>,\n",
              "    <span style=\"color: #008000; text-decoration-color: #008000\">'##t'</span>,\n",
              "    <span style=\"color: #008000; text-decoration-color: #008000\">'en'</span>,\n",
              "    <span style=\"color: #008000; text-decoration-color: #008000\">'sal'</span>,\n",
              "    <span style=\"color: #008000; text-decoration-color: #008000\">'##tillo'</span>,\n",
              "    <span style=\"color: #008000; text-decoration-color: #008000\">'que'</span>,\n",
              "    <span style=\"color: #008000; text-decoration-color: #008000\">'como'</span>,\n",
              "    <span style=\"color: #008000; text-decoration-color: #008000\">'la'</span>,\n",
              "    <span style=\"color: #008000; text-decoration-color: #008000\">'primera'</span>,\n",
              "    <span style=\"color: #008000; text-decoration-color: #008000\">'funcionará'</span>,\n",
              "    <span style=\"color: #008000; text-decoration-color: #008000\">'con'</span>,\n",
              "    <span style=\"color: #008000; text-decoration-color: #008000\">'gas'</span>,\n",
              "    <span style=\"color: #008000; text-decoration-color: #008000\">'natural'</span>,\n",
              "    <span style=\"color: #008000; text-decoration-color: #008000\">'y'</span>,\n",
              "    <span style=\"color: #008000; text-decoration-color: #008000\">'cuya'</span>,\n",
              "    <span style=\"color: #008000; text-decoration-color: #008000\">'potencia'</span>,\n",
              "    <span style=\"color: #008000; text-decoration-color: #008000\">'prevista'</span>,\n",
              "    <span style=\"color: #008000; text-decoration-color: #008000\">'es'</span>,\n",
              "    <span style=\"color: #008000; text-decoration-color: #008000\">'de'</span>,\n",
              "    <span style=\"color: #008000; text-decoration-color: #008000\">'mega'</span>,\n",
              "    <span style=\"color: #008000; text-decoration-color: #008000\">'##va'</span>,\n",
              "    <span style=\"color: #008000; text-decoration-color: #008000\">'##tios'</span>,\n",
              "    <span style=\"color: #008000; text-decoration-color: #008000\">'la'</span>,\n",
              "    <span style=\"color: #008000; text-decoration-color: #008000\">'alcaldes'</span>,\n",
              "    <span style=\"color: #008000; text-decoration-color: #008000\">'##a'</span>,\n",
              "    <span style=\"color: #008000; text-decoration-color: #008000\">'de'</span>,\n",
              "    <span style=\"color: #008000; text-decoration-color: #008000\">'málaga'</span>,\n",
              "    <span style=\"color: #008000; text-decoration-color: #008000\">'y'</span>,\n",
              "    <span style=\"color: #008000; text-decoration-color: #008000\">'cabeza'</span>,\n",
              "    <span style=\"color: #008000; text-decoration-color: #008000\">'de'</span>,\n",
              "    <span style=\"color: #008000; text-decoration-color: #008000\">'lista'</span>,\n",
              "    <span style=\"color: #008000; text-decoration-color: #008000\">'del'</span>,\n",
              "    <span style=\"color: #008000; text-decoration-color: #008000\">'pp'</span>,\n",
              "    <span style=\"color: #008000; text-decoration-color: #008000\">'al'</span>,\n",
              "    <span style=\"color: #008000; text-decoration-color: #008000\">'congreso'</span>,\n",
              "    <span style=\"color: #008000; text-decoration-color: #008000\">'por'</span>,\n",
              "    <span style=\"color: #008000; text-decoration-color: #008000\">'esta'</span>,\n",
              "    <span style=\"color: #008000; text-decoration-color: #008000\">'provincia'</span>,\n",
              "    <span style=\"color: #008000; text-decoration-color: #008000\">'pidió'</span>,\n",
              "    <span style=\"color: #008000; text-decoration-color: #008000\">'hoy'</span>,\n",
              "    <span style=\"color: #008000; text-decoration-color: #008000\">'a'</span>,\n",
              "    <span style=\"color: #008000; text-decoration-color: #008000\">'los'</span>,\n",
              "    <span style=\"color: #008000; text-decoration-color: #008000\">'militantes'</span>,\n",
              "    <span style=\"color: #008000; text-decoration-color: #008000\">'de'</span>,\n",
              "    <span style=\"color: #008000; text-decoration-color: #008000\">'esta'</span>,\n",
              "    <span style=\"color: #008000; text-decoration-color: #008000\">'formación'</span>,\n",
              "    <span style=\"color: #008000; text-decoration-color: #008000\">'que'</span>,\n",
              "    <span style=\"color: #008000; text-decoration-color: #008000\">'sepan'</span>,\n",
              "    <span style=\"color: #008000; text-decoration-color: #008000\">'administrar'</span>,\n",
              "    <span style=\"color: #008000; text-decoration-color: #008000\">'la'</span>,\n",
              "    <span style=\"color: #008000; text-decoration-color: #008000\">'victoria'</span>,\n",
              "    <span style=\"color: #008000; text-decoration-color: #008000\">'porque'</span>,\n",
              "    <span style=\"color: #008000; text-decoration-color: #008000\">'no'</span>,\n",
              "    <span style=\"color: #008000; text-decoration-color: #008000\">'vale'</span>,\n",
              "    <span style=\"color: #008000; text-decoration-color: #008000\">'la'</span>,\n",
              "    <span style=\"color: #008000; text-decoration-color: #008000\">'revancha'</span>,\n",
              "    <span style=\"color: #008000; text-decoration-color: #008000\">'el'</span>\n",
              "<span style=\"font-weight: bold\">]</span>\n",
              "</pre>\n"
            ]
          },
          "metadata": {}
        }
      ],
      "source": [
        "from transformers import AutoTokenizer\n",
        "\n",
        "spanish_tokenizer = AutoTokenizer.from_pretrained(\"dccuchile/bert-base-spanish-wwm-uncased\")\n",
        "rprint(spanish_tokenizer.tokenize(cess_plain_text[1000:1400]))"
      ]
    },
    {
      "cell_type": "code",
      "execution_count": 58,
      "metadata": {
        "editable": true,
        "id": "x-aByv8pXYRQ",
        "tags": []
      },
      "outputs": [],
      "source": [
        "cess_types = Counter(cess_words)"
      ]
    },
    {
      "cell_type": "code",
      "execution_count": 59,
      "metadata": {
        "editable": true,
        "id": "SbpXXjvKYRW6",
        "tags": [],
        "colab": {
          "base_uri": "https://localhost:8080/",
          "height": 221
        },
        "outputId": "3290b63e-8da0-4f38-c9b6-4aba310b083c"
      },
      "outputs": [
        {
          "output_type": "display_data",
          "data": {
            "text/plain": [
              "\u001b[1m[\u001b[0m\n",
              "    \u001b[1m(\u001b[0m\u001b[32m','\u001b[0m, \u001b[1;36m11420\u001b[0m\u001b[1m)\u001b[0m,\n",
              "    \u001b[1m(\u001b[0m\u001b[32m'de'\u001b[0m, \u001b[1;36m10234\u001b[0m\u001b[1m)\u001b[0m,\n",
              "    \u001b[1m(\u001b[0m\u001b[32m'la'\u001b[0m, \u001b[1;36m6412\u001b[0m\u001b[1m)\u001b[0m,\n",
              "    \u001b[1m(\u001b[0m\u001b[32m'.'\u001b[0m, \u001b[1;36m5866\u001b[0m\u001b[1m)\u001b[0m,\n",
              "    \u001b[1m(\u001b[0m\u001b[32m'que'\u001b[0m, \u001b[1;36m5552\u001b[0m\u001b[1m)\u001b[0m,\n",
              "    \u001b[1m(\u001b[0m\u001b[32m'el'\u001b[0m, \u001b[1;36m5199\u001b[0m\u001b[1m)\u001b[0m,\n",
              "    \u001b[1m(\u001b[0m\u001b[32m'en'\u001b[0m, \u001b[1;36m4340\u001b[0m\u001b[1m)\u001b[0m,\n",
              "    \u001b[1m(\u001b[0m\u001b[32m'y'\u001b[0m, \u001b[1;36m4235\u001b[0m\u001b[1m)\u001b[0m,\n",
              "    \u001b[1m(\u001b[0m\u001b[32m'*0*'\u001b[0m, \u001b[1;36m3883\u001b[0m\u001b[1m)\u001b[0m,\n",
              "    \u001b[1m(\u001b[0m\u001b[32m'\"'\u001b[0m, \u001b[1;36m3038\u001b[0m\u001b[1m)\u001b[0m\n",
              "\u001b[1m]\u001b[0m\n"
            ],
            "text/html": [
              "<pre style=\"white-space:pre;overflow-x:auto;line-height:normal;font-family:Menlo,'DejaVu Sans Mono',consolas,'Courier New',monospace\"><span style=\"font-weight: bold\">[</span>\n",
              "    <span style=\"font-weight: bold\">(</span><span style=\"color: #008000; text-decoration-color: #008000\">','</span>, <span style=\"color: #008080; text-decoration-color: #008080; font-weight: bold\">11420</span><span style=\"font-weight: bold\">)</span>,\n",
              "    <span style=\"font-weight: bold\">(</span><span style=\"color: #008000; text-decoration-color: #008000\">'de'</span>, <span style=\"color: #008080; text-decoration-color: #008080; font-weight: bold\">10234</span><span style=\"font-weight: bold\">)</span>,\n",
              "    <span style=\"font-weight: bold\">(</span><span style=\"color: #008000; text-decoration-color: #008000\">'la'</span>, <span style=\"color: #008080; text-decoration-color: #008080; font-weight: bold\">6412</span><span style=\"font-weight: bold\">)</span>,\n",
              "    <span style=\"font-weight: bold\">(</span><span style=\"color: #008000; text-decoration-color: #008000\">'.'</span>, <span style=\"color: #008080; text-decoration-color: #008080; font-weight: bold\">5866</span><span style=\"font-weight: bold\">)</span>,\n",
              "    <span style=\"font-weight: bold\">(</span><span style=\"color: #008000; text-decoration-color: #008000\">'que'</span>, <span style=\"color: #008080; text-decoration-color: #008080; font-weight: bold\">5552</span><span style=\"font-weight: bold\">)</span>,\n",
              "    <span style=\"font-weight: bold\">(</span><span style=\"color: #008000; text-decoration-color: #008000\">'el'</span>, <span style=\"color: #008080; text-decoration-color: #008080; font-weight: bold\">5199</span><span style=\"font-weight: bold\">)</span>,\n",
              "    <span style=\"font-weight: bold\">(</span><span style=\"color: #008000; text-decoration-color: #008000\">'en'</span>, <span style=\"color: #008080; text-decoration-color: #008080; font-weight: bold\">4340</span><span style=\"font-weight: bold\">)</span>,\n",
              "    <span style=\"font-weight: bold\">(</span><span style=\"color: #008000; text-decoration-color: #008000\">'y'</span>, <span style=\"color: #008080; text-decoration-color: #008080; font-weight: bold\">4235</span><span style=\"font-weight: bold\">)</span>,\n",
              "    <span style=\"font-weight: bold\">(</span><span style=\"color: #008000; text-decoration-color: #008000\">'*0*'</span>, <span style=\"color: #008080; text-decoration-color: #008080; font-weight: bold\">3883</span><span style=\"font-weight: bold\">)</span>,\n",
              "    <span style=\"font-weight: bold\">(</span><span style=\"color: #008000; text-decoration-color: #008000\">'\"'</span>, <span style=\"color: #008080; text-decoration-color: #008080; font-weight: bold\">3038</span><span style=\"font-weight: bold\">)</span>\n",
              "<span style=\"font-weight: bold\">]</span>\n",
              "</pre>\n"
            ]
          },
          "metadata": {}
        }
      ],
      "source": [
        "rprint(cess_types.most_common(10))"
      ]
    },
    {
      "cell_type": "code",
      "execution_count": 60,
      "metadata": {
        "editable": true,
        "id": "7pYaX_ZEXijm",
        "tags": [],
        "colab": {
          "base_uri": "https://localhost:8080/",
          "height": 51
        },
        "outputId": "0d761108-a0fc-4893-d025-53a357e1194e"
      },
      "outputs": [
        {
          "output_type": "stream",
          "name": "stderr",
          "text": [
            "Token indices sequence length is longer than the specified maximum sequence length for this model (178312 > 512). Running this sequence through the model will result in indexing errors\n"
          ]
        },
        {
          "output_type": "display_data",
          "data": {
            "text/plain": [
              "\u001b[1m[\u001b[0m\u001b[32m'el'\u001b[0m, \u001b[32m'grupo'\u001b[0m, \u001b[32m'estatal'\u001b[0m, \u001b[32m'fp'\u001b[0m, \u001b[32m'##a'\u001b[0m, \u001b[32m'ed'\u001b[0m, \u001b[32m'##f'\u001b[0m, \u001b[32m'fp'\u001b[0m, \u001b[32m'##t'\u001b[0m, \u001b[32m'anunció'\u001b[0m\u001b[1m]\u001b[0m\n"
            ],
            "text/html": [
              "<pre style=\"white-space:pre;overflow-x:auto;line-height:normal;font-family:Menlo,'DejaVu Sans Mono',consolas,'Courier New',monospace\"><span style=\"font-weight: bold\">[</span><span style=\"color: #008000; text-decoration-color: #008000\">'el'</span>, <span style=\"color: #008000; text-decoration-color: #008000\">'grupo'</span>, <span style=\"color: #008000; text-decoration-color: #008000\">'estatal'</span>, <span style=\"color: #008000; text-decoration-color: #008000\">'fp'</span>, <span style=\"color: #008000; text-decoration-color: #008000\">'##a'</span>, <span style=\"color: #008000; text-decoration-color: #008000\">'ed'</span>, <span style=\"color: #008000; text-decoration-color: #008000\">'##f'</span>, <span style=\"color: #008000; text-decoration-color: #008000\">'fp'</span>, <span style=\"color: #008000; text-decoration-color: #008000\">'##t'</span>, <span style=\"color: #008000; text-decoration-color: #008000\">'anunció'</span><span style=\"font-weight: bold\">]</span>\n",
              "</pre>\n"
            ]
          },
          "metadata": {}
        }
      ],
      "source": [
        "cess_tokenized = spanish_tokenizer.tokenize(cess_plain_text)\n",
        "rprint(cess_tokenized[:10])\n",
        "cess_tokenized_types = Counter(cess_tokenized)"
      ]
    },
    {
      "cell_type": "code",
      "execution_count": 61,
      "metadata": {
        "editable": true,
        "id": "MWOUzc9JYG1T",
        "tags": [],
        "colab": {
          "base_uri": "https://localhost:8080/",
          "height": 561
        },
        "outputId": "9065a2b5-c6cf-462f-814a-dcb3cdd9ad38"
      },
      "outputs": [
        {
          "output_type": "display_data",
          "data": {
            "text/plain": [
              "\u001b[1m[\u001b[0m\n",
              "    \u001b[1m(\u001b[0m\u001b[32m'de'\u001b[0m, \u001b[1;36m10287\u001b[0m\u001b[1m)\u001b[0m,\n",
              "    \u001b[1m(\u001b[0m\u001b[32m'la'\u001b[0m, \u001b[1;36m6930\u001b[0m\u001b[1m)\u001b[0m,\n",
              "    \u001b[1m(\u001b[0m\u001b[32m'el'\u001b[0m, \u001b[1;36m6021\u001b[0m\u001b[1m)\u001b[0m,\n",
              "    \u001b[1m(\u001b[0m\u001b[32m'que'\u001b[0m, \u001b[1;36m5574\u001b[0m\u001b[1m)\u001b[0m,\n",
              "    \u001b[1m(\u001b[0m\u001b[32m'en'\u001b[0m, \u001b[1;36m4650\u001b[0m\u001b[1m)\u001b[0m,\n",
              "    \u001b[1m(\u001b[0m\u001b[32m'y'\u001b[0m, \u001b[1;36m4351\u001b[0m\u001b[1m)\u001b[0m,\n",
              "    \u001b[1m(\u001b[0m\u001b[32m'los'\u001b[0m, \u001b[1;36m3189\u001b[0m\u001b[1m)\u001b[0m,\n",
              "    \u001b[1m(\u001b[0m\u001b[32m'a'\u001b[0m, \u001b[1;36m3024\u001b[0m\u001b[1m)\u001b[0m,\n",
              "    \u001b[1m(\u001b[0m\u001b[32m'del'\u001b[0m, \u001b[1;36m2262\u001b[0m\u001b[1m)\u001b[0m,\n",
              "    \u001b[1m(\u001b[0m\u001b[32m'se'\u001b[0m, \u001b[1;36m1952\u001b[0m\u001b[1m)\u001b[0m,\n",
              "    \u001b[1m(\u001b[0m\u001b[32m'las'\u001b[0m, \u001b[1;36m1923\u001b[0m\u001b[1m)\u001b[0m,\n",
              "    \u001b[1m(\u001b[0m\u001b[32m'un'\u001b[0m, \u001b[1;36m1869\u001b[0m\u001b[1m)\u001b[0m,\n",
              "    \u001b[1m(\u001b[0m\u001b[32m'fp'\u001b[0m, \u001b[1;36m1649\u001b[0m\u001b[1m)\u001b[0m,\n",
              "    \u001b[1m(\u001b[0m\u001b[32m'con'\u001b[0m, \u001b[1;36m1563\u001b[0m\u001b[1m)\u001b[0m,\n",
              "    \u001b[1m(\u001b[0m\u001b[32m'por'\u001b[0m, \u001b[1;36m1546\u001b[0m\u001b[1m)\u001b[0m,\n",
              "    \u001b[1m(\u001b[0m\u001b[32m'una'\u001b[0m, \u001b[1;36m1456\u001b[0m\u001b[1m)\u001b[0m,\n",
              "    \u001b[1m(\u001b[0m\u001b[32m'no'\u001b[0m, \u001b[1;36m1365\u001b[0m\u001b[1m)\u001b[0m,\n",
              "    \u001b[1m(\u001b[0m\u001b[32m'su'\u001b[0m, \u001b[1;36m1331\u001b[0m\u001b[1m)\u001b[0m,\n",
              "    \u001b[1m(\u001b[0m\u001b[32m'para'\u001b[0m, \u001b[1;36m1329\u001b[0m\u001b[1m)\u001b[0m,\n",
              "    \u001b[1m(\u001b[0m\u001b[32m'##a'\u001b[0m, \u001b[1;36m1177\u001b[0m\u001b[1m)\u001b[0m,\n",
              "    \u001b[1m(\u001b[0m\u001b[32m'##s'\u001b[0m, \u001b[1;36m1107\u001b[0m\u001b[1m)\u001b[0m,\n",
              "    \u001b[1m(\u001b[0m\u001b[32m'al'\u001b[0m, \u001b[1;36m1022\u001b[0m\u001b[1m)\u001b[0m,\n",
              "    \u001b[1m(\u001b[0m\u001b[32m'es'\u001b[0m, \u001b[1;36m973\u001b[0m\u001b[1m)\u001b[0m,\n",
              "    \u001b[1m(\u001b[0m\u001b[32m'##t'\u001b[0m, \u001b[1;36m882\u001b[0m\u001b[1m)\u001b[0m,\n",
              "    \u001b[1m(\u001b[0m\u001b[32m'como'\u001b[0m, \u001b[1;36m727\u001b[0m\u001b[1m)\u001b[0m,\n",
              "    \u001b[1m(\u001b[0m\u001b[32m'ha'\u001b[0m, \u001b[1;36m724\u001b[0m\u001b[1m)\u001b[0m,\n",
              "    \u001b[1m(\u001b[0m\u001b[32m'lo'\u001b[0m, \u001b[1;36m710\u001b[0m\u001b[1m)\u001b[0m,\n",
              "    \u001b[1m(\u001b[0m\u001b[32m'más'\u001b[0m, \u001b[1;36m666\u001b[0m\u001b[1m)\u001b[0m,\n",
              "    \u001b[1m(\u001b[0m\u001b[32m'##n'\u001b[0m, \u001b[1;36m560\u001b[0m\u001b[1m)\u001b[0m,\n",
              "    \u001b[1m(\u001b[0m\u001b[32m'sus'\u001b[0m, \u001b[1;36m519\u001b[0m\u001b[1m)\u001b[0m\n",
              "\u001b[1m]\u001b[0m\n"
            ],
            "text/html": [
              "<pre style=\"white-space:pre;overflow-x:auto;line-height:normal;font-family:Menlo,'DejaVu Sans Mono',consolas,'Courier New',monospace\"><span style=\"font-weight: bold\">[</span>\n",
              "    <span style=\"font-weight: bold\">(</span><span style=\"color: #008000; text-decoration-color: #008000\">'de'</span>, <span style=\"color: #008080; text-decoration-color: #008080; font-weight: bold\">10287</span><span style=\"font-weight: bold\">)</span>,\n",
              "    <span style=\"font-weight: bold\">(</span><span style=\"color: #008000; text-decoration-color: #008000\">'la'</span>, <span style=\"color: #008080; text-decoration-color: #008080; font-weight: bold\">6930</span><span style=\"font-weight: bold\">)</span>,\n",
              "    <span style=\"font-weight: bold\">(</span><span style=\"color: #008000; text-decoration-color: #008000\">'el'</span>, <span style=\"color: #008080; text-decoration-color: #008080; font-weight: bold\">6021</span><span style=\"font-weight: bold\">)</span>,\n",
              "    <span style=\"font-weight: bold\">(</span><span style=\"color: #008000; text-decoration-color: #008000\">'que'</span>, <span style=\"color: #008080; text-decoration-color: #008080; font-weight: bold\">5574</span><span style=\"font-weight: bold\">)</span>,\n",
              "    <span style=\"font-weight: bold\">(</span><span style=\"color: #008000; text-decoration-color: #008000\">'en'</span>, <span style=\"color: #008080; text-decoration-color: #008080; font-weight: bold\">4650</span><span style=\"font-weight: bold\">)</span>,\n",
              "    <span style=\"font-weight: bold\">(</span><span style=\"color: #008000; text-decoration-color: #008000\">'y'</span>, <span style=\"color: #008080; text-decoration-color: #008080; font-weight: bold\">4351</span><span style=\"font-weight: bold\">)</span>,\n",
              "    <span style=\"font-weight: bold\">(</span><span style=\"color: #008000; text-decoration-color: #008000\">'los'</span>, <span style=\"color: #008080; text-decoration-color: #008080; font-weight: bold\">3189</span><span style=\"font-weight: bold\">)</span>,\n",
              "    <span style=\"font-weight: bold\">(</span><span style=\"color: #008000; text-decoration-color: #008000\">'a'</span>, <span style=\"color: #008080; text-decoration-color: #008080; font-weight: bold\">3024</span><span style=\"font-weight: bold\">)</span>,\n",
              "    <span style=\"font-weight: bold\">(</span><span style=\"color: #008000; text-decoration-color: #008000\">'del'</span>, <span style=\"color: #008080; text-decoration-color: #008080; font-weight: bold\">2262</span><span style=\"font-weight: bold\">)</span>,\n",
              "    <span style=\"font-weight: bold\">(</span><span style=\"color: #008000; text-decoration-color: #008000\">'se'</span>, <span style=\"color: #008080; text-decoration-color: #008080; font-weight: bold\">1952</span><span style=\"font-weight: bold\">)</span>,\n",
              "    <span style=\"font-weight: bold\">(</span><span style=\"color: #008000; text-decoration-color: #008000\">'las'</span>, <span style=\"color: #008080; text-decoration-color: #008080; font-weight: bold\">1923</span><span style=\"font-weight: bold\">)</span>,\n",
              "    <span style=\"font-weight: bold\">(</span><span style=\"color: #008000; text-decoration-color: #008000\">'un'</span>, <span style=\"color: #008080; text-decoration-color: #008080; font-weight: bold\">1869</span><span style=\"font-weight: bold\">)</span>,\n",
              "    <span style=\"font-weight: bold\">(</span><span style=\"color: #008000; text-decoration-color: #008000\">'fp'</span>, <span style=\"color: #008080; text-decoration-color: #008080; font-weight: bold\">1649</span><span style=\"font-weight: bold\">)</span>,\n",
              "    <span style=\"font-weight: bold\">(</span><span style=\"color: #008000; text-decoration-color: #008000\">'con'</span>, <span style=\"color: #008080; text-decoration-color: #008080; font-weight: bold\">1563</span><span style=\"font-weight: bold\">)</span>,\n",
              "    <span style=\"font-weight: bold\">(</span><span style=\"color: #008000; text-decoration-color: #008000\">'por'</span>, <span style=\"color: #008080; text-decoration-color: #008080; font-weight: bold\">1546</span><span style=\"font-weight: bold\">)</span>,\n",
              "    <span style=\"font-weight: bold\">(</span><span style=\"color: #008000; text-decoration-color: #008000\">'una'</span>, <span style=\"color: #008080; text-decoration-color: #008080; font-weight: bold\">1456</span><span style=\"font-weight: bold\">)</span>,\n",
              "    <span style=\"font-weight: bold\">(</span><span style=\"color: #008000; text-decoration-color: #008000\">'no'</span>, <span style=\"color: #008080; text-decoration-color: #008080; font-weight: bold\">1365</span><span style=\"font-weight: bold\">)</span>,\n",
              "    <span style=\"font-weight: bold\">(</span><span style=\"color: #008000; text-decoration-color: #008000\">'su'</span>, <span style=\"color: #008080; text-decoration-color: #008080; font-weight: bold\">1331</span><span style=\"font-weight: bold\">)</span>,\n",
              "    <span style=\"font-weight: bold\">(</span><span style=\"color: #008000; text-decoration-color: #008000\">'para'</span>, <span style=\"color: #008080; text-decoration-color: #008080; font-weight: bold\">1329</span><span style=\"font-weight: bold\">)</span>,\n",
              "    <span style=\"font-weight: bold\">(</span><span style=\"color: #008000; text-decoration-color: #008000\">'##a'</span>, <span style=\"color: #008080; text-decoration-color: #008080; font-weight: bold\">1177</span><span style=\"font-weight: bold\">)</span>,\n",
              "    <span style=\"font-weight: bold\">(</span><span style=\"color: #008000; text-decoration-color: #008000\">'##s'</span>, <span style=\"color: #008080; text-decoration-color: #008080; font-weight: bold\">1107</span><span style=\"font-weight: bold\">)</span>,\n",
              "    <span style=\"font-weight: bold\">(</span><span style=\"color: #008000; text-decoration-color: #008000\">'al'</span>, <span style=\"color: #008080; text-decoration-color: #008080; font-weight: bold\">1022</span><span style=\"font-weight: bold\">)</span>,\n",
              "    <span style=\"font-weight: bold\">(</span><span style=\"color: #008000; text-decoration-color: #008000\">'es'</span>, <span style=\"color: #008080; text-decoration-color: #008080; font-weight: bold\">973</span><span style=\"font-weight: bold\">)</span>,\n",
              "    <span style=\"font-weight: bold\">(</span><span style=\"color: #008000; text-decoration-color: #008000\">'##t'</span>, <span style=\"color: #008080; text-decoration-color: #008080; font-weight: bold\">882</span><span style=\"font-weight: bold\">)</span>,\n",
              "    <span style=\"font-weight: bold\">(</span><span style=\"color: #008000; text-decoration-color: #008000\">'como'</span>, <span style=\"color: #008080; text-decoration-color: #008080; font-weight: bold\">727</span><span style=\"font-weight: bold\">)</span>,\n",
              "    <span style=\"font-weight: bold\">(</span><span style=\"color: #008000; text-decoration-color: #008000\">'ha'</span>, <span style=\"color: #008080; text-decoration-color: #008080; font-weight: bold\">724</span><span style=\"font-weight: bold\">)</span>,\n",
              "    <span style=\"font-weight: bold\">(</span><span style=\"color: #008000; text-decoration-color: #008000\">'lo'</span>, <span style=\"color: #008080; text-decoration-color: #008080; font-weight: bold\">710</span><span style=\"font-weight: bold\">)</span>,\n",
              "    <span style=\"font-weight: bold\">(</span><span style=\"color: #008000; text-decoration-color: #008000\">'más'</span>, <span style=\"color: #008080; text-decoration-color: #008080; font-weight: bold\">666</span><span style=\"font-weight: bold\">)</span>,\n",
              "    <span style=\"font-weight: bold\">(</span><span style=\"color: #008000; text-decoration-color: #008000\">'##n'</span>, <span style=\"color: #008080; text-decoration-color: #008080; font-weight: bold\">560</span><span style=\"font-weight: bold\">)</span>,\n",
              "    <span style=\"font-weight: bold\">(</span><span style=\"color: #008000; text-decoration-color: #008000\">'sus'</span>, <span style=\"color: #008080; text-decoration-color: #008080; font-weight: bold\">519</span><span style=\"font-weight: bold\">)</span>\n",
              "<span style=\"font-weight: bold\">]</span>\n",
              "</pre>\n"
            ]
          },
          "metadata": {}
        }
      ],
      "source": [
        "rprint(cess_tokenized_types.most_common(30))"
      ]
    },
    {
      "cell_type": "code",
      "execution_count": 62,
      "metadata": {
        "editable": true,
        "id": "pXxst1GJmnAA",
        "tags": []
      },
      "outputs": [],
      "source": [
        "cess_lemmatized_types = Counter(lemmatize(cess_words, lang=\"es\"))"
      ]
    },
    {
      "cell_type": "code",
      "execution_count": 63,
      "metadata": {
        "editable": true,
        "id": "vYPJSUTaoDOY",
        "tags": [],
        "outputId": "a32bf3e8-9f9e-4b86-e970-25dc5d980a4e",
        "colab": {
          "base_uri": "https://localhost:8080/",
          "height": 561
        }
      },
      "outputs": [
        {
          "output_type": "display_data",
          "data": {
            "text/plain": [
              "\u001b[1m[\u001b[0m\n",
              "    \u001b[1m(\u001b[0m\u001b[32m'el'\u001b[0m, \u001b[1;36m17900\u001b[0m\u001b[1m)\u001b[0m,\n",
              "    \u001b[1m(\u001b[0m\u001b[32m','\u001b[0m, \u001b[1;36m11426\u001b[0m\u001b[1m)\u001b[0m,\n",
              "    \u001b[1m(\u001b[0m\u001b[32m'de'\u001b[0m, \u001b[1;36m10280\u001b[0m\u001b[1m)\u001b[0m,\n",
              "    \u001b[1m(\u001b[0m\u001b[32m'*'\u001b[0m, \u001b[1;36m7767\u001b[0m\u001b[1m)\u001b[0m,\n",
              "    \u001b[1m(\u001b[0m\u001b[32m'.'\u001b[0m, \u001b[1;36m5894\u001b[0m\u001b[1m)\u001b[0m,\n",
              "    \u001b[1m(\u001b[0m\u001b[32m'que'\u001b[0m, \u001b[1;36m5568\u001b[0m\u001b[1m)\u001b[0m,\n",
              "    \u001b[1m(\u001b[0m\u001b[32m'en'\u001b[0m, \u001b[1;36m4629\u001b[0m\u001b[1m)\u001b[0m,\n",
              "    \u001b[1m(\u001b[0m\u001b[32m'y'\u001b[0m, \u001b[1;36m4340\u001b[0m\u001b[1m)\u001b[0m,\n",
              "    \u001b[1m(\u001b[0m\u001b[32m'0'\u001b[0m, \u001b[1;36m3889\u001b[0m\u001b[1m)\u001b[0m,\n",
              "    \u001b[1m(\u001b[0m\u001b[32m'uno'\u001b[0m, \u001b[1;36m3632\u001b[0m\u001b[1m)\u001b[0m,\n",
              "    \u001b[1m(\u001b[0m\u001b[32m'él'\u001b[0m, \u001b[1;36m3572\u001b[0m\u001b[1m)\u001b[0m,\n",
              "    \u001b[1m(\u001b[0m\u001b[32m'\"'\u001b[0m, \u001b[1;36m3043\u001b[0m\u001b[1m)\u001b[0m,\n",
              "    \u001b[1m(\u001b[0m\u001b[32m'a'\u001b[0m, \u001b[1;36m3006\u001b[0m\u001b[1m)\u001b[0m,\n",
              "    \u001b[1m(\u001b[0m\u001b[32m'ser'\u001b[0m, \u001b[1;36m2425\u001b[0m\u001b[1m)\u001b[0m,\n",
              "    \u001b[1m(\u001b[0m\u001b[32m'del'\u001b[0m, \u001b[1;36m2261\u001b[0m\u001b[1m)\u001b[0m,\n",
              "    \u001b[1m(\u001b[0m\u001b[32m'su'\u001b[0m, \u001b[1;36m1824\u001b[0m\u001b[1m)\u001b[0m,\n",
              "    \u001b[1m(\u001b[0m\u001b[32m'haber'\u001b[0m, \u001b[1;36m1725\u001b[0m\u001b[1m)\u001b[0m,\n",
              "    \u001b[1m(\u001b[0m\u001b[32m'con'\u001b[0m, \u001b[1;36m1545\u001b[0m\u001b[1m)\u001b[0m,\n",
              "    \u001b[1m(\u001b[0m\u001b[32m'por'\u001b[0m, \u001b[1;36m1526\u001b[0m\u001b[1m)\u001b[0m,\n",
              "    \u001b[1m(\u001b[0m\u001b[32m'no'\u001b[0m, \u001b[1;36m1354\u001b[0m\u001b[1m)\u001b[0m,\n",
              "    \u001b[1m(\u001b[0m\u001b[32m'para'\u001b[0m, \u001b[1;36m1313\u001b[0m\u001b[1m)\u001b[0m,\n",
              "    \u001b[1m(\u001b[0m\u001b[32m'-'\u001b[0m, \u001b[1;36m1240\u001b[0m\u001b[1m)\u001b[0m,\n",
              "    \u001b[1m(\u001b[0m\u001b[32m'al'\u001b[0m, \u001b[1;36m1012\u001b[0m\u001b[1m)\u001b[0m,\n",
              "    \u001b[1m(\u001b[0m\u001b[32m'este'\u001b[0m, \u001b[1;36m848\u001b[0m\u001b[1m)\u001b[0m,\n",
              "    \u001b[1m(\u001b[0m\u001b[32m'-Fpt-'\u001b[0m, \u001b[1;36m774\u001b[0m\u001b[1m)\u001b[0m,\n",
              "    \u001b[1m(\u001b[0m\u001b[32m'-Fpa-'\u001b[0m, \u001b[1;36m764\u001b[0m\u001b[1m)\u001b[0m,\n",
              "    \u001b[1m(\u001b[0m\u001b[32m'como'\u001b[0m, \u001b[1;36m724\u001b[0m\u001b[1m)\u001b[0m,\n",
              "    \u001b[1m(\u001b[0m\u001b[32m'más'\u001b[0m, \u001b[1;36m664\u001b[0m\u001b[1m)\u001b[0m,\n",
              "    \u001b[1m(\u001b[0m\u001b[32m'estar'\u001b[0m, \u001b[1;36m577\u001b[0m\u001b[1m)\u001b[0m,\n",
              "    \u001b[1m(\u001b[0m\u001b[32m'tener'\u001b[0m, \u001b[1;36m569\u001b[0m\u001b[1m)\u001b[0m\n",
              "\u001b[1m]\u001b[0m\n"
            ],
            "text/html": [
              "<pre style=\"white-space:pre;overflow-x:auto;line-height:normal;font-family:Menlo,'DejaVu Sans Mono',consolas,'Courier New',monospace\"><span style=\"font-weight: bold\">[</span>\n",
              "    <span style=\"font-weight: bold\">(</span><span style=\"color: #008000; text-decoration-color: #008000\">'el'</span>, <span style=\"color: #008080; text-decoration-color: #008080; font-weight: bold\">17900</span><span style=\"font-weight: bold\">)</span>,\n",
              "    <span style=\"font-weight: bold\">(</span><span style=\"color: #008000; text-decoration-color: #008000\">','</span>, <span style=\"color: #008080; text-decoration-color: #008080; font-weight: bold\">11426</span><span style=\"font-weight: bold\">)</span>,\n",
              "    <span style=\"font-weight: bold\">(</span><span style=\"color: #008000; text-decoration-color: #008000\">'de'</span>, <span style=\"color: #008080; text-decoration-color: #008080; font-weight: bold\">10280</span><span style=\"font-weight: bold\">)</span>,\n",
              "    <span style=\"font-weight: bold\">(</span><span style=\"color: #008000; text-decoration-color: #008000\">'*'</span>, <span style=\"color: #008080; text-decoration-color: #008080; font-weight: bold\">7767</span><span style=\"font-weight: bold\">)</span>,\n",
              "    <span style=\"font-weight: bold\">(</span><span style=\"color: #008000; text-decoration-color: #008000\">'.'</span>, <span style=\"color: #008080; text-decoration-color: #008080; font-weight: bold\">5894</span><span style=\"font-weight: bold\">)</span>,\n",
              "    <span style=\"font-weight: bold\">(</span><span style=\"color: #008000; text-decoration-color: #008000\">'que'</span>, <span style=\"color: #008080; text-decoration-color: #008080; font-weight: bold\">5568</span><span style=\"font-weight: bold\">)</span>,\n",
              "    <span style=\"font-weight: bold\">(</span><span style=\"color: #008000; text-decoration-color: #008000\">'en'</span>, <span style=\"color: #008080; text-decoration-color: #008080; font-weight: bold\">4629</span><span style=\"font-weight: bold\">)</span>,\n",
              "    <span style=\"font-weight: bold\">(</span><span style=\"color: #008000; text-decoration-color: #008000\">'y'</span>, <span style=\"color: #008080; text-decoration-color: #008080; font-weight: bold\">4340</span><span style=\"font-weight: bold\">)</span>,\n",
              "    <span style=\"font-weight: bold\">(</span><span style=\"color: #008000; text-decoration-color: #008000\">'0'</span>, <span style=\"color: #008080; text-decoration-color: #008080; font-weight: bold\">3889</span><span style=\"font-weight: bold\">)</span>,\n",
              "    <span style=\"font-weight: bold\">(</span><span style=\"color: #008000; text-decoration-color: #008000\">'uno'</span>, <span style=\"color: #008080; text-decoration-color: #008080; font-weight: bold\">3632</span><span style=\"font-weight: bold\">)</span>,\n",
              "    <span style=\"font-weight: bold\">(</span><span style=\"color: #008000; text-decoration-color: #008000\">'él'</span>, <span style=\"color: #008080; text-decoration-color: #008080; font-weight: bold\">3572</span><span style=\"font-weight: bold\">)</span>,\n",
              "    <span style=\"font-weight: bold\">(</span><span style=\"color: #008000; text-decoration-color: #008000\">'\"'</span>, <span style=\"color: #008080; text-decoration-color: #008080; font-weight: bold\">3043</span><span style=\"font-weight: bold\">)</span>,\n",
              "    <span style=\"font-weight: bold\">(</span><span style=\"color: #008000; text-decoration-color: #008000\">'a'</span>, <span style=\"color: #008080; text-decoration-color: #008080; font-weight: bold\">3006</span><span style=\"font-weight: bold\">)</span>,\n",
              "    <span style=\"font-weight: bold\">(</span><span style=\"color: #008000; text-decoration-color: #008000\">'ser'</span>, <span style=\"color: #008080; text-decoration-color: #008080; font-weight: bold\">2425</span><span style=\"font-weight: bold\">)</span>,\n",
              "    <span style=\"font-weight: bold\">(</span><span style=\"color: #008000; text-decoration-color: #008000\">'del'</span>, <span style=\"color: #008080; text-decoration-color: #008080; font-weight: bold\">2261</span><span style=\"font-weight: bold\">)</span>,\n",
              "    <span style=\"font-weight: bold\">(</span><span style=\"color: #008000; text-decoration-color: #008000\">'su'</span>, <span style=\"color: #008080; text-decoration-color: #008080; font-weight: bold\">1824</span><span style=\"font-weight: bold\">)</span>,\n",
              "    <span style=\"font-weight: bold\">(</span><span style=\"color: #008000; text-decoration-color: #008000\">'haber'</span>, <span style=\"color: #008080; text-decoration-color: #008080; font-weight: bold\">1725</span><span style=\"font-weight: bold\">)</span>,\n",
              "    <span style=\"font-weight: bold\">(</span><span style=\"color: #008000; text-decoration-color: #008000\">'con'</span>, <span style=\"color: #008080; text-decoration-color: #008080; font-weight: bold\">1545</span><span style=\"font-weight: bold\">)</span>,\n",
              "    <span style=\"font-weight: bold\">(</span><span style=\"color: #008000; text-decoration-color: #008000\">'por'</span>, <span style=\"color: #008080; text-decoration-color: #008080; font-weight: bold\">1526</span><span style=\"font-weight: bold\">)</span>,\n",
              "    <span style=\"font-weight: bold\">(</span><span style=\"color: #008000; text-decoration-color: #008000\">'no'</span>, <span style=\"color: #008080; text-decoration-color: #008080; font-weight: bold\">1354</span><span style=\"font-weight: bold\">)</span>,\n",
              "    <span style=\"font-weight: bold\">(</span><span style=\"color: #008000; text-decoration-color: #008000\">'para'</span>, <span style=\"color: #008080; text-decoration-color: #008080; font-weight: bold\">1313</span><span style=\"font-weight: bold\">)</span>,\n",
              "    <span style=\"font-weight: bold\">(</span><span style=\"color: #008000; text-decoration-color: #008000\">'-'</span>, <span style=\"color: #008080; text-decoration-color: #008080; font-weight: bold\">1240</span><span style=\"font-weight: bold\">)</span>,\n",
              "    <span style=\"font-weight: bold\">(</span><span style=\"color: #008000; text-decoration-color: #008000\">'al'</span>, <span style=\"color: #008080; text-decoration-color: #008080; font-weight: bold\">1012</span><span style=\"font-weight: bold\">)</span>,\n",
              "    <span style=\"font-weight: bold\">(</span><span style=\"color: #008000; text-decoration-color: #008000\">'este'</span>, <span style=\"color: #008080; text-decoration-color: #008080; font-weight: bold\">848</span><span style=\"font-weight: bold\">)</span>,\n",
              "    <span style=\"font-weight: bold\">(</span><span style=\"color: #008000; text-decoration-color: #008000\">'-Fpt-'</span>, <span style=\"color: #008080; text-decoration-color: #008080; font-weight: bold\">774</span><span style=\"font-weight: bold\">)</span>,\n",
              "    <span style=\"font-weight: bold\">(</span><span style=\"color: #008000; text-decoration-color: #008000\">'-Fpa-'</span>, <span style=\"color: #008080; text-decoration-color: #008080; font-weight: bold\">764</span><span style=\"font-weight: bold\">)</span>,\n",
              "    <span style=\"font-weight: bold\">(</span><span style=\"color: #008000; text-decoration-color: #008000\">'como'</span>, <span style=\"color: #008080; text-decoration-color: #008080; font-weight: bold\">724</span><span style=\"font-weight: bold\">)</span>,\n",
              "    <span style=\"font-weight: bold\">(</span><span style=\"color: #008000; text-decoration-color: #008000\">'más'</span>, <span style=\"color: #008080; text-decoration-color: #008080; font-weight: bold\">664</span><span style=\"font-weight: bold\">)</span>,\n",
              "    <span style=\"font-weight: bold\">(</span><span style=\"color: #008000; text-decoration-color: #008000\">'estar'</span>, <span style=\"color: #008080; text-decoration-color: #008080; font-weight: bold\">577</span><span style=\"font-weight: bold\">)</span>,\n",
              "    <span style=\"font-weight: bold\">(</span><span style=\"color: #008000; text-decoration-color: #008000\">'tener'</span>, <span style=\"color: #008080; text-decoration-color: #008080; font-weight: bold\">569</span><span style=\"font-weight: bold\">)</span>\n",
              "<span style=\"font-weight: bold\">]</span>\n",
              "</pre>\n"
            ]
          },
          "metadata": {}
        }
      ],
      "source": [
        "rprint(cess_lemmatized_types.most_common(30))"
      ]
    },
    {
      "cell_type": "code",
      "source": [
        "rprint(\"CESS\")\n",
        "rprint(f\"Tipos ([blue]word-base): {len(cess_types)}\")\n",
        "rprint(f\"Tipos ([yellow]lemmatized): {len(cess_lemmatized_types)}\")\n",
        "rprint(f\"Tipos ([green]sub-word): {len(cess_tokenized_types)}\")"
      ],
      "metadata": {
        "colab": {
          "base_uri": "https://localhost:8080/",
          "height": 85
        },
        "id": "68sT2jnD6Lp4",
        "outputId": "f1b9130e-7049-4975-d584-7e812c47dbeb"
      },
      "execution_count": 64,
      "outputs": [
        {
          "output_type": "display_data",
          "data": {
            "text/plain": [
              "CESS\n"
            ],
            "text/html": [
              "<pre style=\"white-space:pre;overflow-x:auto;line-height:normal;font-family:Menlo,'DejaVu Sans Mono',consolas,'Courier New',monospace\">CESS\n",
              "</pre>\n"
            ]
          },
          "metadata": {}
        },
        {
          "output_type": "display_data",
          "data": {
            "text/plain": [
              "Tipos \u001b[1m(\u001b[0m\u001b[34mword-base\u001b[0m\u001b[1;34m)\u001b[0m\u001b[34m: \u001b[0m\u001b[1;34m25464\u001b[0m\n"
            ],
            "text/html": [
              "<pre style=\"white-space:pre;overflow-x:auto;line-height:normal;font-family:Menlo,'DejaVu Sans Mono',consolas,'Courier New',monospace\">Tipos <span style=\"font-weight: bold\">(</span><span style=\"color: #000080; text-decoration-color: #000080\">word-base</span><span style=\"color: #000080; text-decoration-color: #000080; font-weight: bold\">)</span><span style=\"color: #000080; text-decoration-color: #000080\">: </span><span style=\"color: #000080; text-decoration-color: #000080; font-weight: bold\">25464</span>\n",
              "</pre>\n"
            ]
          },
          "metadata": {}
        },
        {
          "output_type": "display_data",
          "data": {
            "text/plain": [
              "Tipos \u001b[1m(\u001b[0m\u001b[33mlemmatized\u001b[0m\u001b[1;33m)\u001b[0m\u001b[33m: \u001b[0m\u001b[1;33m17898\u001b[0m\n"
            ],
            "text/html": [
              "<pre style=\"white-space:pre;overflow-x:auto;line-height:normal;font-family:Menlo,'DejaVu Sans Mono',consolas,'Courier New',monospace\">Tipos <span style=\"font-weight: bold\">(</span><span style=\"color: #808000; text-decoration-color: #808000\">lemmatized</span><span style=\"color: #808000; text-decoration-color: #808000; font-weight: bold\">)</span><span style=\"color: #808000; text-decoration-color: #808000\">: </span><span style=\"color: #808000; text-decoration-color: #808000; font-weight: bold\">17898</span>\n",
              "</pre>\n"
            ]
          },
          "metadata": {}
        },
        {
          "output_type": "display_data",
          "data": {
            "text/plain": [
              "Tipos \u001b[1m(\u001b[0m\u001b[32msub-word\u001b[0m\u001b[1;32m)\u001b[0m\u001b[32m: \u001b[0m\u001b[1;32m16614\u001b[0m\n"
            ],
            "text/html": [
              "<pre style=\"white-space:pre;overflow-x:auto;line-height:normal;font-family:Menlo,'DejaVu Sans Mono',consolas,'Courier New',monospace\">Tipos <span style=\"font-weight: bold\">(</span><span style=\"color: #008000; text-decoration-color: #008000\">sub-word</span><span style=\"color: #008000; text-decoration-color: #008000; font-weight: bold\">)</span><span style=\"color: #008000; text-decoration-color: #008000\">: </span><span style=\"color: #008000; text-decoration-color: #008000; font-weight: bold\">16614</span>\n",
              "</pre>\n"
            ]
          },
          "metadata": {}
        }
      ]
    },
    {
      "cell_type": "markdown",
      "metadata": {
        "editable": true,
        "id": "TI_4lLaDbXLK",
        "tags": []
      },
      "source": [
        "#### Tokenizando para el inglés"
      ]
    },
    {
      "cell_type": "code",
      "execution_count": 65,
      "metadata": {
        "editable": true,
        "id": "gZCtfixJbPuE",
        "tags": []
      },
      "outputs": [],
      "source": [
        "gutenberg_types = Counter(gutenberg_words)"
      ]
    },
    {
      "cell_type": "code",
      "execution_count": 66,
      "metadata": {
        "editable": true,
        "id": "K8YuRqJVbii1",
        "tags": []
      },
      "outputs": [],
      "source": [
        "gutenberg_tokenized = wp_tokenizer.tokenize(gutenberg_plain_text)\n",
        "gutenberg_tokenized_types = Counter(gutenberg_tokenized)"
      ]
    },
    {
      "cell_type": "code",
      "execution_count": 67,
      "metadata": {
        "editable": true,
        "id": "IVyJ3N9xbz3J",
        "tags": [],
        "colab": {
          "base_uri": "https://localhost:8080/",
          "height": 1000
        },
        "outputId": "0fe26583-bd79-4a2b-e881-fcf0bbd59c62"
      },
      "outputs": [
        {
          "output_type": "display_data",
          "data": {
            "text/plain": [
              "\u001b[1m[\u001b[0m\n",
              "    \u001b[1m(\u001b[0m\u001b[32m'the'\u001b[0m, \u001b[1;36m5475\u001b[0m\u001b[1m)\u001b[0m,\n",
              "    \u001b[1m(\u001b[0m\u001b[32m'to'\u001b[0m, \u001b[1;36m5473\u001b[0m\u001b[1m)\u001b[0m,\n",
              "    \u001b[1m(\u001b[0m\u001b[32m'and'\u001b[0m, \u001b[1;36m5119\u001b[0m\u001b[1m)\u001b[0m,\n",
              "    \u001b[1m(\u001b[0m\u001b[32m'of'\u001b[0m, \u001b[1;36m4560\u001b[0m\u001b[1m)\u001b[0m,\n",
              "    \u001b[1m(\u001b[0m\u001b[32m'a'\u001b[0m, \u001b[1;36m3265\u001b[0m\u001b[1m)\u001b[0m,\n",
              "    \u001b[1m(\u001b[0m\u001b[32m'i'\u001b[0m, \u001b[1;36m3221\u001b[0m\u001b[1m)\u001b[0m,\n",
              "    \u001b[1m(\u001b[0m\u001b[32m'it'\u001b[0m, \u001b[1;36m2600\u001b[0m\u001b[1m)\u001b[0m,\n",
              "    \u001b[1m(\u001b[0m\u001b[32m'her'\u001b[0m, \u001b[1;36m2556\u001b[0m\u001b[1m)\u001b[0m,\n",
              "    \u001b[1m(\u001b[0m\u001b[32m'was'\u001b[0m, \u001b[1;36m2484\u001b[0m\u001b[1m)\u001b[0m,\n",
              "    \u001b[1m(\u001b[0m\u001b[32m'she'\u001b[0m, \u001b[1;36m2472\u001b[0m\u001b[1m)\u001b[0m,\n",
              "    \u001b[1m(\u001b[0m\u001b[32m'in'\u001b[0m, \u001b[1;36m2361\u001b[0m\u001b[1m)\u001b[0m,\n",
              "    \u001b[1m(\u001b[0m\u001b[32m'not'\u001b[0m, \u001b[1;36m2186\u001b[0m\u001b[1m)\u001b[0m,\n",
              "    \u001b[1m(\u001b[0m\u001b[32m'be'\u001b[0m, \u001b[1;36m2060\u001b[0m\u001b[1m)\u001b[0m,\n",
              "    \u001b[1m(\u001b[0m\u001b[32m'you'\u001b[0m, \u001b[1;36m1988\u001b[0m\u001b[1m)\u001b[0m,\n",
              "    \u001b[1m(\u001b[0m\u001b[32m'he'\u001b[0m, \u001b[1;36m1885\u001b[0m\u001b[1m)\u001b[0m,\n",
              "    \u001b[1m(\u001b[0m\u001b[32m'that'\u001b[0m, \u001b[1;36m1857\u001b[0m\u001b[1m)\u001b[0m,\n",
              "    \u001b[1m(\u001b[0m\u001b[32m'had'\u001b[0m, \u001b[1;36m1735\u001b[0m\u001b[1m)\u001b[0m,\n",
              "    \u001b[1m(\u001b[0m\u001b[32m'as'\u001b[0m, \u001b[1;36m1519\u001b[0m\u001b[1m)\u001b[0m,\n",
              "    \u001b[1m(\u001b[0m\u001b[32m'but'\u001b[0m, \u001b[1;36m1485\u001b[0m\u001b[1m)\u001b[0m,\n",
              "    \u001b[1m(\u001b[0m\u001b[32m'for'\u001b[0m, \u001b[1;36m1416\u001b[0m\u001b[1m)\u001b[0m,\n",
              "    \u001b[1m(\u001b[0m\u001b[32m'have'\u001b[0m, \u001b[1;36m1362\u001b[0m\u001b[1m)\u001b[0m,\n",
              "    \u001b[1m(\u001b[0m\u001b[32m'is'\u001b[0m, \u001b[1;36m1273\u001b[0m\u001b[1m)\u001b[0m,\n",
              "    \u001b[1m(\u001b[0m\u001b[32m'with'\u001b[0m, \u001b[1;36m1262\u001b[0m\u001b[1m)\u001b[0m,\n",
              "    \u001b[1m(\u001b[0m\u001b[32m'very'\u001b[0m, \u001b[1;36m1242\u001b[0m\u001b[1m)\u001b[0m,\n",
              "    \u001b[1m(\u001b[0m\u001b[32m'his'\u001b[0m, \u001b[1;36m1210\u001b[0m\u001b[1m)\u001b[0m,\n",
              "    \u001b[1m(\u001b[0m\u001b[32m'mr'\u001b[0m, \u001b[1;36m1173\u001b[0m\u001b[1m)\u001b[0m,\n",
              "    \u001b[1m(\u001b[0m\u001b[32m'at'\u001b[0m, \u001b[1;36m1080\u001b[0m\u001b[1m)\u001b[0m,\n",
              "    \u001b[1m(\u001b[0m\u001b[32m'so'\u001b[0m, \u001b[1;36m992\u001b[0m\u001b[1m)\u001b[0m,\n",
              "    \u001b[1m(\u001b[0m\u001b[32m's'\u001b[0m, \u001b[1;36m985\u001b[0m\u001b[1m)\u001b[0m,\n",
              "    \u001b[1m(\u001b[0m\u001b[32m'all'\u001b[0m, \u001b[1;36m904\u001b[0m\u001b[1m)\u001b[0m,\n",
              "    \u001b[1m(\u001b[0m\u001b[32m'emma'\u001b[0m, \u001b[1;36m865\u001b[0m\u001b[1m)\u001b[0m,\n",
              "    \u001b[1m(\u001b[0m\u001b[32m'could'\u001b[0m, \u001b[1;36m860\u001b[0m\u001b[1m)\u001b[0m,\n",
              "    \u001b[1m(\u001b[0m\u001b[32m'would'\u001b[0m, \u001b[1;36m850\u001b[0m\u001b[1m)\u001b[0m,\n",
              "    \u001b[1m(\u001b[0m\u001b[32m'been'\u001b[0m, \u001b[1;36m805\u001b[0m\u001b[1m)\u001b[0m,\n",
              "    \u001b[1m(\u001b[0m\u001b[32m'him'\u001b[0m, \u001b[1;36m781\u001b[0m\u001b[1m)\u001b[0m,\n",
              "    \u001b[1m(\u001b[0m\u001b[32m'no'\u001b[0m, \u001b[1;36m768\u001b[0m\u001b[1m)\u001b[0m,\n",
              "    \u001b[1m(\u001b[0m\u001b[32m'my'\u001b[0m, \u001b[1;36m735\u001b[0m\u001b[1m)\u001b[0m,\n",
              "    \u001b[1m(\u001b[0m\u001b[32m'on'\u001b[0m, \u001b[1;36m721\u001b[0m\u001b[1m)\u001b[0m,\n",
              "    \u001b[1m(\u001b[0m\u001b[32m'mrs'\u001b[0m, \u001b[1;36m707\u001b[0m\u001b[1m)\u001b[0m,\n",
              "    \u001b[1m(\u001b[0m\u001b[32m'any'\u001b[0m, \u001b[1;36m686\u001b[0m\u001b[1m)\u001b[0m,\n",
              "    \u001b[1m(\u001b[0m\u001b[32m'do'\u001b[0m, \u001b[1;36m660\u001b[0m\u001b[1m)\u001b[0m,\n",
              "    \u001b[1m(\u001b[0m\u001b[32m'were'\u001b[0m, \u001b[1;36m621\u001b[0m\u001b[1m)\u001b[0m,\n",
              "    \u001b[1m(\u001b[0m\u001b[32m'##s'\u001b[0m, \u001b[1;36m611\u001b[0m\u001b[1m)\u001b[0m,\n",
              "    \u001b[1m(\u001b[0m\u001b[32m'miss'\u001b[0m, \u001b[1;36m606\u001b[0m\u001b[1m)\u001b[0m,\n",
              "    \u001b[1m(\u001b[0m\u001b[32m'by'\u001b[0m, \u001b[1;36m604\u001b[0m\u001b[1m)\u001b[0m,\n",
              "    \u001b[1m(\u001b[0m\u001b[32m'which'\u001b[0m, \u001b[1;36m601\u001b[0m\u001b[1m)\u001b[0m,\n",
              "    \u001b[1m(\u001b[0m\u001b[32m'must'\u001b[0m, \u001b[1;36m582\u001b[0m\u001b[1m)\u001b[0m,\n",
              "    \u001b[1m(\u001b[0m\u001b[32m'will'\u001b[0m, \u001b[1;36m582\u001b[0m\u001b[1m)\u001b[0m,\n",
              "    \u001b[1m(\u001b[0m\u001b[32m'me'\u001b[0m, \u001b[1;36m582\u001b[0m\u001b[1m)\u001b[0m,\n",
              "    \u001b[1m(\u001b[0m\u001b[32m'there'\u001b[0m, \u001b[1;36m576\u001b[0m\u001b[1m)\u001b[0m,\n",
              "    \u001b[1m(\u001b[0m\u001b[32m'from'\u001b[0m, \u001b[1;36m573\u001b[0m\u001b[1m)\u001b[0m,\n",
              "    \u001b[1m(\u001b[0m\u001b[32m'they'\u001b[0m, \u001b[1;36m562\u001b[0m\u001b[1m)\u001b[0m,\n",
              "    \u001b[1m(\u001b[0m\u001b[32m'what'\u001b[0m, \u001b[1;36m552\u001b[0m\u001b[1m)\u001b[0m,\n",
              "    \u001b[1m(\u001b[0m\u001b[32m'this'\u001b[0m, \u001b[1;36m544\u001b[0m\u001b[1m)\u001b[0m,\n",
              "    \u001b[1m(\u001b[0m\u001b[32m'or'\u001b[0m, \u001b[1;36m514\u001b[0m\u001b[1m)\u001b[0m,\n",
              "    \u001b[1m(\u001b[0m\u001b[32m'harriet'\u001b[0m, \u001b[1;36m506\u001b[0m\u001b[1m)\u001b[0m,\n",
              "    \u001b[1m(\u001b[0m\u001b[32m'much'\u001b[0m, \u001b[1;36m501\u001b[0m\u001b[1m)\u001b[0m,\n",
              "    \u001b[1m(\u001b[0m\u001b[32m'such'\u001b[0m, \u001b[1;36m500\u001b[0m\u001b[1m)\u001b[0m,\n",
              "    \u001b[1m(\u001b[0m\u001b[32m'if'\u001b[0m, \u001b[1;36m496\u001b[0m\u001b[1m)\u001b[0m,\n",
              "    \u001b[1m(\u001b[0m\u001b[32m'an'\u001b[0m, \u001b[1;36m493\u001b[0m\u001b[1m)\u001b[0m,\n",
              "    \u001b[1m(\u001b[0m\u001b[32m'said'\u001b[0m, \u001b[1;36m490\u001b[0m\u001b[1m)\u001b[0m,\n",
              "    \u001b[1m(\u001b[0m\u001b[32m'more'\u001b[0m, \u001b[1;36m488\u001b[0m\u001b[1m)\u001b[0m,\n",
              "    \u001b[1m(\u001b[0m\u001b[32m'one'\u001b[0m, \u001b[1;36m472\u001b[0m\u001b[1m)\u001b[0m,\n",
              "    \u001b[1m(\u001b[0m\u001b[32m'are'\u001b[0m, \u001b[1;36m467\u001b[0m\u001b[1m)\u001b[0m,\n",
              "    \u001b[1m(\u001b[0m\u001b[32m'them'\u001b[0m, \u001b[1;36m450\u001b[0m\u001b[1m)\u001b[0m,\n",
              "    \u001b[1m(\u001b[0m\u001b[32m'every'\u001b[0m, \u001b[1;36m449\u001b[0m\u001b[1m)\u001b[0m,\n",
              "    \u001b[1m(\u001b[0m\u001b[32m'weston'\u001b[0m, \u001b[1;36m448\u001b[0m\u001b[1m)\u001b[0m,\n",
              "    \u001b[1m(\u001b[0m\u001b[32m'am'\u001b[0m, \u001b[1;36m440\u001b[0m\u001b[1m)\u001b[0m,\n",
              "    \u001b[1m(\u001b[0m\u001b[32m'than'\u001b[0m, \u001b[1;36m433\u001b[0m\u001b[1m)\u001b[0m,\n",
              "    \u001b[1m(\u001b[0m\u001b[32m'elton'\u001b[0m, \u001b[1;36m407\u001b[0m\u001b[1m)\u001b[0m,\n",
              "    \u001b[1m(\u001b[0m\u001b[32m'well'\u001b[0m, \u001b[1;36m405\u001b[0m\u001b[1m)\u001b[0m,\n",
              "    \u001b[1m(\u001b[0m\u001b[32m'thing'\u001b[0m, \u001b[1;36m402\u001b[0m\u001b[1m)\u001b[0m,\n",
              "    \u001b[1m(\u001b[0m\u001b[32m'knight'\u001b[0m, \u001b[1;36m398\u001b[0m\u001b[1m)\u001b[0m,\n",
              "    \u001b[1m(\u001b[0m\u001b[32m'##ley'\u001b[0m, \u001b[1;36m398\u001b[0m\u001b[1m)\u001b[0m,\n",
              "    \u001b[1m(\u001b[0m\u001b[32m'think'\u001b[0m, \u001b[1;36m391\u001b[0m\u001b[1m)\u001b[0m,\n",
              "    \u001b[1m(\u001b[0m\u001b[32m'being'\u001b[0m, \u001b[1;36m381\u001b[0m\u001b[1m)\u001b[0m,\n",
              "    \u001b[1m(\u001b[0m\u001b[32m'should'\u001b[0m, \u001b[1;36m380\u001b[0m\u001b[1m)\u001b[0m,\n",
              "    \u001b[1m(\u001b[0m\u001b[32m'how'\u001b[0m, \u001b[1;36m378\u001b[0m\u001b[1m)\u001b[0m,\n",
              "    \u001b[1m(\u001b[0m\u001b[32m'little'\u001b[0m, \u001b[1;36m376\u001b[0m\u001b[1m)\u001b[0m,\n",
              "    \u001b[1m(\u001b[0m\u001b[32m'good'\u001b[0m, \u001b[1;36m376\u001b[0m\u001b[1m)\u001b[0m,\n",
              "    \u001b[1m(\u001b[0m\u001b[32m'we'\u001b[0m, \u001b[1;36m376\u001b[0m\u001b[1m)\u001b[0m,\n",
              "    \u001b[1m(\u001b[0m\u001b[32m'never'\u001b[0m, \u001b[1;36m373\u001b[0m\u001b[1m)\u001b[0m,\n",
              "    \u001b[1m(\u001b[0m\u001b[32m'when'\u001b[0m, \u001b[1;36m372\u001b[0m\u001b[1m)\u001b[0m,\n",
              "    \u001b[1m(\u001b[0m\u001b[32m'your'\u001b[0m, \u001b[1;36m369\u001b[0m\u001b[1m)\u001b[0m,\n",
              "    \u001b[1m(\u001b[0m\u001b[32m'did'\u001b[0m, \u001b[1;36m361\u001b[0m\u001b[1m)\u001b[0m,\n",
              "    \u001b[1m(\u001b[0m\u001b[32m'only'\u001b[0m, \u001b[1;36m358\u001b[0m\u001b[1m)\u001b[0m,\n",
              "    \u001b[1m(\u001b[0m\u001b[32m'might'\u001b[0m, \u001b[1;36m343\u001b[0m\u001b[1m)\u001b[0m,\n",
              "    \u001b[1m(\u001b[0m\u001b[32m'know'\u001b[0m, \u001b[1;36m342\u001b[0m\u001b[1m)\u001b[0m,\n",
              "    \u001b[1m(\u001b[0m\u001b[32m'their'\u001b[0m, \u001b[1;36m332\u001b[0m\u001b[1m)\u001b[0m,\n",
              "    \u001b[1m(\u001b[0m\u001b[32m'own'\u001b[0m, \u001b[1;36m321\u001b[0m\u001b[1m)\u001b[0m,\n",
              "    \u001b[1m(\u001b[0m\u001b[32m'wood'\u001b[0m, \u001b[1;36m319\u001b[0m\u001b[1m)\u001b[0m,\n",
              "    \u001b[1m(\u001b[0m\u001b[32m'who'\u001b[0m, \u001b[1;36m319\u001b[0m\u001b[1m)\u001b[0m,\n",
              "    \u001b[1m(\u001b[0m\u001b[32m'now'\u001b[0m, \u001b[1;36m315\u001b[0m\u001b[1m)\u001b[0m,\n",
              "    \u001b[1m(\u001b[0m\u001b[32m'##house'\u001b[0m, \u001b[1;36m313\u001b[0m\u001b[1m)\u001b[0m,\n",
              "    \u001b[1m(\u001b[0m\u001b[32m'say'\u001b[0m, \u001b[1;36m313\u001b[0m\u001b[1m)\u001b[0m,\n",
              "    \u001b[1m(\u001b[0m\u001b[32m'jane'\u001b[0m, \u001b[1;36m302\u001b[0m\u001b[1m)\u001b[0m,\n",
              "    \u001b[1m(\u001b[0m\u001b[32m'can'\u001b[0m, \u001b[1;36m297\u001b[0m\u001b[1m)\u001b[0m,\n",
              "    \u001b[1m(\u001b[0m\u001b[32m'quite'\u001b[0m, \u001b[1;36m290\u001b[0m\u001b[1m)\u001b[0m,\n",
              "    \u001b[1m(\u001b[0m\u001b[32m'herself'\u001b[0m, \u001b[1;36m288\u001b[0m\u001b[1m)\u001b[0m,\n",
              "    \u001b[1m(\u001b[0m\u001b[32m'time'\u001b[0m, \u001b[1;36m285\u001b[0m\u001b[1m)\u001b[0m\n",
              "\u001b[1m]\u001b[0m\n"
            ],
            "text/html": [
              "<pre style=\"white-space:pre;overflow-x:auto;line-height:normal;font-family:Menlo,'DejaVu Sans Mono',consolas,'Courier New',monospace\"><span style=\"font-weight: bold\">[</span>\n",
              "    <span style=\"font-weight: bold\">(</span><span style=\"color: #008000; text-decoration-color: #008000\">'the'</span>, <span style=\"color: #008080; text-decoration-color: #008080; font-weight: bold\">5475</span><span style=\"font-weight: bold\">)</span>,\n",
              "    <span style=\"font-weight: bold\">(</span><span style=\"color: #008000; text-decoration-color: #008000\">'to'</span>, <span style=\"color: #008080; text-decoration-color: #008080; font-weight: bold\">5473</span><span style=\"font-weight: bold\">)</span>,\n",
              "    <span style=\"font-weight: bold\">(</span><span style=\"color: #008000; text-decoration-color: #008000\">'and'</span>, <span style=\"color: #008080; text-decoration-color: #008080; font-weight: bold\">5119</span><span style=\"font-weight: bold\">)</span>,\n",
              "    <span style=\"font-weight: bold\">(</span><span style=\"color: #008000; text-decoration-color: #008000\">'of'</span>, <span style=\"color: #008080; text-decoration-color: #008080; font-weight: bold\">4560</span><span style=\"font-weight: bold\">)</span>,\n",
              "    <span style=\"font-weight: bold\">(</span><span style=\"color: #008000; text-decoration-color: #008000\">'a'</span>, <span style=\"color: #008080; text-decoration-color: #008080; font-weight: bold\">3265</span><span style=\"font-weight: bold\">)</span>,\n",
              "    <span style=\"font-weight: bold\">(</span><span style=\"color: #008000; text-decoration-color: #008000\">'i'</span>, <span style=\"color: #008080; text-decoration-color: #008080; font-weight: bold\">3221</span><span style=\"font-weight: bold\">)</span>,\n",
              "    <span style=\"font-weight: bold\">(</span><span style=\"color: #008000; text-decoration-color: #008000\">'it'</span>, <span style=\"color: #008080; text-decoration-color: #008080; font-weight: bold\">2600</span><span style=\"font-weight: bold\">)</span>,\n",
              "    <span style=\"font-weight: bold\">(</span><span style=\"color: #008000; text-decoration-color: #008000\">'her'</span>, <span style=\"color: #008080; text-decoration-color: #008080; font-weight: bold\">2556</span><span style=\"font-weight: bold\">)</span>,\n",
              "    <span style=\"font-weight: bold\">(</span><span style=\"color: #008000; text-decoration-color: #008000\">'was'</span>, <span style=\"color: #008080; text-decoration-color: #008080; font-weight: bold\">2484</span><span style=\"font-weight: bold\">)</span>,\n",
              "    <span style=\"font-weight: bold\">(</span><span style=\"color: #008000; text-decoration-color: #008000\">'she'</span>, <span style=\"color: #008080; text-decoration-color: #008080; font-weight: bold\">2472</span><span style=\"font-weight: bold\">)</span>,\n",
              "    <span style=\"font-weight: bold\">(</span><span style=\"color: #008000; text-decoration-color: #008000\">'in'</span>, <span style=\"color: #008080; text-decoration-color: #008080; font-weight: bold\">2361</span><span style=\"font-weight: bold\">)</span>,\n",
              "    <span style=\"font-weight: bold\">(</span><span style=\"color: #008000; text-decoration-color: #008000\">'not'</span>, <span style=\"color: #008080; text-decoration-color: #008080; font-weight: bold\">2186</span><span style=\"font-weight: bold\">)</span>,\n",
              "    <span style=\"font-weight: bold\">(</span><span style=\"color: #008000; text-decoration-color: #008000\">'be'</span>, <span style=\"color: #008080; text-decoration-color: #008080; font-weight: bold\">2060</span><span style=\"font-weight: bold\">)</span>,\n",
              "    <span style=\"font-weight: bold\">(</span><span style=\"color: #008000; text-decoration-color: #008000\">'you'</span>, <span style=\"color: #008080; text-decoration-color: #008080; font-weight: bold\">1988</span><span style=\"font-weight: bold\">)</span>,\n",
              "    <span style=\"font-weight: bold\">(</span><span style=\"color: #008000; text-decoration-color: #008000\">'he'</span>, <span style=\"color: #008080; text-decoration-color: #008080; font-weight: bold\">1885</span><span style=\"font-weight: bold\">)</span>,\n",
              "    <span style=\"font-weight: bold\">(</span><span style=\"color: #008000; text-decoration-color: #008000\">'that'</span>, <span style=\"color: #008080; text-decoration-color: #008080; font-weight: bold\">1857</span><span style=\"font-weight: bold\">)</span>,\n",
              "    <span style=\"font-weight: bold\">(</span><span style=\"color: #008000; text-decoration-color: #008000\">'had'</span>, <span style=\"color: #008080; text-decoration-color: #008080; font-weight: bold\">1735</span><span style=\"font-weight: bold\">)</span>,\n",
              "    <span style=\"font-weight: bold\">(</span><span style=\"color: #008000; text-decoration-color: #008000\">'as'</span>, <span style=\"color: #008080; text-decoration-color: #008080; font-weight: bold\">1519</span><span style=\"font-weight: bold\">)</span>,\n",
              "    <span style=\"font-weight: bold\">(</span><span style=\"color: #008000; text-decoration-color: #008000\">'but'</span>, <span style=\"color: #008080; text-decoration-color: #008080; font-weight: bold\">1485</span><span style=\"font-weight: bold\">)</span>,\n",
              "    <span style=\"font-weight: bold\">(</span><span style=\"color: #008000; text-decoration-color: #008000\">'for'</span>, <span style=\"color: #008080; text-decoration-color: #008080; font-weight: bold\">1416</span><span style=\"font-weight: bold\">)</span>,\n",
              "    <span style=\"font-weight: bold\">(</span><span style=\"color: #008000; text-decoration-color: #008000\">'have'</span>, <span style=\"color: #008080; text-decoration-color: #008080; font-weight: bold\">1362</span><span style=\"font-weight: bold\">)</span>,\n",
              "    <span style=\"font-weight: bold\">(</span><span style=\"color: #008000; text-decoration-color: #008000\">'is'</span>, <span style=\"color: #008080; text-decoration-color: #008080; font-weight: bold\">1273</span><span style=\"font-weight: bold\">)</span>,\n",
              "    <span style=\"font-weight: bold\">(</span><span style=\"color: #008000; text-decoration-color: #008000\">'with'</span>, <span style=\"color: #008080; text-decoration-color: #008080; font-weight: bold\">1262</span><span style=\"font-weight: bold\">)</span>,\n",
              "    <span style=\"font-weight: bold\">(</span><span style=\"color: #008000; text-decoration-color: #008000\">'very'</span>, <span style=\"color: #008080; text-decoration-color: #008080; font-weight: bold\">1242</span><span style=\"font-weight: bold\">)</span>,\n",
              "    <span style=\"font-weight: bold\">(</span><span style=\"color: #008000; text-decoration-color: #008000\">'his'</span>, <span style=\"color: #008080; text-decoration-color: #008080; font-weight: bold\">1210</span><span style=\"font-weight: bold\">)</span>,\n",
              "    <span style=\"font-weight: bold\">(</span><span style=\"color: #008000; text-decoration-color: #008000\">'mr'</span>, <span style=\"color: #008080; text-decoration-color: #008080; font-weight: bold\">1173</span><span style=\"font-weight: bold\">)</span>,\n",
              "    <span style=\"font-weight: bold\">(</span><span style=\"color: #008000; text-decoration-color: #008000\">'at'</span>, <span style=\"color: #008080; text-decoration-color: #008080; font-weight: bold\">1080</span><span style=\"font-weight: bold\">)</span>,\n",
              "    <span style=\"font-weight: bold\">(</span><span style=\"color: #008000; text-decoration-color: #008000\">'so'</span>, <span style=\"color: #008080; text-decoration-color: #008080; font-weight: bold\">992</span><span style=\"font-weight: bold\">)</span>,\n",
              "    <span style=\"font-weight: bold\">(</span><span style=\"color: #008000; text-decoration-color: #008000\">'s'</span>, <span style=\"color: #008080; text-decoration-color: #008080; font-weight: bold\">985</span><span style=\"font-weight: bold\">)</span>,\n",
              "    <span style=\"font-weight: bold\">(</span><span style=\"color: #008000; text-decoration-color: #008000\">'all'</span>, <span style=\"color: #008080; text-decoration-color: #008080; font-weight: bold\">904</span><span style=\"font-weight: bold\">)</span>,\n",
              "    <span style=\"font-weight: bold\">(</span><span style=\"color: #008000; text-decoration-color: #008000\">'emma'</span>, <span style=\"color: #008080; text-decoration-color: #008080; font-weight: bold\">865</span><span style=\"font-weight: bold\">)</span>,\n",
              "    <span style=\"font-weight: bold\">(</span><span style=\"color: #008000; text-decoration-color: #008000\">'could'</span>, <span style=\"color: #008080; text-decoration-color: #008080; font-weight: bold\">860</span><span style=\"font-weight: bold\">)</span>,\n",
              "    <span style=\"font-weight: bold\">(</span><span style=\"color: #008000; text-decoration-color: #008000\">'would'</span>, <span style=\"color: #008080; text-decoration-color: #008080; font-weight: bold\">850</span><span style=\"font-weight: bold\">)</span>,\n",
              "    <span style=\"font-weight: bold\">(</span><span style=\"color: #008000; text-decoration-color: #008000\">'been'</span>, <span style=\"color: #008080; text-decoration-color: #008080; font-weight: bold\">805</span><span style=\"font-weight: bold\">)</span>,\n",
              "    <span style=\"font-weight: bold\">(</span><span style=\"color: #008000; text-decoration-color: #008000\">'him'</span>, <span style=\"color: #008080; text-decoration-color: #008080; font-weight: bold\">781</span><span style=\"font-weight: bold\">)</span>,\n",
              "    <span style=\"font-weight: bold\">(</span><span style=\"color: #008000; text-decoration-color: #008000\">'no'</span>, <span style=\"color: #008080; text-decoration-color: #008080; font-weight: bold\">768</span><span style=\"font-weight: bold\">)</span>,\n",
              "    <span style=\"font-weight: bold\">(</span><span style=\"color: #008000; text-decoration-color: #008000\">'my'</span>, <span style=\"color: #008080; text-decoration-color: #008080; font-weight: bold\">735</span><span style=\"font-weight: bold\">)</span>,\n",
              "    <span style=\"font-weight: bold\">(</span><span style=\"color: #008000; text-decoration-color: #008000\">'on'</span>, <span style=\"color: #008080; text-decoration-color: #008080; font-weight: bold\">721</span><span style=\"font-weight: bold\">)</span>,\n",
              "    <span style=\"font-weight: bold\">(</span><span style=\"color: #008000; text-decoration-color: #008000\">'mrs'</span>, <span style=\"color: #008080; text-decoration-color: #008080; font-weight: bold\">707</span><span style=\"font-weight: bold\">)</span>,\n",
              "    <span style=\"font-weight: bold\">(</span><span style=\"color: #008000; text-decoration-color: #008000\">'any'</span>, <span style=\"color: #008080; text-decoration-color: #008080; font-weight: bold\">686</span><span style=\"font-weight: bold\">)</span>,\n",
              "    <span style=\"font-weight: bold\">(</span><span style=\"color: #008000; text-decoration-color: #008000\">'do'</span>, <span style=\"color: #008080; text-decoration-color: #008080; font-weight: bold\">660</span><span style=\"font-weight: bold\">)</span>,\n",
              "    <span style=\"font-weight: bold\">(</span><span style=\"color: #008000; text-decoration-color: #008000\">'were'</span>, <span style=\"color: #008080; text-decoration-color: #008080; font-weight: bold\">621</span><span style=\"font-weight: bold\">)</span>,\n",
              "    <span style=\"font-weight: bold\">(</span><span style=\"color: #008000; text-decoration-color: #008000\">'##s'</span>, <span style=\"color: #008080; text-decoration-color: #008080; font-weight: bold\">611</span><span style=\"font-weight: bold\">)</span>,\n",
              "    <span style=\"font-weight: bold\">(</span><span style=\"color: #008000; text-decoration-color: #008000\">'miss'</span>, <span style=\"color: #008080; text-decoration-color: #008080; font-weight: bold\">606</span><span style=\"font-weight: bold\">)</span>,\n",
              "    <span style=\"font-weight: bold\">(</span><span style=\"color: #008000; text-decoration-color: #008000\">'by'</span>, <span style=\"color: #008080; text-decoration-color: #008080; font-weight: bold\">604</span><span style=\"font-weight: bold\">)</span>,\n",
              "    <span style=\"font-weight: bold\">(</span><span style=\"color: #008000; text-decoration-color: #008000\">'which'</span>, <span style=\"color: #008080; text-decoration-color: #008080; font-weight: bold\">601</span><span style=\"font-weight: bold\">)</span>,\n",
              "    <span style=\"font-weight: bold\">(</span><span style=\"color: #008000; text-decoration-color: #008000\">'must'</span>, <span style=\"color: #008080; text-decoration-color: #008080; font-weight: bold\">582</span><span style=\"font-weight: bold\">)</span>,\n",
              "    <span style=\"font-weight: bold\">(</span><span style=\"color: #008000; text-decoration-color: #008000\">'will'</span>, <span style=\"color: #008080; text-decoration-color: #008080; font-weight: bold\">582</span><span style=\"font-weight: bold\">)</span>,\n",
              "    <span style=\"font-weight: bold\">(</span><span style=\"color: #008000; text-decoration-color: #008000\">'me'</span>, <span style=\"color: #008080; text-decoration-color: #008080; font-weight: bold\">582</span><span style=\"font-weight: bold\">)</span>,\n",
              "    <span style=\"font-weight: bold\">(</span><span style=\"color: #008000; text-decoration-color: #008000\">'there'</span>, <span style=\"color: #008080; text-decoration-color: #008080; font-weight: bold\">576</span><span style=\"font-weight: bold\">)</span>,\n",
              "    <span style=\"font-weight: bold\">(</span><span style=\"color: #008000; text-decoration-color: #008000\">'from'</span>, <span style=\"color: #008080; text-decoration-color: #008080; font-weight: bold\">573</span><span style=\"font-weight: bold\">)</span>,\n",
              "    <span style=\"font-weight: bold\">(</span><span style=\"color: #008000; text-decoration-color: #008000\">'they'</span>, <span style=\"color: #008080; text-decoration-color: #008080; font-weight: bold\">562</span><span style=\"font-weight: bold\">)</span>,\n",
              "    <span style=\"font-weight: bold\">(</span><span style=\"color: #008000; text-decoration-color: #008000\">'what'</span>, <span style=\"color: #008080; text-decoration-color: #008080; font-weight: bold\">552</span><span style=\"font-weight: bold\">)</span>,\n",
              "    <span style=\"font-weight: bold\">(</span><span style=\"color: #008000; text-decoration-color: #008000\">'this'</span>, <span style=\"color: #008080; text-decoration-color: #008080; font-weight: bold\">544</span><span style=\"font-weight: bold\">)</span>,\n",
              "    <span style=\"font-weight: bold\">(</span><span style=\"color: #008000; text-decoration-color: #008000\">'or'</span>, <span style=\"color: #008080; text-decoration-color: #008080; font-weight: bold\">514</span><span style=\"font-weight: bold\">)</span>,\n",
              "    <span style=\"font-weight: bold\">(</span><span style=\"color: #008000; text-decoration-color: #008000\">'harriet'</span>, <span style=\"color: #008080; text-decoration-color: #008080; font-weight: bold\">506</span><span style=\"font-weight: bold\">)</span>,\n",
              "    <span style=\"font-weight: bold\">(</span><span style=\"color: #008000; text-decoration-color: #008000\">'much'</span>, <span style=\"color: #008080; text-decoration-color: #008080; font-weight: bold\">501</span><span style=\"font-weight: bold\">)</span>,\n",
              "    <span style=\"font-weight: bold\">(</span><span style=\"color: #008000; text-decoration-color: #008000\">'such'</span>, <span style=\"color: #008080; text-decoration-color: #008080; font-weight: bold\">500</span><span style=\"font-weight: bold\">)</span>,\n",
              "    <span style=\"font-weight: bold\">(</span><span style=\"color: #008000; text-decoration-color: #008000\">'if'</span>, <span style=\"color: #008080; text-decoration-color: #008080; font-weight: bold\">496</span><span style=\"font-weight: bold\">)</span>,\n",
              "    <span style=\"font-weight: bold\">(</span><span style=\"color: #008000; text-decoration-color: #008000\">'an'</span>, <span style=\"color: #008080; text-decoration-color: #008080; font-weight: bold\">493</span><span style=\"font-weight: bold\">)</span>,\n",
              "    <span style=\"font-weight: bold\">(</span><span style=\"color: #008000; text-decoration-color: #008000\">'said'</span>, <span style=\"color: #008080; text-decoration-color: #008080; font-weight: bold\">490</span><span style=\"font-weight: bold\">)</span>,\n",
              "    <span style=\"font-weight: bold\">(</span><span style=\"color: #008000; text-decoration-color: #008000\">'more'</span>, <span style=\"color: #008080; text-decoration-color: #008080; font-weight: bold\">488</span><span style=\"font-weight: bold\">)</span>,\n",
              "    <span style=\"font-weight: bold\">(</span><span style=\"color: #008000; text-decoration-color: #008000\">'one'</span>, <span style=\"color: #008080; text-decoration-color: #008080; font-weight: bold\">472</span><span style=\"font-weight: bold\">)</span>,\n",
              "    <span style=\"font-weight: bold\">(</span><span style=\"color: #008000; text-decoration-color: #008000\">'are'</span>, <span style=\"color: #008080; text-decoration-color: #008080; font-weight: bold\">467</span><span style=\"font-weight: bold\">)</span>,\n",
              "    <span style=\"font-weight: bold\">(</span><span style=\"color: #008000; text-decoration-color: #008000\">'them'</span>, <span style=\"color: #008080; text-decoration-color: #008080; font-weight: bold\">450</span><span style=\"font-weight: bold\">)</span>,\n",
              "    <span style=\"font-weight: bold\">(</span><span style=\"color: #008000; text-decoration-color: #008000\">'every'</span>, <span style=\"color: #008080; text-decoration-color: #008080; font-weight: bold\">449</span><span style=\"font-weight: bold\">)</span>,\n",
              "    <span style=\"font-weight: bold\">(</span><span style=\"color: #008000; text-decoration-color: #008000\">'weston'</span>, <span style=\"color: #008080; text-decoration-color: #008080; font-weight: bold\">448</span><span style=\"font-weight: bold\">)</span>,\n",
              "    <span style=\"font-weight: bold\">(</span><span style=\"color: #008000; text-decoration-color: #008000\">'am'</span>, <span style=\"color: #008080; text-decoration-color: #008080; font-weight: bold\">440</span><span style=\"font-weight: bold\">)</span>,\n",
              "    <span style=\"font-weight: bold\">(</span><span style=\"color: #008000; text-decoration-color: #008000\">'than'</span>, <span style=\"color: #008080; text-decoration-color: #008080; font-weight: bold\">433</span><span style=\"font-weight: bold\">)</span>,\n",
              "    <span style=\"font-weight: bold\">(</span><span style=\"color: #008000; text-decoration-color: #008000\">'elton'</span>, <span style=\"color: #008080; text-decoration-color: #008080; font-weight: bold\">407</span><span style=\"font-weight: bold\">)</span>,\n",
              "    <span style=\"font-weight: bold\">(</span><span style=\"color: #008000; text-decoration-color: #008000\">'well'</span>, <span style=\"color: #008080; text-decoration-color: #008080; font-weight: bold\">405</span><span style=\"font-weight: bold\">)</span>,\n",
              "    <span style=\"font-weight: bold\">(</span><span style=\"color: #008000; text-decoration-color: #008000\">'thing'</span>, <span style=\"color: #008080; text-decoration-color: #008080; font-weight: bold\">402</span><span style=\"font-weight: bold\">)</span>,\n",
              "    <span style=\"font-weight: bold\">(</span><span style=\"color: #008000; text-decoration-color: #008000\">'knight'</span>, <span style=\"color: #008080; text-decoration-color: #008080; font-weight: bold\">398</span><span style=\"font-weight: bold\">)</span>,\n",
              "    <span style=\"font-weight: bold\">(</span><span style=\"color: #008000; text-decoration-color: #008000\">'##ley'</span>, <span style=\"color: #008080; text-decoration-color: #008080; font-weight: bold\">398</span><span style=\"font-weight: bold\">)</span>,\n",
              "    <span style=\"font-weight: bold\">(</span><span style=\"color: #008000; text-decoration-color: #008000\">'think'</span>, <span style=\"color: #008080; text-decoration-color: #008080; font-weight: bold\">391</span><span style=\"font-weight: bold\">)</span>,\n",
              "    <span style=\"font-weight: bold\">(</span><span style=\"color: #008000; text-decoration-color: #008000\">'being'</span>, <span style=\"color: #008080; text-decoration-color: #008080; font-weight: bold\">381</span><span style=\"font-weight: bold\">)</span>,\n",
              "    <span style=\"font-weight: bold\">(</span><span style=\"color: #008000; text-decoration-color: #008000\">'should'</span>, <span style=\"color: #008080; text-decoration-color: #008080; font-weight: bold\">380</span><span style=\"font-weight: bold\">)</span>,\n",
              "    <span style=\"font-weight: bold\">(</span><span style=\"color: #008000; text-decoration-color: #008000\">'how'</span>, <span style=\"color: #008080; text-decoration-color: #008080; font-weight: bold\">378</span><span style=\"font-weight: bold\">)</span>,\n",
              "    <span style=\"font-weight: bold\">(</span><span style=\"color: #008000; text-decoration-color: #008000\">'little'</span>, <span style=\"color: #008080; text-decoration-color: #008080; font-weight: bold\">376</span><span style=\"font-weight: bold\">)</span>,\n",
              "    <span style=\"font-weight: bold\">(</span><span style=\"color: #008000; text-decoration-color: #008000\">'good'</span>, <span style=\"color: #008080; text-decoration-color: #008080; font-weight: bold\">376</span><span style=\"font-weight: bold\">)</span>,\n",
              "    <span style=\"font-weight: bold\">(</span><span style=\"color: #008000; text-decoration-color: #008000\">'we'</span>, <span style=\"color: #008080; text-decoration-color: #008080; font-weight: bold\">376</span><span style=\"font-weight: bold\">)</span>,\n",
              "    <span style=\"font-weight: bold\">(</span><span style=\"color: #008000; text-decoration-color: #008000\">'never'</span>, <span style=\"color: #008080; text-decoration-color: #008080; font-weight: bold\">373</span><span style=\"font-weight: bold\">)</span>,\n",
              "    <span style=\"font-weight: bold\">(</span><span style=\"color: #008000; text-decoration-color: #008000\">'when'</span>, <span style=\"color: #008080; text-decoration-color: #008080; font-weight: bold\">372</span><span style=\"font-weight: bold\">)</span>,\n",
              "    <span style=\"font-weight: bold\">(</span><span style=\"color: #008000; text-decoration-color: #008000\">'your'</span>, <span style=\"color: #008080; text-decoration-color: #008080; font-weight: bold\">369</span><span style=\"font-weight: bold\">)</span>,\n",
              "    <span style=\"font-weight: bold\">(</span><span style=\"color: #008000; text-decoration-color: #008000\">'did'</span>, <span style=\"color: #008080; text-decoration-color: #008080; font-weight: bold\">361</span><span style=\"font-weight: bold\">)</span>,\n",
              "    <span style=\"font-weight: bold\">(</span><span style=\"color: #008000; text-decoration-color: #008000\">'only'</span>, <span style=\"color: #008080; text-decoration-color: #008080; font-weight: bold\">358</span><span style=\"font-weight: bold\">)</span>,\n",
              "    <span style=\"font-weight: bold\">(</span><span style=\"color: #008000; text-decoration-color: #008000\">'might'</span>, <span style=\"color: #008080; text-decoration-color: #008080; font-weight: bold\">343</span><span style=\"font-weight: bold\">)</span>,\n",
              "    <span style=\"font-weight: bold\">(</span><span style=\"color: #008000; text-decoration-color: #008000\">'know'</span>, <span style=\"color: #008080; text-decoration-color: #008080; font-weight: bold\">342</span><span style=\"font-weight: bold\">)</span>,\n",
              "    <span style=\"font-weight: bold\">(</span><span style=\"color: #008000; text-decoration-color: #008000\">'their'</span>, <span style=\"color: #008080; text-decoration-color: #008080; font-weight: bold\">332</span><span style=\"font-weight: bold\">)</span>,\n",
              "    <span style=\"font-weight: bold\">(</span><span style=\"color: #008000; text-decoration-color: #008000\">'own'</span>, <span style=\"color: #008080; text-decoration-color: #008080; font-weight: bold\">321</span><span style=\"font-weight: bold\">)</span>,\n",
              "    <span style=\"font-weight: bold\">(</span><span style=\"color: #008000; text-decoration-color: #008000\">'wood'</span>, <span style=\"color: #008080; text-decoration-color: #008080; font-weight: bold\">319</span><span style=\"font-weight: bold\">)</span>,\n",
              "    <span style=\"font-weight: bold\">(</span><span style=\"color: #008000; text-decoration-color: #008000\">'who'</span>, <span style=\"color: #008080; text-decoration-color: #008080; font-weight: bold\">319</span><span style=\"font-weight: bold\">)</span>,\n",
              "    <span style=\"font-weight: bold\">(</span><span style=\"color: #008000; text-decoration-color: #008000\">'now'</span>, <span style=\"color: #008080; text-decoration-color: #008080; font-weight: bold\">315</span><span style=\"font-weight: bold\">)</span>,\n",
              "    <span style=\"font-weight: bold\">(</span><span style=\"color: #008000; text-decoration-color: #008000\">'##house'</span>, <span style=\"color: #008080; text-decoration-color: #008080; font-weight: bold\">313</span><span style=\"font-weight: bold\">)</span>,\n",
              "    <span style=\"font-weight: bold\">(</span><span style=\"color: #008000; text-decoration-color: #008000\">'say'</span>, <span style=\"color: #008080; text-decoration-color: #008080; font-weight: bold\">313</span><span style=\"font-weight: bold\">)</span>,\n",
              "    <span style=\"font-weight: bold\">(</span><span style=\"color: #008000; text-decoration-color: #008000\">'jane'</span>, <span style=\"color: #008080; text-decoration-color: #008080; font-weight: bold\">302</span><span style=\"font-weight: bold\">)</span>,\n",
              "    <span style=\"font-weight: bold\">(</span><span style=\"color: #008000; text-decoration-color: #008000\">'can'</span>, <span style=\"color: #008080; text-decoration-color: #008080; font-weight: bold\">297</span><span style=\"font-weight: bold\">)</span>,\n",
              "    <span style=\"font-weight: bold\">(</span><span style=\"color: #008000; text-decoration-color: #008000\">'quite'</span>, <span style=\"color: #008080; text-decoration-color: #008080; font-weight: bold\">290</span><span style=\"font-weight: bold\">)</span>,\n",
              "    <span style=\"font-weight: bold\">(</span><span style=\"color: #008000; text-decoration-color: #008000\">'herself'</span>, <span style=\"color: #008080; text-decoration-color: #008080; font-weight: bold\">288</span><span style=\"font-weight: bold\">)</span>,\n",
              "    <span style=\"font-weight: bold\">(</span><span style=\"color: #008000; text-decoration-color: #008000\">'time'</span>, <span style=\"color: #008080; text-decoration-color: #008080; font-weight: bold\">285</span><span style=\"font-weight: bold\">)</span>\n",
              "<span style=\"font-weight: bold\">]</span>\n",
              "</pre>\n"
            ]
          },
          "metadata": {}
        }
      ],
      "source": [
        "rprint(gutenberg_tokenized_types.most_common(100))"
      ]
    },
    {
      "cell_type": "code",
      "execution_count": 68,
      "metadata": {
        "editable": true,
        "id": "jP-6w2yfoQ5g",
        "tags": []
      },
      "outputs": [],
      "source": [
        "gutenberg_lemmatized_types = Counter(lemmatize(gutenberg_preprocessed_words))"
      ]
    },
    {
      "cell_type": "code",
      "execution_count": 69,
      "metadata": {
        "editable": true,
        "id": "3FZ8bI7Do00y",
        "tags": [],
        "colab": {
          "base_uri": "https://localhost:8080/",
          "height": 391
        },
        "outputId": "eb9c1648-ee71-4f7d-d685-3254772e7a1d"
      },
      "outputs": [
        {
          "output_type": "display_data",
          "data": {
            "text/plain": [
              "\u001b[1m[\u001b[0m\n",
              "    \u001b[1m(\u001b[0m\u001b[32m'be'\u001b[0m, \u001b[1;36m8498\u001b[0m\u001b[1m)\u001b[0m,\n",
              "    \u001b[1m(\u001b[0m\u001b[32m'the'\u001b[0m, \u001b[1;36m5475\u001b[0m\u001b[1m)\u001b[0m,\n",
              "    \u001b[1m(\u001b[0m\u001b[32m'to'\u001b[0m, \u001b[1;36m5447\u001b[0m\u001b[1m)\u001b[0m,\n",
              "    \u001b[1m(\u001b[0m\u001b[32m'and'\u001b[0m, \u001b[1;36m5119\u001b[0m\u001b[1m)\u001b[0m,\n",
              "    \u001b[1m(\u001b[0m\u001b[32m'of'\u001b[0m, \u001b[1;36m4560\u001b[0m\u001b[1m)\u001b[0m,\n",
              "    \u001b[1m(\u001b[0m\u001b[32m'I'\u001b[0m, \u001b[1;36m3799\u001b[0m\u001b[1m)\u001b[0m,\n",
              "    \u001b[1m(\u001b[0m\u001b[32m'she'\u001b[0m, \u001b[1;36m3513\u001b[0m\u001b[1m)\u001b[0m,\n",
              "    \u001b[1m(\u001b[0m\u001b[32m'have'\u001b[0m, \u001b[1;36m3440\u001b[0m\u001b[1m)\u001b[0m,\n",
              "    \u001b[1m(\u001b[0m\u001b[32m'a'\u001b[0m, \u001b[1;36m3265\u001b[0m\u001b[1m)\u001b[0m,\n",
              "    \u001b[1m(\u001b[0m\u001b[32m'he'\u001b[0m, \u001b[1;36m2659\u001b[0m\u001b[1m)\u001b[0m,\n",
              "    \u001b[1m(\u001b[0m\u001b[32m'it'\u001b[0m, \u001b[1;36m2600\u001b[0m\u001b[1m)\u001b[0m,\n",
              "    \u001b[1m(\u001b[0m\u001b[32m'not'\u001b[0m, \u001b[1;36m2330\u001b[0m\u001b[1m)\u001b[0m,\n",
              "    \u001b[1m(\u001b[0m\u001b[32m'in'\u001b[0m, \u001b[1;36m2316\u001b[0m\u001b[1m)\u001b[0m,\n",
              "    \u001b[1m(\u001b[0m\u001b[32m'you'\u001b[0m, \u001b[1;36m1988\u001b[0m\u001b[1m)\u001b[0m,\n",
              "    \u001b[1m(\u001b[0m\u001b[32m'that'\u001b[0m, \u001b[1;36m1857\u001b[0m\u001b[1m)\u001b[0m,\n",
              "    \u001b[1m(\u001b[0m\u001b[32m'as'\u001b[0m, \u001b[1;36m1501\u001b[0m\u001b[1m)\u001b[0m,\n",
              "    \u001b[1m(\u001b[0m\u001b[32m'but'\u001b[0m, \u001b[1;36m1485\u001b[0m\u001b[1m)\u001b[0m,\n",
              "    \u001b[1m(\u001b[0m\u001b[32m'her'\u001b[0m, \u001b[1;36m1446\u001b[0m\u001b[1m)\u001b[0m,\n",
              "    \u001b[1m(\u001b[0m\u001b[32m'for'\u001b[0m, \u001b[1;36m1399\u001b[0m\u001b[1m)\u001b[0m,\n",
              "    \u001b[1m(\u001b[0m\u001b[32m'do'\u001b[0m, \u001b[1;36m1341\u001b[0m\u001b[1m)\u001b[0m\n",
              "\u001b[1m]\u001b[0m\n"
            ],
            "text/html": [
              "<pre style=\"white-space:pre;overflow-x:auto;line-height:normal;font-family:Menlo,'DejaVu Sans Mono',consolas,'Courier New',monospace\"><span style=\"font-weight: bold\">[</span>\n",
              "    <span style=\"font-weight: bold\">(</span><span style=\"color: #008000; text-decoration-color: #008000\">'be'</span>, <span style=\"color: #008080; text-decoration-color: #008080; font-weight: bold\">8498</span><span style=\"font-weight: bold\">)</span>,\n",
              "    <span style=\"font-weight: bold\">(</span><span style=\"color: #008000; text-decoration-color: #008000\">'the'</span>, <span style=\"color: #008080; text-decoration-color: #008080; font-weight: bold\">5475</span><span style=\"font-weight: bold\">)</span>,\n",
              "    <span style=\"font-weight: bold\">(</span><span style=\"color: #008000; text-decoration-color: #008000\">'to'</span>, <span style=\"color: #008080; text-decoration-color: #008080; font-weight: bold\">5447</span><span style=\"font-weight: bold\">)</span>,\n",
              "    <span style=\"font-weight: bold\">(</span><span style=\"color: #008000; text-decoration-color: #008000\">'and'</span>, <span style=\"color: #008080; text-decoration-color: #008080; font-weight: bold\">5119</span><span style=\"font-weight: bold\">)</span>,\n",
              "    <span style=\"font-weight: bold\">(</span><span style=\"color: #008000; text-decoration-color: #008000\">'of'</span>, <span style=\"color: #008080; text-decoration-color: #008080; font-weight: bold\">4560</span><span style=\"font-weight: bold\">)</span>,\n",
              "    <span style=\"font-weight: bold\">(</span><span style=\"color: #008000; text-decoration-color: #008000\">'I'</span>, <span style=\"color: #008080; text-decoration-color: #008080; font-weight: bold\">3799</span><span style=\"font-weight: bold\">)</span>,\n",
              "    <span style=\"font-weight: bold\">(</span><span style=\"color: #008000; text-decoration-color: #008000\">'she'</span>, <span style=\"color: #008080; text-decoration-color: #008080; font-weight: bold\">3513</span><span style=\"font-weight: bold\">)</span>,\n",
              "    <span style=\"font-weight: bold\">(</span><span style=\"color: #008000; text-decoration-color: #008000\">'have'</span>, <span style=\"color: #008080; text-decoration-color: #008080; font-weight: bold\">3440</span><span style=\"font-weight: bold\">)</span>,\n",
              "    <span style=\"font-weight: bold\">(</span><span style=\"color: #008000; text-decoration-color: #008000\">'a'</span>, <span style=\"color: #008080; text-decoration-color: #008080; font-weight: bold\">3265</span><span style=\"font-weight: bold\">)</span>,\n",
              "    <span style=\"font-weight: bold\">(</span><span style=\"color: #008000; text-decoration-color: #008000\">'he'</span>, <span style=\"color: #008080; text-decoration-color: #008080; font-weight: bold\">2659</span><span style=\"font-weight: bold\">)</span>,\n",
              "    <span style=\"font-weight: bold\">(</span><span style=\"color: #008000; text-decoration-color: #008000\">'it'</span>, <span style=\"color: #008080; text-decoration-color: #008080; font-weight: bold\">2600</span><span style=\"font-weight: bold\">)</span>,\n",
              "    <span style=\"font-weight: bold\">(</span><span style=\"color: #008000; text-decoration-color: #008000\">'not'</span>, <span style=\"color: #008080; text-decoration-color: #008080; font-weight: bold\">2330</span><span style=\"font-weight: bold\">)</span>,\n",
              "    <span style=\"font-weight: bold\">(</span><span style=\"color: #008000; text-decoration-color: #008000\">'in'</span>, <span style=\"color: #008080; text-decoration-color: #008080; font-weight: bold\">2316</span><span style=\"font-weight: bold\">)</span>,\n",
              "    <span style=\"font-weight: bold\">(</span><span style=\"color: #008000; text-decoration-color: #008000\">'you'</span>, <span style=\"color: #008080; text-decoration-color: #008080; font-weight: bold\">1988</span><span style=\"font-weight: bold\">)</span>,\n",
              "    <span style=\"font-weight: bold\">(</span><span style=\"color: #008000; text-decoration-color: #008000\">'that'</span>, <span style=\"color: #008080; text-decoration-color: #008080; font-weight: bold\">1857</span><span style=\"font-weight: bold\">)</span>,\n",
              "    <span style=\"font-weight: bold\">(</span><span style=\"color: #008000; text-decoration-color: #008000\">'as'</span>, <span style=\"color: #008080; text-decoration-color: #008080; font-weight: bold\">1501</span><span style=\"font-weight: bold\">)</span>,\n",
              "    <span style=\"font-weight: bold\">(</span><span style=\"color: #008000; text-decoration-color: #008000\">'but'</span>, <span style=\"color: #008080; text-decoration-color: #008080; font-weight: bold\">1485</span><span style=\"font-weight: bold\">)</span>,\n",
              "    <span style=\"font-weight: bold\">(</span><span style=\"color: #008000; text-decoration-color: #008000\">'her'</span>, <span style=\"color: #008080; text-decoration-color: #008080; font-weight: bold\">1446</span><span style=\"font-weight: bold\">)</span>,\n",
              "    <span style=\"font-weight: bold\">(</span><span style=\"color: #008000; text-decoration-color: #008000\">'for'</span>, <span style=\"color: #008080; text-decoration-color: #008080; font-weight: bold\">1399</span><span style=\"font-weight: bold\">)</span>,\n",
              "    <span style=\"font-weight: bold\">(</span><span style=\"color: #008000; text-decoration-color: #008000\">'do'</span>, <span style=\"color: #008080; text-decoration-color: #008080; font-weight: bold\">1341</span><span style=\"font-weight: bold\">)</span>\n",
              "<span style=\"font-weight: bold\">]</span>\n",
              "</pre>\n"
            ]
          },
          "metadata": {}
        }
      ],
      "source": [
        "rprint(gutenberg_lemmatized_types.most_common(20))"
      ]
    },
    {
      "cell_type": "code",
      "source": [
        "rprint(\"Gutenberg\")\n",
        "rprint(f\"Tipos ([blue]word-base): {len(gutenberg_types)}\")\n",
        "rprint(f\"Tipos ([yellow]lemmatized): {len(gutenberg_lemmatized_types)}\")\n",
        "rprint(f\"Tipos ([green]sub-word): {len(gutenberg_tokenized_types)}\")"
      ],
      "metadata": {
        "colab": {
          "base_uri": "https://localhost:8080/",
          "height": 85
        },
        "id": "KEz6waNi69JV",
        "outputId": "42f6fb83-bbbe-4cdf-a36f-c5b77a04533b"
      },
      "execution_count": 70,
      "outputs": [
        {
          "output_type": "display_data",
          "data": {
            "text/plain": [
              "Gutenberg\n"
            ],
            "text/html": [
              "<pre style=\"white-space:pre;overflow-x:auto;line-height:normal;font-family:Menlo,'DejaVu Sans Mono',consolas,'Courier New',monospace\">Gutenberg\n",
              "</pre>\n"
            ]
          },
          "metadata": {}
        },
        {
          "output_type": "display_data",
          "data": {
            "text/plain": [
              "Tipos \u001b[1m(\u001b[0m\u001b[34mword-base\u001b[0m\u001b[1;34m)\u001b[0m\u001b[34m: \u001b[0m\u001b[1;34m8112\u001b[0m\n"
            ],
            "text/html": [
              "<pre style=\"white-space:pre;overflow-x:auto;line-height:normal;font-family:Menlo,'DejaVu Sans Mono',consolas,'Courier New',monospace\">Tipos <span style=\"font-weight: bold\">(</span><span style=\"color: #000080; text-decoration-color: #000080\">word-base</span><span style=\"color: #000080; text-decoration-color: #000080; font-weight: bold\">)</span><span style=\"color: #000080; text-decoration-color: #000080\">: </span><span style=\"color: #000080; text-decoration-color: #000080; font-weight: bold\">8112</span>\n",
              "</pre>\n"
            ]
          },
          "metadata": {}
        },
        {
          "output_type": "display_data",
          "data": {
            "text/plain": [
              "Tipos \u001b[1m(\u001b[0m\u001b[33mlemmatized\u001b[0m\u001b[1;33m)\u001b[0m\u001b[33m: \u001b[0m\u001b[1;33m5430\u001b[0m\n"
            ],
            "text/html": [
              "<pre style=\"white-space:pre;overflow-x:auto;line-height:normal;font-family:Menlo,'DejaVu Sans Mono',consolas,'Courier New',monospace\">Tipos <span style=\"font-weight: bold\">(</span><span style=\"color: #808000; text-decoration-color: #808000\">lemmatized</span><span style=\"color: #808000; text-decoration-color: #808000; font-weight: bold\">)</span><span style=\"color: #808000; text-decoration-color: #808000\">: </span><span style=\"color: #808000; text-decoration-color: #808000; font-weight: bold\">5430</span>\n",
              "</pre>\n"
            ]
          },
          "metadata": {}
        },
        {
          "output_type": "display_data",
          "data": {
            "text/plain": [
              "Tipos \u001b[1m(\u001b[0m\u001b[32msub-word\u001b[0m\u001b[1;32m)\u001b[0m\u001b[32m: \u001b[0m\u001b[1;32m6764\u001b[0m\n"
            ],
            "text/html": [
              "<pre style=\"white-space:pre;overflow-x:auto;line-height:normal;font-family:Menlo,'DejaVu Sans Mono',consolas,'Courier New',monospace\">Tipos <span style=\"font-weight: bold\">(</span><span style=\"color: #008000; text-decoration-color: #008000\">sub-word</span><span style=\"color: #008000; text-decoration-color: #008000; font-weight: bold\">)</span><span style=\"color: #008000; text-decoration-color: #008000\">: </span><span style=\"color: #008000; text-decoration-color: #008000; font-weight: bold\">6764</span>\n",
              "</pre>\n"
            ]
          },
          "metadata": {}
        }
      ]
    },
    {
      "cell_type": "markdown",
      "metadata": {
        "editable": true,
        "tags": [],
        "id": "GcydjN6lSjqq"
      },
      "source": [
        "#### OOV: out of vocabulary"
      ]
    },
    {
      "cell_type": "markdown",
      "metadata": {
        "editable": true,
        "tags": [],
        "id": "jt8G8mzcSjqq"
      },
      "source": [
        "Palabras que se vieron en el entrenamiento pero no estan en el test"
      ]
    },
    {
      "cell_type": "code",
      "execution_count": 71,
      "metadata": {
        "editable": true,
        "tags": [],
        "id": "moyB-5MzSjqq",
        "colab": {
          "base_uri": "https://localhost:8080/",
          "height": 34
        },
        "outputId": "471603b4-aea5-4681-935d-581607b46919"
      },
      "outputs": [
        {
          "output_type": "display_data",
          "data": {
            "text/plain": [
              "\u001b[1;36m140000\u001b[0m \u001b[1;36m60000\u001b[0m\n"
            ],
            "text/html": [
              "<pre style=\"white-space:pre;overflow-x:auto;line-height:normal;font-family:Menlo,'DejaVu Sans Mono',consolas,'Courier New',monospace\"><span style=\"color: #008080; text-decoration-color: #008080; font-weight: bold\">140000</span> <span style=\"color: #008080; text-decoration-color: #008080; font-weight: bold\">60000</span>\n",
              "</pre>\n"
            ]
          },
          "metadata": {}
        }
      ],
      "source": [
        "from sklearn.model_selection import train_test_split\n",
        "\n",
        "train_data, test_data = train_test_split(gutenberg_words, test_size=0.3, random_state=42)\n",
        "rprint(len(train_data), len(test_data))"
      ]
    },
    {
      "cell_type": "code",
      "execution_count": 72,
      "metadata": {
        "editable": true,
        "tags": [],
        "id": "5oQRcd9USjqq",
        "colab": {
          "base_uri": "https://localhost:8080/",
          "height": 51
        },
        "outputId": "536ca6fc-6fef-4fa4-fd1d-bb043a7cb7f0"
      },
      "outputs": [
        {
          "output_type": "display_data",
          "data": {
            "text/plain": [
              "\u001b[1m{\u001b[0m\u001b[32m'c'\u001b[0m, \u001b[32m'e'\u001b[0m, \u001b[32m'b'\u001b[0m\u001b[1m}\u001b[0m\n"
            ],
            "text/html": [
              "<pre style=\"white-space:pre;overflow-x:auto;line-height:normal;font-family:Menlo,'DejaVu Sans Mono',consolas,'Courier New',monospace\"><span style=\"font-weight: bold\">{</span><span style=\"color: #008000; text-decoration-color: #008000\">'c'</span>, <span style=\"color: #008000; text-decoration-color: #008000\">'e'</span>, <span style=\"color: #008000; text-decoration-color: #008000\">'b'</span><span style=\"font-weight: bold\">}</span>\n",
              "</pre>\n"
            ]
          },
          "metadata": {}
        },
        {
          "output_type": "display_data",
          "data": {
            "text/plain": [
              "\u001b[1m{\u001b[0m\u001b[32m'y'\u001b[0m, \u001b[32m'x'\u001b[0m\u001b[1m}\u001b[0m\n"
            ],
            "text/html": [
              "<pre style=\"white-space:pre;overflow-x:auto;line-height:normal;font-family:Menlo,'DejaVu Sans Mono',consolas,'Courier New',monospace\"><span style=\"font-weight: bold\">{</span><span style=\"color: #008000; text-decoration-color: #008000\">'y'</span>, <span style=\"color: #008000; text-decoration-color: #008000\">'x'</span><span style=\"font-weight: bold\">}</span>\n",
              "</pre>\n"
            ]
          },
          "metadata": {}
        }
      ],
      "source": [
        "s_1 = {\"a\", \"b\", \"c\", \"d\", \"e\"}\n",
        "s_2 = {\"a\", \"x\", \"y\", \"d\"}\n",
        "rprint(s_1 - s_2)\n",
        "rprint(s_2 - s_1)"
      ]
    },
    {
      "cell_type": "code",
      "execution_count": 73,
      "metadata": {
        "editable": true,
        "tags": [],
        "id": "TF_wjGDISjqq"
      },
      "outputs": [],
      "source": [
        "oov_test = set(test_data) - set(train_data)"
      ]
    },
    {
      "cell_type": "code",
      "execution_count": 74,
      "metadata": {
        "editable": true,
        "tags": [],
        "id": "marpiR5ASjqq",
        "colab": {
          "base_uri": "https://localhost:8080/",
          "height": 68
        },
        "outputId": "a3442e6f-29f2-4453-a696-c427eb6369ae"
      },
      "outputs": [
        {
          "output_type": "display_data",
          "data": {
            "text/plain": [
              "arrow in train: \u001b[3;91mFalse\u001b[0m\n"
            ],
            "text/html": [
              "<pre style=\"white-space:pre;overflow-x:auto;line-height:normal;font-family:Menlo,'DejaVu Sans Mono',consolas,'Courier New',monospace\">arrow in train: <span style=\"color: #ff0000; text-decoration-color: #ff0000; font-style: italic\">False</span>\n",
              "</pre>\n"
            ]
          },
          "metadata": {}
        },
        {
          "output_type": "display_data",
          "data": {
            "text/plain": [
              "teaching in train: \u001b[3;91mFalse\u001b[0m\n"
            ],
            "text/html": [
              "<pre style=\"white-space:pre;overflow-x:auto;line-height:normal;font-family:Menlo,'DejaVu Sans Mono',consolas,'Courier New',monospace\">teaching in train: <span style=\"color: #ff0000; text-decoration-color: #ff0000; font-style: italic\">False</span>\n",
              "</pre>\n"
            ]
          },
          "metadata": {}
        },
        {
          "output_type": "display_data",
          "data": {
            "text/plain": [
              "sweeping in train: \u001b[3;91mFalse\u001b[0m\n"
            ],
            "text/html": [
              "<pre style=\"white-space:pre;overflow-x:auto;line-height:normal;font-family:Menlo,'DejaVu Sans Mono',consolas,'Courier New',monospace\">sweeping in train: <span style=\"color: #ff0000; text-decoration-color: #ff0000; font-style: italic\">False</span>\n",
              "</pre>\n"
            ]
          },
          "metadata": {}
        }
      ],
      "source": [
        "for word in list(oov_test)[:3]:\n",
        "    rprint(f\"{word} in train: {word in set(train_data)}\")"
      ]
    },
    {
      "cell_type": "code",
      "execution_count": 75,
      "metadata": {
        "editable": true,
        "tags": [],
        "id": "npZU0NTNSjqq",
        "colab": {
          "base_uri": "https://localhost:8080/",
          "height": 34
        },
        "outputId": "f4bff2e0-d528-400f-a26b-adf8538731b7"
      },
      "outputs": [
        {
          "output_type": "display_data",
          "data": {
            "text/plain": [
              "\u001b[1;36m124016\u001b[0m \u001b[1;36m53151\u001b[0m\n"
            ],
            "text/html": [
              "<pre style=\"white-space:pre;overflow-x:auto;line-height:normal;font-family:Menlo,'DejaVu Sans Mono',consolas,'Courier New',monospace\"><span style=\"color: #008080; text-decoration-color: #008080; font-weight: bold\">124016</span> <span style=\"color: #008080; text-decoration-color: #008080; font-weight: bold\">53151</span>\n",
              "</pre>\n"
            ]
          },
          "metadata": {}
        }
      ],
      "source": [
        "train_tokenized, test_tokenized = train_test_split(gutenberg_tokenized, test_size=0.3, random_state=42)\n",
        "rprint(len(train_tokenized), len(test_tokenized))"
      ]
    },
    {
      "cell_type": "code",
      "execution_count": 76,
      "metadata": {
        "editable": true,
        "tags": [],
        "id": "6MpEc0DGSjqr"
      },
      "outputs": [],
      "source": [
        "oov_tokenized_test = set(test_tokenized) - set(train_tokenized)"
      ]
    },
    {
      "cell_type": "code",
      "source": [
        "rprint(\"OOV ([yellow]word-base):\", len(oov_test))\n",
        "rprint(\"OOV ([green]sub-word):\", len(oov_tokenized_test))"
      ],
      "metadata": {
        "colab": {
          "base_uri": "https://localhost:8080/",
          "height": 51
        },
        "id": "39vXDCFA70db",
        "outputId": "b47b3eda-e8a1-41c4-c3c2-29a867c8bf72"
      },
      "execution_count": 77,
      "outputs": [
        {
          "output_type": "display_data",
          "data": {
            "text/plain": [
              "OOV \u001b[1m(\u001b[0m\u001b[33mword-base\u001b[0m\u001b[1;33m)\u001b[0m\u001b[33m:\u001b[0m \u001b[1;36m1114\u001b[0m\n"
            ],
            "text/html": [
              "<pre style=\"white-space:pre;overflow-x:auto;line-height:normal;font-family:Menlo,'DejaVu Sans Mono',consolas,'Courier New',monospace\">OOV <span style=\"font-weight: bold\">(</span><span style=\"color: #808000; text-decoration-color: #808000\">word-base</span><span style=\"color: #808000; text-decoration-color: #808000; font-weight: bold\">)</span><span style=\"color: #808000; text-decoration-color: #808000\">:</span> <span style=\"color: #008080; text-decoration-color: #008080; font-weight: bold\">1114</span>\n",
              "</pre>\n"
            ]
          },
          "metadata": {}
        },
        {
          "output_type": "display_data",
          "data": {
            "text/plain": [
              "OOV \u001b[1m(\u001b[0m\u001b[32msub-word\u001b[0m\u001b[1;32m)\u001b[0m\u001b[32m:\u001b[0m \u001b[1;36m728\u001b[0m\n"
            ],
            "text/html": [
              "<pre style=\"white-space:pre;overflow-x:auto;line-height:normal;font-family:Menlo,'DejaVu Sans Mono',consolas,'Courier New',monospace\">OOV <span style=\"font-weight: bold\">(</span><span style=\"color: #008000; text-decoration-color: #008000\">sub-word</span><span style=\"color: #008000; text-decoration-color: #008000; font-weight: bold\">)</span><span style=\"color: #008000; text-decoration-color: #008000\">:</span> <span style=\"color: #008080; text-decoration-color: #008080; font-weight: bold\">728</span>\n",
              "</pre>\n"
            ]
          },
          "metadata": {}
        }
      ]
    },
    {
      "cell_type": "markdown",
      "metadata": {
        "editable": true,
        "id": "QCZ9MV7ecmGo",
        "tags": []
      },
      "source": [
        "## Entrenando nuestro modelo con BPE\n",
        "![](https://external-content.duckduckgo.com/iu/?u=https%3A%2F%2Fmedia1.tenor.com%2Fimages%2Fd565618bb1217a7c435579d9172270d0%2Ftenor.gif%3Fitemid%3D3379322&f=1&nofb=1&ipt=9719714edb643995ce9d978c8bab77f5310204960093070e37e183d5372096d9&ipo=images)"
      ]
    },
    {
      "cell_type": "code",
      "execution_count": 78,
      "metadata": {
        "editable": true,
        "id": "Fb7ajFAHcscl",
        "tags": [],
        "colab": {
          "base_uri": "https://localhost:8080/"
        },
        "outputId": "06f3c9bf-39de-4010-d192-bb4a4bdccb63"
      },
      "outputs": [
        {
          "output_type": "stream",
          "name": "stdout",
          "text": [
            "Collecting subword-nmt\n",
            "  Downloading subword_nmt-0.3.8-py3-none-any.whl.metadata (9.2 kB)\n",
            "Collecting mock (from subword-nmt)\n",
            "  Downloading mock-5.2.0-py3-none-any.whl.metadata (3.1 kB)\n",
            "Requirement already satisfied: tqdm in /usr/local/lib/python3.11/dist-packages (from subword-nmt) (4.67.1)\n",
            "Downloading subword_nmt-0.3.8-py3-none-any.whl (27 kB)\n",
            "Downloading mock-5.2.0-py3-none-any.whl (31 kB)\n",
            "Installing collected packages: mock, subword-nmt\n",
            "Successfully installed mock-5.2.0 subword-nmt-0.3.8\n"
          ]
        }
      ],
      "source": [
        "!pip install subword-nmt"
      ]
    },
    {
      "cell_type": "code",
      "execution_count": 79,
      "metadata": {
        "editable": true,
        "id": "JwyeJ5f0dWjE",
        "tags": [],
        "colab": {
          "base_uri": "https://localhost:8080/"
        },
        "outputId": "5f235c59-5433-4d11-b2e2-05f6e29c6da9"
      },
      "outputs": [
        {
          "output_type": "stream",
          "name": "stdout",
          "text": [
            "ls: cannot access 'drive/MyDrive/corpora/tokenization': No such file or directory\n"
          ]
        }
      ],
      "source": [
        "!ls {CORPORA_PATH}"
      ]
    },
    {
      "cell_type": "code",
      "execution_count": 80,
      "metadata": {
        "editable": true,
        "id": "nLTPhYlzdZMB",
        "scrolled": true,
        "tags": [],
        "colab": {
          "base_uri": "https://localhost:8080/"
        },
        "outputId": "8c23e336-4beb-49c8-c9ff-21d9309c8046"
      },
      "outputs": [
        {
          "output_type": "stream",
          "name": "stdout",
          "text": [
            "cat: drive/MyDrive/corpora/tokenization/gutenberg_plain.txt: No such file or directory\n"
          ]
        }
      ],
      "source": [
        "!cat {CORPORA_PATH}/gutenberg_plain.txt"
      ]
    },
    {
      "cell_type": "code",
      "execution_count": 81,
      "metadata": {
        "editable": true,
        "id": "E_oASS5Vc1xz",
        "tags": [],
        "colab": {
          "base_uri": "https://localhost:8080/"
        },
        "outputId": "b69fa8e7-f3fa-46fa-9327-46443a504979"
      },
      "outputs": [
        {
          "output_type": "stream",
          "name": "stdout",
          "text": [
            "/bin/bash: line 1: drive/MyDrive/corpora/tokenization/gutenberg_plain.txt: No such file or directory\n"
          ]
        }
      ],
      "source": [
        "!subword-nmt learn-bpe -s 300 < \\\n",
        " {CORPORA_PATH}/gutenberg_plain.txt > \\\n",
        "  {MODELS_PATH}/gutenberg.model"
      ]
    },
    {
      "cell_type": "code",
      "execution_count": 82,
      "metadata": {
        "editable": true,
        "id": "FA1pLWxx6ETS",
        "tags": [],
        "colab": {
          "base_uri": "https://localhost:8080/"
        },
        "outputId": "d44babda-bc96-4677-ffe4-02d1687068d4"
      },
      "outputs": [
        {
          "output_type": "stream",
          "name": "stdout",
          "text": [
            "usage: subword-nmt apply-bpe [-h] [--input PATH] --codes PATH [--merges INT] [--output PATH]\n",
            "                             [--separator STR] [--vocabulary PATH] [--vocabulary-threshold INT]\n",
            "                             [--dropout P] [--glossaries STR [STR ...]] [--seed S]\n",
            "                             [--num-workers NUM_WORKERS]\n",
            "subword-nmt apply-bpe: error: argument --codes/-c: can't open 'drive/MyDrive/models/sub-word/gutenberg.model': [Errno 2] No such file or directory: 'drive/MyDrive/models/sub-word/gutenberg.model'\n"
          ]
        }
      ],
      "source": [
        "!echo \"I need to process this sentence because tokenization can be useful\" \\\n",
        "| subword-nmt apply-bpe -c {MODELS_PATH}/gutenberg.model"
      ]
    },
    {
      "cell_type": "code",
      "execution_count": 103,
      "metadata": {
        "editable": true,
        "tags": [],
        "id": "HJmcHBtMSjqs",
        "colab": {
          "base_uri": "https://localhost:8080/"
        },
        "outputId": "99e6b7f8-0903-41fe-8e1e-fe84111c2228"
      },
      "outputs": [
        {
          "output_type": "stream",
          "name": "stdout",
          "text": [
            "100% 1500/1500 [00:01<00:00, 844.80it/s] \n"
          ]
        }
      ],
      "source": [
        "!subword-nmt learn-bpe -s 1500 < \\\n",
        "gutenberg_plain.txt > \\\n",
        "gutenberg_high.model"
      ]
    },
    {
      "cell_type": "code",
      "execution_count": 104,
      "metadata": {
        "editable": true,
        "tags": [],
        "id": "e2dahcJwSjqs",
        "colab": {
          "base_uri": "https://localhost:8080/"
        },
        "outputId": "3435e06d-3e72-4072-ebbb-092c17a99de3"
      },
      "outputs": [
        {
          "output_type": "stream",
          "name": "stdout",
          "text": [
            "I need to pro@@ c@@ ess this s@@ ent@@ ence because to@@ k@@ en@@ i@@ z@@ ation can be u@@ se@@ ful\n"
          ]
        }
      ],
      "source": [
        "!echo \"I need to process this sentence because tokenization can be useful\" \\\n",
        "| subword-nmt apply-bpe -c gutenberg_high.model"
      ]
    },
    {
      "cell_type": "markdown",
      "metadata": {
        "editable": true,
        "id": "sbRQG1WNAbjm",
        "tags": []
      },
      "source": [
        "### Aplicandolo a otros corpus: La biblia 📖🇻🇦"
      ]
    },
    {
      "cell_type": "code",
      "execution_count": 105,
      "metadata": {
        "editable": true,
        "id": "6XO4EeM8pkxG",
        "tags": []
      },
      "outputs": [],
      "source": [
        "BIBLE_FILE_NAMES = {\"spa\": \"spa-x-bible-reinavaleracontemporanea\", \"eng\": \"eng-x-bible-kingjames\"}"
      ]
    },
    {
      "cell_type": "code",
      "execution_count": 106,
      "metadata": {
        "editable": true,
        "id": "VMNjKQD0NONF",
        "tags": []
      },
      "outputs": [],
      "source": [
        "import requests\n",
        "\n",
        "def get_bible_corpus(lang: str) -> str:\n",
        "    \"\"\"Download bible file corpus from GitHub repo\"\"\"\n",
        "    file_name = BIBLE_FILE_NAMES[lang]\n",
        "    r = requests.get(f\"https://raw.githubusercontent.com/ximenina/theturningpoint/main/Detailed/corpora/corpusPBC/{file_name}.txt.clean.txt\")\n",
        "    return r.text\n",
        "\n",
        "def write_plain_text_corpus(raw_text: str, file_name: str) -> None:\n",
        "    \"\"\"Write file text on disk\"\"\"\n",
        "    with open(f\"{file_name}.txt\", \"w\") as f:\n",
        "        f.write(raw_text)"
      ]
    },
    {
      "cell_type": "markdown",
      "metadata": {
        "editable": true,
        "tags": [],
        "id": "Q6TDU2HOSjqs"
      },
      "source": [
        "#### Biblia en Inglés"
      ]
    },
    {
      "cell_type": "code",
      "execution_count": 107,
      "metadata": {
        "editable": true,
        "tags": [],
        "id": "AjtLE1AxSjqs"
      },
      "outputs": [],
      "source": [
        "eng_bible_plain_text = get_bible_corpus(\"eng\")\n",
        "eng_bible_words = eng_bible_plain_text.lower().replace(\"\\n\", \" \").split()"
      ]
    },
    {
      "cell_type": "code",
      "execution_count": 108,
      "metadata": {
        "editable": true,
        "tags": [],
        "id": "sYMESFp8Sjqs",
        "colab": {
          "base_uri": "https://localhost:8080/"
        },
        "outputId": "a0dcb17c-4fe7-420f-ef98-8b3189948b74"
      },
      "outputs": [
        {
          "output_type": "stream",
          "name": "stdout",
          "text": [
            "['the', 'beginning', 'of', 'the', 'gospel', 'of', 'jesus', 'christ', ',', 'the']\n"
          ]
        }
      ],
      "source": [
        "print(eng_bible_words[:10])"
      ]
    },
    {
      "cell_type": "code",
      "execution_count": 109,
      "metadata": {
        "editable": true,
        "tags": [],
        "id": "ALk45qwsSjqs",
        "outputId": "33b2fbb0-beb4-4289-b3e2-d1eaf414dd13",
        "colab": {
          "base_uri": "https://localhost:8080/"
        }
      },
      "outputs": [
        {
          "output_type": "execute_result",
          "data": {
            "text/plain": [
              "30963"
            ]
          },
          "metadata": {},
          "execution_count": 109
        }
      ],
      "source": [
        "len(eng_bible_words)"
      ]
    },
    {
      "cell_type": "code",
      "execution_count": 110,
      "metadata": {
        "editable": true,
        "tags": [],
        "id": "TGH_NKhDSjqs"
      },
      "outputs": [],
      "source": [
        "eng_bible_types = Counter(eng_bible_words)"
      ]
    },
    {
      "cell_type": "code",
      "execution_count": 111,
      "metadata": {
        "editable": true,
        "tags": [],
        "id": "GC5P3Yn_Sjqs",
        "colab": {
          "base_uri": "https://localhost:8080/",
          "height": 561
        },
        "outputId": "18cbba85-cb0e-4e0d-a591-eb3d196d3874"
      },
      "outputs": [
        {
          "output_type": "display_data",
          "data": {
            "text/plain": [
              "\u001b[1m[\u001b[0m\n",
              "    \u001b[1m(\u001b[0m\u001b[32m','\u001b[0m, \u001b[1;36m2684\u001b[0m\u001b[1m)\u001b[0m,\n",
              "    \u001b[1m(\u001b[0m\u001b[32m'and'\u001b[0m, \u001b[1;36m2134\u001b[0m\u001b[1m)\u001b[0m,\n",
              "    \u001b[1m(\u001b[0m\u001b[32m'the'\u001b[0m, \u001b[1;36m1456\u001b[0m\u001b[1m)\u001b[0m,\n",
              "    \u001b[1m(\u001b[0m\u001b[32m'.'\u001b[0m, \u001b[1;36m965\u001b[0m\u001b[1m)\u001b[0m,\n",
              "    \u001b[1m(\u001b[0m\u001b[32m'he'\u001b[0m, \u001b[1;36m715\u001b[0m\u001b[1m)\u001b[0m,\n",
              "    \u001b[1m(\u001b[0m\u001b[32m'of'\u001b[0m, \u001b[1;36m709\u001b[0m\u001b[1m)\u001b[0m,\n",
              "    \u001b[1m(\u001b[0m\u001b[32m'him'\u001b[0m, \u001b[1;36m617\u001b[0m\u001b[1m)\u001b[0m,\n",
              "    \u001b[1m(\u001b[0m\u001b[32m'to'\u001b[0m, \u001b[1;36m507\u001b[0m\u001b[1m)\u001b[0m,\n",
              "    \u001b[1m(\u001b[0m\u001b[32m'that'\u001b[0m, \u001b[1;36m489\u001b[0m\u001b[1m)\u001b[0m,\n",
              "    \u001b[1m(\u001b[0m\u001b[32m'unto'\u001b[0m, \u001b[1;36m445\u001b[0m\u001b[1m)\u001b[0m,\n",
              "    \u001b[1m(\u001b[0m\u001b[32m'they'\u001b[0m, \u001b[1;36m442\u001b[0m\u001b[1m)\u001b[0m,\n",
              "    \u001b[1m(\u001b[0m\u001b[32m'them'\u001b[0m, \u001b[1;36m376\u001b[0m\u001b[1m)\u001b[0m,\n",
              "    \u001b[1m(\u001b[0m\u001b[32m':'\u001b[0m, \u001b[1;36m369\u001b[0m\u001b[1m)\u001b[0m,\n",
              "    \u001b[1m(\u001b[0m\u001b[32m'in'\u001b[0m, \u001b[1;36m323\u001b[0m\u001b[1m)\u001b[0m,\n",
              "    \u001b[1m(\u001b[0m\u001b[32m'a'\u001b[0m, \u001b[1;36m308\u001b[0m\u001b[1m)\u001b[0m,\n",
              "    \u001b[1m(\u001b[0m\u001b[32m'said'\u001b[0m, \u001b[1;36m298\u001b[0m\u001b[1m)\u001b[0m,\n",
              "    \u001b[1m(\u001b[0m\u001b[32m';'\u001b[0m, \u001b[1;36m262\u001b[0m\u001b[1m)\u001b[0m,\n",
              "    \u001b[1m(\u001b[0m\u001b[32m'shall'\u001b[0m, \u001b[1;36m262\u001b[0m\u001b[1m)\u001b[0m,\n",
              "    \u001b[1m(\u001b[0m\u001b[32m'is'\u001b[0m, \u001b[1;36m260\u001b[0m\u001b[1m)\u001b[0m,\n",
              "    \u001b[1m(\u001b[0m\u001b[32m'it'\u001b[0m, \u001b[1;36m243\u001b[0m\u001b[1m)\u001b[0m,\n",
              "    \u001b[1m(\u001b[0m\u001b[32m'not'\u001b[0m, \u001b[1;36m240\u001b[0m\u001b[1m)\u001b[0m,\n",
              "    \u001b[1m(\u001b[0m\u001b[32m'be'\u001b[0m, \u001b[1;36m238\u001b[0m\u001b[1m)\u001b[0m,\n",
              "    \u001b[1m(\u001b[0m\u001b[32m'his'\u001b[0m, \u001b[1;36m237\u001b[0m\u001b[1m)\u001b[0m,\n",
              "    \u001b[1m(\u001b[0m\u001b[32m'for'\u001b[0m, \u001b[1;36m233\u001b[0m\u001b[1m)\u001b[0m,\n",
              "    \u001b[1m(\u001b[0m\u001b[32m'ye'\u001b[0m, \u001b[1;36m226\u001b[0m\u001b[1m)\u001b[0m,\n",
              "    \u001b[1m(\u001b[0m\u001b[32m'was'\u001b[0m, \u001b[1;36m208\u001b[0m\u001b[1m)\u001b[0m,\n",
              "    \u001b[1m(\u001b[0m\u001b[32m'with'\u001b[0m, \u001b[1;36m203\u001b[0m\u001b[1m)\u001b[0m,\n",
              "    \u001b[1m(\u001b[0m\u001b[32m'but'\u001b[0m, \u001b[1;36m202\u001b[0m\u001b[1m)\u001b[0m,\n",
              "    \u001b[1m(\u001b[0m\u001b[32m'?'\u001b[0m, \u001b[1;36m199\u001b[0m\u001b[1m)\u001b[0m,\n",
              "    \u001b[1m(\u001b[0m\u001b[32m'when'\u001b[0m, \u001b[1;36m198\u001b[0m\u001b[1m)\u001b[0m\n",
              "\u001b[1m]\u001b[0m\n"
            ],
            "text/html": [
              "<pre style=\"white-space:pre;overflow-x:auto;line-height:normal;font-family:Menlo,'DejaVu Sans Mono',consolas,'Courier New',monospace\"><span style=\"font-weight: bold\">[</span>\n",
              "    <span style=\"font-weight: bold\">(</span><span style=\"color: #008000; text-decoration-color: #008000\">','</span>, <span style=\"color: #008080; text-decoration-color: #008080; font-weight: bold\">2684</span><span style=\"font-weight: bold\">)</span>,\n",
              "    <span style=\"font-weight: bold\">(</span><span style=\"color: #008000; text-decoration-color: #008000\">'and'</span>, <span style=\"color: #008080; text-decoration-color: #008080; font-weight: bold\">2134</span><span style=\"font-weight: bold\">)</span>,\n",
              "    <span style=\"font-weight: bold\">(</span><span style=\"color: #008000; text-decoration-color: #008000\">'the'</span>, <span style=\"color: #008080; text-decoration-color: #008080; font-weight: bold\">1456</span><span style=\"font-weight: bold\">)</span>,\n",
              "    <span style=\"font-weight: bold\">(</span><span style=\"color: #008000; text-decoration-color: #008000\">'.'</span>, <span style=\"color: #008080; text-decoration-color: #008080; font-weight: bold\">965</span><span style=\"font-weight: bold\">)</span>,\n",
              "    <span style=\"font-weight: bold\">(</span><span style=\"color: #008000; text-decoration-color: #008000\">'he'</span>, <span style=\"color: #008080; text-decoration-color: #008080; font-weight: bold\">715</span><span style=\"font-weight: bold\">)</span>,\n",
              "    <span style=\"font-weight: bold\">(</span><span style=\"color: #008000; text-decoration-color: #008000\">'of'</span>, <span style=\"color: #008080; text-decoration-color: #008080; font-weight: bold\">709</span><span style=\"font-weight: bold\">)</span>,\n",
              "    <span style=\"font-weight: bold\">(</span><span style=\"color: #008000; text-decoration-color: #008000\">'him'</span>, <span style=\"color: #008080; text-decoration-color: #008080; font-weight: bold\">617</span><span style=\"font-weight: bold\">)</span>,\n",
              "    <span style=\"font-weight: bold\">(</span><span style=\"color: #008000; text-decoration-color: #008000\">'to'</span>, <span style=\"color: #008080; text-decoration-color: #008080; font-weight: bold\">507</span><span style=\"font-weight: bold\">)</span>,\n",
              "    <span style=\"font-weight: bold\">(</span><span style=\"color: #008000; text-decoration-color: #008000\">'that'</span>, <span style=\"color: #008080; text-decoration-color: #008080; font-weight: bold\">489</span><span style=\"font-weight: bold\">)</span>,\n",
              "    <span style=\"font-weight: bold\">(</span><span style=\"color: #008000; text-decoration-color: #008000\">'unto'</span>, <span style=\"color: #008080; text-decoration-color: #008080; font-weight: bold\">445</span><span style=\"font-weight: bold\">)</span>,\n",
              "    <span style=\"font-weight: bold\">(</span><span style=\"color: #008000; text-decoration-color: #008000\">'they'</span>, <span style=\"color: #008080; text-decoration-color: #008080; font-weight: bold\">442</span><span style=\"font-weight: bold\">)</span>,\n",
              "    <span style=\"font-weight: bold\">(</span><span style=\"color: #008000; text-decoration-color: #008000\">'them'</span>, <span style=\"color: #008080; text-decoration-color: #008080; font-weight: bold\">376</span><span style=\"font-weight: bold\">)</span>,\n",
              "    <span style=\"font-weight: bold\">(</span><span style=\"color: #008000; text-decoration-color: #008000\">':'</span>, <span style=\"color: #008080; text-decoration-color: #008080; font-weight: bold\">369</span><span style=\"font-weight: bold\">)</span>,\n",
              "    <span style=\"font-weight: bold\">(</span><span style=\"color: #008000; text-decoration-color: #008000\">'in'</span>, <span style=\"color: #008080; text-decoration-color: #008080; font-weight: bold\">323</span><span style=\"font-weight: bold\">)</span>,\n",
              "    <span style=\"font-weight: bold\">(</span><span style=\"color: #008000; text-decoration-color: #008000\">'a'</span>, <span style=\"color: #008080; text-decoration-color: #008080; font-weight: bold\">308</span><span style=\"font-weight: bold\">)</span>,\n",
              "    <span style=\"font-weight: bold\">(</span><span style=\"color: #008000; text-decoration-color: #008000\">'said'</span>, <span style=\"color: #008080; text-decoration-color: #008080; font-weight: bold\">298</span><span style=\"font-weight: bold\">)</span>,\n",
              "    <span style=\"font-weight: bold\">(</span><span style=\"color: #008000; text-decoration-color: #008000\">';'</span>, <span style=\"color: #008080; text-decoration-color: #008080; font-weight: bold\">262</span><span style=\"font-weight: bold\">)</span>,\n",
              "    <span style=\"font-weight: bold\">(</span><span style=\"color: #008000; text-decoration-color: #008000\">'shall'</span>, <span style=\"color: #008080; text-decoration-color: #008080; font-weight: bold\">262</span><span style=\"font-weight: bold\">)</span>,\n",
              "    <span style=\"font-weight: bold\">(</span><span style=\"color: #008000; text-decoration-color: #008000\">'is'</span>, <span style=\"color: #008080; text-decoration-color: #008080; font-weight: bold\">260</span><span style=\"font-weight: bold\">)</span>,\n",
              "    <span style=\"font-weight: bold\">(</span><span style=\"color: #008000; text-decoration-color: #008000\">'it'</span>, <span style=\"color: #008080; text-decoration-color: #008080; font-weight: bold\">243</span><span style=\"font-weight: bold\">)</span>,\n",
              "    <span style=\"font-weight: bold\">(</span><span style=\"color: #008000; text-decoration-color: #008000\">'not'</span>, <span style=\"color: #008080; text-decoration-color: #008080; font-weight: bold\">240</span><span style=\"font-weight: bold\">)</span>,\n",
              "    <span style=\"font-weight: bold\">(</span><span style=\"color: #008000; text-decoration-color: #008000\">'be'</span>, <span style=\"color: #008080; text-decoration-color: #008080; font-weight: bold\">238</span><span style=\"font-weight: bold\">)</span>,\n",
              "    <span style=\"font-weight: bold\">(</span><span style=\"color: #008000; text-decoration-color: #008000\">'his'</span>, <span style=\"color: #008080; text-decoration-color: #008080; font-weight: bold\">237</span><span style=\"font-weight: bold\">)</span>,\n",
              "    <span style=\"font-weight: bold\">(</span><span style=\"color: #008000; text-decoration-color: #008000\">'for'</span>, <span style=\"color: #008080; text-decoration-color: #008080; font-weight: bold\">233</span><span style=\"font-weight: bold\">)</span>,\n",
              "    <span style=\"font-weight: bold\">(</span><span style=\"color: #008000; text-decoration-color: #008000\">'ye'</span>, <span style=\"color: #008080; text-decoration-color: #008080; font-weight: bold\">226</span><span style=\"font-weight: bold\">)</span>,\n",
              "    <span style=\"font-weight: bold\">(</span><span style=\"color: #008000; text-decoration-color: #008000\">'was'</span>, <span style=\"color: #008080; text-decoration-color: #008080; font-weight: bold\">208</span><span style=\"font-weight: bold\">)</span>,\n",
              "    <span style=\"font-weight: bold\">(</span><span style=\"color: #008000; text-decoration-color: #008000\">'with'</span>, <span style=\"color: #008080; text-decoration-color: #008080; font-weight: bold\">203</span><span style=\"font-weight: bold\">)</span>,\n",
              "    <span style=\"font-weight: bold\">(</span><span style=\"color: #008000; text-decoration-color: #008000\">'but'</span>, <span style=\"color: #008080; text-decoration-color: #008080; font-weight: bold\">202</span><span style=\"font-weight: bold\">)</span>,\n",
              "    <span style=\"font-weight: bold\">(</span><span style=\"color: #008000; text-decoration-color: #008000\">'?'</span>, <span style=\"color: #008080; text-decoration-color: #008080; font-weight: bold\">199</span><span style=\"font-weight: bold\">)</span>,\n",
              "    <span style=\"font-weight: bold\">(</span><span style=\"color: #008000; text-decoration-color: #008000\">'when'</span>, <span style=\"color: #008080; text-decoration-color: #008080; font-weight: bold\">198</span><span style=\"font-weight: bold\">)</span>\n",
              "<span style=\"font-weight: bold\">]</span>\n",
              "</pre>\n"
            ]
          },
          "metadata": {}
        }
      ],
      "source": [
        "rprint(eng_bible_types.most_common(30))"
      ]
    },
    {
      "cell_type": "code",
      "execution_count": 112,
      "metadata": {
        "editable": true,
        "tags": [],
        "id": "adgpqpBdSjqs"
      },
      "outputs": [],
      "source": [
        "eng_bible_lemmas_types = Counter(lemmatize(eng_bible_words, lang=\"en\"))"
      ]
    },
    {
      "cell_type": "code",
      "execution_count": 113,
      "metadata": {
        "editable": true,
        "tags": [],
        "id": "QrIkXJGxSjqs"
      },
      "outputs": [],
      "source": [
        "write_plain_text_corpus(eng_bible_plain_text, f\"eng-bible\")"
      ]
    },
    {
      "cell_type": "code",
      "execution_count": 114,
      "metadata": {
        "editable": true,
        "tags": [],
        "id": "JFGwzRc4Sjqs"
      },
      "outputs": [],
      "source": [
        "!subword-nmt apply-bpe -c gutenberg_high.model < \\\n",
        " eng-bible.txt > \\\n",
        " eng-bible-tokenized.txt"
      ]
    },
    {
      "cell_type": "code",
      "execution_count": 115,
      "metadata": {
        "editable": true,
        "tags": [],
        "id": "fzodgfBnSjqs"
      },
      "outputs": [],
      "source": [
        "with open(f\"eng-bible-tokenized.txt\", 'r') as f:\n",
        "    tokenized_data = f.read()\n",
        "eng_bible_tokenized = tokenized_data.split()"
      ]
    },
    {
      "cell_type": "code",
      "execution_count": 116,
      "metadata": {
        "editable": true,
        "tags": [],
        "id": "qqhNQ2YdSjqs",
        "colab": {
          "base_uri": "https://localhost:8080/",
          "height": 34
        },
        "outputId": "dbe9de34-4aac-4834-9dcb-1a427e4392fb"
      },
      "outputs": [
        {
          "output_type": "display_data",
          "data": {
            "text/plain": [
              "\u001b[1m[\u001b[0m\u001b[32m'T@@'\u001b[0m, \u001b[32m'he'\u001b[0m, \u001b[32m'beginning'\u001b[0m, \u001b[32m'of'\u001b[0m, \u001b[32m'the'\u001b[0m, \u001b[32m'go@@'\u001b[0m, \u001b[32m'sp@@'\u001b[0m, \u001b[32m'el'\u001b[0m, \u001b[32m'of'\u001b[0m, \u001b[32m'J@@'\u001b[0m\u001b[1m]\u001b[0m\n"
            ],
            "text/html": [
              "<pre style=\"white-space:pre;overflow-x:auto;line-height:normal;font-family:Menlo,'DejaVu Sans Mono',consolas,'Courier New',monospace\"><span style=\"font-weight: bold\">[</span><span style=\"color: #008000; text-decoration-color: #008000\">'T@@'</span>, <span style=\"color: #008000; text-decoration-color: #008000\">'he'</span>, <span style=\"color: #008000; text-decoration-color: #008000\">'beginning'</span>, <span style=\"color: #008000; text-decoration-color: #008000\">'of'</span>, <span style=\"color: #008000; text-decoration-color: #008000\">'the'</span>, <span style=\"color: #008000; text-decoration-color: #008000\">'go@@'</span>, <span style=\"color: #008000; text-decoration-color: #008000\">'sp@@'</span>, <span style=\"color: #008000; text-decoration-color: #008000\">'el'</span>, <span style=\"color: #008000; text-decoration-color: #008000\">'of'</span>, <span style=\"color: #008000; text-decoration-color: #008000\">'J@@'</span><span style=\"font-weight: bold\">]</span>\n",
              "</pre>\n"
            ]
          },
          "metadata": {}
        }
      ],
      "source": [
        "rprint(eng_bible_tokenized[:10])"
      ]
    },
    {
      "cell_type": "code",
      "execution_count": 117,
      "metadata": {
        "editable": true,
        "tags": [],
        "id": "EAveIccUSjqs",
        "colab": {
          "base_uri": "https://localhost:8080/"
        },
        "outputId": "03e0518e-c243-4706-b101-3adf07e5aaf7"
      },
      "outputs": [
        {
          "output_type": "execute_result",
          "data": {
            "text/plain": [
              "46884"
            ]
          },
          "metadata": {},
          "execution_count": 117
        }
      ],
      "source": [
        "len(eng_bible_tokenized)"
      ]
    },
    {
      "cell_type": "code",
      "execution_count": 118,
      "metadata": {
        "editable": true,
        "tags": [],
        "id": "p2uvQjAdSjqt",
        "colab": {
          "base_uri": "https://localhost:8080/"
        },
        "outputId": "7b3f8785-688f-41f2-c720-5b455bb35cbf"
      },
      "outputs": [
        {
          "output_type": "execute_result",
          "data": {
            "text/plain": [
              "1123"
            ]
          },
          "metadata": {},
          "execution_count": 118
        }
      ],
      "source": [
        "eng_bible_tokenized_types = Counter(eng_bible_tokenized)\n",
        "len(eng_bible_tokenized_types)"
      ]
    },
    {
      "cell_type": "code",
      "execution_count": 119,
      "metadata": {
        "editable": true,
        "tags": [],
        "id": "_nQjLlsxSjqt",
        "colab": {
          "base_uri": "https://localhost:8080/"
        },
        "outputId": "9bcad129-4570-4451-bf60-4c61548ca9f8"
      },
      "outputs": [
        {
          "output_type": "execute_result",
          "data": {
            "text/plain": [
              "[(',', 2684),\n",
              " ('the', 1423),\n",
              " ('and', 1318),\n",
              " ('d', 1105),\n",
              " ('n@@', 977),\n",
              " ('.', 965),\n",
              " ('to', 955),\n",
              " ('A@@', 884),\n",
              " ('he', 725),\n",
              " ('of', 706),\n",
              " ('him', 617),\n",
              " ('un@@', 505),\n",
              " ('that', 478),\n",
              " ('they', 434),\n",
              " ('e@@', 414),\n",
              " ('them', 376),\n",
              " (':', 369),\n",
              " ('in', 350),\n",
              " ('o@@', 349),\n",
              " ('th', 337),\n",
              " ('a', 337),\n",
              " ('e', 304),\n",
              " ('said', 298),\n",
              " ('it', 294),\n",
              " ('t', 270),\n",
              " ('J@@', 266),\n",
              " ('a@@', 264),\n",
              " (';', 262),\n",
              " ('ed', 261),\n",
              " ('shall', 261)]"
            ]
          },
          "metadata": {},
          "execution_count": 119
        }
      ],
      "source": [
        "eng_bible_tokenized_types.most_common(30)"
      ]
    },
    {
      "cell_type": "markdown",
      "metadata": {
        "editable": true,
        "tags": [],
        "id": "Hz_HgraASjqt"
      },
      "source": [
        "#### ¿Qué pasa si aplicamos el modelo aprendido con Gutenberg a otras lenguas?"
      ]
    },
    {
      "cell_type": "code",
      "execution_count": 120,
      "metadata": {
        "editable": true,
        "id": "HnYGl4NtNueJ",
        "tags": []
      },
      "outputs": [],
      "source": [
        "spa_bible_plain_text = get_bible_corpus('spa')\n",
        "spa_bible_words = spa_bible_plain_text.replace(\"\\n\", \" \").lower().split()"
      ]
    },
    {
      "cell_type": "code",
      "execution_count": 121,
      "metadata": {
        "editable": true,
        "id": "brmETSDiPEkV",
        "tags": [],
        "colab": {
          "base_uri": "https://localhost:8080/"
        },
        "outputId": "279f8d53-ff1d-4f89-b9d9-c515fb8ff88f"
      },
      "outputs": [
        {
          "output_type": "execute_result",
          "data": {
            "text/plain": [
              "['principio',\n",
              " 'del',\n",
              " 'evangelio',\n",
              " 'de',\n",
              " 'jesucristo',\n",
              " ',',\n",
              " 'el',\n",
              " 'hijo',\n",
              " 'de',\n",
              " 'dios']"
            ]
          },
          "metadata": {},
          "execution_count": 121
        }
      ],
      "source": [
        "spa_bible_words[:10]"
      ]
    },
    {
      "cell_type": "code",
      "execution_count": 122,
      "metadata": {
        "editable": true,
        "id": "FdgN5Br7P5-X",
        "tags": [],
        "colab": {
          "base_uri": "https://localhost:8080/"
        },
        "outputId": "ff5157dd-d0e1-408c-aefa-c53eae2ada38"
      },
      "outputs": [
        {
          "output_type": "execute_result",
          "data": {
            "text/plain": [
              "30073"
            ]
          },
          "metadata": {},
          "execution_count": 122
        }
      ],
      "source": [
        "len(spa_bible_words)"
      ]
    },
    {
      "cell_type": "code",
      "execution_count": 123,
      "metadata": {
        "editable": true,
        "id": "otFwhvKCQA7p",
        "tags": [],
        "colab": {
          "base_uri": "https://localhost:8080/"
        },
        "outputId": "04e8ee7b-2d77-495d-aa02-70664e53cffd"
      },
      "outputs": [
        {
          "output_type": "execute_result",
          "data": {
            "text/plain": [
              "3317"
            ]
          },
          "metadata": {},
          "execution_count": 123
        }
      ],
      "source": [
        "spa_bible_types = Counter(spa_bible_words)\n",
        "len(spa_bible_types)"
      ]
    },
    {
      "cell_type": "code",
      "execution_count": 124,
      "metadata": {
        "editable": true,
        "id": "ynLly3NoQKES",
        "tags": [],
        "colab": {
          "base_uri": "https://localhost:8080/"
        },
        "outputId": "2075a267-bd4c-41b1-963e-9119a3c25bde"
      },
      "outputs": [
        {
          "output_type": "execute_result",
          "data": {
            "text/plain": [
              "[(',', 1946),\n",
              " ('y', 1169),\n",
              " ('.', 1099),\n",
              " ('de', 1009),\n",
              " ('que', 927),\n",
              " ('a', 858),\n",
              " ('los', 645),\n",
              " ('la', 599),\n",
              " ('el', 572),\n",
              " (':', 539),\n",
              " ('se', 489),\n",
              " ('en', 461),\n",
              " ('«', 423),\n",
              " ('»', 423),\n",
              " ('jesús', 422),\n",
              " ('lo', 367),\n",
              " ('no', 312),\n",
              " ('le', 293),\n",
              " ('les', 267),\n",
              " ('dijo', 252),\n",
              " ('con', 220),\n",
              " ('pero', 217),\n",
              " ('al', 214),\n",
              " ('¿', 196),\n",
              " ('?', 195),\n",
              " ('por', 194),\n",
              " ('para', 172),\n",
              " ('su', 171),\n",
              " ('del', 165),\n",
              " ('un', 159)]"
            ]
          },
          "metadata": {},
          "execution_count": 124
        }
      ],
      "source": [
        "spa_bible_types.most_common(30)"
      ]
    },
    {
      "cell_type": "code",
      "execution_count": 125,
      "metadata": {
        "editable": true,
        "id": "qLLWH8vmul4d",
        "tags": [],
        "colab": {
          "base_uri": "https://localhost:8080/"
        },
        "outputId": "cf31bb6a-faa0-4ca1-ecaa-400cb017c815"
      },
      "outputs": [
        {
          "output_type": "execute_result",
          "data": {
            "text/plain": [
              "2136"
            ]
          },
          "metadata": {},
          "execution_count": 125
        }
      ],
      "source": [
        "spa_bible_lemmas_types = Counter(lemmatize(spa_bible_words, lang=\"es\"))\n",
        "len(spa_bible_lemmas_types)"
      ]
    },
    {
      "cell_type": "code",
      "execution_count": 127,
      "metadata": {
        "editable": true,
        "id": "o3x3DZ8zr8uc",
        "tags": []
      },
      "outputs": [],
      "source": [
        "write_plain_text_corpus(spa_bible_plain_text, f\"spa-bible\")"
      ]
    },
    {
      "cell_type": "code",
      "execution_count": 128,
      "metadata": {
        "editable": true,
        "id": "i8pEgnudKvWQ",
        "tags": []
      },
      "outputs": [],
      "source": [
        "!subword-nmt apply-bpe -c gutenberg_high.model < \\\n",
        " spa-bible.txt > \\\n",
        " spa-bible-tokenized.txt"
      ]
    },
    {
      "cell_type": "code",
      "execution_count": 129,
      "metadata": {
        "editable": true,
        "id": "mbS7LM26LMBA",
        "tags": []
      },
      "outputs": [],
      "source": [
        "with open(f\"spa-bible-tokenized.txt\", \"r\") as f:\n",
        "    tokenized_text = f.read()\n",
        "spa_bible_tokenized = tokenized_text.split()"
      ]
    },
    {
      "cell_type": "code",
      "execution_count": 130,
      "metadata": {
        "editable": true,
        "id": "hB60BSTYMOD-",
        "tags": [],
        "colab": {
          "base_uri": "https://localhost:8080/"
        },
        "outputId": "5ba3e3f1-70ae-494a-cdc1-93f048830cac"
      },
      "outputs": [
        {
          "output_type": "execute_result",
          "data": {
            "text/plain": [
              "['P@@', 'r@@', 'in@@', 'ci@@', 'pi@@', 'o', 'de@@', 'l', 'ev@@', 'an@@']"
            ]
          },
          "metadata": {},
          "execution_count": 130
        }
      ],
      "source": [
        "spa_bible_tokenized[:10]"
      ]
    },
    {
      "cell_type": "code",
      "execution_count": 131,
      "metadata": {
        "editable": true,
        "id": "bqMFr9h3L0Km",
        "tags": [],
        "outputId": "8146368f-3540-45d5-8d85-3c091e7b60d8",
        "colab": {
          "base_uri": "https://localhost:8080/"
        }
      },
      "outputs": [
        {
          "output_type": "execute_result",
          "data": {
            "text/plain": [
              "71838"
            ]
          },
          "metadata": {},
          "execution_count": 131
        }
      ],
      "source": [
        "len(spa_bible_tokenized)"
      ]
    },
    {
      "cell_type": "code",
      "execution_count": 132,
      "metadata": {
        "editable": true,
        "id": "lrXsWTwXMLoD",
        "tags": [],
        "colab": {
          "base_uri": "https://localhost:8080/"
        },
        "outputId": "429f4d60-7896-4c33-9b47-313a9772d82e"
      },
      "outputs": [
        {
          "output_type": "execute_result",
          "data": {
            "text/plain": [
              "507"
            ]
          },
          "metadata": {},
          "execution_count": 132
        }
      ],
      "source": [
        "spa_bible_tokenized_types = Counter(spa_bible_tokenized)\n",
        "len(spa_bible_tokenized_types)"
      ]
    },
    {
      "cell_type": "code",
      "execution_count": 133,
      "metadata": {
        "editable": true,
        "id": "tmF_dkiDMeaA",
        "scrolled": true,
        "tags": [],
        "colab": {
          "base_uri": "https://localhost:8080/"
        },
        "outputId": "c5cc143b-2e6e-4ee6-94c9-d152b8b8686f"
      },
      "outputs": [
        {
          "output_type": "execute_result",
          "data": {
            "text/plain": [
              "[('a', 3780),\n",
              " ('s', 2653),\n",
              " ('o', 2390),\n",
              " (',', 1946),\n",
              " ('e', 1660),\n",
              " ('l@@', 1649),\n",
              " ('qu@@', 1269),\n",
              " ('es@@', 1193),\n",
              " ('y', 1143),\n",
              " ('.', 1099),\n",
              " ('de', 1095),\n",
              " ('d@@', 991),\n",
              " ('t@@', 959),\n",
              " ('i@@', 911),\n",
              " ('o@@', 881),\n",
              " ('er@@', 861),\n",
              " ('lo@@', 853),\n",
              " ('s@@', 736),\n",
              " ('an@@', 724),\n",
              " ('n', 718),\n",
              " ('u@@', 716),\n",
              " ('í@@', 703),\n",
              " ('do', 697),\n",
              " ('di@@', 697),\n",
              " ('m@@', 691),\n",
              " ('c@@', 666),\n",
              " ('e@@', 661),\n",
              " ('as', 660),\n",
              " ('r@@', 643),\n",
              " ('ó', 628),\n",
              " ('on', 625),\n",
              " ('en', 620),\n",
              " ('j@@', 595),\n",
              " ('se', 581),\n",
              " ('b@@', 580),\n",
              " ('an', 577),\n",
              " ('en@@', 577),\n",
              " ('ar@@', 574),\n",
              " ('es', 564),\n",
              " ('el', 551)]"
            ]
          },
          "metadata": {},
          "execution_count": 133
        }
      ],
      "source": [
        "spa_bible_tokenized_types.most_common(40)"
      ]
    },
    {
      "cell_type": "markdown",
      "metadata": {
        "editable": true,
        "id": "pxkw79ldAnrP",
        "tags": []
      },
      "source": [
        "### Type-token Ratio (TTR)\n",
        "\n",
        "- Una forma de medir la variazión del vocabulario en un corpus\n",
        "- Este se calcula como $TTR = \\frac{len(types)}{len(tokens)}$\n",
        "- Puede ser útil para monitorear la variación lexica de un texto"
      ]
    },
    {
      "cell_type": "code",
      "execution_count": 134,
      "metadata": {
        "editable": true,
        "id": "b5ey_DGoAj9-",
        "tags": [],
        "colab": {
          "base_uri": "https://localhost:8080/",
          "height": 136
        },
        "outputId": "f0cbcd16-9acc-4a07-a6c8-cbdb3aaa914d"
      },
      "outputs": [
        {
          "output_type": "display_data",
          "data": {
            "text/plain": [
              "Información de la biblia en Inglés\n"
            ],
            "text/html": [
              "<pre style=\"white-space:pre;overflow-x:auto;line-height:normal;font-family:Menlo,'DejaVu Sans Mono',consolas,'Courier New',monospace\">Información de la biblia en Inglés\n",
              "</pre>\n"
            ]
          },
          "metadata": {}
        },
        {
          "output_type": "display_data",
          "data": {
            "text/plain": [
              "Tokens: \u001b[1;36m30963\u001b[0m\n"
            ],
            "text/html": [
              "<pre style=\"white-space:pre;overflow-x:auto;line-height:normal;font-family:Menlo,'DejaVu Sans Mono',consolas,'Courier New',monospace\">Tokens: <span style=\"color: #008080; text-decoration-color: #008080; font-weight: bold\">30963</span>\n",
              "</pre>\n"
            ]
          },
          "metadata": {}
        },
        {
          "output_type": "display_data",
          "data": {
            "text/plain": [
              "Types \u001b[1m(\u001b[0m\u001b[34mword-base\u001b[0m\u001b[1;34m)\u001b[0m\u001b[34m:\u001b[0m \u001b[1;36m2198\u001b[0m\n"
            ],
            "text/html": [
              "<pre style=\"white-space:pre;overflow-x:auto;line-height:normal;font-family:Menlo,'DejaVu Sans Mono',consolas,'Courier New',monospace\">Types <span style=\"font-weight: bold\">(</span><span style=\"color: #000080; text-decoration-color: #000080\">word-base</span><span style=\"color: #000080; text-decoration-color: #000080; font-weight: bold\">)</span><span style=\"color: #000080; text-decoration-color: #000080\">:</span> <span style=\"color: #008080; text-decoration-color: #008080; font-weight: bold\">2198</span>\n",
              "</pre>\n"
            ]
          },
          "metadata": {}
        },
        {
          "output_type": "display_data",
          "data": {
            "text/plain": [
              "Types \u001b[1m(\u001b[0m\u001b[33mlemmatized\u001b[0m\u001b[1;33m)\u001b[0m \u001b[1;36m1761\u001b[0m\n"
            ],
            "text/html": [
              "<pre style=\"white-space:pre;overflow-x:auto;line-height:normal;font-family:Menlo,'DejaVu Sans Mono',consolas,'Courier New',monospace\">Types <span style=\"font-weight: bold\">(</span><span style=\"color: #808000; text-decoration-color: #808000\">lemmatized</span><span style=\"color: #808000; text-decoration-color: #808000; font-weight: bold\">)</span> <span style=\"color: #008080; text-decoration-color: #008080; font-weight: bold\">1761</span>\n",
              "</pre>\n"
            ]
          },
          "metadata": {}
        },
        {
          "output_type": "display_data",
          "data": {
            "text/plain": [
              "Types \u001b[1m(\u001b[0m\u001b[32mBPE\u001b[0m\u001b[1;32m)\u001b[0m\u001b[32m:\u001b[0m \u001b[1;36m1123\u001b[0m\n"
            ],
            "text/html": [
              "<pre style=\"white-space:pre;overflow-x:auto;line-height:normal;font-family:Menlo,'DejaVu Sans Mono',consolas,'Courier New',monospace\">Types <span style=\"font-weight: bold\">(</span><span style=\"color: #008000; text-decoration-color: #008000\">BPE</span><span style=\"color: #008000; text-decoration-color: #008000; font-weight: bold\">)</span><span style=\"color: #008000; text-decoration-color: #008000\">:</span> <span style=\"color: #008080; text-decoration-color: #008080; font-weight: bold\">1123</span>\n",
              "</pre>\n"
            ]
          },
          "metadata": {}
        },
        {
          "output_type": "display_data",
          "data": {
            "text/plain": [
              "TTR \u001b[1m(\u001b[0m\u001b[34mword-base\u001b[0m\u001b[1;34m)\u001b[0m\u001b[34m:\u001b[0m \u001b[1;36m0.07098795336369215\u001b[0m\n"
            ],
            "text/html": [
              "<pre style=\"white-space:pre;overflow-x:auto;line-height:normal;font-family:Menlo,'DejaVu Sans Mono',consolas,'Courier New',monospace\">TTR <span style=\"font-weight: bold\">(</span><span style=\"color: #000080; text-decoration-color: #000080\">word-base</span><span style=\"color: #000080; text-decoration-color: #000080; font-weight: bold\">)</span><span style=\"color: #000080; text-decoration-color: #000080\">:</span> <span style=\"color: #008080; text-decoration-color: #008080; font-weight: bold\">0.07098795336369215</span>\n",
              "</pre>\n"
            ]
          },
          "metadata": {}
        },
        {
          "output_type": "display_data",
          "data": {
            "text/plain": [
              "TTR \u001b[1m(\u001b[0m\u001b[32mBPE\u001b[0m\u001b[1;32m)\u001b[0m\u001b[32m:\u001b[0m \u001b[1;36m0.023952734408326935\u001b[0m\n"
            ],
            "text/html": [
              "<pre style=\"white-space:pre;overflow-x:auto;line-height:normal;font-family:Menlo,'DejaVu Sans Mono',consolas,'Courier New',monospace\">TTR <span style=\"font-weight: bold\">(</span><span style=\"color: #008000; text-decoration-color: #008000\">BPE</span><span style=\"color: #008000; text-decoration-color: #008000; font-weight: bold\">)</span><span style=\"color: #008000; text-decoration-color: #008000\">:</span> <span style=\"color: #008080; text-decoration-color: #008080; font-weight: bold\">0.023952734408326935</span>\n",
              "</pre>\n"
            ]
          },
          "metadata": {}
        }
      ],
      "source": [
        "rprint(\"Información de la biblia en Inglés\")\n",
        "rprint(\"Tokens:\", len(eng_bible_words))\n",
        "rprint(\"Types ([blue]word-base):\", len(eng_bible_types))\n",
        "rprint(\"Types ([yellow]lemmatized)\", len(eng_bible_lemmas_types))\n",
        "rprint(\"Types ([green]BPE):\", len(eng_bible_tokenized_types))\n",
        "rprint(\"TTR ([blue]word-base):\", len(eng_bible_types)/len(eng_bible_words))\n",
        "rprint(\"TTR ([green]BPE):\", len(eng_bible_tokenized_types)/len(eng_bible_tokenized))"
      ]
    },
    {
      "cell_type": "code",
      "execution_count": 135,
      "metadata": {
        "editable": true,
        "tags": [],
        "id": "lGwkIrisSjqt",
        "colab": {
          "base_uri": "https://localhost:8080/",
          "height": 136
        },
        "outputId": "6866720f-9777-41ec-9979-91373f3ab533"
      },
      "outputs": [
        {
          "output_type": "display_data",
          "data": {
            "text/plain": [
              "Bible Spanish Information\n"
            ],
            "text/html": [
              "<pre style=\"white-space:pre;overflow-x:auto;line-height:normal;font-family:Menlo,'DejaVu Sans Mono',consolas,'Courier New',monospace\">Bible Spanish Information\n",
              "</pre>\n"
            ]
          },
          "metadata": {}
        },
        {
          "output_type": "display_data",
          "data": {
            "text/plain": [
              "Tokens: \u001b[1;36m30073\u001b[0m\n"
            ],
            "text/html": [
              "<pre style=\"white-space:pre;overflow-x:auto;line-height:normal;font-family:Menlo,'DejaVu Sans Mono',consolas,'Courier New',monospace\">Tokens: <span style=\"color: #008080; text-decoration-color: #008080; font-weight: bold\">30073</span>\n",
              "</pre>\n"
            ]
          },
          "metadata": {}
        },
        {
          "output_type": "display_data",
          "data": {
            "text/plain": [
              "Types \u001b[1m(\u001b[0m\u001b[34mword-base\u001b[0m\u001b[1;34m)\u001b[0m\u001b[34m:\u001b[0m \u001b[1;36m3317\u001b[0m\n"
            ],
            "text/html": [
              "<pre style=\"white-space:pre;overflow-x:auto;line-height:normal;font-family:Menlo,'DejaVu Sans Mono',consolas,'Courier New',monospace\">Types <span style=\"font-weight: bold\">(</span><span style=\"color: #000080; text-decoration-color: #000080\">word-base</span><span style=\"color: #000080; text-decoration-color: #000080; font-weight: bold\">)</span><span style=\"color: #000080; text-decoration-color: #000080\">:</span> <span style=\"color: #008080; text-decoration-color: #008080; font-weight: bold\">3317</span>\n",
              "</pre>\n"
            ]
          },
          "metadata": {}
        },
        {
          "output_type": "display_data",
          "data": {
            "text/plain": [
              "Types \u001b[1m(\u001b[0m\u001b[33mlemmatized\u001b[0m\u001b[1;33m)\u001b[0m \u001b[1;36m2136\u001b[0m\n"
            ],
            "text/html": [
              "<pre style=\"white-space:pre;overflow-x:auto;line-height:normal;font-family:Menlo,'DejaVu Sans Mono',consolas,'Courier New',monospace\">Types <span style=\"font-weight: bold\">(</span><span style=\"color: #808000; text-decoration-color: #808000\">lemmatized</span><span style=\"color: #808000; text-decoration-color: #808000; font-weight: bold\">)</span> <span style=\"color: #008080; text-decoration-color: #008080; font-weight: bold\">2136</span>\n",
              "</pre>\n"
            ]
          },
          "metadata": {}
        },
        {
          "output_type": "display_data",
          "data": {
            "text/plain": [
              "Types \u001b[1m(\u001b[0m\u001b[32mBPE\u001b[0m\u001b[1;32m)\u001b[0m\u001b[32m:\u001b[0m \u001b[1;36m507\u001b[0m\n"
            ],
            "text/html": [
              "<pre style=\"white-space:pre;overflow-x:auto;line-height:normal;font-family:Menlo,'DejaVu Sans Mono',consolas,'Courier New',monospace\">Types <span style=\"font-weight: bold\">(</span><span style=\"color: #008000; text-decoration-color: #008000\">BPE</span><span style=\"color: #008000; text-decoration-color: #008000; font-weight: bold\">)</span><span style=\"color: #008000; text-decoration-color: #008000\">:</span> <span style=\"color: #008080; text-decoration-color: #008080; font-weight: bold\">507</span>\n",
              "</pre>\n"
            ]
          },
          "metadata": {}
        },
        {
          "output_type": "display_data",
          "data": {
            "text/plain": [
              "TTR \u001b[1m(\u001b[0m\u001b[34mword-base\u001b[0m\u001b[1;34m)\u001b[0m\u001b[34m:\u001b[0m \u001b[1;36m0.11029827419944802\u001b[0m\n"
            ],
            "text/html": [
              "<pre style=\"white-space:pre;overflow-x:auto;line-height:normal;font-family:Menlo,'DejaVu Sans Mono',consolas,'Courier New',monospace\">TTR <span style=\"font-weight: bold\">(</span><span style=\"color: #000080; text-decoration-color: #000080\">word-base</span><span style=\"color: #000080; text-decoration-color: #000080; font-weight: bold\">)</span><span style=\"color: #000080; text-decoration-color: #000080\">:</span> <span style=\"color: #008080; text-decoration-color: #008080; font-weight: bold\">0.11029827419944802</span>\n",
              "</pre>\n"
            ]
          },
          "metadata": {}
        },
        {
          "output_type": "display_data",
          "data": {
            "text/plain": [
              "TTR \u001b[1m(\u001b[0m\u001b[32mBPE\u001b[0m\u001b[1;32m)\u001b[0m\u001b[32m:\u001b[0m \u001b[1;36m0.007057546145494028\u001b[0m\n"
            ],
            "text/html": [
              "<pre style=\"white-space:pre;overflow-x:auto;line-height:normal;font-family:Menlo,'DejaVu Sans Mono',consolas,'Courier New',monospace\">TTR <span style=\"font-weight: bold\">(</span><span style=\"color: #008000; text-decoration-color: #008000\">BPE</span><span style=\"color: #008000; text-decoration-color: #008000; font-weight: bold\">)</span><span style=\"color: #008000; text-decoration-color: #008000\">:</span> <span style=\"color: #008080; text-decoration-color: #008080; font-weight: bold\">0.007057546145494028</span>\n",
              "</pre>\n"
            ]
          },
          "metadata": {}
        }
      ],
      "source": [
        "rprint(\"Bible Spanish Information\")\n",
        "rprint(\"Tokens:\", len(spa_bible_words))\n",
        "rprint(\"Types ([blue]word-base):\", len(spa_bible_types))\n",
        "rprint(\"Types ([yellow]lemmatized)\", len(spa_bible_lemmas_types))\n",
        "rprint(\"Types ([green]BPE):\", len(spa_bible_tokenized_types))\n",
        "rprint(\"TTR ([blue]word-base):\", len(spa_bible_types)/len(spa_bible_words))\n",
        "rprint(\"TTR ([green]BPE):\", len(spa_bible_tokenized_types)/len(spa_bible_tokenized))"
      ]
    },
    {
      "cell_type": "markdown",
      "source": [
        "## Modelos del Lenguaje Neuronales (Bengio)"
      ],
      "metadata": {
        "id": "EN_Id7U0Dww9"
      }
    },
    {
      "cell_type": "markdown",
      "source": [
        "- [(Bengio et al 2003)](https://dl.acm.org/doi/10.5555/944919.944966) proponen una arquitecura neuronal como alternativa a los modelos del lenguaje estadísticos\n",
        "- Esta arquitectura lidia mejor con los casos donde las probabilidades se hacen cero, sin necesidad de aplicar una técnica de smoothing."
      ],
      "metadata": {
        "id": "nQxQ-WXSGQEH"
      }
    },
    {
      "cell_type": "markdown",
      "source": [
        "<p float=\"left\">\n",
        "  <img src=\"https://toppng.com/public/uploads/preview/at-the-movies-will-smith-meme-tada-11562851401lnexjqtwf9.png\" width=\"100\" />\n",
        "  <img src=\"https://abhinavcreed13.github.io/assets/images/bengio-model.png\" width=\"600\"/>\n",
        "</p>"
      ],
      "metadata": {
        "id": "NopnRFEqGH1C"
      }
    },
    {
      "cell_type": "code",
      "source": [
        "nltk.download('reuters')\n",
        "nltk.download('punkt_tab')\n",
        "\n",
        "from nltk.corpus import reuters\n",
        "from nltk import ngrams"
      ],
      "metadata": {
        "colab": {
          "base_uri": "https://localhost:8080/"
        },
        "id": "UlUKrJl9Dy7T",
        "outputId": "132c1a51-f6a2-4894-c2f0-1e19db7848dc"
      },
      "execution_count": 136,
      "outputs": [
        {
          "output_type": "stream",
          "name": "stderr",
          "text": [
            "[nltk_data] Downloading package reuters to /root/nltk_data...\n",
            "[nltk_data] Downloading package punkt_tab to /root/nltk_data...\n",
            "[nltk_data]   Package punkt_tab is already up-to-date!\n"
          ]
        }
      ]
    },
    {
      "cell_type": "code",
      "source": [
        "def preprocess_corpus(corpus: list[str]) -> list[str]:\n",
        "    \"\"\"Función de preprocesamiento\n",
        "\n",
        "    Esta función está diseñada para preprocesar\n",
        "    corpus para modelos del lenguaje neuronales.\n",
        "    Agrega tokens de inicio y fin, normaliza\n",
        "    palabras a minusculas\n",
        "    \"\"\"\n",
        "    preprocessed_corpus = []\n",
        "    for sent in corpus:\n",
        "        result = [word.lower() for word in sent]\n",
        "        # Al final de la oración\n",
        "        result.append(\"<EOS>\")\n",
        "        result.insert(0, \"<BOS>\")\n",
        "        preprocessed_corpus.append(result)\n",
        "    return preprocessed_corpus"
      ],
      "metadata": {
        "id": "yCTD_uvCkdmR"
      },
      "execution_count": 137,
      "outputs": []
    },
    {
      "cell_type": "code",
      "source": [
        "def get_words_freqs(corpus: list[list[str]]):\n",
        "    \"\"\"Calcula la frecuencia de las palabras en un corpus\"\"\"\n",
        "    words_freqs = {}\n",
        "    for sentence in corpus:\n",
        "        for word in sentence:\n",
        "            words_freqs[word] = words_freqs.get(word, 0) + 1\n",
        "    return words_freqs"
      ],
      "metadata": {
        "id": "Xh5B-1SNks3m"
      },
      "execution_count": 138,
      "outputs": []
    },
    {
      "cell_type": "code",
      "source": [
        "UNK_LABEL = \"<UNK>\"\n",
        "def get_words_indexes(words_freqs: dict) -> dict:\n",
        "    \"\"\"Calcula los indices de las palabras dadas sus frecuencias\"\"\"\n",
        "    result = {}\n",
        "    for idx, word in enumerate(words_freqs.keys()):\n",
        "        # Happax legomena happends\n",
        "        if words_freqs[word] == 1:\n",
        "            # Temp index for unknowns\n",
        "            result[UNK_LABEL] = len(words_freqs)\n",
        "        else:\n",
        "            result[word] = idx\n",
        "\n",
        "    return {word: idx for idx, word in enumerate(result.keys())}, {idx: word for idx, word in enumerate(result.keys())}"
      ],
      "metadata": {
        "id": "cvAfVr3spIxH"
      },
      "execution_count": 139,
      "outputs": []
    },
    {
      "cell_type": "code",
      "source": [
        "corpus = preprocess_corpus(reuters.sents())"
      ],
      "metadata": {
        "id": "b_mFJJCKo0Lb"
      },
      "execution_count": 140,
      "outputs": []
    },
    {
      "cell_type": "code",
      "source": [
        "len(corpus)"
      ],
      "metadata": {
        "colab": {
          "base_uri": "https://localhost:8080/"
        },
        "id": "lkdXaTeasChe",
        "outputId": "22b9bc28-ca1b-4ed9-a4a7-ab4adac6f5c4"
      },
      "execution_count": 141,
      "outputs": [
        {
          "output_type": "execute_result",
          "data": {
            "text/plain": [
              "54716"
            ]
          },
          "metadata": {},
          "execution_count": 141
        }
      ]
    },
    {
      "cell_type": "code",
      "source": [
        "words_freqs = get_words_freqs(corpus)"
      ],
      "metadata": {
        "id": "Q6tFRiR6pYb8"
      },
      "execution_count": 142,
      "outputs": []
    },
    {
      "cell_type": "code",
      "source": [
        "words_freqs[\"the\"]"
      ],
      "metadata": {
        "colab": {
          "base_uri": "https://localhost:8080/"
        },
        "id": "FU2OvRa0qrS7",
        "outputId": "67d11161-2b37-4889-8bfa-85f15ef10714"
      },
      "execution_count": 143,
      "outputs": [
        {
          "output_type": "execute_result",
          "data": {
            "text/plain": [
              "69277"
            ]
          },
          "metadata": {},
          "execution_count": 143
        }
      ]
    },
    {
      "cell_type": "code",
      "source": [
        "len(words_freqs)"
      ],
      "metadata": {
        "colab": {
          "base_uri": "https://localhost:8080/"
        },
        "id": "l6UNIB2Ndqg5",
        "outputId": "ba2727df-1834-4f19-cdf0-1ad3167070ab"
      },
      "execution_count": 144,
      "outputs": [
        {
          "output_type": "execute_result",
          "data": {
            "text/plain": [
              "31079"
            ]
          },
          "metadata": {},
          "execution_count": 144
        }
      ]
    },
    {
      "cell_type": "code",
      "source": [
        "count = 0\n",
        "for word, freq in words_freqs.items():\n",
        "    if freq == 1 and count <= 10:\n",
        "        print(word, freq)\n",
        "        count += 1"
      ],
      "metadata": {
        "colab": {
          "base_uri": "https://localhost:8080/"
        },
        "id": "SwjAv9UBpeeI",
        "outputId": "8f4fbf33-e4f7-4281-fd92-7acefb9aae23"
      },
      "execution_count": 145,
      "outputs": [
        {
          "output_type": "stream",
          "name": "stdout",
          "text": [
            "inflict 1\n",
            "sheen 1\n",
            "avowed 1\n",
            "kilolitres 1\n",
            "janunary 1\n",
            "pineapples 1\n",
            "hasrul 1\n",
            "paian 1\n",
            "sawn 1\n",
            "goodall 1\n",
            "bundey 1\n"
          ]
        }
      ]
    },
    {
      "cell_type": "code",
      "source": [
        "words_indexes, index_to_word = get_words_indexes(words_freqs)"
      ],
      "metadata": {
        "id": "PPcDgLLSpinR"
      },
      "execution_count": 146,
      "outputs": []
    },
    {
      "cell_type": "code",
      "source": [
        "words_indexes[\"the\"]"
      ],
      "metadata": {
        "colab": {
          "base_uri": "https://localhost:8080/"
        },
        "id": "CweL7VBqpfkN",
        "outputId": "92cccb06-964b-4f40-d24e-e8fe6b214d0a"
      },
      "execution_count": 147,
      "outputs": [
        {
          "output_type": "execute_result",
          "data": {
            "text/plain": [
              "16"
            ]
          },
          "metadata": {},
          "execution_count": 147
        }
      ]
    },
    {
      "cell_type": "code",
      "source": [
        "index_to_word[16]"
      ],
      "metadata": {
        "colab": {
          "base_uri": "https://localhost:8080/",
          "height": 35
        },
        "id": "pYm6RWBQWcP3",
        "outputId": "e38f03c2-6171-4aad-9532-454086f62bdf"
      },
      "execution_count": 148,
      "outputs": [
        {
          "output_type": "execute_result",
          "data": {
            "text/plain": [
              "'the'"
            ],
            "application/vnd.google.colaboratory.intrinsic+json": {
              "type": "string"
            }
          },
          "metadata": {},
          "execution_count": 148
        }
      ]
    },
    {
      "cell_type": "code",
      "source": [
        "len(words_indexes)"
      ],
      "metadata": {
        "colab": {
          "base_uri": "https://localhost:8080/"
        },
        "id": "8_Qik6p5duon",
        "outputId": "bab5239a-5ed9-4707-e027-09afb851b911"
      },
      "execution_count": 149,
      "outputs": [
        {
          "output_type": "execute_result",
          "data": {
            "text/plain": [
              "20056"
            ]
          },
          "metadata": {},
          "execution_count": 149
        }
      ]
    },
    {
      "cell_type": "code",
      "source": [
        "len(index_to_word)"
      ],
      "metadata": {
        "colab": {
          "base_uri": "https://localhost:8080/"
        },
        "id": "3Ch0CnS5WgIG",
        "outputId": "07eb2230-38e3-4ebd-d40f-626c0e33feb8"
      },
      "execution_count": 150,
      "outputs": [
        {
          "output_type": "execute_result",
          "data": {
            "text/plain": [
              "20056"
            ]
          },
          "metadata": {},
          "execution_count": 150
        }
      ]
    },
    {
      "cell_type": "code",
      "source": [
        "def get_word_id(words_indexes: dict, word: str) -> int:\n",
        "    \"\"\"Obtiene el id de una palabra dada\n",
        "\n",
        "    Si no se encuentra la palabra se regresa el id\n",
        "    del token UNK\n",
        "    \"\"\"\n",
        "    unk_word_id = words_indexes[UNK_LABEL]\n",
        "    return words_indexes.get(word, unk_word_id)"
      ],
      "metadata": {
        "id": "wlESyaQhpvTr"
      },
      "execution_count": 151,
      "outputs": []
    },
    {
      "cell_type": "markdown",
      "source": [
        "### Obtenemos trigramas"
      ],
      "metadata": {
        "id": "gRvZpX4xTfHo"
      }
    },
    {
      "cell_type": "markdown",
      "source": [
        "Convertiremos los trigramas obtenidos a secuencias de idx, y preparamos el conjunto de entrenamiento $x$ y $y$\n",
        "\n",
        "- x: Contexto\n",
        "- y: Predicción de la siguiente palabra"
      ],
      "metadata": {
        "id": "gMl4BlMyTjqr"
      }
    },
    {
      "cell_type": "code",
      "source": [
        "def get_train_test_data(corpus: list[list[str]], words_indexes: dict, n: int) -> tuple[list, list]:\n",
        "    \"\"\"Obtiene el conjunto de train y test\n",
        "\n",
        "    Requerido en el step de entrenamiento del modelo neuronal\n",
        "    \"\"\"\n",
        "    x_train = []\n",
        "    y_train = []\n",
        "    for sent in corpus:\n",
        "        n_grams = ngrams(sent, n)\n",
        "        for w1, w2, w3 in n_grams:\n",
        "            x_train.append([get_word_id(words_indexes, w1), get_word_id(words_indexes, w2)])\n",
        "            y_train.append([get_word_id(words_indexes, w3)])\n",
        "    return x_train, y_train"
      ],
      "metadata": {
        "id": "AldgYb33Tbrv"
      },
      "execution_count": 152,
      "outputs": []
    },
    {
      "cell_type": "markdown",
      "source": [
        "### Preparando Pytorch\n",
        "\n",
        "$x' = e(x_1) \\oplus e(x_2)$\n",
        "\n",
        "$h = \\tanh(W_1 x' + b)$\n",
        "\n",
        "$y = softmax(W_2 h)$"
      ],
      "metadata": {
        "id": "zB-L1K8ralQd"
      }
    },
    {
      "cell_type": "code",
      "source": [
        "# cargamos bibliotecas\n",
        "import torch\n",
        "from torch import nn\n",
        "import torch.nn.functional as F\n",
        "import torch.optim as optim\n",
        "from torch.utils.data import DataLoader\n",
        "import time"
      ],
      "metadata": {
        "id": "S7W1bDPVahid"
      },
      "execution_count": 153,
      "outputs": []
    },
    {
      "cell_type": "code",
      "source": [
        "# Setup de parametros\n",
        "EMBEDDING_DIM = 200\n",
        "CONTEXT_SIZE = 2\n",
        "BATCH_SIZE = 256\n",
        "H = 100\n",
        "torch.manual_seed(42)\n",
        "# Tamaño del Vocabulario\n",
        "V = len(words_indexes)"
      ],
      "metadata": {
        "id": "mrUUVaf6a1jp"
      },
      "execution_count": 154,
      "outputs": []
    },
    {
      "cell_type": "code",
      "source": [
        "x_train, y_train = get_train_test_data(corpus, words_indexes, n=3)"
      ],
      "metadata": {
        "id": "GhS0a_JEa5KI"
      },
      "execution_count": 155,
      "outputs": []
    },
    {
      "cell_type": "code",
      "source": [
        "import numpy as np\n",
        "\n",
        "train_set = np.concatenate((x_train, y_train), axis=1)\n",
        "# partimos los datos de entrada en batches\n",
        "train_loader = DataLoader(train_set, batch_size = BATCH_SIZE)"
      ],
      "metadata": {
        "id": "L9x6cmTCbHUK"
      },
      "execution_count": 156,
      "outputs": []
    },
    {
      "cell_type": "markdown",
      "source": [
        "### Creamos la arquitectura del modelo"
      ],
      "metadata": {
        "id": "lORC1f2PB0Q4"
      }
    },
    {
      "cell_type": "code",
      "source": [
        "# Trigram Neural Network Model\n",
        "class TrigramModel(nn.Module):\n",
        "    \"\"\"Clase padre: https://pytorch.org/docs/stable/generated/torch.nn.Module.html\"\"\"\n",
        "\n",
        "    def __init__(self, vocab_size, embedding_dim, context_size, h):\n",
        "        super(TrigramModel, self).__init__()\n",
        "        self.context_size = context_size\n",
        "        self.embedding_dim = embedding_dim\n",
        "        self.embeddings = nn.Embedding(vocab_size, embedding_dim)\n",
        "        self.linear1 = nn.Linear(context_size * embedding_dim, h)\n",
        "        self.linear2 = nn.Linear(h, vocab_size)\n",
        "\n",
        "    def forward(self, inputs):\n",
        "        # x': concatenation of x1 and x2 embeddings   -->\n",
        "        # self.embeddings regresa un vector por cada uno de los índices que se les pase como entrada.\n",
        "        # view() les cambia el tamaño para concatenarlos\n",
        "        embeds = self.embeddings(inputs).view((-1,self.context_size * self.embedding_dim))\n",
        "        # h: tanh(W_1.x' + b)  -->\n",
        "        out = torch.tanh(self.linear1(embeds))\n",
        "        # W_2.h                 -->\n",
        "        out = self.linear2(out)\n",
        "        # log_softmax(W_2.h)      -->\n",
        "        # dim=1 para que opere sobre renglones, pues al usar batchs tenemos varios vectores de salida\n",
        "        log_probs = F.log_softmax(out, dim=1)\n",
        "\n",
        "        return log_probs"
      ],
      "metadata": {
        "id": "Sg8coyLvB-av"
      },
      "execution_count": 157,
      "outputs": []
    },
    {
      "cell_type": "code",
      "source": [
        "# Seleccionar la GPU si está disponible\n",
        "device = torch.accelerator.current_accelerator().type if torch.accelerator.is_available() else \"cpu\""
      ],
      "metadata": {
        "id": "NE_68PTX3kQo"
      },
      "execution_count": 158,
      "outputs": []
    },
    {
      "cell_type": "code",
      "source": [
        "#torch.device(\"cuda\" if torch.cuda.is_available() else \"cpu\")\n",
        "print(f\"Training on device {device}\")\n",
        "\n",
        "# 1. Pérdida. Negative log-likelihood loss\n",
        "loss_function = nn.NLLLoss()\n",
        "\n",
        "# 2. Instanciar el modelo y enviarlo a device\n",
        "model = TrigramModel(V, EMBEDDING_DIM, CONTEXT_SIZE, H).to(device)\n",
        "\n",
        "# 3. Optimización. ADAM optimizer\n",
        "optimizer = optim.Adam(model.parameters(), lr = 2e-3)\n",
        "\n",
        "# ------------------------- TRAIN & SAVE MODEL ------------------------\n",
        "EPOCHS = 3\n",
        "for epoch in range(EPOCHS):\n",
        "    st = time.time()\n",
        "    print(\"\\n--- Training model Epoch: {} ---\".format(epoch))\n",
        "    for it, data_tensor in enumerate(train_loader):\n",
        "        # Mover los datos a la GPU\n",
        "        context_tensor = data_tensor[:,0:2].to(device)\n",
        "        target_tensor = data_tensor[:,2].to(device)\n",
        "\n",
        "        model.zero_grad()\n",
        "\n",
        "        # FORWARD:\n",
        "        log_probs = model(context_tensor)\n",
        "\n",
        "        # compute loss function\n",
        "        loss = loss_function(log_probs, target_tensor)\n",
        "\n",
        "        # BACKWARD:\n",
        "        loss.backward()\n",
        "        optimizer.step()\n",
        "\n",
        "        if it % 500 == 0:\n",
        "            print(\"Training Iteration {} of epoch {} complete. Loss: {}; Time taken (s): {}\".format(it, epoch, loss.item(), (time.time()-st)))\n",
        "            st = time.time()\n",
        "\n",
        "    # saving model\n",
        "    model_path = f'model_{device}_context_{CONTEXT_SIZE}_epoch_{epoch}.dat'\n",
        "    torch.save(model.state_dict(), model_path)\n",
        "    print(f\"Model saved for epoch={epoch} at {model_path}\")\n"
      ],
      "metadata": {
        "id": "JWRS5Ir_CqkN",
        "colab": {
          "base_uri": "https://localhost:8080/"
        },
        "outputId": "b1979d64-7376-4d4f-da18-65820e195181"
      },
      "execution_count": 160,
      "outputs": [
        {
          "output_type": "stream",
          "name": "stdout",
          "text": [
            "Training on device cuda\n",
            "\n",
            "--- Training model Epoch: 0 ---\n",
            "Training Iteration 0 of epoch 0 complete. Loss: 9.937440872192383; Time taken (s): 0.007857799530029297\n",
            "Training Iteration 500 of epoch 0 complete. Loss: 5.794308662414551; Time taken (s): 2.002340793609619\n",
            "Training Iteration 1000 of epoch 0 complete. Loss: 5.352446556091309; Time taken (s): 1.9230108261108398\n",
            "Training Iteration 1500 of epoch 0 complete. Loss: 3.973957061767578; Time taken (s): 1.9020988941192627\n",
            "Training Iteration 2000 of epoch 0 complete. Loss: 5.080819129943848; Time taken (s): 1.9026436805725098\n",
            "Training Iteration 2500 of epoch 0 complete. Loss: 4.668554306030273; Time taken (s): 1.9012126922607422\n",
            "Training Iteration 3000 of epoch 0 complete. Loss: 4.139153480529785; Time taken (s): 1.9029021263122559\n",
            "Training Iteration 3500 of epoch 0 complete. Loss: 4.510522365570068; Time taken (s): 1.9480547904968262\n",
            "Training Iteration 4000 of epoch 0 complete. Loss: 5.559445858001709; Time taken (s): 1.9370195865631104\n",
            "Training Iteration 4500 of epoch 0 complete. Loss: 5.225211143493652; Time taken (s): 1.9101786613464355\n",
            "Training Iteration 5000 of epoch 0 complete. Loss: 4.616336822509766; Time taken (s): 1.910423994064331\n",
            "Training Iteration 5500 of epoch 0 complete. Loss: 4.147512912750244; Time taken (s): 1.9094555377960205\n",
            "Training Iteration 6000 of epoch 0 complete. Loss: 4.869492053985596; Time taken (s): 1.9105682373046875\n",
            "Training Iteration 6500 of epoch 0 complete. Loss: 5.15970516204834; Time taken (s): 1.9389498233795166\n",
            "Model saved for epoch=0 at model_cuda_context_2_epoch_0.dat\n",
            "\n",
            "--- Training model Epoch: 1 ---\n",
            "Training Iteration 0 of epoch 1 complete. Loss: 5.019510746002197; Time taken (s): 0.007457256317138672\n",
            "Training Iteration 500 of epoch 1 complete. Loss: 4.515420436859131; Time taken (s): 1.9284989833831787\n",
            "Training Iteration 1000 of epoch 1 complete. Loss: 4.68552303314209; Time taken (s): 1.9141216278076172\n",
            "Training Iteration 1500 of epoch 1 complete. Loss: 3.468644618988037; Time taken (s): 1.9107670783996582\n",
            "Training Iteration 2000 of epoch 1 complete. Loss: 4.3683953285217285; Time taken (s): 1.9124488830566406\n",
            "Training Iteration 2500 of epoch 1 complete. Loss: 4.121145248413086; Time taken (s): 1.9133405685424805\n",
            "Training Iteration 3000 of epoch 1 complete. Loss: 3.715503215789795; Time taken (s): 1.9543662071228027\n",
            "Training Iteration 3500 of epoch 1 complete. Loss: 4.0976948738098145; Time taken (s): 2.484004497528076\n",
            "Training Iteration 4000 of epoch 1 complete. Loss: 4.964907646179199; Time taken (s): 1.9176688194274902\n",
            "Training Iteration 4500 of epoch 1 complete. Loss: 4.811308860778809; Time taken (s): 1.9293622970581055\n",
            "Training Iteration 5000 of epoch 1 complete. Loss: 4.262815952301025; Time taken (s): 1.9243457317352295\n",
            "Training Iteration 5500 of epoch 1 complete. Loss: 3.8807766437530518; Time taken (s): 1.9168193340301514\n",
            "Training Iteration 6000 of epoch 1 complete. Loss: 4.326361656188965; Time taken (s): 1.9531800746917725\n",
            "Training Iteration 6500 of epoch 1 complete. Loss: 4.822540283203125; Time taken (s): 1.959747552871704\n",
            "Model saved for epoch=1 at model_cuda_context_2_epoch_1.dat\n",
            "\n",
            "--- Training model Epoch: 2 ---\n",
            "Training Iteration 0 of epoch 2 complete. Loss: 4.783297538757324; Time taken (s): 0.006299257278442383\n",
            "Training Iteration 500 of epoch 2 complete. Loss: 4.373529434204102; Time taken (s): 1.9267215728759766\n",
            "Training Iteration 1000 of epoch 2 complete. Loss: 4.472390174865723; Time taken (s): 1.918715238571167\n",
            "Training Iteration 1500 of epoch 2 complete. Loss: 3.3414528369903564; Time taken (s): 1.9259588718414307\n",
            "Training Iteration 2000 of epoch 2 complete. Loss: 4.166187286376953; Time taken (s): 1.9258511066436768\n",
            "Training Iteration 2500 of epoch 2 complete. Loss: 3.930929183959961; Time taken (s): 1.9887056350708008\n",
            "Training Iteration 3000 of epoch 2 complete. Loss: 3.513575315475464; Time taken (s): 1.94380521774292\n",
            "Training Iteration 3500 of epoch 2 complete. Loss: 3.901850461959839; Time taken (s): 1.9268670082092285\n",
            "Training Iteration 4000 of epoch 2 complete. Loss: 4.754460334777832; Time taken (s): 1.9245185852050781\n",
            "Training Iteration 4500 of epoch 2 complete. Loss: 4.617258071899414; Time taken (s): 1.923990249633789\n",
            "Training Iteration 5000 of epoch 2 complete. Loss: 4.153754234313965; Time taken (s): 1.9266085624694824\n",
            "Training Iteration 5500 of epoch 2 complete. Loss: 3.764247417449951; Time taken (s): 1.9589719772338867\n",
            "Training Iteration 6000 of epoch 2 complete. Loss: 4.049631118774414; Time taken (s): 1.9666533470153809\n",
            "Training Iteration 6500 of epoch 2 complete. Loss: 4.650561332702637; Time taken (s): 1.9336121082305908\n",
            "Model saved for epoch=2 at model_cuda_context_2_epoch_2.dat\n"
          ]
        }
      ]
    },
    {
      "cell_type": "code",
      "source": [
        "model"
      ],
      "metadata": {
        "colab": {
          "base_uri": "https://localhost:8080/"
        },
        "id": "zB54p8jAc64x",
        "outputId": "fe8d77e1-6ea6-4dea-d867-d82497aa609b"
      },
      "execution_count": 161,
      "outputs": [
        {
          "output_type": "execute_result",
          "data": {
            "text/plain": [
              "TrigramModel(\n",
              "  (embeddings): Embedding(20056, 200)\n",
              "  (linear1): Linear(in_features=400, out_features=100, bias=True)\n",
              "  (linear2): Linear(in_features=100, out_features=20056, bias=True)\n",
              ")"
            ]
          },
          "metadata": {},
          "execution_count": 161
        }
      ]
    },
    {
      "cell_type": "code",
      "source": [
        "def get_model(path: str) -> TrigramModel:\n",
        "    \"\"\"Obtiene modelo de pytorch desde disco\"\"\"\n",
        "    model_loaded = TrigramModel(V, EMBEDDING_DIM, CONTEXT_SIZE, H)\n",
        "    model_loaded.load_state_dict(torch.load(path))\n",
        "    model_loaded.eval()\n",
        "    return model_loaded"
      ],
      "metadata": {
        "id": "MbJ548WBYf_o"
      },
      "execution_count": 162,
      "outputs": []
    },
    {
      "cell_type": "code",
      "source": [
        "PATH = \"model_cuda_4.dat\""
      ],
      "metadata": {
        "id": "ojEVrN5QS32s"
      },
      "execution_count": 163,
      "outputs": []
    },
    {
      "cell_type": "code",
      "source": [
        "#model = get_model(PATH)\n",
        "W1 = \"<BOS>\"\n",
        "W2 = \"my\"\n",
        "\n",
        "IDX1 = get_word_id(words_indexes, W1)\n",
        "IDX2 = get_word_id(words_indexes, W2)\n",
        "\n",
        "#Obtenemos Log probabidades p(W3|W2,W1)\n",
        "probs = model(torch.tensor([[IDX1,  IDX2]]).to(device)).detach().tolist()"
      ],
      "metadata": {
        "id": "LGGQzd8N0G8Y"
      },
      "execution_count": 164,
      "outputs": []
    },
    {
      "cell_type": "code",
      "source": [
        "len(probs[0])"
      ],
      "metadata": {
        "colab": {
          "base_uri": "https://localhost:8080/"
        },
        "id": "kv_IfrNtf_6W",
        "outputId": "805e060a-982c-4ee7-e831-48de80e456fc"
      },
      "execution_count": 165,
      "outputs": [
        {
          "output_type": "execute_result",
          "data": {
            "text/plain": [
              "20056"
            ]
          },
          "metadata": {},
          "execution_count": 165
        }
      ]
    },
    {
      "cell_type": "code",
      "source": [
        "# Creamos diccionario con {idx: logprob}\n",
        "model_probs = {}\n",
        "for idx, p in enumerate(probs[0]):\n",
        "  model_probs[idx] = p\n",
        "\n",
        "# Sort:\n",
        "model_probs_sorted = sorted(((prob, idx) for idx, prob in model_probs.items()), reverse=True)\n",
        "\n",
        "# Printing word  and prob (retrieving the idx):\n",
        "topcandidates = 0\n",
        "for prob, idx in model_probs_sorted:\n",
        "  #Retrieve the word associated with that idx\n",
        "  word = index_to_word[idx]\n",
        "  print(idx, word, prob)\n",
        "\n",
        "  topcandidates += 1\n",
        "\n",
        "  if topcandidates > 10:\n",
        "    break"
      ],
      "metadata": {
        "colab": {
          "base_uri": "https://localhost:8080/"
        },
        "id": "dGh39h041Ip8",
        "outputId": "13ffa876-3990-4f13-80cd-f73f63cb016f"
      },
      "execution_count": 166,
      "outputs": [
        {
          "output_type": "stream",
          "name": "stdout",
          "text": [
            "273 sources -2.5411229133605957\n",
            "2163 bell -3.311959743499756\n",
            "251 view -4.0464911460876465\n",
            "808 gold -4.103001117706299\n",
            "995 banks -4.197214603424072\n",
            "4154 forecasts -4.353384971618652\n",
            "3828 comments -4.390305519104004\n",
            "31 <UNK> -4.401027202606201\n",
            "4172 objective -4.532485485076904\n",
            "27 nations -4.548795700073242\n",
            "1637 own -4.578312397003174\n"
          ]
        }
      ]
    },
    {
      "cell_type": "code",
      "source": [
        "print(index_to_word.get(model_probs_sorted[0][1]))"
      ],
      "metadata": {
        "id": "y2hsMj_1Tak6",
        "colab": {
          "base_uri": "https://localhost:8080/"
        },
        "outputId": "a4d798f3-94a7-4212-a873-054f1a2f71f5"
      },
      "execution_count": 167,
      "outputs": [
        {
          "output_type": "stream",
          "name": "stdout",
          "text": [
            "sources\n"
          ]
        }
      ]
    },
    {
      "cell_type": "markdown",
      "source": [
        "### Generacion de lenguaje"
      ],
      "metadata": {
        "id": "j3PKcCznXCBG"
      }
    },
    {
      "cell_type": "code",
      "source": [
        "def get_likely_words(model: TrigramModel, context: str, words_indexes: dict, index_to_word: dict, top_count: int=10) -> list[tuple]:\n",
        "    model_probs = {}\n",
        "    words = context.split()\n",
        "    idx_word_1 = get_word_id(words_indexes, words[0])\n",
        "    idx_word_2 = get_word_id(words_indexes, words[1])\n",
        "    probs = model(torch.tensor([[idx_word_1, idx_word_2]]).to(device)).detach().tolist()\n",
        "\n",
        "    for idx, p in enumerate(probs[0]):\n",
        "        model_probs[idx] = p\n",
        "\n",
        "    # Strategy: Sort and get top-K words to generate text\n",
        "    return sorted(((prob, index_to_word[idx]) for idx, prob in model_probs.items()), reverse=True)[:top_count]"
      ],
      "metadata": {
        "id": "_-xkJK_cNYbP"
      },
      "execution_count": 168,
      "outputs": []
    },
    {
      "cell_type": "code",
      "source": [
        "sentence = \"this is\"\n",
        "get_likely_words(model, sentence, words_indexes, index_to_word, 3)"
      ],
      "metadata": {
        "colab": {
          "base_uri": "https://localhost:8080/"
        },
        "id": "iw0njIDfRRBW",
        "outputId": "989bad5f-7346-4fb4-b3a2-7e58e8d3b3c1"
      },
      "execution_count": 169,
      "outputs": [
        {
          "output_type": "execute_result",
          "data": {
            "text/plain": [
              "[(-1.7673019170761108, 'a'),\n",
              " (-2.173889636993408, 'the'),\n",
              " (-3.368946075439453, 'being')]"
            ]
          },
          "metadata": {},
          "execution_count": 169
        }
      ]
    },
    {
      "cell_type": "code",
      "source": [
        "from random import randint\n",
        "\n",
        "def get_next_word(words: list[tuple[float, str]]) -> str:\n",
        "    # From a top-K list of words get a random word\n",
        "    return words[randint(0, len(words)-1)][1]"
      ],
      "metadata": {
        "id": "Ex44jU5mMkPC"
      },
      "execution_count": 170,
      "outputs": []
    },
    {
      "cell_type": "code",
      "source": [
        "get_next_word(get_likely_words(model, sentence, words_indexes, index_to_word))"
      ],
      "metadata": {
        "id": "i1ujC9j9TzE2",
        "outputId": "b541c29e-4ac2-420c-dfcb-826a08bb9a6a",
        "colab": {
          "base_uri": "https://localhost:8080/",
          "height": 35
        }
      },
      "execution_count": 171,
      "outputs": [
        {
          "output_type": "execute_result",
          "data": {
            "text/plain": [
              "'that'"
            ],
            "application/vnd.google.colaboratory.intrinsic+json": {
              "type": "string"
            }
          },
          "metadata": {},
          "execution_count": 171
        }
      ]
    },
    {
      "cell_type": "code",
      "source": [
        "MAX_TOKENS = 50\n",
        "TOP_COUNT = 10\n",
        "def generate_text(model: TrigramModel, history: str, words_indexes: dict, index_to_word: dict, tokens_count: int=0) -> None:\n",
        "    next_word = get_next_word(get_likely_words(model, history, words_indexes, index_to_word, top_count=TOP_COUNT))\n",
        "    print(next_word, end=\" \")\n",
        "    tokens_count += 1\n",
        "    if tokens_count == MAX_TOKENS or next_word == \"<EOS>\":\n",
        "        return\n",
        "    generate_text(model, history.split()[1]+ \" \" + next_word, words_indexes, index_to_word, tokens_count)"
      ],
      "metadata": {
        "id": "z6eW24WDUS_d"
      },
      "execution_count": 172,
      "outputs": []
    },
    {
      "cell_type": "code",
      "source": [
        "sentence = \"mexico is\"\n",
        "print(sentence, end=\" \")\n",
        "generate_text(model, sentence, words_indexes, index_to_word)"
      ],
      "metadata": {
        "colab": {
          "base_uri": "https://localhost:8080/"
        },
        "id": "Zzc9lFqAaFJE",
        "outputId": "fd9c057d-602c-4db0-b98f-dbfa353780d9"
      },
      "execution_count": 173,
      "outputs": [
        {
          "output_type": "stream",
          "name": "stdout",
          "text": [
            "mexico is a moderate \" in the 1986 net includes extraordinary items to <UNK> out as long . 0 / 7 mln revs 9 at 1 . 7 to 20 cents , in the second . 1 , 448 to buy interstate bank intervention in 1987 at 7 mln stg in the "
          ]
        }
      ]
    },
    {
      "cell_type": "markdown",
      "source": [
        "# Práctica 4: Modelos del Lenguaje Neuronales\n",
        "\n",
        "**Fecha de entrega: 6 de abril de 2025 11:59pm**\n",
        "\n",
        "A partir del modelo entrenado:\n",
        "\n",
        "- Sacar los embeddings de las palabras del vocabulario\n",
        "\n",
        "- Visualizar en 2D los embeddings de algunas palabras (quizá las más frecuentes, excluyendo stopwords)\n",
        "\n",
        "- Seleccione algunas palabras y verifique sí realmente codifican nociones semánticas, e,g, similitud semántica con similitud coseno entre dos vectores, analogías por medios de operaciones de vectores\n",
        "\n",
        "### Extra (0.5 pts):\n",
        "\n",
        "- Correr el modelo de Bengio pero aplicando una técnica de subword tokenization al corpus y hacer generación del lenguaje\n",
        "\n",
        "* La generación del lenguaje debe ser secuencias de palabras (no subwords)"
      ],
      "metadata": {
        "id": "Fkcw1Qr_DZ1U"
      }
    },
    {
      "cell_type": "markdown",
      "source": [
        "## Referencias\n",
        "\n",
        "- [Language models - Lena Voita](https://lena-voita.github.io/nlp_course/language_modeling.html#generation_strategies)\n",
        "- [A Neural Probabilistic Model - Bengio](https://www.jmlr.org/papers/volume3/bengio03a/bengio03a.pdf)\n",
        "- Parte del código de esta práctica fue retomado del trabajo de la Dr. Ximena Guitierrez Vasques"
      ],
      "metadata": {
        "id": "LZXTW28KFyTy"
      }
    }
  ]
}